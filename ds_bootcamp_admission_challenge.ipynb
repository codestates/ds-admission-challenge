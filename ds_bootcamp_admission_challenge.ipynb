{
  "nbformat": 4,
  "nbformat_minor": 0,
  "metadata": {
    "colab": {
      "name": "ds_bootcamp_admission_challenge.ipynb의 사본",
      "provenance": [],
      "collapsed_sections": [],
      "include_colab_link": true
    },
    "kernelspec": {
      "name": "python3",
      "display_name": "Python 3"
    }
  },
  "cells": [
    {
      "cell_type": "markdown",
      "metadata": {
        "id": "view-in-github",
        "colab_type": "text"
      },
      "source": [
        "<a href=\"https://colab.research.google.com/github/mnshtxp/ds-admission-challenge/blob/master/ds_bootcamp_admission_challenge.ipynb\" target=\"_parent\"><img src=\"https://colab.research.google.com/assets/colab-badge.svg\" alt=\"Open In Colab\"/></a>"
      ]
    },
    {
      "cell_type": "markdown",
      "metadata": {
        "id": "-q8YiM6xsp0X",
        "colab_type": "text"
      },
      "source": [
        "# Challenge\n",
        "\n",
        "- 코드스테이츠 DS 부트캠프 어드미션을 위한 Challenge 과제 입니다. \n",
        "- 아래 challenge 를 풀기 위해 제공된 강의가 모든 것을 알려주진 않습니다. \n",
        "- 따라서 필요한 부분은 스스로 google 검색을 통해 이 challenge 를 완성해 주셔야 합니다. \n",
        "- 각 shell 에 필요한 부분을 작성하신 후 함께 링크를 제출해 주시면 됩니다.\n",
        "- 모든 결과물은 하나의 shell에서 모두 실행될 수 있도록 print문을 사용해 주세요. run all 했을 때 전체 shell 이 모두 잘 실행될 수 있도록 관리해 주세요.\n",
        "\n"
      ]
    },
    {
      "cell_type": "code",
      "metadata": {
        "id": "jG9nz_Qso70q",
        "colab_type": "code",
        "colab": {
          "base_uri": "https://localhost:8080/",
          "height": 55
        },
        "outputId": "e24e3c36-5048-41c2-c388-2344e1ba5522"
      },
      "source": [
        "# 1. 다음의 list 에서 두 번째 list elemnet 를 print 해 보세요\n",
        "list_01 = ['Paul', 'John', 'Ringo', 'George']\n",
        "# 두 번째 John을 출력하려면 순서를 지정하는데 파이썬에서 인덱스는 0부터 시작하므로 1번을 입력해서 출력한다.\n",
        "print(list_01[1])"
      ],
      "execution_count": null,
      "outputs": [
        {
          "output_type": "stream",
          "text": [
            "John\n"
          ],
          "name": "stdout"
        }
      ]
    },
    {
      "cell_type": "code",
      "metadata": {
        "id": "wGqpxIi8uDKE",
        "colab_type": "code",
        "colab": {
          "base_uri": "https://localhost:8080/",
          "height": 72
        },
        "outputId": "aa6887a1-1f2e-454d-942e-371f0bad9afb"
      },
      "source": [
        "# 2. 다음의 list in the list에서 두 번째 element 를 print 해 보세요\n",
        "list_02 = [['Paul', 'John', 'Ringo', 'George'],['A','B','1',2]]\n",
        "\n",
        "# 리스트안에 리스트에서 두 번째 요소를 출력하기 위해서 리스트 인덱스를 먼저 써준다.\n",
        "# 마찬가지로 인덱스는 0번부터 시작하고 John은 첫 리스트에 있으므로 리스트 인덱스인 0을 먼저 사용하고 두 번째에 위치하기 때문에 1을 사용해서 출력한다.\n",
        "print(list_02[0][1])\n",
        "print(list_02[1][3])"
      ],
      "execution_count": null,
      "outputs": [
        {
          "output_type": "stream",
          "text": [
            "John\n",
            "2\n"
          ],
          "name": "stdout"
        }
      ]
    },
    {
      "cell_type": "code",
      "metadata": {
        "id": "u_UvSnNI8XgF",
        "colab_type": "code",
        "colab": {
          "base_uri": "https://localhost:8080/",
          "height": 72
        },
        "outputId": "7919df2d-4c3e-40a6-f78f-1c9bc7d7184c"
      },
      "source": [
        "# Initializing list  \n",
        "list_01 = [ 1, 6, 3, 5, 3, 4 ] \n",
        "list_02 = [ 1, 6, 3, 5, 3 ] \n",
        "\n",
        "# for loop을 이용하여 두 개의 리스트 안에 4가 있는지 없는지 print 하는 코드를 작성하세요\n",
        "# 반복문을 사용해서 리스트 안에 특정 숫자가 있으면 있다, 없으면 없다고 출력하는 코드를 만드는데\n",
        "# 먼저 for문을 사용해야하므로 리스트 안에 인자가 들어가는 걸 표시하고\n",
        "# if문을 활용해서 해당 리스트 안에 4가 있다면 있다고 출력하고, for문은 인자 하나씩 돌아가면서 반복이 되기 때문에 바로 break를 걸어 멈춰준다.\n",
        "# else도 마찬가지로 print를 하고나면 break로 멈춰준다. \n",
        "for i in list_01 :\n",
        "  if 4 in list_01 : \n",
        "    print('4가 있어요')\n",
        "    break\n",
        "  else :\n",
        "    print('4가 없어요')\n",
        "    break\n",
        "\n",
        "for i in list_02 :\n",
        "  if 4 in list_02 : \n",
        "    print('4가 있어요')\n",
        "    break\n",
        "  else :\n",
        "    print('4가 없어요')\n",
        "    break"
      ],
      "execution_count": null,
      "outputs": [
        {
          "output_type": "stream",
          "text": [
            "4가 있어요\n",
            "4가 없어요\n"
          ],
          "name": "stdout"
        }
      ]
    },
    {
      "cell_type": "code",
      "metadata": {
        "id": "Bi9Ej0W_ncXu",
        "colab_type": "code",
        "colab": {
          "base_uri": "https://localhost:8080/",
          "height": 72
        },
        "outputId": "20068e59-0282-431d-aae5-b39135c5870f"
      },
      "source": [
        "# if문 만으로도 위에서 원하는 값을 출력할 수 있다.\n",
        "\n",
        "if 4 in list_01 :\n",
        "  print('안에 4있다.')\n",
        "else :\n",
        "  print ('안에 4 없다')\n",
        "\n",
        "if 4 in list_02 :\n",
        "  print('안에 4있다.')\n",
        "else :\n",
        "  print ('안에 4 없다.')"
      ],
      "execution_count": null,
      "outputs": [
        {
          "output_type": "stream",
          "text": [
            "안에 4있다.\n",
            "안에 4 없다.\n"
          ],
          "name": "stdout"
        }
      ]
    },
    {
      "cell_type": "code",
      "metadata": {
        "id": "mGSKPWaI8kA8",
        "colab_type": "code",
        "colab": {
          "base_uri": "https://localhost:8080/",
          "height": 72
        },
        "outputId": "5ff33cd1-8ba2-4906-cba7-8af4c9c225c8"
      },
      "source": [
        "# 위 코드 역할을 하는 함수를 작성해 보세요.\n",
        "# 사용자 정의 함수를 만들기 위해 def를 사용하고 함수명인 four와 안에 들어갈 변수도 표시해준다.\n",
        "# 위에 사용했던 for문을 활용해서 작성했다.\n",
        "def four(x) :\n",
        "  for i in x :\n",
        "    if 4 in x : \n",
        "      print('4가 있어요')\n",
        "      break\n",
        "    else :\n",
        "      print('4가 없어요')\n",
        "      break\n",
        "four(list_01)\n",
        "four(list_02)\n"
      ],
      "execution_count": null,
      "outputs": [
        {
          "output_type": "stream",
          "text": [
            "4가 있어요\n",
            "4가 없어요\n"
          ],
          "name": "stdout"
        }
      ]
    },
    {
      "cell_type": "code",
      "metadata": {
        "id": "tmp7EoSo82Xa",
        "colab_type": "code",
        "colab": {
          "base_uri": "https://localhost:8080/",
          "height": 55
        },
        "outputId": "5c6f8731-9fd9-49be-c1e6-fd566735bf30"
      },
      "source": [
        "list_03 = [4, 5, 8, 9, 10] \n",
        "# 위 list element 중 8보다 큰 숫자가 몇 개가 있는지 코드로 작성해 보세요.\n",
        "# 리스트 안에 인자가 있는지 for문을 사용하고 이 때 인자가 8보다 크다는 조건을 걸고\n",
        "# 그 개수를 더해서 출력할 수있도록 sum을 사용했다. \n",
        "sum(i > 8 for i in list_03)"
      ],
      "execution_count": null,
      "outputs": [
        {
          "output_type": "execute_result",
          "data": {
            "text/plain": [
              "2"
            ]
          },
          "metadata": {
            "tags": []
          },
          "execution_count": 6
        }
      ]
    },
    {
      "cell_type": "code",
      "metadata": {
        "id": "fQKIWJ4KGsqs",
        "colab_type": "code",
        "colab": {
          "base_uri": "https://localhost:8080/",
          "height": 72
        },
        "outputId": "a1a41a31-547b-42ce-c655-5297c4ec906a"
      },
      "source": [
        "# BMI\n",
        "height = [1.87,  1.87, 1.82, 1.91, 1.90, 1.85]\n",
        "weight = [81.65, 97.52, 95.25, 92.98, 86.18, 88.45]\n",
        "\n",
        "# bmi = weight / height ** 2 를 numpy array 활용하여 구해보세요\n",
        "# bmi 가 24 이상인 값들만 선택해 보세요\n",
        "\n",
        "# numpy array를 사용하기 위해 numpy를 import한다.\n",
        "# array로 변경한 걸 새로운 변수에 담아준다.\n",
        "\n",
        "import numpy as np\n",
        "np_h = np.array(height)\n",
        "np_w = np.array(weight)\n",
        "bmi = np_w / np_h **2\n",
        "print(bmi)\n",
        "print(bmi[bmi>=24])"
      ],
      "execution_count": null,
      "outputs": [
        {
          "output_type": "stream",
          "text": [
            "[23.34925219 27.88755755 28.75558507 25.48723993 23.87257618 25.84368152]\n",
            "[27.88755755 28.75558507 25.48723993 25.84368152]\n"
          ],
          "name": "stdout"
        }
      ]
    },
    {
      "cell_type": "code",
      "metadata": {
        "id": "q8D8Sheb82Gp",
        "colab_type": "code",
        "colab": {
          "base_uri": "https://localhost:8080/",
          "height": 133
        },
        "outputId": "2234e4f3-5207-40d7-8013-12d3b3477653"
      },
      "source": [
        "# pandas 패키지 라이브러리를 불러오세요\n",
        "# 데이터 프레임 기능이 있는 pandas를 사용하기 위해 import 한다.\n",
        "import pandas as pd\n",
        "# 아래 내용을 담는 pandas Dataframe 을 생성하세요\n",
        "# {'Bob': ['I liked it.', 'It was awful.'], 'Sue': ['Pretty good.', 'Bland.']}\n",
        "# 데이터프레임에 컬럼명을 ''안에 넣고 내용은 :으로 연결해서 괄호 안에 데이터를 넣어준다. 여러개 컬럼을 한 번에 만들 때 중괄호로 묶어서 한 번에 만들 수 있다.\n",
        "pd.DataFrame(\n",
        "    {'Bob': ['I liked it.', 'It was awful.'], 'Sue': ['Pretty good.', 'Bland.']}\n",
        ")"
      ],
      "execution_count": null,
      "outputs": [
        {
          "output_type": "execute_result",
          "data": {
            "text/html": [
              "<div>\n",
              "<style scoped>\n",
              "    .dataframe tbody tr th:only-of-type {\n",
              "        vertical-align: middle;\n",
              "    }\n",
              "\n",
              "    .dataframe tbody tr th {\n",
              "        vertical-align: top;\n",
              "    }\n",
              "\n",
              "    .dataframe thead th {\n",
              "        text-align: right;\n",
              "    }\n",
              "</style>\n",
              "<table border=\"1\" class=\"dataframe\">\n",
              "  <thead>\n",
              "    <tr style=\"text-align: right;\">\n",
              "      <th></th>\n",
              "      <th>Bob</th>\n",
              "      <th>Sue</th>\n",
              "    </tr>\n",
              "  </thead>\n",
              "  <tbody>\n",
              "    <tr>\n",
              "      <th>0</th>\n",
              "      <td>I liked it.</td>\n",
              "      <td>Pretty good.</td>\n",
              "    </tr>\n",
              "    <tr>\n",
              "      <th>1</th>\n",
              "      <td>It was awful.</td>\n",
              "      <td>Bland.</td>\n",
              "    </tr>\n",
              "  </tbody>\n",
              "</table>\n",
              "</div>"
            ],
            "text/plain": [
              "             Bob           Sue\n",
              "0    I liked it.  Pretty good.\n",
              "1  It was awful.        Bland."
            ]
          },
          "metadata": {
            "tags": []
          },
          "execution_count": 8
        }
      ]
    },
    {
      "cell_type": "code",
      "metadata": {
        "id": "kSFa1Sg--lyw",
        "colab_type": "code",
        "colab": {
          "base_uri": "https://localhost:8080/",
          "height": 424
        },
        "outputId": "dece7b58-2b80-4927-a337-725d1fe1a610"
      },
      "source": [
        "# 아래와 같은 dataframe을 만들어 보세요. (참고: 연도가 index가 되게 해 주세요)\n",
        "\"\"\"\n",
        "year dept     revenue\n",
        "2015 Sales    30\n",
        "2016 Sales    35\n",
        "2017 Sales    40\n",
        "\"\"\"\n",
        "\n",
        "# 데이터 프레임만드는 코드를 단순화 하기 위해 data 변수에 데이터를 담아준다.\n",
        "# 데이터 프레임을 만들고 year를 인덱스 이름으로 지정하기 위해 set_index를 사용한다.\n",
        "\n",
        "data = {'year' : [2015, 2016, 2017],\n",
        "        'dept' : ['Sales', 'Sales', 'Sales'],\n",
        "        'revenue' : [30, 35, 40]}\n",
        "df = pd.DataFrame(data).set_index('year')\n",
        "print(df)\n",
        "\n",
        "# 2017년 데이터만 선택해 보세요\n",
        "# 2017년 row만 선택해서 보기 위해 그리고 조건이 2017이라 loc를 사용해서 print합니다.\n",
        "# index 번호로 찾을 때는 세번째줄이라 iloc[2]를 활용하거나 마지막 row라서 -1을 써서 쓸 수도 있습니다.\n",
        "# 모든 코드 출력값을 보기 위해서 print문을 썼습니다.\n",
        "print(df.loc[2017])\n",
        "print(df.iloc[2])\n",
        "print(df.iloc[-1])\n",
        "# 조건(condition)을 활용하여 revenue 30 이상으로만 filter 해 보세요. reference: https://pandas.pydata.org/pandas-docs/stable/getting_started/intro_tutorials/03_subset_data.html \n",
        "# 30 이상은 모두 나오기 때문에 초과로 변경해서 코딩했습니다.\n",
        "# revenue를 선택할 때 대괄호를 사용하거나 .을 사용해도 같은 값이 나오기 때문에 둘 다 사용했습니다.\n",
        "print(df[df['revenue']>30])\n",
        "print(df[df.revenue>30])"
      ],
      "execution_count": 16,
      "outputs": [
        {
          "output_type": "stream",
          "text": [
            "       dept  revenue\n",
            "year                \n",
            "2015  Sales       30\n",
            "2016  Sales       35\n",
            "2017  Sales       40\n",
            "dept       Sales\n",
            "revenue       40\n",
            "Name: 2017, dtype: object\n",
            "dept       Sales\n",
            "revenue       40\n",
            "Name: 2017, dtype: object\n",
            "dept       Sales\n",
            "revenue       40\n",
            "Name: 2017, dtype: object\n",
            "       dept  revenue\n",
            "year                \n",
            "2016  Sales       35\n",
            "2017  Sales       40\n",
            "       dept  revenue\n",
            "year                \n",
            "2016  Sales       35\n",
            "2017  Sales       40\n"
          ],
          "name": "stdout"
        }
      ]
    },
    {
      "cell_type": "code",
      "metadata": {
        "id": "GFRfJR5O9XYd",
        "colab_type": "code",
        "colab": {
          "base_uri": "https://localhost:8080/",
          "height": 228
        },
        "outputId": "8746400d-0386-45b8-9351-e45117634321"
      },
      "source": [
        "# 'https://web.stanford.edu/class/archive/cs/cs109/cs109.1166/stuff/titanic.csv' 자료를 불러와 dataframe으로 만들어 보세요 \n",
        "# csv를 불러 오기 위해서 pd.read_csv를 사용하고 ti라는 변수에 담아준다.\n",
        "# 일부 데이터를 확인하기 위해 head()를 사용한다. 괄호 안에 따로 개수를 지정하지 않으면 기본 값으로 5줄까지 나타난다.\n",
        "ti = pd.read_csv('https://web.stanford.edu/class/archive/cs/cs109/cs109.1166/stuff/titanic.csv')\n",
        "ti.head()"
      ],
      "execution_count": null,
      "outputs": [
        {
          "output_type": "execute_result",
          "data": {
            "text/html": [
              "<div>\n",
              "<style scoped>\n",
              "    .dataframe tbody tr th:only-of-type {\n",
              "        vertical-align: middle;\n",
              "    }\n",
              "\n",
              "    .dataframe tbody tr th {\n",
              "        vertical-align: top;\n",
              "    }\n",
              "\n",
              "    .dataframe thead th {\n",
              "        text-align: right;\n",
              "    }\n",
              "</style>\n",
              "<table border=\"1\" class=\"dataframe\">\n",
              "  <thead>\n",
              "    <tr style=\"text-align: right;\">\n",
              "      <th></th>\n",
              "      <th>Survived</th>\n",
              "      <th>Pclass</th>\n",
              "      <th>Name</th>\n",
              "      <th>Sex</th>\n",
              "      <th>Age</th>\n",
              "      <th>Siblings/Spouses Aboard</th>\n",
              "      <th>Parents/Children Aboard</th>\n",
              "      <th>Fare</th>\n",
              "    </tr>\n",
              "  </thead>\n",
              "  <tbody>\n",
              "    <tr>\n",
              "      <th>0</th>\n",
              "      <td>0</td>\n",
              "      <td>3</td>\n",
              "      <td>Mr. Owen Harris Braund</td>\n",
              "      <td>male</td>\n",
              "      <td>22.0</td>\n",
              "      <td>1</td>\n",
              "      <td>0</td>\n",
              "      <td>7.2500</td>\n",
              "    </tr>\n",
              "    <tr>\n",
              "      <th>1</th>\n",
              "      <td>1</td>\n",
              "      <td>1</td>\n",
              "      <td>Mrs. John Bradley (Florence Briggs Thayer) Cum...</td>\n",
              "      <td>female</td>\n",
              "      <td>38.0</td>\n",
              "      <td>1</td>\n",
              "      <td>0</td>\n",
              "      <td>71.2833</td>\n",
              "    </tr>\n",
              "    <tr>\n",
              "      <th>2</th>\n",
              "      <td>1</td>\n",
              "      <td>3</td>\n",
              "      <td>Miss. Laina Heikkinen</td>\n",
              "      <td>female</td>\n",
              "      <td>26.0</td>\n",
              "      <td>0</td>\n",
              "      <td>0</td>\n",
              "      <td>7.9250</td>\n",
              "    </tr>\n",
              "    <tr>\n",
              "      <th>3</th>\n",
              "      <td>1</td>\n",
              "      <td>1</td>\n",
              "      <td>Mrs. Jacques Heath (Lily May Peel) Futrelle</td>\n",
              "      <td>female</td>\n",
              "      <td>35.0</td>\n",
              "      <td>1</td>\n",
              "      <td>0</td>\n",
              "      <td>53.1000</td>\n",
              "    </tr>\n",
              "    <tr>\n",
              "      <th>4</th>\n",
              "      <td>0</td>\n",
              "      <td>3</td>\n",
              "      <td>Mr. William Henry Allen</td>\n",
              "      <td>male</td>\n",
              "      <td>35.0</td>\n",
              "      <td>0</td>\n",
              "      <td>0</td>\n",
              "      <td>8.0500</td>\n",
              "    </tr>\n",
              "  </tbody>\n",
              "</table>\n",
              "</div>"
            ],
            "text/plain": [
              "   Survived  Pclass  ... Parents/Children Aboard     Fare\n",
              "0         0       3  ...                       0   7.2500\n",
              "1         1       1  ...                       0  71.2833\n",
              "2         1       3  ...                       0   7.9250\n",
              "3         1       1  ...                       0  53.1000\n",
              "4         0       3  ...                       0   8.0500\n",
              "\n",
              "[5 rows x 8 columns]"
            ]
          },
          "metadata": {
            "tags": []
          },
          "execution_count": 10
        }
      ]
    },
    {
      "cell_type": "code",
      "metadata": {
        "id": "08CdiZjf-b6_",
        "colab_type": "code",
        "colab": {
          "base_uri": "https://localhost:8080/",
          "height": 847
        },
        "outputId": "f3d91385-f91c-4ea7-f282-1dfdd93c09bf"
      },
      "source": [
        "# 타이타닉 데이터의 shape은 어떻게 되나요? \n",
        "# 데이터프레임의 row와 column개수를 확인할 수 있는 shape를 사용해서 shape를 구한다. 아래 값을 한 번에 보기 위해 print()로 묶어주었다.\n",
        "print(ti.shape)\n",
        "\n",
        "\n",
        "# 타이타닉 row record에서 10~20번째 줄을 출력해 보세요\n",
        "# 숫자로 지정해서 특정 row를 나타내기 위해 iloc를 사용했다.\n",
        "print(ti.iloc[10:21])\n",
        "\n",
        "\n",
        "# 타이타닉 데이터에서 'Survived', 'Age', 'Sex' 칼럼 데이터를 선택해 보세요\n",
        "# 특정 컬럼을 보기 위해서 데이터 프레임 ti를 쓰고 보고자 하는 컬럼이 리스트이기에 대괄호를 쓴다. 보고자 하는 컬럼이 3개, 즉 리스트가 2개 이상이기에 겹괄호를 사용한다.\n",
        "print(ti[['Survived', 'Age', 'Sex']])\n",
        "\n",
        "\n",
        "# 타이타닉 데이터에서 생존자 데이터만 골라보세요\n",
        "# 생존자를 보려면 Survived컬럼을 봐야한다. 위와 마찬가지로 리스트이기에 데이터프레임 변수명과 대괄호를 사용해서 Survived컬럼을 선택한다.\n",
        "# Survived에서 사망자와 생존자 구분을 0과 1로 하기에 해당 컬럼에 1이 있는 값만 선택하기 위해서 ==1로 표시했다. 파이썬에서 equal은 ==으로 사용한다.\n",
        "# ti['Survived']==1로만 하면 해당 컬럼에서 1값이 있는지 없는지 True와 False로만 나오기 때문에 대괄호를 씌우고 앞에 데이터 프레임명을 한 번 더 씀으로\n",
        "# 생존자의 데이터만 표시해준다.\n",
        "# 값을 survived에 담아준다.\n",
        "survived = ti[ti['Survived']==1]\n",
        "print(survived)\n",
        "\n",
        "\n",
        "# 생존자 데이터 중 여자, 남자 중 누가 더 많나요? 참고: https://pandas.pydata.org/pandas-docs/stable/reference/api/pandas.Series.value_counts.html\n",
        "# value_counts()는 특정 컬럼 안에 유니크한 값과 총 개수가 얼마인지 알려준다. \n",
        "# 이를 사용해서 생존자 데이터내에 성별 컬럼에서 value_counts를 구해준다.\n",
        "survived['Sex'].value_counts()"
      ],
      "execution_count": null,
      "outputs": [
        {
          "output_type": "stream",
          "text": [
            "(887, 8)\n",
            "    Survived  Pclass  ... Parents/Children Aboard     Fare\n",
            "10         1       3  ...                       1  16.7000\n",
            "11         1       1  ...                       0  26.5500\n",
            "12         0       3  ...                       0   8.0500\n",
            "13         0       3  ...                       5  31.2750\n",
            "14         0       3  ...                       0   7.8542\n",
            "15         1       2  ...                       0  16.0000\n",
            "16         0       3  ...                       1  29.1250\n",
            "17         1       2  ...                       0  13.0000\n",
            "18         0       3  ...                       0  18.0000\n",
            "19         1       3  ...                       0   7.2250\n",
            "20         0       2  ...                       0  26.0000\n",
            "\n",
            "[11 rows x 8 columns]\n",
            "     Survived   Age     Sex\n",
            "0           0  22.0    male\n",
            "1           1  38.0  female\n",
            "2           1  26.0  female\n",
            "3           1  35.0  female\n",
            "4           0  35.0    male\n",
            "..        ...   ...     ...\n",
            "882         0  27.0    male\n",
            "883         1  19.0  female\n",
            "884         0   7.0  female\n",
            "885         1  26.0    male\n",
            "886         0  32.0    male\n",
            "\n",
            "[887 rows x 3 columns]\n",
            "     Survived  Pclass  ... Parents/Children Aboard     Fare\n",
            "1           1       1  ...                       0  71.2833\n",
            "2           1       3  ...                       0   7.9250\n",
            "3           1       1  ...                       0  53.1000\n",
            "8           1       3  ...                       2  11.1333\n",
            "9           1       2  ...                       0  30.0708\n",
            "..        ...     ...  ...                     ...      ...\n",
            "871         1       3  ...                       0   7.2250\n",
            "875         1       1  ...                       1  83.1583\n",
            "876         1       2  ...                       1  26.0000\n",
            "883         1       1  ...                       0  30.0000\n",
            "885         1       1  ...                       0  30.0000\n",
            "\n",
            "[342 rows x 8 columns]\n"
          ],
          "name": "stdout"
        },
        {
          "output_type": "execute_result",
          "data": {
            "text/plain": [
              "female    233\n",
              "male      109\n",
              "Name: Sex, dtype: int64"
            ]
          },
          "metadata": {
            "tags": []
          },
          "execution_count": 11
        }
      ]
    },
    {
      "cell_type": "code",
      "metadata": {
        "id": "GGDVYm0TeRlM",
        "colab_type": "code",
        "colab": {}
      },
      "source": [
        ""
      ],
      "execution_count": null,
      "outputs": []
    }
  ]
}