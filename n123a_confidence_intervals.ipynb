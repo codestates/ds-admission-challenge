{
  "nbformat": 4,
  "nbformat_minor": 0,
  "metadata": {
    "colab": {
      "name": "n123a-confidence-intervals.ipynb",
      "provenance": [],
      "collapsed_sections": []
    },
    "kernelspec": {
      "display_name": "Python 3",
      "language": "python",
      "name": "python3"
    },
    "language_info": {
      "codemirror_mode": {
        "name": "ipython",
        "version": 3
      },
      "file_extension": ".py",
      "mimetype": "text/x-python",
      "name": "python",
      "nbconvert_exporter": "python",
      "pygments_lexer": "ipython3",
      "version": "3.8.5"
    }
  },
  "cells": [
    {
      "cell_type": "markdown",
      "metadata": {
        "colab_type": "text",
        "id": "g_c3L9CeANiJ"
      },
      "source": [
        "<img src='https://i.imgur.com/RDAD11M.png' width = '200' align = 'right'>\n",
        "\n",
        "## *DATA SCIENCE / SECTION 1 / SPRINT 2 / NOTE 3*\n",
        "\n",
        "# 📝 Assignment\n",
        "\n",
        "# 신뢰구간\n",
        "\n",
        "서울시 기간별 시간평균 대기환경 정보 데이터셋을 이용합니다.\n",
        "\n",
        "<img src='https://user-images.githubusercontent.com/6457691/89852263-740add80-dbc9-11ea-9e6b-8059b3f7e479.png'>\n",
        "\n",
        "<https://data.seoul.go.kr/dataList/OA-2221/S/1/datasetView.do>\n",
        "\n",
        "## 사이즈가 너무 크기 때문에 모든 데이터셋을 사용하지 않으며, *특정 한달동안*의, *특정 지역*만의 데이터만을 사용하세요.\n",
        "\n"
      ]
    },
    {
      "cell_type": "markdown",
      "metadata": {
        "id": "u_GCQpR0rCWt",
        "colab_type": "text"
      },
      "source": [
        "## 1단계 - 준비\n",
        "\n",
        "### **1) 데이터셋 불러오기**"
      ]
    },
    {
      "cell_type": "code",
      "metadata": {
        "colab_type": "code",
        "id": "yXwMJQGrAIbO",
        "colab": {
          "resources": {
            "http://localhost:8080/nbextensions/google.colab/files.js": {
              "data": "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",
              "ok": true,
              "headers": [
                [
                  "content-type",
                  "application/javascript"
                ]
              ],
              "status": 200,
              "status_text": ""
            }
          },
          "base_uri": "https://localhost:8080/",
          "height": 72
        },
        "outputId": "62271c63-5cbd-4524-d726-78b79ab66d2b"
      },
      "source": [
        "from google.colab import files\n",
        "uploaded = files.upload()"
      ],
      "execution_count": null,
      "outputs": [
        {
          "output_type": "display_data",
          "data": {
            "text/html": [
              "\n",
              "     <input type=\"file\" id=\"files-1db8e624-c165-4dec-ab97-38646b0a225a\" name=\"files[]\" multiple disabled\n",
              "        style=\"border:none\" />\n",
              "     <output id=\"result-1db8e624-c165-4dec-ab97-38646b0a225a\">\n",
              "      Upload widget is only available when the cell has been executed in the\n",
              "      current browser session. Please rerun this cell to enable.\n",
              "      </output>\n",
              "      <script src=\"/nbextensions/google.colab/files.js\"></script> "
            ],
            "text/plain": [
              "<IPython.core.display.HTML object>"
            ]
          },
          "metadata": {
            "tags": []
          }
        },
        {
          "output_type": "stream",
          "text": [
            "Saving seocho_aug_airqual.csv to seocho_aug_airqual (1).csv\n"
          ],
          "name": "stdout"
        }
      ]
    },
    {
      "cell_type": "code",
      "metadata": {
        "id": "NOOjS0bqD-eG",
        "colab_type": "code",
        "colab": {
          "base_uri": "https://localhost:8080/",
          "height": 606
        },
        "outputId": "7632b906-8d30-427f-dbf9-91c1e1c11707"
      },
      "source": [
        "import pandas as pd\n",
        "import numpy as np\n",
        "import pandas as pd\n",
        "\n",
        "seocho_aug_airqual = pd.read_csv('seocho_aug_airqual.csv')\n",
        "seocho_aug_airqual"
      ],
      "execution_count": null,
      "outputs": [
        {
          "output_type": "execute_result",
          "data": {
            "text/html": [
              "<div>\n",
              "<style scoped>\n",
              "    .dataframe tbody tr th:only-of-type {\n",
              "        vertical-align: middle;\n",
              "    }\n",
              "\n",
              "    .dataframe tbody tr th {\n",
              "        vertical-align: top;\n",
              "    }\n",
              "\n",
              "    .dataframe thead th {\n",
              "        text-align: right;\n",
              "    }\n",
              "</style>\n",
              "<table border=\"1\" class=\"dataframe\">\n",
              "  <thead>\n",
              "    <tr style=\"text-align: right;\">\n",
              "      <th></th>\n",
              "      <th>측정일시</th>\n",
              "      <th>권역코드</th>\n",
              "      <th>권역명</th>\n",
              "      <th>측정소코드</th>\n",
              "      <th>측정소명</th>\n",
              "      <th>미세먼지 1시간(㎍/㎥)</th>\n",
              "      <th>미세먼지 24시간(㎍/㎥)</th>\n",
              "      <th>초미세먼지(㎍/㎥)</th>\n",
              "      <th>오존(ppm)</th>\n",
              "      <th>이산화질소농도(ppm)</th>\n",
              "      <th>일산화탄소농도(ppm)</th>\n",
              "      <th>아황산가스농도(ppm)</th>\n",
              "    </tr>\n",
              "  </thead>\n",
              "  <tbody>\n",
              "    <tr>\n",
              "      <th>0</th>\n",
              "      <td>202008312300</td>\n",
              "      <td>104</td>\n",
              "      <td>동남권</td>\n",
              "      <td>111262</td>\n",
              "      <td>서초구</td>\n",
              "      <td>6</td>\n",
              "      <td>8</td>\n",
              "      <td>2</td>\n",
              "      <td>0.019</td>\n",
              "      <td>0.010</td>\n",
              "      <td>0.2</td>\n",
              "      <td>0.002</td>\n",
              "    </tr>\n",
              "    <tr>\n",
              "      <th>1</th>\n",
              "      <td>202008312200</td>\n",
              "      <td>104</td>\n",
              "      <td>동남권</td>\n",
              "      <td>111262</td>\n",
              "      <td>서초구</td>\n",
              "      <td>7</td>\n",
              "      <td>9</td>\n",
              "      <td>3</td>\n",
              "      <td>0.021</td>\n",
              "      <td>0.011</td>\n",
              "      <td>0.2</td>\n",
              "      <td>0.003</td>\n",
              "    </tr>\n",
              "    <tr>\n",
              "      <th>2</th>\n",
              "      <td>202008312100</td>\n",
              "      <td>104</td>\n",
              "      <td>동남권</td>\n",
              "      <td>111262</td>\n",
              "      <td>서초구</td>\n",
              "      <td>9</td>\n",
              "      <td>9</td>\n",
              "      <td>3</td>\n",
              "      <td>0.021</td>\n",
              "      <td>0.013</td>\n",
              "      <td>0.3</td>\n",
              "      <td>0.003</td>\n",
              "    </tr>\n",
              "    <tr>\n",
              "      <th>3</th>\n",
              "      <td>202008312000</td>\n",
              "      <td>104</td>\n",
              "      <td>동남권</td>\n",
              "      <td>111262</td>\n",
              "      <td>서초구</td>\n",
              "      <td>8</td>\n",
              "      <td>9</td>\n",
              "      <td>2</td>\n",
              "      <td>0.012</td>\n",
              "      <td>0.024</td>\n",
              "      <td>0.3</td>\n",
              "      <td>0.002</td>\n",
              "    </tr>\n",
              "    <tr>\n",
              "      <th>4</th>\n",
              "      <td>202008311900</td>\n",
              "      <td>104</td>\n",
              "      <td>동남권</td>\n",
              "      <td>111262</td>\n",
              "      <td>서초구</td>\n",
              "      <td>9</td>\n",
              "      <td>9</td>\n",
              "      <td>2</td>\n",
              "      <td>0.017</td>\n",
              "      <td>0.023</td>\n",
              "      <td>0.3</td>\n",
              "      <td>0.002</td>\n",
              "    </tr>\n",
              "    <tr>\n",
              "      <th>...</th>\n",
              "      <td>...</td>\n",
              "      <td>...</td>\n",
              "      <td>...</td>\n",
              "      <td>...</td>\n",
              "      <td>...</td>\n",
              "      <td>...</td>\n",
              "      <td>...</td>\n",
              "      <td>...</td>\n",
              "      <td>...</td>\n",
              "      <td>...</td>\n",
              "      <td>...</td>\n",
              "      <td>...</td>\n",
              "    </tr>\n",
              "    <tr>\n",
              "      <th>739</th>\n",
              "      <td>202008010400</td>\n",
              "      <td>104</td>\n",
              "      <td>동남권</td>\n",
              "      <td>111262</td>\n",
              "      <td>서초구</td>\n",
              "      <td>4</td>\n",
              "      <td>11</td>\n",
              "      <td>1</td>\n",
              "      <td>0.007</td>\n",
              "      <td>0.020</td>\n",
              "      <td>0.3</td>\n",
              "      <td>0.002</td>\n",
              "    </tr>\n",
              "    <tr>\n",
              "      <th>740</th>\n",
              "      <td>202008010300</td>\n",
              "      <td>104</td>\n",
              "      <td>동남권</td>\n",
              "      <td>111262</td>\n",
              "      <td>서초구</td>\n",
              "      <td>4</td>\n",
              "      <td>15</td>\n",
              "      <td>1</td>\n",
              "      <td>0.008</td>\n",
              "      <td>0.015</td>\n",
              "      <td>0.2</td>\n",
              "      <td>0.002</td>\n",
              "    </tr>\n",
              "    <tr>\n",
              "      <th>741</th>\n",
              "      <td>202008010200</td>\n",
              "      <td>104</td>\n",
              "      <td>동남권</td>\n",
              "      <td>111262</td>\n",
              "      <td>서초구</td>\n",
              "      <td>4</td>\n",
              "      <td>18</td>\n",
              "      <td>6</td>\n",
              "      <td>0.010</td>\n",
              "      <td>0.013</td>\n",
              "      <td>0.2</td>\n",
              "      <td>0.002</td>\n",
              "    </tr>\n",
              "    <tr>\n",
              "      <th>742</th>\n",
              "      <td>202008010100</td>\n",
              "      <td>104</td>\n",
              "      <td>동남권</td>\n",
              "      <td>111262</td>\n",
              "      <td>서초구</td>\n",
              "      <td>17</td>\n",
              "      <td>20</td>\n",
              "      <td>6</td>\n",
              "      <td>0.013</td>\n",
              "      <td>0.011</td>\n",
              "      <td>0.2</td>\n",
              "      <td>0.003</td>\n",
              "    </tr>\n",
              "    <tr>\n",
              "      <th>743</th>\n",
              "      <td>202008010000</td>\n",
              "      <td>104</td>\n",
              "      <td>동남권</td>\n",
              "      <td>111262</td>\n",
              "      <td>서초구</td>\n",
              "      <td>25</td>\n",
              "      <td>20</td>\n",
              "      <td>12</td>\n",
              "      <td>0.011</td>\n",
              "      <td>0.015</td>\n",
              "      <td>0.2</td>\n",
              "      <td>0.004</td>\n",
              "    </tr>\n",
              "  </tbody>\n",
              "</table>\n",
              "<p>744 rows × 12 columns</p>\n",
              "</div>"
            ],
            "text/plain": [
              "             측정일시  권역코드  권역명  ...  이산화질소농도(ppm) 일산화탄소농도(ppm)  아황산가스농도(ppm)\n",
              "0    202008312300   104  동남권  ...         0.010          0.2         0.002\n",
              "1    202008312200   104  동남권  ...         0.011          0.2         0.003\n",
              "2    202008312100   104  동남권  ...         0.013          0.3         0.003\n",
              "3    202008312000   104  동남권  ...         0.024          0.3         0.002\n",
              "4    202008311900   104  동남권  ...         0.023          0.3         0.002\n",
              "..            ...   ...  ...  ...           ...          ...           ...\n",
              "739  202008010400   104  동남권  ...         0.020          0.3         0.002\n",
              "740  202008010300   104  동남권  ...         0.015          0.2         0.002\n",
              "741  202008010200   104  동남권  ...         0.013          0.2         0.002\n",
              "742  202008010100   104  동남권  ...         0.011          0.2         0.003\n",
              "743  202008010000   104  동남권  ...         0.015          0.2         0.004\n",
              "\n",
              "[744 rows x 12 columns]"
            ]
          },
          "metadata": {
            "tags": []
          },
          "execution_count": 56
        }
      ]
    },
    {
      "cell_type": "markdown",
      "metadata": {
        "colab_type": "text",
        "id": "wOQ-9E8uYcni"
      },
      "source": [
        "### **2) 데이터셋에서 임의의 2 샘플을 선택하세요, 1개는 20개의 데이터, 다른 1개는 200개의 데이터이며, 매 시행마다 동일한 결과물을 위해 `42`를 `random_state`로 사용합니다.**"
      ]
    },
    {
      "cell_type": "code",
      "metadata": {
        "colab_type": "code",
        "id": "m1vuFGxVQo64",
        "colab": {}
      },
      "source": [
        "sample1_n20 = seocho_aug_airqual.sample(n= 20, random_state= 42)\n",
        "\n",
        "sample2_n200 = seocho_aug_airqual.sample(n= 200, random_state= 42)"
      ],
      "execution_count": null,
      "outputs": []
    },
    {
      "cell_type": "code",
      "metadata": {
        "id": "jxLzpLORfkv9",
        "colab_type": "code",
        "colab": {}
      },
      "source": [
        "o3_sample1_n20 = sample1_n20['오존(ppm)']\n",
        "\n",
        "o3_sample2_n200 = sample2_n200['오존(ppm)']"
      ],
      "execution_count": null,
      "outputs": []
    },
    {
      "cell_type": "code",
      "metadata": {
        "id": "AzGtIJjKWcXC",
        "colab_type": "code",
        "colab": {
          "base_uri": "https://localhost:8080/",
          "height": 170
        },
        "outputId": "435c0390-6761-4171-a0ff-7facafc5f87a"
      },
      "source": [
        "o3_sample1_n20.describe()"
      ],
      "execution_count": null,
      "outputs": [
        {
          "output_type": "execute_result",
          "data": {
            "text/plain": [
              "count    20.000000\n",
              "mean      0.023650\n",
              "std       0.010148\n",
              "min       0.010000\n",
              "25%       0.016750\n",
              "50%       0.022500\n",
              "75%       0.027500\n",
              "max       0.050000\n",
              "Name: 오존(ppm), dtype: float64"
            ]
          },
          "metadata": {
            "tags": []
          },
          "execution_count": 120
        }
      ]
    },
    {
      "cell_type": "code",
      "metadata": {
        "id": "SM_hMjRvWhSs",
        "colab_type": "code",
        "colab": {
          "base_uri": "https://localhost:8080/",
          "height": 170
        },
        "outputId": "ac005760-952b-4106-efe0-9e61cd219123"
      },
      "source": [
        "o3_sample2_n200.describe()"
      ],
      "execution_count": null,
      "outputs": [
        {
          "output_type": "execute_result",
          "data": {
            "text/plain": [
              "count    200.000000\n",
              "mean       0.021485\n",
              "std        0.013330\n",
              "min        0.003000\n",
              "25%        0.012000\n",
              "50%        0.019000\n",
              "75%        0.028000\n",
              "max        0.090000\n",
              "Name: 오존(ppm), dtype: float64"
            ]
          },
          "metadata": {
            "tags": []
          },
          "execution_count": 122
        }
      ]
    },
    {
      "cell_type": "markdown",
      "metadata": {
        "colab_type": "text",
        "id": "y2Rz-8O-YmF9"
      },
      "source": [
        "### **3) 두 샘플데이터에 대해서 `오존(ppm)`항목의 표본 평균(sample mean)을 계산하세요.**"
      ]
    },
    {
      "cell_type": "code",
      "metadata": {
        "colab_type": "code",
        "id": "ti9x37XSQ_yL",
        "colab": {
          "base_uri": "https://localhost:8080/",
          "height": 51
        },
        "outputId": "4bc24a5b-02e8-4859-fff9-9ca6ac6a4cd3"
      },
      "source": [
        "o3_mean_sample1_n20 = o3_sample1_n20.mean()\n",
        "print(o3_mean_sample1_n20, \"는 20개 샘플\")\n",
        "\n",
        "o3_mean_sample2_n200 = o3_sample2_n200.mean()\n",
        "print(o3_mean_sample2_n200, \"는 200개 샘플\")\n"
      ],
      "execution_count": null,
      "outputs": [
        {
          "output_type": "stream",
          "text": [
            "0.02365000000000001 는 20개 샘플\n",
            "0.021484999999999976 는 200개 샘플\n"
          ],
          "name": "stdout"
        }
      ]
    },
    {
      "cell_type": "markdown",
      "metadata": {
        "colab_type": "text",
        "id": "AtGASqgxYp5t"
      },
      "source": [
        "### **4) 모든 샘플 평균은 각각 데이터로 부터 나온 추정값입니다. 모집단의 평균을 추정할때의 어느 샘플 평균 값을 더 신뢰하게 될까요?**"
      ]
    },
    {
      "cell_type": "markdown",
      "metadata": {
        "id": "EsBU-DLeIVrz",
        "colab_type": "text"
      },
      "source": [
        "```\n",
        "2번째/샘플/표본이 더 많은 샘플 평균값을 신뢰합니다.\n",
        "\n",
        "샘플이 많으면 많을수록 (무한에 가까울수록) Sample Mean 은 Population Mean에 근접하게 된다.\n",
        "```"
      ]
    },
    {
      "cell_type": "markdown",
      "metadata": {
        "colab_type": "text",
        "id": "-2ulIAGmYudp"
      },
      "source": [
        "### **5) 모집단의 평균에 대한 추정을 하세요. (estimation of population mean)**"
      ]
    },
    {
      "cell_type": "markdown",
      "metadata": {
        "id": "0h1_lxvLP8c0",
        "colab_type": "text"
      },
      "source": [
        "```\n",
        "애초에, sample mean 을 구하는것 자체가, population mean 을 추정하기 위한 목적\n",
        "20개의 샘플 평균 0.023650 보다 훨씬\n",
        "200개의 데이터 샘플의 평균 0.021484이 더 population mean 에 가깝다.\n",
        "\n",
        "```"
      ]
    },
    {
      "cell_type": "markdown",
      "metadata": {
        "colab_type": "text",
        "id": "SpqgKQfTYvF0"
      },
      "source": [
        "### **6) 추정치에 대한 오차에 대해서 설명해보세요.**"
      ]
    },
    {
      "cell_type": "markdown",
      "metadata": {
        "id": "BPx724J9ZOX3",
        "colab_type": "text"
      },
      "source": [
        "```\n",
        "추정치는, 말 그대로 어떠한 값이 나올것 같다고 추정/ guess 한 것이기 때문에, 실제 population mean 과는 오차가 있을 수 있다.\n",
        "거기에 따른 오차를 구하는것이 표본 오차 (라고 이해 하였다.)\n",
        "```"
      ]
    },
    {
      "cell_type": "markdown",
      "metadata": {
        "colab_type": "text",
        "id": "9tIHBlM_SyGR"
      },
      "source": [
        "## 2단계 - 신뢰구간과, 표본 오차를 추정된 값과 같이 설명.\n",
        "\n",
        "### **1) 1단계에서 추정한 값들을 바탕으로, 95%에 해당하는 신뢰구간을 계산하세요.**"
      ]
    },
    {
      "cell_type": "code",
      "metadata": {
        "id": "A4P19VgDe2Ka",
        "colab_type": "code",
        "colab": {
          "base_uri": "https://localhost:8080/",
          "height": 68
        },
        "outputId": "d5bff2a6-bad7-4caa-95f4-583e59b19647"
      },
      "source": [
        "def confidence_interval(data, confidence = 0.95):\n",
        "\n",
        "  data = np.array(data)\n",
        "  mean = np.mean(data)\n",
        "  n = len(data) \n",
        "  # std / sqrt(n)\n",
        "  stderr = stats.sem(data) \n",
        "  # Standard Error of Mean (https://docs.scipy.org/doc/scipy/reference/generated/scipy.stats.sem.html)\n",
        "  # s / sqrt(n)\n",
        "  # length_of_one_interval\n",
        "  interval = stderr * stats.t.ppf( (1 + confidence) / 2 , n - 1) # ppf : inverse of cdf\n",
        "  return (mean, mean - interval, mean + interval, stderr ,interval)\n",
        "\n",
        "print(confidence_interval(o3_sample1_n20, confidence = 0.95), '샘플 20')\n",
        "print('      Mean,              (Mean - sigma),     (Mean + sigma)', 'with 95% of confidence')\n",
        "print(confidence_interval(o3_sample2_n200, confidence = 0.95), '샘플 200')\n",
        "\n",
        "\n",
        "#질문이 있습니다! std.err라고 구한 값은 std.dev인건가요?\n",
        "# https://youtu.be/A82brFpdr9g 영상에 따르면 1:58부분.\n",
        "# standard error는 standard deviation의 mean 이라고 하는데...\n",
        "# 샘플 사이즈를 20으로 잡고, std.err를 구하면... 틀린게 아닌가 하는 생각이 들어서 질문 드립니다.\n"
      ],
      "execution_count": 126,
      "outputs": [
        {
          "output_type": "stream",
          "text": [
            "(0.023650000000000008, 0.018900718666407634, 0.02839928133359238, 0.0022691002158286627, 0.004749281333592373) 샘플 20\n",
            "      Mean,              (Mean - sigma),     (Mean + sigma) with 95% of confidence\n",
            "(0.021485000000000004, 0.019626237347507323, 0.023343762652492685, 0.000942598181442279, 0.0018587626524926805) 샘플 200\n"
          ],
          "name": "stdout"
        }
      ]
    },
    {
      "cell_type": "markdown",
      "metadata": {
        "colab_type": "text",
        "id": "vdiW7DHRZwK-"
      },
      "source": [
        "### **2) 두 샘플에 대한 신뢰구간중 어느것이 더 넓으며, 왜 그렇습니까?**"
      ]
    },
    {
      "cell_type": "code",
      "metadata": {
        "id": "QrvdaKMahXJo",
        "colab_type": "code",
        "colab": {
          "base_uri": "https://localhost:8080/",
          "height": 51
        },
        "outputId": "fd3e9e63-9bc6-45e9-d884-9946cf6a4d49"
      },
      "source": [
        "#샘플 20\n",
        "print(0.02839928133359238-0.018900718666407634)\n",
        "#또는\n",
        "print(0.004749281333592373*2)\n",
        "# 신뢰구간은 mean - interval, mean + interval\n"
      ],
      "execution_count": 171,
      "outputs": [
        {
          "output_type": "stream",
          "text": [
            "0.009498562667184747\n",
            "0.009498562667184745\n"
          ],
          "name": "stdout"
        }
      ]
    },
    {
      "cell_type": "code",
      "metadata": {
        "id": "rP3e71pvhk-2",
        "colab_type": "code",
        "colab": {
          "base_uri": "https://localhost:8080/",
          "height": 51
        },
        "outputId": "f1bb0d5f-80ba-4faf-cf31-3052347197c6"
      },
      "source": [
        "#샘플 200\n",
        "print(0.023343762652492685-0.019626237347507323)\n",
        "# 신뢰구간은 mean - interval 의 사이 mean + interval\n",
        "\n",
        "# 지금 보니까 그냥 신뢰구간은 interval*2 하면 나오는 거였네요. \n",
        "print(0.0018587626524926805*2)"
      ],
      "execution_count": 173,
      "outputs": [
        {
          "output_type": "stream",
          "text": [
            "0.0037175253049853627\n",
            "0.003717525304985361\n"
          ],
          "name": "stdout"
        }
      ]
    },
    {
      "cell_type": "markdown",
      "metadata": {
        "colab_type": "text",
        "id": "p5KGlyvYZ1Qq"
      },
      "source": [
        "(첫번째 (샘플수 20)의 신뢰구간이 더 넓으며, 이는 error 의 값이 훨씬 더 크기 때문입니다.) ~~앗 공짜 문제!~~\n",
        "\n",
        "error의 값이 크다, sigma의 값이 크다."
      ]
    },
    {
      "cell_type": "markdown",
      "metadata": {
        "colab_type": "text",
        "id": "6N33K4NvZ13H"
      },
      "source": [
        "### **3) 두 샘플에 대해, 추정된 평균(estimated mean)과, 표본 오차(standard error)의 값을 설명하세요. 표본 오차가 의미 하는 바는 무엇인가요?**"
      ]
    },
    {
      "cell_type": "code",
      "metadata": {
        "id": "_v2g5-gyn-yJ",
        "colab_type": "code",
        "colab": {
          "base_uri": "https://localhost:8080/",
          "height": 102
        },
        "outputId": "37f278b4-72a3-4be0-d242-08c5b2f814cf"
      },
      "source": [
        "stderr_n20 = stats.sem(o3_sample1_n20)\n",
        "print('샘플 20일 때 estimated mean/ sample mean')\n",
        "print(stderr_n20)\n",
        "print('---')\n",
        "stderr_n200 = stats.sem(o3_sample2_n200)\n",
        "print('샘플 200일 때 estimated mean/ sample mean')\n",
        "print(stderr_n200)"
      ],
      "execution_count": null,
      "outputs": [
        {
          "output_type": "stream",
          "text": [
            "샘플 20일 때 estimated mean/ sample mean\n",
            "0.0022691002158286627\n",
            "---\n",
            "샘플 200일 때 estimated mean/ sample mean\n",
            "0.000942598181442279\n"
          ],
          "name": "stdout"
        }
      ]
    },
    {
      "cell_type": "markdown",
      "metadata": {
        "id": "_0UVy8W2nmUR",
        "colab_type": "text"
      },
      "source": [
        "```\n",
        "샘플 20\n",
        "estimated mean : 0.023650 ppm(o3)\n",
        "standard error (표본 오차) : 0.0022691002158286627\n",
        "\n",
        "표준 오차의 의미...\n",
        "추정된 평균 - 표준 오차 = 0.018900718666407634\n",
        "추정된 평군 + 표준 오차 = 0.02839928133359238\n",
        "\n",
        "Population Mean이 저 범위 안에 있을 확률이 95%이다!\n",
        "```\n",
        "\n",
        "```\n",
        "샘플 200\n",
        "estimated mean : 0.0214850 ppm(o3)\n",
        "standard error (표본 오차): 0.000942598181442279\n",
        "추정된 평균 - 표준 오차 = 0.019626237347507323\n",
        "추정된 평군 + 표준 오차 = 0.023343762652492685\n",
        "\n",
        "Population Mean이 저 범위 안에 있을 확률이 95%이다!\n",
        "\n",
        "범위는 샘플 20에 비교해서, 좁아졌지만 오히려 더 정확한 estimate을 내릴 수 있게 되었다 (범위가 좁혀졌기때문에)\n",
        "```"
      ]
    },
    {
      "cell_type": "markdown",
      "metadata": {
        "colab_type": "text",
        "id": "_7NuYtHfaQav"
      },
      "source": [
        "표본 오차는, 추정된 값이 실제 값과 얼마나 멀리 떨어져 있을 수 있는지 (95%의 확률로)를 의미합니다. "
      ]
    },
    {
      "cell_type": "markdown",
      "metadata": {
        "colab_type": "text",
        "id": "zkg9EW9KTgGv"
      },
      "source": [
        "## 3단계 - 시각화하기\n",
        "\n",
        "### **1) `plt.errorbar` 를 사용하여 계산된 신뢰구간을 시각화하세요.** "
      ]
    },
    {
      "cell_type": "code",
      "metadata": {
        "colab_type": "code",
        "id": "2QOQGVfsVfFZ",
        "colab": {
          "base_uri": "https://localhost:8080/",
          "height": 265
        },
        "outputId": "f271506f-abe3-4177-ddb6-ce75f7b007a6"
      },
      "source": [
        "# R https://www.r-graph-gallery.com/4-barplot-with-error-bar.html\n",
        "# Python https://stackoverflow.com/questions/44603615/plot-95-confidence-interval-errorbar-python-pandas-dataframes\n",
        "# https://problemsolvingwithpython.com/06-Plotting-with-Matplotlib/06.07-Error-Bars/\n",
        "\n",
        "#예제\n",
        "df = pd.DataFrame()\n",
        "df['category'] = np.random.choice(np.arange(10), 1000, replace=True)\n",
        "df['number'] = np.random.normal(df['category'], 1)\n",
        "\n",
        "mean = df.groupby('category')['number'].mean()\n",
        "std = df.groupby('category')['number'].std()\n",
        "\n",
        "plt.errorbar(mean.index, mean, xerr=0.5, yerr=2*std, linestyle='')\n",
        "plt.show()"
      ],
      "execution_count": 166,
      "outputs": [
        {
          "output_type": "display_data",
          "data": {
            "image/png": "[encoded data removed]",
            "text/plain": [
              "<Figure size 432x288 with 1 Axes>"
            ]
          },
          "metadata": {
            "tags": [],
            "needs_background": "light"
          }
        }
      ]
    },
    {
      "cell_type": "markdown",
      "metadata": {
        "id": "AYs1PHF5wt8X",
        "colab_type": "text"
      },
      "source": [
        "matplotlib의 연습이 필요한것 같습니다. 완수하지 못하였습니다."
      ]
    },
    {
      "cell_type": "markdown",
      "metadata": {
        "colab_type": "text",
        "id": "HsTtONTNawFi"
      },
      "source": [
        "### **2) `plt.bar`를 사용하여 신뢰구간을 비교하세요.**"
      ]
    },
    {
      "cell_type": "code",
      "metadata": {
        "colab_type": "code",
        "id": "UE1fxaoKW1Xg",
        "colab": {}
      },
      "source": [
        "# 1차 시도\n",
        "## https://problemsolvingwithpython.com/06-Plotting-with-Matplotlib/06.07-Error-Bars/\n",
        "## https://matplotlib.org/3.1.1/gallery/lines_bars_and_markers/barchart.html\n",
        "## https://python-graph-gallery.com/8-add-confidence-interval-on-barplot/\n",
        "\n",
        "# average\n",
        "import matplotlib.pyplot as plt\n",
        "\n",
        "o3_mean_sample1_n20\n",
        "o3_mean_sample2_n200\n",
        "\n",
        "#st.dev or stderr of each samples\n",
        "stderr_n20\n",
        "stderr_n200\n",
        "bot_pos = [o3_mean_sample1_n20, o3_mean_sample2_n200]\n",
        "# Define labels, positions, bar heights and error bar heights\n",
        "labels = ['Sample Size of 20', 'Sample Size of 200']\n",
        "x_pos = np.arange(len(labels)) #x 의 표지션, 은 레이블수 만큼 이니까 2\n",
        "heights = [o3_mean_sample1_n20, o3_mean_sample2_n200]\n",
        "error = [stderr_n20, stderr_n200]"
      ],
      "execution_count": null,
      "outputs": []
    },
    {
      "cell_type": "code",
      "metadata": {
        "id": "0DVdXRGK6zQV",
        "colab_type": "code",
        "colab": {
          "base_uri": "https://localhost:8080/",
          "height": 281
        },
        "outputId": "2e57c15a-c30d-4b74-e9b3-7295ed5956bb"
      },
      "source": [
        "# bulid the plot\n",
        "\n",
        "fig, ax = plt.subplots()\n",
        "ax.bar(x_pos, heights, yerr= error, )\n",
        "ax.set_title('POP mean 95% Confidence Interval O3 in Seocho')\n",
        "ax.set_xticks(x_pos)\n",
        "ax.set_xticklabels(labels);ax.set_ylabel('Ozone in air (ppm) ');"
      ],
      "execution_count": null,
      "outputs": [
        {
          "output_type": "display_data",
          "data": {
            "image/png": "[encoded data removed]",
            "text/plain": [
              "<Figure size 432x288 with 1 Axes>"
            ]
          },
          "metadata": {
            "tags": [],
            "needs_background": "light"
          }
        }
      ]
    },
    {
      "cell_type": "markdown",
      "metadata": {
        "id": "RetByTP7hu4w",
        "colab_type": "text"
      },
      "source": [
        "위의 그래프를 보면, bar 그래프의 맨 윗 부분은 신뢰구간의 중심을 나타냅니다."
      ]
    },
    {
      "cell_type": "code",
      "metadata": {
        "id": "DlCD3EFjZcLZ",
        "colab_type": "code",
        "colab": {
          "base_uri": "https://localhost:8080/",
          "height": 281
        },
        "outputId": "7ea77ee4-b26a-4ea1-f9ad-503dd17b9f9a"
      },
      "source": [
        "# 2차 시도.\n",
        "fig, ax = plt.subplots()\n",
        "ax.bar(x_pos, height= 0.0001, yerr= error, bottom= heights)\n",
        "ax.set_title('POP mean 95% Confidence Interval O3 in Seocho')\n",
        "ax.set_xticks(x_pos)\n",
        "ax.set_xticklabels(labels);ax.set_ylabel('Ozone in air (ppm) ');\n",
        "\n",
        "# 오 야매/ Fake/ 가라, 로 bar graph의 높이를 낮게 잡고, bottom (the starting point of the bar graph)를 mean 값으로 둬서, 풀긴지만 올바르게 한것 같이 않습니다.\n",
        "# 지도 부탁드립니다."
      ],
      "execution_count": 165,
      "outputs": [
        {
          "output_type": "display_data",
          "data": {
            "image/png": "[encoded data removed]",
            "text/plain": [
              "<Figure size 432x288 with 1 Axes>"
            ]
          },
          "metadata": {
            "tags": [],
            "needs_background": "light"
          }
        }
      ]
    },
    {
      "cell_type": "markdown",
      "metadata": {
        "colab_type": "text",
        "id": "ZGCzS-BFctob"
      },
      "source": [
        "## 4단계 - 실제와의 비교"
      ]
    },
    {
      "cell_type": "markdown",
      "metadata": {
        "colab_type": "text",
        "id": "E181afPXezJ9"
      },
      "source": [
        "**200, 20개의 샘플 데이터가 아닌 전체 데이터에 대해서 평균을 계산하고 추측된 평균값과의 비교를 해보세요.**"
      ]
    },
    {
      "cell_type": "code",
      "metadata": {
        "colab_type": "code",
        "id": "3puy99D6esLn",
        "colab": {
          "base_uri": "https://localhost:8080/",
          "height": 68
        },
        "outputId": "0b2c4692-0db9-427b-9279-e606ec3cb7bd"
      },
      "source": [
        "pop_mean = seocho_aug_airqual['오존(ppm)'].mean()\n",
        "\n",
        "print('전체 데이터 평균 값 :', pop_mean)\n",
        "print('샘플_20 평균 :', o3_mean_sample1_n20)\n",
        "print('샘플_200 평균 :', o3_mean_sample2_n200,)"
      ],
      "execution_count": 175,
      "outputs": [
        {
          "output_type": "stream",
          "text": [
            "전체 데이터 평균 값 : 0.02101344086021499\n",
            "샘플_20 평균 : 0.02365000000000001\n",
            "샘플_200 평균 : 0.021484999999999976\n"
          ],
          "name": "stdout"
        }
      ]
    },
    {
      "cell_type": "markdown",
      "metadata": {
        "id": "NpZOzjGYwLmx",
        "colab_type": "text"
      },
      "source": [
        "sampling을 통해 추측된 샘플사이즈 20의 값과, 200의 값을 비교해보면\n",
        "샘플사이즈 200의 평균이, 전체 데이터 평균 값가 거의 비슷하다.\n",
        "샘플사이즈 20은, 오차가 좀 있다."
      ]
    },
    {
      "cell_type": "markdown",
      "metadata": {
        "colab_type": "text",
        "id": "cvtnsGLJa4bW"
      },
      "source": [
        "# 🔥 도전과제:\n",
        "\n",
        "matplotlib는 좋은 시각화 라이브러리이지만, 유일한 시각화 라이브러리는 아닙니다.\n",
        "\n",
        "[plotly](https://plotly.com/) 나 [seaborn](http://seaborn.pydata.org/index.html), [bokeh](https://docs.bokeh.org/en/latest/index.html) 등 다른 시각화 라이브러리를 선택하여 앞에서 그렸던 신뢰구간을 해당 라이브러리를 선택하여 그려보세요."
      ]
    },
    {
      "cell_type": "code",
      "metadata": {
        "id": "u6kHd_NbjR2k",
        "colab_type": "code",
        "colab": {}
      },
      "source": [
        ""
      ],
      "execution_count": null,
      "outputs": []
    }
  ]
}