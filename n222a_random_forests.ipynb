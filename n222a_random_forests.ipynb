{
  "nbformat": 4,
  "nbformat_minor": 0,
  "metadata": {
    "kernelspec": {
      "display_name": "Python 3",
      "language": "python",
      "name": "python3"
    },
    "language_info": {
      "codemirror_mode": {
        "name": "ipython",
        "version": 3
      },
      "file_extension": ".py",
      "mimetype": "text/x-python",
      "name": "python",
      "nbconvert_exporter": "python",
      "pygments_lexer": "ipython3",
      "version": "3.7.7"
    },
    "colab": {
      "name": "n222a-random-forests.ipynb",
      "provenance": [],
      "collapsed_sections": []
    }
  },
  "cells": [
    {
      "cell_type": "markdown",
      "metadata": {
        "id": "8Qio4hLDN-al"
      },
      "source": [
        "<img align=\"right\" src=\"https://ds-cs-images.s3.ap-northeast-2.amazonaws.com/Codestates_Fulllogo_Color.png\" width=100>\n",
        "\n",
        "## *DATA SCIENCE / SECTION 2 / SPRINT 2 / NOTE 2*\n",
        "\n",
        "# 📝 Assignment\n",
        "---"
      ]
    },
    {
      "cell_type": "code",
      "metadata": {
        "id": "tGf0yqX5OOab"
      },
      "source": [
        "%%capture\n",
        "!pip install -q category_encoders"
      ],
      "execution_count": 1,
      "outputs": []
    },
    {
      "cell_type": "markdown",
      "metadata": {
        "id": "7IXUfiQ2UKj6"
      },
      "source": [
        "# 랜덤포레스트(Random Forests)\n",
        "\n",
        "### 1) 캐글 대회를 이어서 진행합니다. EDA, 데이터 전처리 부분을 업데이트 하세요.\n",
        "- EDA는 항상 완벽할 수 없지요 한 주간 계속 같은 데이터로 과제를 진행하므로 부족한 부분을 추가하거나 논하세요.\n",
        "- (지금은 feature engineering에 너무 시간을 들이지 마세요!)\n",
        "\n"
      ]
    },
    {
      "cell_type": "code",
      "metadata": {
        "id": "Bnx9gENAOa6f"
      },
      "source": [
        "import pandas as pd\n",
        "import numpy as np\n",
        "import matplotlib.pyplot as plt\n",
        "import seaborn as sns"
      ],
      "execution_count": 2,
      "outputs": []
    },
    {
      "cell_type": "code",
      "metadata": {
        "id": "bdKR7Qe7Oa88"
      },
      "source": [
        "# 데이터 불러오기\n",
        "target = \"vacc_h1n1_f\"\n",
        "train = pd.merge(pd.read_csv(\"train.csv\"), pd.read_csv(\"train_labels.csv\")[target], left_index=True, right_index=True)\n",
        "test = pd.read_csv(\"test.csv\")"
      ],
      "execution_count": 3,
      "outputs": []
    },
    {
      "cell_type": "code",
      "metadata": {
        "id": "sGfMBWdbN-an",
        "outputId": "db1edf34-4ceb-4783-97e4-b27bdd34e5ad",
        "colab": {
          "base_uri": "https://localhost:8080/",
          "height": 216
        }
      },
      "source": [
        "# 확인\n",
        "print(train.shape)\n",
        "train.tail(2)"
      ],
      "execution_count": 4,
      "outputs": [
        {
          "output_type": "stream",
          "text": [
            "(42154, 39)\n"
          ],
          "name": "stdout"
        },
        {
          "output_type": "execute_result",
          "data": {
            "text/html": [
              "<div>\n",
              "<style scoped>\n",
              "    .dataframe tbody tr th:only-of-type {\n",
              "        vertical-align: middle;\n",
              "    }\n",
              "\n",
              "    .dataframe tbody tr th {\n",
              "        vertical-align: top;\n",
              "    }\n",
              "\n",
              "    .dataframe thead th {\n",
              "        text-align: right;\n",
              "    }\n",
              "</style>\n",
              "<table border=\"1\" class=\"dataframe\">\n",
              "  <thead>\n",
              "    <tr style=\"text-align: right;\">\n",
              "      <th></th>\n",
              "      <th>h1n1_concern</th>\n",
              "      <th>h1n1_knowledge</th>\n",
              "      <th>behavioral_antiviral_meds</th>\n",
              "      <th>behavioral_avoidance</th>\n",
              "      <th>behavioral_face_mask</th>\n",
              "      <th>behavioral_wash_hands</th>\n",
              "      <th>behavioral_large_gatherings</th>\n",
              "      <th>behavioral_outside_home</th>\n",
              "      <th>behavioral_touch_face</th>\n",
              "      <th>doctor_recc_h1n1</th>\n",
              "      <th>doctor_recc_seasonal</th>\n",
              "      <th>chronic_med_condition</th>\n",
              "      <th>child_under_6_months</th>\n",
              "      <th>health_insurance</th>\n",
              "      <th>health_worker</th>\n",
              "      <th>opinion_h1n1_vacc_effective</th>\n",
              "      <th>opinion_h1n1_risk</th>\n",
              "      <th>opinion_h1n1_sick_from_vacc</th>\n",
              "      <th>opinion_seas_vacc_effective</th>\n",
              "      <th>opinion_seas_risk</th>\n",
              "      <th>opinion_seas_sick_from_vacc</th>\n",
              "      <th>agegrp</th>\n",
              "      <th>education_comp</th>\n",
              "      <th>raceeth4_i</th>\n",
              "      <th>sex_i</th>\n",
              "      <th>inc_pov</th>\n",
              "      <th>marital</th>\n",
              "      <th>rent_own_r</th>\n",
              "      <th>employment_status</th>\n",
              "      <th>census_region</th>\n",
              "      <th>census_msa</th>\n",
              "      <th>n_adult_r</th>\n",
              "      <th>household_children</th>\n",
              "      <th>n_people_r</th>\n",
              "      <th>employment_industry</th>\n",
              "      <th>employment_occupation</th>\n",
              "      <th>hhs_region</th>\n",
              "      <th>state</th>\n",
              "      <th>vacc_h1n1_f</th>\n",
              "    </tr>\n",
              "  </thead>\n",
              "  <tbody>\n",
              "    <tr>\n",
              "      <th>42152</th>\n",
              "      <td>2.0</td>\n",
              "      <td>2.0</td>\n",
              "      <td>0.0</td>\n",
              "      <td>1.0</td>\n",
              "      <td>0.0</td>\n",
              "      <td>1.0</td>\n",
              "      <td>1.0</td>\n",
              "      <td>0.0</td>\n",
              "      <td>1.0</td>\n",
              "      <td>NaN</td>\n",
              "      <td>NaN</td>\n",
              "      <td>0.0</td>\n",
              "      <td>0.0</td>\n",
              "      <td>NaN</td>\n",
              "      <td>1.0</td>\n",
              "      <td>Somewhat Effective</td>\n",
              "      <td>Somewhat High</td>\n",
              "      <td>Not At All Worried</td>\n",
              "      <td>Very Effective</td>\n",
              "      <td>Somewhat High</td>\n",
              "      <td>Not At All Worried</td>\n",
              "      <td>45 - 54 Years</td>\n",
              "      <td>4.0</td>\n",
              "      <td>3</td>\n",
              "      <td>2</td>\n",
              "      <td>1</td>\n",
              "      <td>1.0</td>\n",
              "      <td>1.0</td>\n",
              "      <td>Employed</td>\n",
              "      <td>3</td>\n",
              "      <td>Non-MSA</td>\n",
              "      <td>2.0</td>\n",
              "      <td>0.0</td>\n",
              "      <td>2.0</td>\n",
              "      <td>Health Care and Social Assistance Industries</td>\n",
              "      <td>Healthcare Practitioners and Technical Occupat...</td>\n",
              "      <td>4</td>\n",
              "      <td>GEORGIA</td>\n",
              "      <td>0</td>\n",
              "    </tr>\n",
              "    <tr>\n",
              "      <th>42153</th>\n",
              "      <td>NaN</td>\n",
              "      <td>NaN</td>\n",
              "      <td>NaN</td>\n",
              "      <td>NaN</td>\n",
              "      <td>NaN</td>\n",
              "      <td>NaN</td>\n",
              "      <td>NaN</td>\n",
              "      <td>NaN</td>\n",
              "      <td>NaN</td>\n",
              "      <td>1.0</td>\n",
              "      <td>1.0</td>\n",
              "      <td>0.0</td>\n",
              "      <td>NaN</td>\n",
              "      <td>1.0</td>\n",
              "      <td>NaN</td>\n",
              "      <td>NaN</td>\n",
              "      <td>NaN</td>\n",
              "      <td>NaN</td>\n",
              "      <td>NaN</td>\n",
              "      <td>NaN</td>\n",
              "      <td>NaN</td>\n",
              "      <td>6 Months - 9 Years</td>\n",
              "      <td>NaN</td>\n",
              "      <td>3</td>\n",
              "      <td>2</td>\n",
              "      <td>1</td>\n",
              "      <td>NaN</td>\n",
              "      <td>1.0</td>\n",
              "      <td>NaN</td>\n",
              "      <td>2</td>\n",
              "      <td>MSA, Not Principle City</td>\n",
              "      <td>2.0</td>\n",
              "      <td>1.0</td>\n",
              "      <td>3.0</td>\n",
              "      <td>NaN</td>\n",
              "      <td>NaN</td>\n",
              "      <td>5</td>\n",
              "      <td>WISCONSIN</td>\n",
              "      <td>0</td>\n",
              "    </tr>\n",
              "  </tbody>\n",
              "</table>\n",
              "</div>"
            ],
            "text/plain": [
              "       h1n1_concern  h1n1_knowledge  ...      state  vacc_h1n1_f\n",
              "42152           2.0             2.0  ...    GEORGIA            0\n",
              "42153           NaN             NaN  ...  WISCONSIN            0\n",
              "\n",
              "[2 rows x 39 columns]"
            ]
          },
          "metadata": {
            "tags": []
          },
          "execution_count": 4
        }
      ]
    },
    {
      "cell_type": "code",
      "metadata": {
        "id": "cFxPIaIjOyVS",
        "outputId": "79b24bde-d7f0-4bfd-f6fa-efa4ff51ff30",
        "colab": {
          "base_uri": "https://localhost:8080/",
          "height": 182
        }
      },
      "source": [
        "print(test.shape)\n",
        "test.tail(2)"
      ],
      "execution_count": 5,
      "outputs": [
        {
          "output_type": "stream",
          "text": [
            "(28104, 38)\n"
          ],
          "name": "stdout"
        },
        {
          "output_type": "execute_result",
          "data": {
            "text/html": [
              "<div>\n",
              "<style scoped>\n",
              "    .dataframe tbody tr th:only-of-type {\n",
              "        vertical-align: middle;\n",
              "    }\n",
              "\n",
              "    .dataframe tbody tr th {\n",
              "        vertical-align: top;\n",
              "    }\n",
              "\n",
              "    .dataframe thead th {\n",
              "        text-align: right;\n",
              "    }\n",
              "</style>\n",
              "<table border=\"1\" class=\"dataframe\">\n",
              "  <thead>\n",
              "    <tr style=\"text-align: right;\">\n",
              "      <th></th>\n",
              "      <th>h1n1_concern</th>\n",
              "      <th>h1n1_knowledge</th>\n",
              "      <th>behavioral_antiviral_meds</th>\n",
              "      <th>behavioral_avoidance</th>\n",
              "      <th>behavioral_face_mask</th>\n",
              "      <th>behavioral_wash_hands</th>\n",
              "      <th>behavioral_large_gatherings</th>\n",
              "      <th>behavioral_outside_home</th>\n",
              "      <th>behavioral_touch_face</th>\n",
              "      <th>doctor_recc_h1n1</th>\n",
              "      <th>doctor_recc_seasonal</th>\n",
              "      <th>chronic_med_condition</th>\n",
              "      <th>child_under_6_months</th>\n",
              "      <th>health_insurance</th>\n",
              "      <th>health_worker</th>\n",
              "      <th>opinion_h1n1_vacc_effective</th>\n",
              "      <th>opinion_h1n1_risk</th>\n",
              "      <th>opinion_h1n1_sick_from_vacc</th>\n",
              "      <th>opinion_seas_vacc_effective</th>\n",
              "      <th>opinion_seas_risk</th>\n",
              "      <th>opinion_seas_sick_from_vacc</th>\n",
              "      <th>agegrp</th>\n",
              "      <th>education_comp</th>\n",
              "      <th>raceeth4_i</th>\n",
              "      <th>sex_i</th>\n",
              "      <th>inc_pov</th>\n",
              "      <th>marital</th>\n",
              "      <th>rent_own_r</th>\n",
              "      <th>employment_status</th>\n",
              "      <th>census_region</th>\n",
              "      <th>census_msa</th>\n",
              "      <th>n_adult_r</th>\n",
              "      <th>household_children</th>\n",
              "      <th>n_people_r</th>\n",
              "      <th>employment_industry</th>\n",
              "      <th>employment_occupation</th>\n",
              "      <th>hhs_region</th>\n",
              "      <th>state</th>\n",
              "    </tr>\n",
              "  </thead>\n",
              "  <tbody>\n",
              "    <tr>\n",
              "      <th>28102</th>\n",
              "      <td>2.0</td>\n",
              "      <td>1.0</td>\n",
              "      <td>0.0</td>\n",
              "      <td>1.0</td>\n",
              "      <td>0.0</td>\n",
              "      <td>1.0</td>\n",
              "      <td>0.0</td>\n",
              "      <td>0.0</td>\n",
              "      <td>1.0</td>\n",
              "      <td>0.0</td>\n",
              "      <td>0.0</td>\n",
              "      <td>1.0</td>\n",
              "      <td>0.0</td>\n",
              "      <td>1.0</td>\n",
              "      <td>0.0</td>\n",
              "      <td>Somewhat Effective</td>\n",
              "      <td>Very High</td>\n",
              "      <td>Not At All Worried</td>\n",
              "      <td>Very Effective</td>\n",
              "      <td>Very High</td>\n",
              "      <td>Not At All Worried</td>\n",
              "      <td>35 - 44 Years</td>\n",
              "      <td>3.0</td>\n",
              "      <td>4</td>\n",
              "      <td>2</td>\n",
              "      <td>4</td>\n",
              "      <td>1.0</td>\n",
              "      <td>99.0</td>\n",
              "      <td>Employed</td>\n",
              "      <td>2</td>\n",
              "      <td>MSA, Principle City</td>\n",
              "      <td>2.0</td>\n",
              "      <td>2.0</td>\n",
              "      <td>4.0</td>\n",
              "      <td>Transportation and Warehousing Industries</td>\n",
              "      <td>Office and Administrative Support Occupations</td>\n",
              "      <td>7</td>\n",
              "      <td>NEBRASKA</td>\n",
              "    </tr>\n",
              "    <tr>\n",
              "      <th>28103</th>\n",
              "      <td>2.0</td>\n",
              "      <td>1.0</td>\n",
              "      <td>0.0</td>\n",
              "      <td>0.0</td>\n",
              "      <td>0.0</td>\n",
              "      <td>1.0</td>\n",
              "      <td>0.0</td>\n",
              "      <td>0.0</td>\n",
              "      <td>0.0</td>\n",
              "      <td>1.0</td>\n",
              "      <td>1.0</td>\n",
              "      <td>0.0</td>\n",
              "      <td>0.0</td>\n",
              "      <td>NaN</td>\n",
              "      <td>0.0</td>\n",
              "      <td>Somewhat Effective</td>\n",
              "      <td>Dont Know</td>\n",
              "      <td>Not Very Worried</td>\n",
              "      <td>Very Effective</td>\n",
              "      <td>Somewhat Low</td>\n",
              "      <td>Not Very Worried</td>\n",
              "      <td>55 - 64 Years</td>\n",
              "      <td>4.0</td>\n",
              "      <td>2</td>\n",
              "      <td>2</td>\n",
              "      <td>2</td>\n",
              "      <td>1.0</td>\n",
              "      <td>1.0</td>\n",
              "      <td>Not in Labor Force</td>\n",
              "      <td>3</td>\n",
              "      <td>Non-MSA</td>\n",
              "      <td>2.0</td>\n",
              "      <td>0.0</td>\n",
              "      <td>2.0</td>\n",
              "      <td>NaN</td>\n",
              "      <td>NaN</td>\n",
              "      <td>4</td>\n",
              "      <td>MISSISSIPPI</td>\n",
              "    </tr>\n",
              "  </tbody>\n",
              "</table>\n",
              "</div>"
            ],
            "text/plain": [
              "       h1n1_concern  h1n1_knowledge  ...  hhs_region        state\n",
              "28102           2.0             1.0  ...           7     NEBRASKA\n",
              "28103           2.0             1.0  ...           4  MISSISSIPPI\n",
              "\n",
              "[2 rows x 38 columns]"
            ]
          },
          "metadata": {
            "tags": []
          },
          "execution_count": 5
        }
      ]
    },
    {
      "cell_type": "code",
      "metadata": {
        "id": "qWhsmDu_Whux",
        "outputId": "3770c7e9-9929-4c92-ebef-5f905872515f",
        "colab": {
          "base_uri": "https://localhost:8080/",
          "height": 34
        }
      },
      "source": [
        "# train / validation 데이터셋 분리\n",
        "from sklearn.model_selection import train_test_split\n",
        "\n",
        "train, val = train_test_split(train, test_size=0.20, \n",
        "                              stratify=train[target], random_state=2)\n",
        "\n",
        "# 확인\n",
        "train.shape, val.shape, test.shape"
      ],
      "execution_count": 6,
      "outputs": [
        {
          "output_type": "execute_result",
          "data": {
            "text/plain": [
              "((33723, 39), (8431, 39), (28104, 38))"
            ]
          },
          "metadata": {
            "tags": []
          },
          "execution_count": 6
        }
      ]
    },
    {
      "cell_type": "code",
      "metadata": {
        "id": "0tiOH8s6WXZj",
        "outputId": "65c3d4ea-e988-4e5e-db1a-ba735a5db128",
        "colab": {
          "base_uri": "https://localhost:8080/",
          "height": 51
        }
      },
      "source": [
        "# feature Matrix / target vaector 분리\n",
        "features = train.drop(columns=[target]).columns\n",
        "\n",
        "X_train = train[features]\n",
        "y_train = train[target]\n",
        "\n",
        "X_val = val[features]\n",
        "y_val = val[target]\n",
        "\n",
        "X_test = test[features]\n",
        "\n",
        "# 확인\n",
        "print(\"feature Matrix: \", X_train.shape, X_val.shape, X_test.shape)\n",
        "print(\"target vector: \", y_train.shape, y_val.shape)"
      ],
      "execution_count": 7,
      "outputs": [
        {
          "output_type": "stream",
          "text": [
            "feature Matrix:  (33723, 38) (8431, 38) (28104, 38)\n",
            "target vector:  (33723,) (8431,)\n"
          ],
          "name": "stdout"
        }
      ]
    },
    {
      "cell_type": "markdown",
      "metadata": {
        "id": "xPum1FGXYHf4"
      },
      "source": [
        "#### 데이터 전처리"
      ]
    },
    {
      "cell_type": "code",
      "metadata": {
        "id": "o3AqJ70pO7li",
        "outputId": "5d74ffe0-ada3-44ad-cda5-8fa2fa32fda2",
        "colab": {
          "base_uri": "https://localhost:8080/",
          "height": 782
        }
      },
      "source": [
        "# 데이터 타입 및 결측치 확인\n",
        "X_train.info()"
      ],
      "execution_count": 8,
      "outputs": [
        {
          "output_type": "stream",
          "text": [
            "<class 'pandas.core.frame.DataFrame'>\n",
            "Int64Index: 33723 entries, 20365 to 30904\n",
            "Data columns (total 38 columns):\n",
            " #   Column                       Non-Null Count  Dtype  \n",
            "---  ------                       --------------  -----  \n",
            " 0   h1n1_concern                 26933 non-null  float64\n",
            " 1   h1n1_knowledge               26933 non-null  float64\n",
            " 2   behavioral_antiviral_meds    26853 non-null  float64\n",
            " 3   behavioral_avoidance         26731 non-null  float64\n",
            " 4   behavioral_face_mask         26913 non-null  float64\n",
            " 5   behavioral_wash_hands        26894 non-null  float64\n",
            " 6   behavioral_large_gatherings  26866 non-null  float64\n",
            " 7   behavioral_outside_home      26851 non-null  float64\n",
            " 8   behavioral_touch_face        26795 non-null  float64\n",
            " 9   doctor_recc_h1n1             32235 non-null  float64\n",
            " 10  doctor_recc_seasonal         32235 non-null  float64\n",
            " 11  chronic_med_condition        32648 non-null  float64\n",
            " 12  child_under_6_months         26106 non-null  float64\n",
            " 13  health_insurance             18218 non-null  float64\n",
            " 14  health_worker                26120 non-null  float64\n",
            " 15  opinion_h1n1_vacc_effective  26637 non-null  object \n",
            " 16  opinion_h1n1_risk            26602 non-null  object \n",
            " 17  opinion_h1n1_sick_from_vacc  26568 non-null  object \n",
            " 18  opinion_seas_vacc_effective  26519 non-null  object \n",
            " 19  opinion_seas_risk            26466 non-null  object \n",
            " 20  opinion_seas_sick_from_vacc  26413 non-null  object \n",
            " 21  agegrp                       33723 non-null  object \n",
            " 22  education_comp               25540 non-null  float64\n",
            " 23  raceeth4_i                   33723 non-null  int64  \n",
            " 24  sex_i                        33723 non-null  int64  \n",
            " 25  inc_pov                      33723 non-null  int64  \n",
            " 26  marital                      25524 non-null  float64\n",
            " 27  rent_own_r                   31959 non-null  float64\n",
            " 28  employment_status            25466 non-null  object \n",
            " 29  census_region                33723 non-null  int64  \n",
            " 30  census_msa                   33723 non-null  object \n",
            " 31  n_adult_r                    33482 non-null  float64\n",
            " 32  household_children           33482 non-null  float64\n",
            " 33  n_people_r                   33618 non-null  float64\n",
            " 34  employment_industry          13714 non-null  object \n",
            " 35  employment_occupation        13714 non-null  object \n",
            " 36  hhs_region                   33723 non-null  int64  \n",
            " 37  state                        33723 non-null  object \n",
            "dtypes: float64(21), int64(5), object(12)\n",
            "memory usage: 10.0+ MB\n"
          ],
          "name": "stdout"
        }
      ]
    },
    {
      "cell_type": "markdown",
      "metadata": {
        "id": "FCKVX24xPHF3"
      },
      "source": [
        "데이터 설명과 info를 참고하여 타입 정리\n",
        "\n",
        "- 순서가 있는 categorical data\n",
        "    - 숫자형\n",
        "      \n",
        "      `h1n1_concern`, `h1n1_knowledge`, `education_comp`, `inc_pov`\n",
        "\n",
        "    - 문자형\n",
        "\n",
        "       `opinion_h1n1_vacc_effective`, `opinion_h1n1_risk`, `opinion_h1n1_sick_from_vacc`, `opinion_seas_vacc_effective`, `opinion_seas_sick_from_vacc`, `agegrp`\n",
        "\n",
        "- 순서가 없는 categorical data\n",
        "  - 숫자형\n",
        "      \n",
        "      `raceeth4_i`, `sex_i`, `marital`, `rent_own_r`, `census_region`, `hhs_region`\n",
        "\n",
        "  - 문자형\n",
        "\n",
        "     `census_msa`, `employment_status`, `employment_industry`, `employment_occupation`, `state`\n",
        "\n",
        "- numeric data\n",
        "\n",
        "  `n_adult_r`, `household_children`, `n_people_r`, \n",
        "\n",
        "\n",
        "- 나머지는 binary\n",
        "\n",
        "___\n",
        "tree 모델을 만들 것이기 때문에 ordinal encoding을 하여도 괜찮다. 따라서 데이터 타입을 따로 변경하지는 않았다."
      ]
    },
    {
      "cell_type": "markdown",
      "metadata": {
        "id": "FQg9wcyuX852"
      },
      "source": [
        "결측치 처리\n",
        "\n",
        "데이터셋에 대한 설명에 따르면, 위 데이터셋에는 categorical data가 많다. 같은 숫자형이라고 해도 `n_adult_r`, `household_children`, `n_people_r`를 제외하면 모두 categorical, binary data이므로 평균을 내는 게 의미가 없다.일괄적으로 최빈값으로 결측치를 대체하기로 하였다."
      ]
    },
    {
      "cell_type": "code",
      "metadata": {
        "id": "QrbH3i7zbUiY"
      },
      "source": [
        "# 결측치 최빈값으로 대체\n",
        "from sklearn.impute import SimpleImputer\n",
        "\n",
        "# imputer 생성\n",
        "imputer = SimpleImputer(strategy=\"most_frequent\")\n",
        "\n",
        "# imputer 적용\n",
        "X_train = imputer.fit_transform(X_train)\n",
        "X_val = imputer.transform(X_val)\n",
        "X_test = imputer.transform(X_test)"
      ],
      "execution_count": 9,
      "outputs": []
    },
    {
      "cell_type": "code",
      "metadata": {
        "id": "D34vnisadzWf"
      },
      "source": [
        "# 데이터프레임으로 다시 변경\n",
        "X_train = pd.DataFrame(X_train, columns=features)\n",
        "X_val = pd.DataFrame(X_val, columns=features)\n",
        "X_test = pd.DataFrame(X_test, columns=features)"
      ],
      "execution_count": 10,
      "outputs": []
    },
    {
      "cell_type": "code",
      "metadata": {
        "id": "FtAuxcZle8AI",
        "outputId": "3d982aae-b605-49b9-aa73-6a7d8a5a384f",
        "colab": {
          "base_uri": "https://localhost:8080/",
          "height": 68
        }
      },
      "source": [
        "# 결측치 확인\n",
        "print(X_train.isnull().sum()[X_train.isnull().sum() != 0])\n",
        "print(X_val.isnull().sum()[X_val.isnull().sum() != 0])\n",
        "print(X_test.isnull().sum()[X_test.isnull().sum() != 0])\n",
        "\n",
        "# 모두 제거되었다."
      ],
      "execution_count": 11,
      "outputs": [
        {
          "output_type": "stream",
          "text": [
            "Series([], dtype: int64)\n",
            "Series([], dtype: int64)\n",
            "Series([], dtype: int64)\n"
          ],
          "name": "stdout"
        }
      ]
    },
    {
      "cell_type": "code",
      "metadata": {
        "id": "dLlQSr1xSzVO"
      },
      "source": [
        "# 새로운 특성 생성 및 컬럼 삭제\n",
        "\n",
        "def engineering(df):\n",
        "\n",
        "  # 1) 컬럼 추가: behaviorals중에 해당하는 항목의 수\n",
        "  behaviorals = [ col for col in train.columns if \"behaviorals\" in col]\n",
        "  df[\"behaviorals\"] = df[behaviorals].sum(axis=1)\n",
        "\n",
        "  # 2) 컬럼 추가: 가구의 구성원 수에서 아동의 수가 차지하는 비율\n",
        "  df[\"children_ratio\"] = df[\"household_children\"]/df[\"n_people_r\"]\n",
        "\n",
        "  # 3) 컬럼 삭제: employment가 포함된 컬럼 (결측치가 절반 이상이라 결측치를 어떻게 채워도 정확한 값이 안나올 것 같음)\n",
        "  dels = [col for col in df.columns if ('employment' in col)]\n",
        "  df.drop(columns=dels, inplace=True)\n",
        "\n",
        "  return df"
      ],
      "execution_count": 12,
      "outputs": []
    },
    {
      "cell_type": "code",
      "metadata": {
        "id": "aIquEWEGfwwO"
      },
      "source": [
        "# 함수 적용\n",
        "X_train = engineering(X_train)\n",
        "X_val = engineering(X_val)\n",
        "X_test = engineering(X_test)"
      ],
      "execution_count": 13,
      "outputs": []
    },
    {
      "cell_type": "code",
      "metadata": {
        "id": "wkxqHFlqT-G6",
        "outputId": "9c0625df-a691-4b11-bede-26a3b319efa1",
        "colab": {
          "base_uri": "https://localhost:8080/",
          "height": 165
        }
      },
      "source": [
        "# 결과 확인\n",
        "X_train.head(2)"
      ],
      "execution_count": 14,
      "outputs": [
        {
          "output_type": "execute_result",
          "data": {
            "text/html": [
              "<div>\n",
              "<style scoped>\n",
              "    .dataframe tbody tr th:only-of-type {\n",
              "        vertical-align: middle;\n",
              "    }\n",
              "\n",
              "    .dataframe tbody tr th {\n",
              "        vertical-align: top;\n",
              "    }\n",
              "\n",
              "    .dataframe thead th {\n",
              "        text-align: right;\n",
              "    }\n",
              "</style>\n",
              "<table border=\"1\" class=\"dataframe\">\n",
              "  <thead>\n",
              "    <tr style=\"text-align: right;\">\n",
              "      <th></th>\n",
              "      <th>h1n1_concern</th>\n",
              "      <th>h1n1_knowledge</th>\n",
              "      <th>behavioral_antiviral_meds</th>\n",
              "      <th>behavioral_avoidance</th>\n",
              "      <th>behavioral_face_mask</th>\n",
              "      <th>behavioral_wash_hands</th>\n",
              "      <th>behavioral_large_gatherings</th>\n",
              "      <th>behavioral_outside_home</th>\n",
              "      <th>behavioral_touch_face</th>\n",
              "      <th>doctor_recc_h1n1</th>\n",
              "      <th>doctor_recc_seasonal</th>\n",
              "      <th>chronic_med_condition</th>\n",
              "      <th>child_under_6_months</th>\n",
              "      <th>health_insurance</th>\n",
              "      <th>health_worker</th>\n",
              "      <th>opinion_h1n1_vacc_effective</th>\n",
              "      <th>opinion_h1n1_risk</th>\n",
              "      <th>opinion_h1n1_sick_from_vacc</th>\n",
              "      <th>opinion_seas_vacc_effective</th>\n",
              "      <th>opinion_seas_risk</th>\n",
              "      <th>opinion_seas_sick_from_vacc</th>\n",
              "      <th>agegrp</th>\n",
              "      <th>education_comp</th>\n",
              "      <th>raceeth4_i</th>\n",
              "      <th>sex_i</th>\n",
              "      <th>inc_pov</th>\n",
              "      <th>marital</th>\n",
              "      <th>rent_own_r</th>\n",
              "      <th>census_region</th>\n",
              "      <th>census_msa</th>\n",
              "      <th>n_adult_r</th>\n",
              "      <th>household_children</th>\n",
              "      <th>n_people_r</th>\n",
              "      <th>hhs_region</th>\n",
              "      <th>state</th>\n",
              "      <th>behaviorals</th>\n",
              "      <th>children_ratio</th>\n",
              "    </tr>\n",
              "  </thead>\n",
              "  <tbody>\n",
              "    <tr>\n",
              "      <th>0</th>\n",
              "      <td>1</td>\n",
              "      <td>1</td>\n",
              "      <td>0</td>\n",
              "      <td>0</td>\n",
              "      <td>0</td>\n",
              "      <td>0</td>\n",
              "      <td>0</td>\n",
              "      <td>0</td>\n",
              "      <td>0</td>\n",
              "      <td>0</td>\n",
              "      <td>0</td>\n",
              "      <td>1</td>\n",
              "      <td>0</td>\n",
              "      <td>1</td>\n",
              "      <td>0</td>\n",
              "      <td>Somewhat Effective</td>\n",
              "      <td>Somewhat Low</td>\n",
              "      <td>Not At All Worried</td>\n",
              "      <td>Very Effective</td>\n",
              "      <td>Somewhat Low</td>\n",
              "      <td>Not At All Worried</td>\n",
              "      <td>18 - 34 Years</td>\n",
              "      <td>4</td>\n",
              "      <td>3</td>\n",
              "      <td>1</td>\n",
              "      <td>1</td>\n",
              "      <td>2</td>\n",
              "      <td>1</td>\n",
              "      <td>1</td>\n",
              "      <td>MSA, Not Principle City</td>\n",
              "      <td>4</td>\n",
              "      <td>0</td>\n",
              "      <td>4</td>\n",
              "      <td>2</td>\n",
              "      <td>NEW JERSEY</td>\n",
              "      <td>0.0</td>\n",
              "      <td>0</td>\n",
              "    </tr>\n",
              "    <tr>\n",
              "      <th>1</th>\n",
              "      <td>1</td>\n",
              "      <td>1</td>\n",
              "      <td>0</td>\n",
              "      <td>1</td>\n",
              "      <td>0</td>\n",
              "      <td>1</td>\n",
              "      <td>1</td>\n",
              "      <td>1</td>\n",
              "      <td>1</td>\n",
              "      <td>1</td>\n",
              "      <td>1</td>\n",
              "      <td>0</td>\n",
              "      <td>0</td>\n",
              "      <td>1</td>\n",
              "      <td>0</td>\n",
              "      <td>Somewhat Effective</td>\n",
              "      <td>Somewhat High</td>\n",
              "      <td>Not Very Worried</td>\n",
              "      <td>Somewhat Effective</td>\n",
              "      <td>Somewhat Low</td>\n",
              "      <td>Not Very Worried</td>\n",
              "      <td>35 - 44 Years</td>\n",
              "      <td>2</td>\n",
              "      <td>3</td>\n",
              "      <td>2</td>\n",
              "      <td>3</td>\n",
              "      <td>2</td>\n",
              "      <td>2</td>\n",
              "      <td>2</td>\n",
              "      <td>Non-MSA</td>\n",
              "      <td>2</td>\n",
              "      <td>2</td>\n",
              "      <td>4</td>\n",
              "      <td>7</td>\n",
              "      <td>IOWA</td>\n",
              "      <td>0.0</td>\n",
              "      <td>0.5</td>\n",
              "    </tr>\n",
              "  </tbody>\n",
              "</table>\n",
              "</div>"
            ],
            "text/plain": [
              "  h1n1_concern h1n1_knowledge  ... behaviorals children_ratio\n",
              "0            1              1  ...         0.0              0\n",
              "1            1              1  ...         0.0            0.5\n",
              "\n",
              "[2 rows x 37 columns]"
            ]
          },
          "metadata": {
            "tags": []
          },
          "execution_count": 14
        }
      ]
    },
    {
      "cell_type": "code",
      "metadata": {
        "id": "FeSCF8eOUHTX",
        "outputId": "272c2e35-12fd-49be-f6de-8a745d605ee7",
        "colab": {
          "base_uri": "https://localhost:8080/",
          "height": 199
        }
      },
      "source": [
        "X_val.head(2)"
      ],
      "execution_count": 15,
      "outputs": [
        {
          "output_type": "execute_result",
          "data": {
            "text/html": [
              "<div>\n",
              "<style scoped>\n",
              "    .dataframe tbody tr th:only-of-type {\n",
              "        vertical-align: middle;\n",
              "    }\n",
              "\n",
              "    .dataframe tbody tr th {\n",
              "        vertical-align: top;\n",
              "    }\n",
              "\n",
              "    .dataframe thead th {\n",
              "        text-align: right;\n",
              "    }\n",
              "</style>\n",
              "<table border=\"1\" class=\"dataframe\">\n",
              "  <thead>\n",
              "    <tr style=\"text-align: right;\">\n",
              "      <th></th>\n",
              "      <th>h1n1_concern</th>\n",
              "      <th>h1n1_knowledge</th>\n",
              "      <th>behavioral_antiviral_meds</th>\n",
              "      <th>behavioral_avoidance</th>\n",
              "      <th>behavioral_face_mask</th>\n",
              "      <th>behavioral_wash_hands</th>\n",
              "      <th>behavioral_large_gatherings</th>\n",
              "      <th>behavioral_outside_home</th>\n",
              "      <th>behavioral_touch_face</th>\n",
              "      <th>doctor_recc_h1n1</th>\n",
              "      <th>doctor_recc_seasonal</th>\n",
              "      <th>chronic_med_condition</th>\n",
              "      <th>child_under_6_months</th>\n",
              "      <th>health_insurance</th>\n",
              "      <th>health_worker</th>\n",
              "      <th>opinion_h1n1_vacc_effective</th>\n",
              "      <th>opinion_h1n1_risk</th>\n",
              "      <th>opinion_h1n1_sick_from_vacc</th>\n",
              "      <th>opinion_seas_vacc_effective</th>\n",
              "      <th>opinion_seas_risk</th>\n",
              "      <th>opinion_seas_sick_from_vacc</th>\n",
              "      <th>agegrp</th>\n",
              "      <th>education_comp</th>\n",
              "      <th>raceeth4_i</th>\n",
              "      <th>sex_i</th>\n",
              "      <th>inc_pov</th>\n",
              "      <th>marital</th>\n",
              "      <th>rent_own_r</th>\n",
              "      <th>census_region</th>\n",
              "      <th>census_msa</th>\n",
              "      <th>n_adult_r</th>\n",
              "      <th>household_children</th>\n",
              "      <th>n_people_r</th>\n",
              "      <th>hhs_region</th>\n",
              "      <th>state</th>\n",
              "      <th>behaviorals</th>\n",
              "      <th>children_ratio</th>\n",
              "    </tr>\n",
              "  </thead>\n",
              "  <tbody>\n",
              "    <tr>\n",
              "      <th>0</th>\n",
              "      <td>2</td>\n",
              "      <td>1</td>\n",
              "      <td>0</td>\n",
              "      <td>1</td>\n",
              "      <td>0</td>\n",
              "      <td>1</td>\n",
              "      <td>0</td>\n",
              "      <td>0</td>\n",
              "      <td>1</td>\n",
              "      <td>0</td>\n",
              "      <td>0</td>\n",
              "      <td>1</td>\n",
              "      <td>0</td>\n",
              "      <td>1</td>\n",
              "      <td>0</td>\n",
              "      <td>Somewhat Effective</td>\n",
              "      <td>Somewhat Low</td>\n",
              "      <td>Not Very Worried</td>\n",
              "      <td>Somewhat Effective</td>\n",
              "      <td>Somewhat Low</td>\n",
              "      <td>Not At All Worried</td>\n",
              "      <td>6 Months - 9 Years</td>\n",
              "      <td>4</td>\n",
              "      <td>3</td>\n",
              "      <td>1</td>\n",
              "      <td>1</td>\n",
              "      <td>1</td>\n",
              "      <td>1</td>\n",
              "      <td>3</td>\n",
              "      <td>MSA, Not Principle City</td>\n",
              "      <td>2</td>\n",
              "      <td>2</td>\n",
              "      <td>4</td>\n",
              "      <td>6</td>\n",
              "      <td>OKLAHOMA</td>\n",
              "      <td>0.0</td>\n",
              "      <td>0.5</td>\n",
              "    </tr>\n",
              "    <tr>\n",
              "      <th>1</th>\n",
              "      <td>1</td>\n",
              "      <td>2</td>\n",
              "      <td>0</td>\n",
              "      <td>1</td>\n",
              "      <td>0</td>\n",
              "      <td>1</td>\n",
              "      <td>0</td>\n",
              "      <td>0</td>\n",
              "      <td>1</td>\n",
              "      <td>0</td>\n",
              "      <td>0</td>\n",
              "      <td>0</td>\n",
              "      <td>0</td>\n",
              "      <td>1</td>\n",
              "      <td>1</td>\n",
              "      <td>Dont Know</td>\n",
              "      <td>Somewhat Low</td>\n",
              "      <td>Not At All Worried</td>\n",
              "      <td>Very Effective</td>\n",
              "      <td>Somewhat High</td>\n",
              "      <td>Not At All Worried</td>\n",
              "      <td>65+ Years</td>\n",
              "      <td>4</td>\n",
              "      <td>3</td>\n",
              "      <td>2</td>\n",
              "      <td>2</td>\n",
              "      <td>1</td>\n",
              "      <td>1</td>\n",
              "      <td>2</td>\n",
              "      <td>Non-MSA</td>\n",
              "      <td>2</td>\n",
              "      <td>0</td>\n",
              "      <td>2</td>\n",
              "      <td>7</td>\n",
              "      <td>NEBRASKA</td>\n",
              "      <td>0.0</td>\n",
              "      <td>0</td>\n",
              "    </tr>\n",
              "  </tbody>\n",
              "</table>\n",
              "</div>"
            ],
            "text/plain": [
              "  h1n1_concern h1n1_knowledge  ... behaviorals children_ratio\n",
              "0            2              1  ...         0.0            0.5\n",
              "1            1              2  ...         0.0              0\n",
              "\n",
              "[2 rows x 37 columns]"
            ]
          },
          "metadata": {
            "tags": []
          },
          "execution_count": 15
        }
      ]
    },
    {
      "cell_type": "code",
      "metadata": {
        "id": "sOtrkuUNf_BU",
        "outputId": "26dbd0f1-7f7d-4742-b589-0e86aad42afd",
        "colab": {
          "base_uri": "https://localhost:8080/",
          "height": 165
        }
      },
      "source": [
        "X_test.head(2)"
      ],
      "execution_count": 16,
      "outputs": [
        {
          "output_type": "execute_result",
          "data": {
            "text/html": [
              "<div>\n",
              "<style scoped>\n",
              "    .dataframe tbody tr th:only-of-type {\n",
              "        vertical-align: middle;\n",
              "    }\n",
              "\n",
              "    .dataframe tbody tr th {\n",
              "        vertical-align: top;\n",
              "    }\n",
              "\n",
              "    .dataframe thead th {\n",
              "        text-align: right;\n",
              "    }\n",
              "</style>\n",
              "<table border=\"1\" class=\"dataframe\">\n",
              "  <thead>\n",
              "    <tr style=\"text-align: right;\">\n",
              "      <th></th>\n",
              "      <th>h1n1_concern</th>\n",
              "      <th>h1n1_knowledge</th>\n",
              "      <th>behavioral_antiviral_meds</th>\n",
              "      <th>behavioral_avoidance</th>\n",
              "      <th>behavioral_face_mask</th>\n",
              "      <th>behavioral_wash_hands</th>\n",
              "      <th>behavioral_large_gatherings</th>\n",
              "      <th>behavioral_outside_home</th>\n",
              "      <th>behavioral_touch_face</th>\n",
              "      <th>doctor_recc_h1n1</th>\n",
              "      <th>doctor_recc_seasonal</th>\n",
              "      <th>chronic_med_condition</th>\n",
              "      <th>child_under_6_months</th>\n",
              "      <th>health_insurance</th>\n",
              "      <th>health_worker</th>\n",
              "      <th>opinion_h1n1_vacc_effective</th>\n",
              "      <th>opinion_h1n1_risk</th>\n",
              "      <th>opinion_h1n1_sick_from_vacc</th>\n",
              "      <th>opinion_seas_vacc_effective</th>\n",
              "      <th>opinion_seas_risk</th>\n",
              "      <th>opinion_seas_sick_from_vacc</th>\n",
              "      <th>agegrp</th>\n",
              "      <th>education_comp</th>\n",
              "      <th>raceeth4_i</th>\n",
              "      <th>sex_i</th>\n",
              "      <th>inc_pov</th>\n",
              "      <th>marital</th>\n",
              "      <th>rent_own_r</th>\n",
              "      <th>census_region</th>\n",
              "      <th>census_msa</th>\n",
              "      <th>n_adult_r</th>\n",
              "      <th>household_children</th>\n",
              "      <th>n_people_r</th>\n",
              "      <th>hhs_region</th>\n",
              "      <th>state</th>\n",
              "      <th>behaviorals</th>\n",
              "      <th>children_ratio</th>\n",
              "    </tr>\n",
              "  </thead>\n",
              "  <tbody>\n",
              "    <tr>\n",
              "      <th>0</th>\n",
              "      <td>0</td>\n",
              "      <td>1</td>\n",
              "      <td>0</td>\n",
              "      <td>0</td>\n",
              "      <td>0</td>\n",
              "      <td>0</td>\n",
              "      <td>0</td>\n",
              "      <td>0</td>\n",
              "      <td>0</td>\n",
              "      <td>0</td>\n",
              "      <td>0</td>\n",
              "      <td>1</td>\n",
              "      <td>0</td>\n",
              "      <td>0</td>\n",
              "      <td>1</td>\n",
              "      <td>Not At All Effective</td>\n",
              "      <td>Very Low</td>\n",
              "      <td>Not At All Worried</td>\n",
              "      <td>Not At All Effective</td>\n",
              "      <td>Very Low</td>\n",
              "      <td>Not At All Worried</td>\n",
              "      <td>18 - 34 Years</td>\n",
              "      <td>1</td>\n",
              "      <td>3</td>\n",
              "      <td>2</td>\n",
              "      <td>2</td>\n",
              "      <td>2</td>\n",
              "      <td>1</td>\n",
              "      <td>2</td>\n",
              "      <td>MSA, Not Principle City</td>\n",
              "      <td>2</td>\n",
              "      <td>0</td>\n",
              "      <td>2</td>\n",
              "      <td>7</td>\n",
              "      <td>KANSAS</td>\n",
              "      <td>0.0</td>\n",
              "      <td>0</td>\n",
              "    </tr>\n",
              "    <tr>\n",
              "      <th>1</th>\n",
              "      <td>3</td>\n",
              "      <td>0</td>\n",
              "      <td>0</td>\n",
              "      <td>0</td>\n",
              "      <td>1</td>\n",
              "      <td>1</td>\n",
              "      <td>1</td>\n",
              "      <td>0</td>\n",
              "      <td>0</td>\n",
              "      <td>0</td>\n",
              "      <td>0</td>\n",
              "      <td>0</td>\n",
              "      <td>0</td>\n",
              "      <td>1</td>\n",
              "      <td>0</td>\n",
              "      <td>Dont Know</td>\n",
              "      <td>Dont Know</td>\n",
              "      <td>Dont Know</td>\n",
              "      <td>Dont Know</td>\n",
              "      <td>Dont Know</td>\n",
              "      <td>Dont Know</td>\n",
              "      <td>55 - 64 Years</td>\n",
              "      <td>4</td>\n",
              "      <td>3</td>\n",
              "      <td>1</td>\n",
              "      <td>4</td>\n",
              "      <td>1</td>\n",
              "      <td>1</td>\n",
              "      <td>3</td>\n",
              "      <td>MSA, Principle City</td>\n",
              "      <td>1</td>\n",
              "      <td>0</td>\n",
              "      <td>1</td>\n",
              "      <td>6</td>\n",
              "      <td>LOUISIANA</td>\n",
              "      <td>0.0</td>\n",
              "      <td>0</td>\n",
              "    </tr>\n",
              "  </tbody>\n",
              "</table>\n",
              "</div>"
            ],
            "text/plain": [
              "  h1n1_concern h1n1_knowledge  ... behaviorals children_ratio\n",
              "0            0              1  ...         0.0              0\n",
              "1            3              0  ...         0.0              0\n",
              "\n",
              "[2 rows x 37 columns]"
            ]
          },
          "metadata": {
            "tags": []
          },
          "execution_count": 16
        }
      ]
    },
    {
      "cell_type": "markdown",
      "metadata": {
        "id": "a3h9kIjS56zy"
      },
      "source": [
        "#### EDA\n",
        "\n",
        "어제 살펴보지 않은 항목 위주\n",
        "- 지역\n",
        "- 가족 구성원"
      ]
    },
    {
      "cell_type": "code",
      "metadata": {
        "id": "gf3ptp5K6Igj",
        "outputId": "c5dca368-a6f3-4a5a-f8d4-0f310abae762",
        "colab": {
          "base_uri": "https://localhost:8080/",
          "height": 280
        }
      },
      "source": [
        "# hhs_region\n",
        "sns.countplot(x=\"hhs_region\", data=X_train)\n",
        "plt.show();"
      ],
      "execution_count": 17,
      "outputs": [
        {
          "output_type": "display_data",
          "data": {
            "image/png": "[encoded data removed]",
            "text/plain": [
              "<Figure size 432x288 with 1 Axes>"
            ]
          },
          "metadata": {
            "tags": [],
            "needs_background": "light"
          }
        }
      ]
    },
    {
      "cell_type": "markdown",
      "metadata": {
        "id": "iOCaYJwb60KL"
      },
      "source": [
        "각 지역의 인구 수가 대체로 비슷하나, 2번 지역(NJ,NY)만 매우 작았다."
      ]
    },
    {
      "cell_type": "code",
      "metadata": {
        "id": "9z6f7Din7C6y",
        "outputId": "ffd1810f-8d22-46bb-a2a1-fe0899ea7ab7",
        "colab": {
          "base_uri": "https://localhost:8080/",
          "height": 271
        }
      },
      "source": [
        "# n_people_r, n_adult_r\n",
        "plt.figure(figsize=(15, 5))\n",
        "\n",
        "plt.subplot(121)\n",
        "sns.countplot(x=\"n_people_r\", data=train)\n",
        "\n",
        "plt.subplot(122)\n",
        "sns.countplot(x=\"n_adult_r\", data=train)\n",
        "plt.show();"
      ],
      "execution_count": 18,
      "outputs": [
        {
          "output_type": "display_data",
          "data": {
            "image/png": "[encoded data removed]",
            "text/plain": [
              "<Figure size 1080x360 with 2 Axes>"
            ]
          },
          "metadata": {
            "tags": [],
            "needs_background": "light"
          }
        }
      ]
    },
    {
      "cell_type": "markdown",
      "metadata": {
        "id": "A_gZ9WFo7lSq"
      },
      "source": [
        "가구의 구성원 수가 5명 이상인 경우는 있는데, 가구의 어른 수가 5명 이상인 경우는 없는 것으로 보아 5명 이상인 가구는 아이와 함께 산다고 추측할 수 있다."
      ]
    },
    {
      "cell_type": "code",
      "metadata": {
        "id": "DzE4QKA978Px",
        "outputId": "8dae4497-74e9-4e19-f063-433608f19384",
        "colab": {
          "base_uri": "https://localhost:8080/",
          "height": 315
        }
      },
      "source": [
        "plt.figure(figsize=(15, 6))\n",
        "sns.countplot(x=\"n_people_r\", data=train, hue=\"agegrp\")\n",
        "plt.show();"
      ],
      "execution_count": 19,
      "outputs": [
        {
          "output_type": "display_data",
          "data": {
            "image/png": "[encoded data removed]",
            "text/plain": [
              "<Figure size 1080x432 with 1 Axes>"
            ]
          },
          "metadata": {
            "tags": [],
            "needs_background": "light"
          }
        }
      ]
    },
    {
      "cell_type": "markdown",
      "metadata": {
        "id": "0hP3gt3K8MQk"
      },
      "source": [
        "어제 tree model을 만들었을 때 특성 중요도에서 연령대가 65세 이상 여부가 포함되어 있었다. 그래서 오늘 연령대별 가구 구성원 수를 살펴봤는데, 65세 이상의 가구 구성원 수는 대부분 1명 또는 2명이었다."
      ]
    },
    {
      "cell_type": "markdown",
      "metadata": {
        "id": "8sZUXiZjN-ar"
      },
      "source": [
        "### 2) Ordinal Encoding을 적용해 보세요.\n"
      ]
    },
    {
      "cell_type": "code",
      "metadata": {
        "id": "V_LZOWvvhlc-",
        "outputId": "1e1eb6f2-0373-4136-a16a-1e69dfddb9c0",
        "colab": {
          "base_uri": "https://localhost:8080/",
          "height": 71
        }
      },
      "source": [
        "from category_encoders import OrdinalEncoder\n",
        "\n",
        "# 인코더 생성\n",
        "encoder_ordinal = OrdinalEncoder()\n",
        "\n",
        "# 인코더 적용\n",
        "X_train_ordinal = encoder_ordinal.fit_transform(X_train)\n",
        "X_val_ordinal = encoder_ordinal.transform(X_val)\n",
        "X_test_ordinal = encoder_ordinal.transform(X_test)"
      ],
      "execution_count": 20,
      "outputs": [
        {
          "output_type": "stream",
          "text": [
            "/usr/local/lib/python3.6/dist-packages/statsmodels/tools/_testing.py:19: FutureWarning: pandas.util.testing is deprecated. Use the functions in the public API at pandas.testing instead.\n",
            "  import pandas.util.testing as tm\n"
          ],
          "name": "stderr"
        }
      ]
    },
    {
      "cell_type": "code",
      "metadata": {
        "id": "jGeqMqbfiEV5",
        "outputId": "361ed214-fd5f-4206-ff16-1afb0413aaf7",
        "colab": {
          "base_uri": "https://localhost:8080/",
          "height": 85
        }
      },
      "source": [
        "# 크기 비교\n",
        "print(\"before encoding\")\n",
        "print(X_train.shape, X_val.shape, X_test.shape)\n",
        "\n",
        "print(\"after encoding\")\n",
        "print(X_train_ordinal.shape, X_val_ordinal.shape, X_test_ordinal.shape)\n",
        "\n",
        "# 크기가 동일하다"
      ],
      "execution_count": 21,
      "outputs": [
        {
          "output_type": "stream",
          "text": [
            "before encoding\n",
            "(33723, 37) (8431, 37) (28104, 37)\n",
            "after encoding\n",
            "(33723, 37) (8431, 37) (28104, 37)\n"
          ],
          "name": "stdout"
        }
      ]
    },
    {
      "cell_type": "code",
      "metadata": {
        "id": "w7vJRg5yiwyn",
        "outputId": "fab5a389-9661-4edc-bc90-c8dde9826cc6",
        "colab": {
          "base_uri": "https://localhost:8080/",
          "height": 187
        }
      },
      "source": [
        "# 매핑 결과 일부만 확인\n",
        "encoder_ordinal.category_mapping[15]\n",
        "\n",
        "# \"opinion_h1n1_risk\"의 각 범주가 숫자로 매핑되었음을 확인할 수 있다."
      ],
      "execution_count": 22,
      "outputs": [
        {
          "output_type": "execute_result",
          "data": {
            "text/plain": [
              "{'col': 'opinion_h1n1_vacc_effective',\n",
              " 'data_type': dtype('O'),\n",
              " 'mapping': Somewhat Effective      1\n",
              " Not Very Effective      2\n",
              " Very Effective          3\n",
              " Not At All Effective    4\n",
              " Dont Know               5\n",
              " Refused                 6\n",
              " NaN                    -2\n",
              " dtype: int64}"
            ]
          },
          "metadata": {
            "tags": []
          },
          "execution_count": 22
        }
      ]
    },
    {
      "cell_type": "markdown",
      "metadata": {
        "id": "-X8yjzoRN-av"
      },
      "source": [
        "### 3) (도전과제🔥) 수업에 사용하지 않은 다른 종류의 [category_encoders](http://contrib.scikit-learn.org/category_encoders/)을 적용해 보고 인코더에 대해 설명하세요\n",
        "\n"
      ]
    },
    {
      "cell_type": "code",
      "metadata": {
        "id": "F7ID4wF-N-av"
      },
      "source": [
        "from category_encoders import CountEncoder"
      ],
      "execution_count": 23,
      "outputs": []
    },
    {
      "cell_type": "code",
      "metadata": {
        "id": "u4Xw41_-qm6w"
      },
      "source": [
        "# 인코더 생성\n",
        "encoder_count = CountEncoder()\n",
        "\n",
        "# 인코더 적용\n",
        "X_train_count = encoder_count.fit_transform(X_train)\n",
        "X_val_count = encoder_count.transform(X_val)\n",
        "X_test_count = encoder_count.transform(X_test)"
      ],
      "execution_count": 24,
      "outputs": []
    },
    {
      "cell_type": "code",
      "metadata": {
        "id": "zTW6W8_vv80q",
        "outputId": "cb694516-ca60-43d0-e251-8d01b11106b8",
        "colab": {
          "base_uri": "https://localhost:8080/",
          "height": 213
        }
      },
      "source": [
        "# 원본 데이터\n",
        "X_train.head(3)"
      ],
      "execution_count": 25,
      "outputs": [
        {
          "output_type": "execute_result",
          "data": {
            "text/html": [
              "<div>\n",
              "<style scoped>\n",
              "    .dataframe tbody tr th:only-of-type {\n",
              "        vertical-align: middle;\n",
              "    }\n",
              "\n",
              "    .dataframe tbody tr th {\n",
              "        vertical-align: top;\n",
              "    }\n",
              "\n",
              "    .dataframe thead th {\n",
              "        text-align: right;\n",
              "    }\n",
              "</style>\n",
              "<table border=\"1\" class=\"dataframe\">\n",
              "  <thead>\n",
              "    <tr style=\"text-align: right;\">\n",
              "      <th></th>\n",
              "      <th>h1n1_concern</th>\n",
              "      <th>h1n1_knowledge</th>\n",
              "      <th>behavioral_antiviral_meds</th>\n",
              "      <th>behavioral_avoidance</th>\n",
              "      <th>behavioral_face_mask</th>\n",
              "      <th>behavioral_wash_hands</th>\n",
              "      <th>behavioral_large_gatherings</th>\n",
              "      <th>behavioral_outside_home</th>\n",
              "      <th>behavioral_touch_face</th>\n",
              "      <th>doctor_recc_h1n1</th>\n",
              "      <th>doctor_recc_seasonal</th>\n",
              "      <th>chronic_med_condition</th>\n",
              "      <th>child_under_6_months</th>\n",
              "      <th>health_insurance</th>\n",
              "      <th>health_worker</th>\n",
              "      <th>opinion_h1n1_vacc_effective</th>\n",
              "      <th>opinion_h1n1_risk</th>\n",
              "      <th>opinion_h1n1_sick_from_vacc</th>\n",
              "      <th>opinion_seas_vacc_effective</th>\n",
              "      <th>opinion_seas_risk</th>\n",
              "      <th>opinion_seas_sick_from_vacc</th>\n",
              "      <th>agegrp</th>\n",
              "      <th>education_comp</th>\n",
              "      <th>raceeth4_i</th>\n",
              "      <th>sex_i</th>\n",
              "      <th>inc_pov</th>\n",
              "      <th>marital</th>\n",
              "      <th>rent_own_r</th>\n",
              "      <th>census_region</th>\n",
              "      <th>census_msa</th>\n",
              "      <th>n_adult_r</th>\n",
              "      <th>household_children</th>\n",
              "      <th>n_people_r</th>\n",
              "      <th>hhs_region</th>\n",
              "      <th>state</th>\n",
              "      <th>behaviorals</th>\n",
              "      <th>children_ratio</th>\n",
              "    </tr>\n",
              "  </thead>\n",
              "  <tbody>\n",
              "    <tr>\n",
              "      <th>0</th>\n",
              "      <td>1</td>\n",
              "      <td>1</td>\n",
              "      <td>0</td>\n",
              "      <td>0</td>\n",
              "      <td>0</td>\n",
              "      <td>0</td>\n",
              "      <td>0</td>\n",
              "      <td>0</td>\n",
              "      <td>0</td>\n",
              "      <td>0</td>\n",
              "      <td>0</td>\n",
              "      <td>1</td>\n",
              "      <td>0</td>\n",
              "      <td>1</td>\n",
              "      <td>0</td>\n",
              "      <td>Somewhat Effective</td>\n",
              "      <td>Somewhat Low</td>\n",
              "      <td>Not At All Worried</td>\n",
              "      <td>Very Effective</td>\n",
              "      <td>Somewhat Low</td>\n",
              "      <td>Not At All Worried</td>\n",
              "      <td>18 - 34 Years</td>\n",
              "      <td>4</td>\n",
              "      <td>3</td>\n",
              "      <td>1</td>\n",
              "      <td>1</td>\n",
              "      <td>2</td>\n",
              "      <td>1</td>\n",
              "      <td>1</td>\n",
              "      <td>MSA, Not Principle City</td>\n",
              "      <td>4</td>\n",
              "      <td>0</td>\n",
              "      <td>4</td>\n",
              "      <td>2</td>\n",
              "      <td>NEW JERSEY</td>\n",
              "      <td>0.0</td>\n",
              "      <td>0</td>\n",
              "    </tr>\n",
              "    <tr>\n",
              "      <th>1</th>\n",
              "      <td>1</td>\n",
              "      <td>1</td>\n",
              "      <td>0</td>\n",
              "      <td>1</td>\n",
              "      <td>0</td>\n",
              "      <td>1</td>\n",
              "      <td>1</td>\n",
              "      <td>1</td>\n",
              "      <td>1</td>\n",
              "      <td>1</td>\n",
              "      <td>1</td>\n",
              "      <td>0</td>\n",
              "      <td>0</td>\n",
              "      <td>1</td>\n",
              "      <td>0</td>\n",
              "      <td>Somewhat Effective</td>\n",
              "      <td>Somewhat High</td>\n",
              "      <td>Not Very Worried</td>\n",
              "      <td>Somewhat Effective</td>\n",
              "      <td>Somewhat Low</td>\n",
              "      <td>Not Very Worried</td>\n",
              "      <td>35 - 44 Years</td>\n",
              "      <td>2</td>\n",
              "      <td>3</td>\n",
              "      <td>2</td>\n",
              "      <td>3</td>\n",
              "      <td>2</td>\n",
              "      <td>2</td>\n",
              "      <td>2</td>\n",
              "      <td>Non-MSA</td>\n",
              "      <td>2</td>\n",
              "      <td>2</td>\n",
              "      <td>4</td>\n",
              "      <td>7</td>\n",
              "      <td>IOWA</td>\n",
              "      <td>0.0</td>\n",
              "      <td>0.5</td>\n",
              "    </tr>\n",
              "    <tr>\n",
              "      <th>2</th>\n",
              "      <td>2</td>\n",
              "      <td>2</td>\n",
              "      <td>0</td>\n",
              "      <td>1</td>\n",
              "      <td>0</td>\n",
              "      <td>1</td>\n",
              "      <td>1</td>\n",
              "      <td>1</td>\n",
              "      <td>0</td>\n",
              "      <td>0</td>\n",
              "      <td>0</td>\n",
              "      <td>1</td>\n",
              "      <td>0</td>\n",
              "      <td>1</td>\n",
              "      <td>0</td>\n",
              "      <td>Not Very Effective</td>\n",
              "      <td>Very Low</td>\n",
              "      <td>Dont Know</td>\n",
              "      <td>Somewhat Effective</td>\n",
              "      <td>Very Low</td>\n",
              "      <td>Very Worried</td>\n",
              "      <td>65+ Years</td>\n",
              "      <td>1</td>\n",
              "      <td>3</td>\n",
              "      <td>2</td>\n",
              "      <td>2</td>\n",
              "      <td>2</td>\n",
              "      <td>1</td>\n",
              "      <td>4</td>\n",
              "      <td>MSA, Not Principle City</td>\n",
              "      <td>1</td>\n",
              "      <td>0</td>\n",
              "      <td>1</td>\n",
              "      <td>10</td>\n",
              "      <td>OREGON</td>\n",
              "      <td>0.0</td>\n",
              "      <td>0</td>\n",
              "    </tr>\n",
              "  </tbody>\n",
              "</table>\n",
              "</div>"
            ],
            "text/plain": [
              "  h1n1_concern h1n1_knowledge  ... behaviorals children_ratio\n",
              "0            1              1  ...         0.0              0\n",
              "1            1              1  ...         0.0            0.5\n",
              "2            2              2  ...         0.0              0\n",
              "\n",
              "[3 rows x 37 columns]"
            ]
          },
          "metadata": {
            "tags": []
          },
          "execution_count": 25
        }
      ]
    },
    {
      "cell_type": "code",
      "metadata": {
        "id": "Acq4_or6wAm9",
        "outputId": "54f02791-f05d-4aa7-eb43-e3b5888e6b26",
        "colab": {
          "base_uri": "https://localhost:8080/",
          "height": 102
        }
      },
      "source": [
        "X_train[\"h1n1_concern\"].value_counts()"
      ],
      "execution_count": 26,
      "outputs": [
        {
          "output_type": "execute_result",
          "data": {
            "text/plain": [
              "2.0    17557\n",
              "1.0     8199\n",
              "3.0     4574\n",
              "0.0     3393\n",
              "Name: h1n1_concern, dtype: int64"
            ]
          },
          "metadata": {
            "tags": []
          },
          "execution_count": 26
        }
      ]
    },
    {
      "cell_type": "code",
      "metadata": {
        "id": "3rYd1bkFv2xN",
        "outputId": "fd792fbf-f241-420a-aa25-74edc8b4a45c",
        "colab": {
          "base_uri": "https://localhost:8080/",
          "height": 162
        }
      },
      "source": [
        "# 인코딩 결과 확인\n",
        "X_train_count.head(3)"
      ],
      "execution_count": 27,
      "outputs": [
        {
          "output_type": "execute_result",
          "data": {
            "text/html": [
              "<div>\n",
              "<style scoped>\n",
              "    .dataframe tbody tr th:only-of-type {\n",
              "        vertical-align: middle;\n",
              "    }\n",
              "\n",
              "    .dataframe tbody tr th {\n",
              "        vertical-align: top;\n",
              "    }\n",
              "\n",
              "    .dataframe thead th {\n",
              "        text-align: right;\n",
              "    }\n",
              "</style>\n",
              "<table border=\"1\" class=\"dataframe\">\n",
              "  <thead>\n",
              "    <tr style=\"text-align: right;\">\n",
              "      <th></th>\n",
              "      <th>h1n1_concern</th>\n",
              "      <th>h1n1_knowledge</th>\n",
              "      <th>behavioral_antiviral_meds</th>\n",
              "      <th>behavioral_avoidance</th>\n",
              "      <th>behavioral_face_mask</th>\n",
              "      <th>behavioral_wash_hands</th>\n",
              "      <th>behavioral_large_gatherings</th>\n",
              "      <th>behavioral_outside_home</th>\n",
              "      <th>behavioral_touch_face</th>\n",
              "      <th>doctor_recc_h1n1</th>\n",
              "      <th>doctor_recc_seasonal</th>\n",
              "      <th>chronic_med_condition</th>\n",
              "      <th>child_under_6_months</th>\n",
              "      <th>health_insurance</th>\n",
              "      <th>health_worker</th>\n",
              "      <th>opinion_h1n1_vacc_effective</th>\n",
              "      <th>opinion_h1n1_risk</th>\n",
              "      <th>opinion_h1n1_sick_from_vacc</th>\n",
              "      <th>opinion_seas_vacc_effective</th>\n",
              "      <th>opinion_seas_risk</th>\n",
              "      <th>opinion_seas_sick_from_vacc</th>\n",
              "      <th>agegrp</th>\n",
              "      <th>education_comp</th>\n",
              "      <th>raceeth4_i</th>\n",
              "      <th>sex_i</th>\n",
              "      <th>inc_pov</th>\n",
              "      <th>marital</th>\n",
              "      <th>rent_own_r</th>\n",
              "      <th>census_region</th>\n",
              "      <th>census_msa</th>\n",
              "      <th>n_adult_r</th>\n",
              "      <th>household_children</th>\n",
              "      <th>n_people_r</th>\n",
              "      <th>hhs_region</th>\n",
              "      <th>state</th>\n",
              "      <th>behaviorals</th>\n",
              "      <th>children_ratio</th>\n",
              "    </tr>\n",
              "  </thead>\n",
              "  <tbody>\n",
              "    <tr>\n",
              "      <th>0</th>\n",
              "      <td>8199</td>\n",
              "      <td>21607</td>\n",
              "      <td>32329</td>\n",
              "      <td>7289</td>\n",
              "      <td>31878</td>\n",
              "      <td>4715</td>\n",
              "      <td>24214</td>\n",
              "      <td>24676</td>\n",
              "      <td>8652</td>\n",
              "      <td>25975</td>\n",
              "      <td>22975</td>\n",
              "      <td>8188</td>\n",
              "      <td>31527</td>\n",
              "      <td>31771</td>\n",
              "      <td>30813</td>\n",
              "      <td>18796</td>\n",
              "      <td>17101</td>\n",
              "      <td>9023</td>\n",
              "      <td>10131</td>\n",
              "      <td>16314</td>\n",
              "      <td>19123</td>\n",
              "      <td>5224</td>\n",
              "      <td>18328</td>\n",
              "      <td>26158</td>\n",
              "      <td>14471</td>\n",
              "      <td>9440</td>\n",
              "      <td>11812</td>\n",
              "      <td>25704</td>\n",
              "      <td>5592</td>\n",
              "      <td>15202</td>\n",
              "      <td>1517</td>\n",
              "      <td>19039</td>\n",
              "      <td>6207</td>\n",
              "      <td>1396</td>\n",
              "      <td>688</td>\n",
              "      <td>0.0</td>\n",
              "      <td>19039</td>\n",
              "    </tr>\n",
              "    <tr>\n",
              "      <th>1</th>\n",
              "      <td>8199</td>\n",
              "      <td>21607</td>\n",
              "      <td>32329</td>\n",
              "      <td>26434</td>\n",
              "      <td>31878</td>\n",
              "      <td>29008</td>\n",
              "      <td>9509</td>\n",
              "      <td>9047</td>\n",
              "      <td>25071</td>\n",
              "      <td>7748</td>\n",
              "      <td>10748</td>\n",
              "      <td>25535</td>\n",
              "      <td>31527</td>\n",
              "      <td>31771</td>\n",
              "      <td>30813</td>\n",
              "      <td>18796</td>\n",
              "      <td>5366</td>\n",
              "      <td>16384</td>\n",
              "      <td>18775</td>\n",
              "      <td>16314</td>\n",
              "      <td>7723</td>\n",
              "      <td>3992</td>\n",
              "      <td>5811</td>\n",
              "      <td>26158</td>\n",
              "      <td>19252</td>\n",
              "      <td>3465</td>\n",
              "      <td>11812</td>\n",
              "      <td>7453</td>\n",
              "      <td>7477</td>\n",
              "      <td>8870</td>\n",
              "      <td>19427</td>\n",
              "      <td>5458</td>\n",
              "      <td>6207</td>\n",
              "      <td>2530</td>\n",
              "      <td>635</td>\n",
              "      <td>0.0</td>\n",
              "      <td>5262</td>\n",
              "    </tr>\n",
              "    <tr>\n",
              "      <th>2</th>\n",
              "      <td>17557</td>\n",
              "      <td>9549</td>\n",
              "      <td>32329</td>\n",
              "      <td>26434</td>\n",
              "      <td>31878</td>\n",
              "      <td>29008</td>\n",
              "      <td>9509</td>\n",
              "      <td>9047</td>\n",
              "      <td>8652</td>\n",
              "      <td>25975</td>\n",
              "      <td>22975</td>\n",
              "      <td>8188</td>\n",
              "      <td>31527</td>\n",
              "      <td>31771</td>\n",
              "      <td>30813</td>\n",
              "      <td>1846</td>\n",
              "      <td>8284</td>\n",
              "      <td>150</td>\n",
              "      <td>18775</td>\n",
              "      <td>6036</td>\n",
              "      <td>1762</td>\n",
              "      <td>6821</td>\n",
              "      <td>2402</td>\n",
              "      <td>26158</td>\n",
              "      <td>19252</td>\n",
              "      <td>15622</td>\n",
              "      <td>11812</td>\n",
              "      <td>25704</td>\n",
              "      <td>8933</td>\n",
              "      <td>15202</td>\n",
              "      <td>8890</td>\n",
              "      <td>19039</td>\n",
              "      <td>7085</td>\n",
              "      <td>2678</td>\n",
              "      <td>650</td>\n",
              "      <td>0.0</td>\n",
              "      <td>19039</td>\n",
              "    </tr>\n",
              "  </tbody>\n",
              "</table>\n",
              "</div>"
            ],
            "text/plain": [
              "   h1n1_concern  h1n1_knowledge  ...  behaviorals  children_ratio\n",
              "0          8199           21607  ...          0.0           19039\n",
              "1          8199           21607  ...          0.0            5262\n",
              "2         17557            9549  ...          0.0           19039\n",
              "\n",
              "[3 rows x 37 columns]"
            ]
          },
          "metadata": {
            "tags": []
          },
          "execution_count": 27
        }
      ]
    },
    {
      "cell_type": "code",
      "metadata": {
        "id": "Gj73VPaBwpNj",
        "outputId": "2350a8c2-8781-4359-b264-7c9405d40513",
        "colab": {
          "base_uri": "https://localhost:8080/",
          "height": 102
        }
      },
      "source": [
        "X_train_count[\"h1n1_concern\"].value_counts()"
      ],
      "execution_count": 28,
      "outputs": [
        {
          "output_type": "execute_result",
          "data": {
            "text/plain": [
              "17557    17557\n",
              "8199      8199\n",
              "4574      4574\n",
              "3393      3393\n",
              "Name: h1n1_concern, dtype: int64"
            ]
          },
          "metadata": {
            "tags": []
          },
          "execution_count": 28
        }
      ]
    },
    {
      "cell_type": "markdown",
      "metadata": {
        "id": "18dE7QUKwHvO"
      },
      "source": [
        "CountEncoder는 각 범주의 값이 등장한 횟수로 각 범주를 치환하는 것이다. 예를 들어, `h1n1_concern`은 `X_train`에서 1이 8199번, 2가 17557번 등장했다. 따라서 인코딩 결과를 보면 1을 8199, 2를 17557으로 치환한 것을 알 수 있다."
      ]
    },
    {
      "cell_type": "markdown",
      "metadata": {
        "id": "Xo-yxK81N-ay"
      },
      "source": [
        "### 4) 랜덤포레스트 모델을 적용한 후의 결과를 캐글에 제출하세요(랜덤포레스트를 적용하고 성능이 오히려 떨어졌을 수도 있습니다! 만약 그렇다면 왜 그럴까 고민을 해 보고 적어주세요(정답이 아니여도 괜찮습니다. 본인 논리로 고찰하세요))"
      ]
    },
    {
      "cell_type": "code",
      "metadata": {
        "id": "e9YJTu6agx2g"
      },
      "source": [
        "from sklearn.ensemble import RandomForestClassifier\n",
        "from sklearn.metrics import accuracy_score\n",
        "from sklearn.metrics import f1_score"
      ],
      "execution_count": 29,
      "outputs": []
    },
    {
      "cell_type": "markdown",
      "metadata": {
        "id": "ohA_VKX9kKxx"
      },
      "source": [
        "#### 기준모델"
      ]
    },
    {
      "cell_type": "code",
      "metadata": {
        "id": "3kjjkFhrkNVd",
        "outputId": "41ee0101-2050-4890-be5f-e5251606a022",
        "colab": {
          "base_uri": "https://localhost:8080/",
          "height": 68
        }
      },
      "source": [
        "train[target].value_counts(normalize=True)\n",
        "# 0이 약 76%이다.\n",
        "# 따라서, 기준모델은 모든 데이터를 0, 즉 H1N1 flu 백신을 맞지 않는 것으로 예측하는 것이다."
      ],
      "execution_count": 30,
      "outputs": [
        {
          "output_type": "execute_result",
          "data": {
            "text/plain": [
              "0    0.760935\n",
              "1    0.239065\n",
              "Name: vacc_h1n1_f, dtype: float64"
            ]
          },
          "metadata": {
            "tags": []
          },
          "execution_count": 30
        }
      ]
    },
    {
      "cell_type": "code",
      "metadata": {
        "id": "s9C-XhjkklQf",
        "outputId": "6f566ee8-ddcb-4e41-e210-0bf44e4b4b1b",
        "colab": {
          "base_uri": "https://localhost:8080/",
          "height": 34
        }
      },
      "source": [
        "majority_class = train[target].mode()[0]\n",
        "y_pred_val = [majority_class] * len(val)\n",
        "\n",
        "print(\"검증 정확도: \", accuracy_score(y_val, y_pred_val))"
      ],
      "execution_count": 31,
      "outputs": [
        {
          "output_type": "stream",
          "text": [
            "검증 정확도:  0.7610010674890286\n"
          ],
          "name": "stdout"
        }
      ]
    },
    {
      "cell_type": "markdown",
      "metadata": {
        "id": "8NQj6N-ukazy"
      },
      "source": [
        "앞으로 만들 모델의 정확도가 약 0.76보다는 높아야 학습이 잘 된 모델이라고 할 수 있다."
      ]
    },
    {
      "cell_type": "markdown",
      "metadata": {
        "id": "FZtY5OkDkMA_"
      },
      "source": [
        "#### 랜덤 포레스트"
      ]
    },
    {
      "cell_type": "code",
      "metadata": {
        "id": "LiQ1biVEWL9q",
        "outputId": "2039f227-7337-4f81-8a8f-018222d22c5e",
        "colab": {
          "base_uri": "https://localhost:8080/",
          "height": 68
        }
      },
      "source": [
        "# 1) ordinal encoder를 사용했을 때\n",
        "\n",
        "# 모델 생성 및 학습\n",
        "model_ordinal = RandomForestClassifier(n_jobs=-1, random_state=10, oob_score=True)\n",
        "model_ordinal.fit(X_train_ordinal, y_train)\n",
        "\n",
        "# 결과 확인\n",
        "print(\"검증 정확도: \", model_ordinal.score(X_val_ordinal, y_val))\n",
        "print(\"OOB score: \", model_ordinal.oob_score_)\n",
        "\n",
        "# f1_score 확인\n",
        "y_pred = model_ordinal.predict(X_val_ordinal)\n",
        "print(\"검증 f1_score: \", f1_score(y_val, y_pred))"
      ],
      "execution_count": 32,
      "outputs": [
        {
          "output_type": "stream",
          "text": [
            "검증 정확도:  0.8114102716166528\n",
            "OOB score:  0.8016190730362067\n",
            "검증 f1_score:  0.5250896057347669\n"
          ],
          "name": "stdout"
        }
      ]
    },
    {
      "cell_type": "markdown",
      "metadata": {
        "id": "qbKa4rSmlA5i"
      },
      "source": [
        "이 모델의 정확도는 약 0.81으로, 기준모델의 정확도인 0.76보다 높다. 따라서 학습이 잘 된 모델이라고 할 수 있다."
      ]
    },
    {
      "cell_type": "code",
      "metadata": {
        "id": "V8sRKY6zs93p",
        "outputId": "556b33c0-06e8-45c9-9e14-d32cf6c9e7bc",
        "colab": {
          "base_uri": "https://localhost:8080/",
          "height": 204
        }
      },
      "source": [
        "# 특성 중요도 확인\n",
        "colnames = X_train_ordinal.columns\n",
        "importances = pd.Series(model_ordinal.feature_importances_, colnames)\n",
        "\n",
        "importances.sort_values(ascending=False)[:10]"
      ],
      "execution_count": 33,
      "outputs": [
        {
          "output_type": "execute_result",
          "data": {
            "text/plain": [
              "doctor_recc_h1n1               0.126379\n",
              "state                          0.102804\n",
              "hhs_region                     0.055178\n",
              "agegrp                         0.046887\n",
              "inc_pov                        0.039498\n",
              "census_msa                     0.038323\n",
              "opinion_h1n1_vacc_effective    0.035313\n",
              "opinion_h1n1_risk              0.034649\n",
              "census_region                  0.033851\n",
              "opinion_seas_risk              0.031640\n",
              "dtype: float64"
            ]
          },
          "metadata": {
            "tags": []
          },
          "execution_count": 33
        }
      ]
    },
    {
      "cell_type": "code",
      "metadata": {
        "id": "1358SzXhtoJX",
        "outputId": "3ed725af-3923-49e6-d4da-fc710bb94854",
        "colab": {
          "base_uri": "https://localhost:8080/",
          "height": 265
        }
      },
      "source": [
        "importances.sort_values()[-10:].plot.barh()\n",
        "plt.show();"
      ],
      "execution_count": 34,
      "outputs": [
        {
          "output_type": "display_data",
          "data": {
            "image/png": "[encoded data removed]",
            "text/plain": [
              "<Figure size 432x288 with 1 Axes>"
            ]
          },
          "metadata": {
            "tags": [],
            "needs_background": "light"
          }
        }
      ]
    },
    {
      "cell_type": "markdown",
      "metadata": {
        "id": "yLWRQ6PK3N9K"
      },
      "source": [
        "어제 사용하지 않았던 feature인 state의 특성 중요도가 높게 나왔다. 그래서 state를 제거하고 모델을 만들어보았다."
      ]
    },
    {
      "cell_type": "code",
      "metadata": {
        "id": "rIqMAGS02W33"
      },
      "source": [
        "features2 = list(X_train_ordinal)\n",
        "features2.remove(\"state\")"
      ],
      "execution_count": 35,
      "outputs": []
    },
    {
      "cell_type": "code",
      "metadata": {
        "id": "vwjFZxIU2T1I",
        "outputId": "db13cf20-c6b3-42fd-f069-7306583131e5",
        "colab": {
          "base_uri": "https://localhost:8080/",
          "height": 68
        }
      },
      "source": [
        "# 모델 생성 및 학습\n",
        "model_not_state = RandomForestClassifier(n_jobs=-1, random_state=10, oob_score=True)\n",
        "model_not_state.fit(X_train_ordinal[features2], y_train)\n",
        "\n",
        "# 결과 확인\n",
        "print(\"검증 정확도: \", model_not_state.score(X_val_ordinal[features2], y_val))\n",
        "print(\"OOB score: \", model_not_state.oob_score_)\n",
        "\n",
        "# f1_score 확인\n",
        "y_pred = model_not_state.predict(X_val_ordinal[features2])\n",
        "print(\"검증 f1_score: \", f1_score(y_val, y_pred))"
      ],
      "execution_count": 36,
      "outputs": [
        {
          "output_type": "stream",
          "text": [
            "검증 정확도:  0.8102241726960029\n",
            "OOB score:  0.7986240844527474\n",
            "검증 f1_score:  0.5192307692307693\n"
          ],
          "name": "stdout"
        }
      ]
    },
    {
      "cell_type": "markdown",
      "metadata": {
        "id": "Ft6qfZ-09GxJ"
      },
      "source": [
        "state를 사용했을 때보다 score가 낮아졌다."
      ]
    },
    {
      "cell_type": "markdown",
      "metadata": {
        "id": "ttqSGR1dlypA"
      },
      "source": [
        "하이퍼 파리미터 조절해보기"
      ]
    },
    {
      "cell_type": "code",
      "metadata": {
        "id": "QFFurkhJl8rf"
      },
      "source": [
        "def forest(max_depth=1, n_estimators=1):\n",
        "  model = RandomForestClassifier(n_jobs=-1, random_state=10, oob_score=True,\n",
        "                                 max_depth=max_depth, n_estimators=n_estimators)\n",
        "  model.fit(X_train_ordinal, y_train)\n",
        "\n",
        "  # 결과 확인\n",
        "  print(\"검증 정확도: \", model.score(X_val_ordinal, y_val))\n",
        "  print(\"OOB score: \", model.oob_score_)\n",
        "\n",
        "  # f1_score 확인\n",
        "  y_pred = model.predict(X_val_ordinal)\n",
        "  print(\"검증 f1_score: \", f1_score(y_val, y_pred))"
      ],
      "execution_count": 37,
      "outputs": []
    },
    {
      "cell_type": "code",
      "metadata": {
        "id": "3rHDSupNmh2w",
        "outputId": "0b4c2977-2f94-438f-e398-1d6a822fa3fd",
        "colab": {
          "base_uri": "https://localhost:8080/",
          "height": 68
        }
      },
      "source": [
        "forest(max_depth=12, n_estimators=200)"
      ],
      "execution_count": 38,
      "outputs": [
        {
          "output_type": "stream",
          "text": [
            "검증 정확도:  0.8195943541691377\n",
            "OOB score:  0.8109005723096996\n",
            "검증 f1_score:  0.5509300265721877\n"
          ],
          "name": "stdout"
        }
      ]
    },
    {
      "cell_type": "markdown",
      "metadata": {
        "id": "ysQgdslZn1zo"
      },
      "source": [
        "하이퍼 파리미터의 값을 변경하니까 정확도와 f1_score 값이 달라졌다."
      ]
    },
    {
      "cell_type": "code",
      "metadata": {
        "id": "7scH0SxIxDcw",
        "outputId": "510f6e9c-b571-4bdf-cf09-295984bee542",
        "colab": {
          "base_uri": "https://localhost:8080/",
          "height": 68
        }
      },
      "source": [
        "# 2) count encoder를 사용했을 때\n",
        "\n",
        "# 모델 생성 및 학습\n",
        "model_count = RandomForestClassifier(n_jobs=-1, random_state=10, oob_score=True)\n",
        "model_count.fit(X_train_count, y_train)\n",
        "\n",
        "# 결과 확인\n",
        "print(\"검증 정확도: \", model_count.score(X_val_count, y_val))\n",
        "print(\"OOB score: \", model_count.oob_score_)\n",
        "\n",
        "# f1_score 확인\n",
        "y_pred = model_count.predict(X_val_count)\n",
        "print(\"검증 f1_score: \", f1_score(y_val, y_pred))"
      ],
      "execution_count": 39,
      "outputs": [
        {
          "output_type": "stream",
          "text": [
            "검증 정확도:  0.8108172221563278\n",
            "OOB score:  0.8042285680396168\n",
            "검증 f1_score:  0.5211648153707595\n"
          ],
          "name": "stdout"
        }
      ]
    },
    {
      "cell_type": "markdown",
      "metadata": {
        "id": "DCOhXpgLxV6Q"
      },
      "source": [
        "count encoder를 사용해서 인코딩한 데이터를 가지고 랜덤 포레스트 모델을 만들어보았다. 그랬더니 ordinal encoder를 사용했을 때보다 스코어가 낮아졌다."
      ]
    },
    {
      "cell_type": "markdown",
      "metadata": {
        "id": "RoLZu_4VxrQj"
      },
      "source": [
        "최종모델 만들기"
      ]
    },
    {
      "cell_type": "code",
      "metadata": {
        "id": "uyXd7BYMxqZz"
      },
      "source": [
        "X_total = pd.concat([X_train_ordinal, X_val_ordinal])\n",
        "y_total = pd.concat([y_train, y_val])"
      ],
      "execution_count": 40,
      "outputs": []
    },
    {
      "cell_type": "code",
      "metadata": {
        "id": "IWObg-u3x9SI",
        "outputId": "d9d93dd9-486b-4c03-980e-d2c8d4dbd521",
        "colab": {
          "base_uri": "https://localhost:8080/",
          "height": 68
        }
      },
      "source": [
        "# 모델 생성 및 학습하기\n",
        "model = RandomForestClassifier(n_jobs=-1, random_state=10, oob_score=True,\n",
        "                                 max_depth=12, n_estimators=200)\n",
        "model.fit(X_total, y_total)\n",
        "\n",
        "# 결과 확인\n",
        "print(\"train 정확도: \", model.score(X_total, y_total))\n",
        "print(\"OOB score: \", model.oob_score_)\n",
        "\n",
        "# f1_score 확인\n",
        "y_pred = model.predict(X_total)\n",
        "print(\"train f1_score: \", f1_score(y_total, y_pred))"
      ],
      "execution_count": 41,
      "outputs": [
        {
          "output_type": "stream",
          "text": [
            "train 정확도:  0.8605351805285382\n",
            "OOB score:  0.8135171039521754\n",
            "train f1_score:  0.6560982743492249\n"
          ],
          "name": "stdout"
        }
      ]
    },
    {
      "cell_type": "code",
      "metadata": {
        "id": "oouKijnzyUcU"
      },
      "source": [
        "# 결과 저장\n",
        "y_pred_test = model.predict(X_test_ordinal)\n",
        "submission = pd.DataFrame({\"Id\":range(0, len(X_test_ordinal)), \"vacc_h1n1_f\": y_pred_test})\n",
        "submission.to_csv('submission_vacc_n222a.csv', index=False)"
      ],
      "execution_count": 42,
      "outputs": []
    },
    {
      "cell_type": "markdown",
      "metadata": {
        "id": "YR4D3roJy_Vn"
      },
      "source": [
        "어제 submission 결과와 비교\n",
        "\n",
        "- 어제 score: 0.54886\n",
        "- 오늘 score: 0.51408\n",
        "\n",
        "Q) 왜 스코어가 떨어졌을까?\n",
        "\n",
        "A) 처음에는 과적합 때문인가 하고 생각했는데 랜덤 포레스트 모델이 트리 모델 하나를 쓰는 것보다 과적합이 덜하다는 수업 시간의 설명이 생각났다. 그 다음에 생각난 것은 하이퍼 파라미터를 GridCV등을 이용해서 만든 게 아니라 임으로 변경해가면서 찾았기 때문에, 최적의 값이 아니라 오히려 성능이 더 저하되는 값을 찾은 것이라고 생각했다."
      ]
    },
    {
      "cell_type": "code",
      "metadata": {
        "id": "A1n-lQFG0A8c",
        "outputId": "aa6a683a-8550-449b-c1ca-e2bc1b129d20",
        "colab": {
          "base_uri": "https://localhost:8080/",
          "height": 68
        }
      },
      "source": [
        "# 모델 생성 및 학습하기\n",
        "model = RandomForestClassifier(n_jobs=-1, random_state=10, oob_score=True)\n",
        "model.fit(X_total, y_total)\n",
        "\n",
        "# 결과 확인\n",
        "print(\"train 정확도: \", model.score(X_total, y_total))\n",
        "print(\"OOB score: \", model.oob_score_)\n",
        "\n",
        "# f1_score 확인\n",
        "y_pred = model.predict(X_total)\n",
        "print(\"train f1_score: \", f1_score(y_total, y_pred))"
      ],
      "execution_count": 43,
      "outputs": [
        {
          "output_type": "stream",
          "text": [
            "train 정확도:  0.9941879774161408\n",
            "OOB score:  0.8037671395359871\n",
            "train f1_score:  0.9878115516640964\n"
          ],
          "name": "stdout"
        }
      ]
    },
    {
      "cell_type": "code",
      "metadata": {
        "id": "mreXkMdd0Glq"
      },
      "source": [
        "# 결과 저장\n",
        "y_pred_test = model.predict(X_test_ordinal)\n",
        "submission = pd.DataFrame({\"Id\":range(0, len(X_test_ordinal)), \"vacc_h1n1_f\": y_pred_test})\n",
        "submission.to_csv('submission_vacc_n222a_2.csv', index=False)"
      ],
      "execution_count": 44,
      "outputs": []
    },
    {
      "cell_type": "markdown",
      "metadata": {
        "id": "ZVLaPvu403ub"
      },
      "source": [
        "위 이유가 맞는지 확인해보고 싶어서 위의 코드처럼 하이퍼 파라미터를 하나도 변경하지 않고 다시 결과를 확인해보았다. 그랬더니 train 데이터셋에 대해서 확인했을 때는 정확도가 올라갔는데, 오히려 submission의 score는 0.49849로 내려갔다.\n",
        "\n",
        "하이퍼 파라미터도 원인이 아니라면, 전처리를 어제부터 잘못 했는데 오늘 티가 난 것이거나, feature engineering을 할 때 잘못된 변수를 만들어서일 수도 있을 것 같다."
      ]
    },
    {
      "cell_type": "markdown",
      "metadata": {
        "id": "RnWUv2KO-R3Y"
      },
      "source": [
        "+) pipeline 사용하기\n",
        "\n",
        "오늘 과제에서는 전처리, 인코딩, 모델 생성 부분의 항목이 나눠져있어서 각 항목의 결과로 만든 데이터프레임을 다음 항목에 사용하면 되어 pipeline을 사용할 필요가 없었다. 그렇지만 아직 pipeline을 사용하는 방법이 손에 익지 않아서 따로 시도해보았다."
      ]
    },
    {
      "cell_type": "code",
      "metadata": {
        "id": "blffIG2T-h6H",
        "outputId": "2b720098-b6c5-4b87-b7aa-9b88833f733a",
        "colab": {
          "base_uri": "https://localhost:8080/",
          "height": 68
        }
      },
      "source": [
        "from sklearn.pipeline import make_pipeline\n",
        "\n",
        "# 파이프라인 만들기\n",
        "# ordinal encoder, RandomForestClassifier\n",
        "pipe_ord = make_pipeline(\n",
        "    OrdinalEncoder(),\n",
        "    SimpleImputer(strategy=\"most_frequent\"),\n",
        "    RandomForestClassifier(random_state=10, n_jobs=-1, oob_score=True)\n",
        ")\n",
        "\n",
        "# 학습\n",
        "pipe_ord.fit(X_train, y_train)\n",
        "\n",
        "# 결과 확인\n",
        "print(\"검증 정확도: \", pipe_ord.score(X_val, y_val))\n",
        "print(\"OOB score: \", pipe_ord.named_steps[\"randomforestclassifier\"].oob_score_)\n",
        "\n",
        "# f1_score 확인\n",
        "y_pred = pipe_ord.predict(X_val)\n",
        "print(\"검증 f1_score: \", f1_score(y_val, y_pred))"
      ],
      "execution_count": 45,
      "outputs": [
        {
          "output_type": "stream",
          "text": [
            "검증 정확도:  0.8114102716166528\n",
            "OOB score:  0.8016190730362067\n",
            "검증 f1_score:  0.5250896057347669\n"
          ],
          "name": "stdout"
        }
      ]
    },
    {
      "cell_type": "markdown",
      "metadata": {
        "id": "Xx4CamZ8_vIt"
      },
      "source": [
        "```\n",
        "검증 정확도:  0.8114102716166528\n",
        "OOB score:  0.8016190730362067\n",
        "검증 f1_score:  0.5250896057347669\n",
        "```\n",
        "위에서 각 과정을 따로따로 수행했을 때와 결과가 동일하게 나왔다."
      ]
    },
    {
      "cell_type": "markdown",
      "metadata": {
        "id": "5LDCEUWPN-a1"
      },
      "source": [
        "## 참고자료\n",
        "\n",
        "- [Random Forests for Complete Beginners](https://victorzhou.com/blog/intro-to-random-forests/)"
      ]
    }
  ]
}