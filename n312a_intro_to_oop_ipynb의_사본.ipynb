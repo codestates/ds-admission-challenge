{
  "nbformat": 4,
  "nbformat_minor": 0,
  "metadata": {
    "kernelspec": {
      "display_name": "Python 3",
      "language": "python",
      "name": "python3"
    },
    "language_info": {
      "codemirror_mode": {
        "name": "ipython",
        "version": 3
      },
      "file_extension": ".py",
      "mimetype": "text/x-python",
      "name": "python",
      "nbconvert_exporter": "python",
      "pygments_lexer": "ipython3",
      "version": "3.8.3"
    },
    "colab": {
      "name": "n312a-intro-to-oop.ipynb의 사본",
      "provenance": [],
      "collapsed_sections": [],
      "toc_visible": true,
      "include_colab_link": true
    }
  },
  "cells": [
    {
      "cell_type": "markdown",
      "metadata": {
        "id": "view-in-github",
        "colab_type": "text"
      },
      "source": [
        "<a href=\"https://colab.research.google.com/github/yoonhoelee/ds-admission-challenge/blob/master/n312a_intro_to_oop_ipynb%EC%9D%98_%EC%82%AC%EB%B3%B8.ipynb\" target=\"_parent\"><img src=\"https://colab.research.google.com/assets/colab-badge.svg\" alt=\"Open In Colab\"/></a>"
      ]
    },
    {
      "cell_type": "markdown",
      "metadata": {
        "id": "cmtT3YhvKpvQ"
      },
      "source": [
        "<img src='https://i.imgur.com/RDAD11M.png' width = '200' align = 'right'>\n",
        "\n",
        "## *DATA SCIENCE / UNIT 3 / WEEK 1 / DAY 2*\n",
        "\n",
        "# 📝 Assignment\n",
        "\n",
        "# OOP를 이해하고 관련 기본문법을 활용한 과제\n",
        "\n",
        "\n",
        "\n"
      ]
    },
    {
      "cell_type": "markdown",
      "metadata": {
        "id": "hVuTNvRyHdFO"
      },
      "source": [
        "### 1) 문서, 스타일, PEP 관련 활용과제(이론 및 코딩과제)"
      ]
    },
    {
      "cell_type": "markdown",
      "metadata": {
        "id": "0EgumC48Ku3l"
      },
      "source": [
        "1-1) 다음 코드를 실행시키고 발생하는 에러에 대해 파악하고, 소스코드가 정상실행될 수 있도록 해결하시오.\n",
        "        \n",
        "  * 결과는 상관없음, 에러없이 정상실행되도록 수정하면 됨"
      ]
    },
    {
      "cell_type": "code",
      "metadata": {
        "id": "xnFCDx2QK0wk"
      },
      "source": [
        "import random\n",
        "\n",
        "rn = [\"0\", \"0\", \"0\"]\n",
        "\n",
        "rn[0] = str(random.randrange(1, 9, 1))\n",
        "rn[1] = rn[0]\n",
        "rn[2] = rn[0]\n",
        "\n",
        "while (rn[0] == rn[1]):\n",
        "    rn[1] = str(random.randrange(1, 9, 1))\n",
        "\n",
        "while (rn[0] == rn[2] or rn[1] == rn[2]):\n",
        "    rn[2] = str(random.randrange(1, 9, 1))\n",
        "    t_cnt = 0\n",
        "    s_cnt = 0\n",
        "    b_cnt = 0\n",
        "\n",
        "while (s_cnt < 3):\n",
        "    num = str(input(\"숫자 3자리를 입력하세요 : \"))\n",
        "    s_cnt = 0\n",
        "    b_cnt = 0\n",
        "\n",
        "for i in range(0, 3):\n",
        "    for j in range(0, 3):\n",
        "        if(num[i] == str(rn[j]) and i == j):\n",
        "            s_cnt += 1\n",
        "        elif(num[i] == str(rn[j]) and i != j):\n",
        "            b_cnt += 1\n",
        "\n",
        "print(\"결과 : [\", s_cnt, \"] Strike [\", b_cnt, \"] Ball\")\n",
        "t_cnt += 1"
      ],
      "execution_count": null,
      "outputs": []
    },
    {
      "cell_type": "markdown",
      "metadata": {
        "id": "MjVOwzJZK4NV"
      },
      "source": [
        "1-2) autopep8 패키지 또는 다른 기능을 활용하여 위의 소스코드를 정리하고 결과화면을 확인하길 바랍니다.\n",
        "\n",
        "- 참고 : https://pypi.org/project/autopep8/ (autopep8)\n"
      ]
    },
    {
      "cell_type": "code",
      "metadata": {
        "id": "pLND5dPZb9o_"
      },
      "source": [
        "import math\n",
        "import sys\n",
        "\n",
        "\n",
        "def example1():\n",
        "    # This is a long comment. This should be wrapped to fit within 72\n",
        "    # characters.\n",
        "    some_tuple = (1, 2, 3, 'a')\n",
        "    some_variable = {\n",
        "        'long': 'Long code lines should be wrapped within 79 characters.',\n",
        "        'other': [\n",
        "            math.pi,\n",
        "            100,\n",
        "            200,\n",
        "            300,\n",
        "            9876543210,\n",
        "            'This is a long string that goes on'],\n",
        "        'more': {\n",
        "            'inner': 'This whole logical line should be wrapped.',\n",
        "            some_tuple: [\n",
        "                1,\n",
        "                20,\n",
        "                300,\n",
        "                40000,\n",
        "                500000000,\n",
        "                60000000000000000]}}\n",
        "    return (some_tuple, some_variable)\n",
        "\n",
        "\n",
        "def example2(): return ('' in {'f': 2}) in {'has_key() is deprecated': True}\n",
        "\n",
        "\n",
        "class Example3(object):\n",
        "    def __init__(self, bar):\n",
        "        # Comments should have a space after the hash.\n",
        "        if bar:\n",
        "            bar += 1\n",
        "            bar = bar * bar\n",
        "            return bar\n",
        "        else:\n",
        "            some_string = \"\"\"\n",
        "                       Indentation in multiline strings should not be touched.\n",
        "Only actual code should be reindented.\n",
        "\"\"\"\n",
        "            return (sys.path, some_string)"
      ],
      "execution_count": null,
      "outputs": []
    },
    {
      "cell_type": "markdown",
      "metadata": {
        "id": "NG5aptUNbkIq"
      },
      "source": [
        "### 2) OOP에 대한 이론 관련 과제(코딩과제)\n",
        "\n",
        "- (self)로부터 호출되는 컴플렉스 숫자의 합을 리턴하고 컴플렉스 숫자를 인자로 활용하는 add 메소드를 생성하여 아래 코드를 재작성하시오.\n",
        "\n",
        "- OOP 개념에 대한 선수경험을 위한 코딩을 해본다.\n",
        "\n",
        "\n"
      ]
    },
    {
      "cell_type": "code",
      "metadata": {
        "id": "wFZIvAMIbxLm"
      },
      "source": [
        "class Complex:\n",
        "    def __init__(self, realpart, imagpart): \n",
        "        self.r = realpart\n",
        "        self.i = imagpart\n",
        "\n",
        "    def add(self):\n",
        "      return self.r + self.i\n",
        "\n",
        "    \n",
        "x = Complex(3.0, -4.5)\n",
        "x.r, x.i, x.add()"
      ],
      "execution_count": null,
      "outputs": []
    },
    {
      "cell_type": "markdown",
      "metadata": {
        "id": "O38SA6xHbrHn"
      },
      "source": [
        "### 3) 파이썬의 클래스와 상속 개념을 활용한 과제(이론 및 코딩과제)\n",
        "\n",
        "- OOP에는 중요 개념으로 상속(Inheritance)과 포함(Composition)이 있습니다.\n",
        "      3-1) 개념에 대한 이론적 차이점을 서술해보세요.\n",
        "      3-2) 해당 개념에 대해 소스코드를 찾아보고, 코드 상의 차이점을 설명해보시오.\n",
        "\n",
        "      \n",
        "  * 포함개념에 대한 참조링크 : https://velog.io/@godkimchichi/Java-OOP-%EC%83%81%EC%86%8D-%ED%8F%AC%ED%95%A8\n",
        "\n"
      ]
    },
    {
      "cell_type": "markdown",
      "metadata": {
        "id": "3SBPj3R7hGnU"
      },
      "source": [
        "3-1: 상속은 기존의 클래스를 재사용하여 새로운 클래스를 만드는 방식이고, 포함은 한 클래스를 여러 부분의 합으로 새로 정의를 하게된다.\n",
        "\n",
        "3-2: 상속의 코드 경유는 __init__함수를 상속해주는 클래스에서 그대로 가져와서 사용하지만, 포함의 코드 경우는 이 부분을 그래도 상속해오는 것이 아니기 때문에 이를 다시 정의해주어야만 한다."
      ]
    },
    {
      "cell_type": "markdown",
      "metadata": {
        "id": "t2lqeNribsce"
      },
      "source": [
        "### 4) 🔥 도전과제\n",
        "- 위 내용을 종합하고 상속 또는 포함개념을 활용하여 소스코드를 작성하세요.\n",
        "- 주요 활용개념 : PEP, OOP, Python Basic"
      ]
    },
    {
      "cell_type": "code",
      "metadata": {
        "id": "2n2YrzWBpAo0",
        "outputId": "f05fbc49-21e6-4d72-81b2-3bc357390a15",
        "colab": {
          "base_uri": "https://localhost:8080/"
        }
      },
      "source": [
        "class music():\n",
        "    def __init__(self, tempo, popularity, language):\n",
        "        self.tempo = tempo\n",
        "        self.popularity = popularity\n",
        "        self.language = language\n",
        "        \n",
        " #음악이 빠른지 아닌지 확인하는 메쏘드를 넣어보겠다.       \n",
        "    def fast_music(self):\n",
        "        if self.tempo >=120:\n",
        "          return 'fast'\n",
        "        else:\n",
        "          return 'slow'\n",
        "\n",
        "\n",
        "conaltura=music(98, 'Very Popular', 'Spanish')\n",
        "print(conaltura.fast_music())"
      ],
      "execution_count": null,
      "outputs": [
        {
          "output_type": "stream",
          "text": [
            "slow\n"
          ],
          "name": "stdout"
        }
      ]
    },
    {
      "cell_type": "code",
      "metadata": {
        "id": "9v0Qd8dkpCtt",
        "outputId": "580bfbfe-7623-4073-fe78-25d62d21e50e",
        "colab": {
          "base_uri": "https://localhost:8080/"
        }
      },
      "source": [
        "#팝 음악은 음악의 종류이기 때문에 상속 받는 클래스를 새로 만들어 보겠다\n",
        "class pop(music):\n",
        "    def __init__(self, tempo, popularity, language, artist, company):\n",
        "      super().__init__(tempo, popularity, language)\n",
        "      self.artist = artist\n",
        "      self.company = company\n",
        "\n",
        "#해당 음악이 유니버설 뮤직에서 유통이 되는지 아닌지 확인하는 메쏘드를 추가해보겠다\n",
        "    def universal(self):\n",
        "      if self.company=='Universal':\n",
        "        return \"Yes\"\n",
        "      else:\n",
        "        return \"No\"\n",
        "\n",
        "\n",
        "watermelonsugar=pop(95, 'Very Popular', 'English', 'Harry Styles', 'Sony')\n",
        "print(watermelonsugar.fast_music())\n",
        "print(watermelonsugar.universal())"
      ],
      "execution_count": null,
      "outputs": [
        {
          "output_type": "stream",
          "text": [
            "slow\n",
            "No\n"
          ],
          "name": "stdout"
        }
      ]
    },
    {
      "cell_type": "code",
      "metadata": {
        "id": "lUereRlNqbLk",
        "outputId": "bd1e7c1d-2096-4769-e401-eedd1212ca84",
        "colab": {
          "base_uri": "https://localhost:8080/"
        }
      },
      "source": [
        "#Composition을 연습해 보기 위해 내가 1주일에 잘 수 있는 최대 수면 시간을 구해보겠다\n",
        "#우선 ds class 시간을 구하는 클래스 생성\n",
        "class dsft_class():\n",
        "  def __init__(self, hour):\n",
        "    self.hour=hour\n",
        "  \n",
        "  def weekly_class(self):\n",
        "    return (self.hour*5)\n",
        "\n",
        "#과제를 하는 것에 해당하는 클래스 생성\n",
        "class study():\n",
        "  def __init__(self, hour, assignment):\n",
        "    self.hour=hour\n",
        "    self.assignment=assignment\n",
        "    self.class_hour=dsft_class(self.hour)\n",
        "\n",
        " #두 클래스에서 결론을 도출해보겠다 \n",
        "  def max_sleep(self):\n",
        "    return 144-(self.class_hour.weekly_class()+self.assignment)\n",
        "\n",
        "thisweek=study(3, 40)\n",
        "thisweek.max_sleep()"
      ],
      "execution_count": null,
      "outputs": [
        {
          "output_type": "execute_result",
          "data": {
            "text/plain": [
              "89"
            ]
          },
          "metadata": {
            "tags": []
          },
          "execution_count": 7
        }
      ]
    }
  ]
}