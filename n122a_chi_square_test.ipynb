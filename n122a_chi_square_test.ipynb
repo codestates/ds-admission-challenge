{
  "nbformat": 4,
  "nbformat_minor": 0,
  "metadata": {
    "colab": {
      "name": "n122a-chi-square-test.ipynb",
      "provenance": [],
      "collapsed_sections": []
    },
    "kernelspec": {
      "display_name": "Python 3",
      "language": "python",
      "name": "python3"
    },
    "language_info": {
      "codemirror_mode": {
        "name": "ipython",
        "version": 3
      },
      "file_extension": ".py",
      "mimetype": "text/x-python",
      "name": "python",
      "nbconvert_exporter": "python",
      "pygments_lexer": "ipython3",
      "version": "3.8.5"
    }
  },
  "cells": [
    {
      "cell_type": "markdown",
      "metadata": {
        "id": "rQf3dSuc5PqO",
        "colab_type": "text"
      },
      "source": [
        "<img src='https://i.imgur.com/RDAD11M.png' width = '200' align = 'right'>\n",
        "\n",
        "## *DATA SCIENCE / SECTION 1 / SPRINT 2 / NOTE 2*\n",
        "\n",
        "# 📝 Assignment\n",
        "\n",
        "# $\\chi^2$ 연습"
      ]
    },
    {
      "cell_type": "markdown",
      "metadata": {
        "colab_type": "text",
        "id": "11OzdxWTM7UR"
      },
      "source": [
        "원하는 데이터셋을 사용하여, categorical variable 간의 관계를 확인하세요:\n",
        "\n",
        "- 상관관계가 있을 것 같은 쌍과 없을 것 같은 쌍 2가지에 대해서 해야합니다.\n",
        "\n",
        "### 1) 데이터셋을 데이터프레임의 형태로 불러오세요.\n"
      ]
    },
    {
      "cell_type": "code",
      "metadata": {
        "colab_type": "code",
        "id": "UQwvrhn7m3Mn",
        "colab": {
          "base_uri": "https://localhost:8080/",
          "height": 419
        },
        "outputId": "0acf3cf5-92da-4bcd-bb95-ed0716660f49"
      },
      "source": [
        "# 코드를 작성하세요\n",
        "import pandas as pd\n",
        "\n",
        "titanic = pd.read_csv(\"https://web.stanford.edu/class/archive/cs/cs109/cs109.1166/stuff/titanic.csv\")\n",
        "titanic = titanic.replace({'male': 1, 'female': 0})\n",
        "titanic"
      ],
      "execution_count": 52,
      "outputs": [
        {
          "output_type": "execute_result",
          "data": {
            "text/html": [
              "<div>\n",
              "<style scoped>\n",
              "    .dataframe tbody tr th:only-of-type {\n",
              "        vertical-align: middle;\n",
              "    }\n",
              "\n",
              "    .dataframe tbody tr th {\n",
              "        vertical-align: top;\n",
              "    }\n",
              "\n",
              "    .dataframe thead th {\n",
              "        text-align: right;\n",
              "    }\n",
              "</style>\n",
              "<table border=\"1\" class=\"dataframe\">\n",
              "  <thead>\n",
              "    <tr style=\"text-align: right;\">\n",
              "      <th></th>\n",
              "      <th>Survived</th>\n",
              "      <th>Pclass</th>\n",
              "      <th>Name</th>\n",
              "      <th>Sex</th>\n",
              "      <th>Age</th>\n",
              "      <th>Siblings/Spouses Aboard</th>\n",
              "      <th>Parents/Children Aboard</th>\n",
              "      <th>Fare</th>\n",
              "    </tr>\n",
              "  </thead>\n",
              "  <tbody>\n",
              "    <tr>\n",
              "      <th>0</th>\n",
              "      <td>0</td>\n",
              "      <td>3</td>\n",
              "      <td>Mr. Owen Harris Braund</td>\n",
              "      <td>1</td>\n",
              "      <td>22.0</td>\n",
              "      <td>1</td>\n",
              "      <td>0</td>\n",
              "      <td>7.2500</td>\n",
              "    </tr>\n",
              "    <tr>\n",
              "      <th>1</th>\n",
              "      <td>1</td>\n",
              "      <td>1</td>\n",
              "      <td>Mrs. John Bradley (Florence Briggs Thayer) Cum...</td>\n",
              "      <td>0</td>\n",
              "      <td>38.0</td>\n",
              "      <td>1</td>\n",
              "      <td>0</td>\n",
              "      <td>71.2833</td>\n",
              "    </tr>\n",
              "    <tr>\n",
              "      <th>2</th>\n",
              "      <td>1</td>\n",
              "      <td>3</td>\n",
              "      <td>Miss. Laina Heikkinen</td>\n",
              "      <td>0</td>\n",
              "      <td>26.0</td>\n",
              "      <td>0</td>\n",
              "      <td>0</td>\n",
              "      <td>7.9250</td>\n",
              "    </tr>\n",
              "    <tr>\n",
              "      <th>3</th>\n",
              "      <td>1</td>\n",
              "      <td>1</td>\n",
              "      <td>Mrs. Jacques Heath (Lily May Peel) Futrelle</td>\n",
              "      <td>0</td>\n",
              "      <td>35.0</td>\n",
              "      <td>1</td>\n",
              "      <td>0</td>\n",
              "      <td>53.1000</td>\n",
              "    </tr>\n",
              "    <tr>\n",
              "      <th>4</th>\n",
              "      <td>0</td>\n",
              "      <td>3</td>\n",
              "      <td>Mr. William Henry Allen</td>\n",
              "      <td>1</td>\n",
              "      <td>35.0</td>\n",
              "      <td>0</td>\n",
              "      <td>0</td>\n",
              "      <td>8.0500</td>\n",
              "    </tr>\n",
              "    <tr>\n",
              "      <th>...</th>\n",
              "      <td>...</td>\n",
              "      <td>...</td>\n",
              "      <td>...</td>\n",
              "      <td>...</td>\n",
              "      <td>...</td>\n",
              "      <td>...</td>\n",
              "      <td>...</td>\n",
              "      <td>...</td>\n",
              "    </tr>\n",
              "    <tr>\n",
              "      <th>882</th>\n",
              "      <td>0</td>\n",
              "      <td>2</td>\n",
              "      <td>Rev. Juozas Montvila</td>\n",
              "      <td>1</td>\n",
              "      <td>27.0</td>\n",
              "      <td>0</td>\n",
              "      <td>0</td>\n",
              "      <td>13.0000</td>\n",
              "    </tr>\n",
              "    <tr>\n",
              "      <th>883</th>\n",
              "      <td>1</td>\n",
              "      <td>1</td>\n",
              "      <td>Miss. Margaret Edith Graham</td>\n",
              "      <td>0</td>\n",
              "      <td>19.0</td>\n",
              "      <td>0</td>\n",
              "      <td>0</td>\n",
              "      <td>30.0000</td>\n",
              "    </tr>\n",
              "    <tr>\n",
              "      <th>884</th>\n",
              "      <td>0</td>\n",
              "      <td>3</td>\n",
              "      <td>Miss. Catherine Helen Johnston</td>\n",
              "      <td>0</td>\n",
              "      <td>7.0</td>\n",
              "      <td>1</td>\n",
              "      <td>2</td>\n",
              "      <td>23.4500</td>\n",
              "    </tr>\n",
              "    <tr>\n",
              "      <th>885</th>\n",
              "      <td>1</td>\n",
              "      <td>1</td>\n",
              "      <td>Mr. Karl Howell Behr</td>\n",
              "      <td>1</td>\n",
              "      <td>26.0</td>\n",
              "      <td>0</td>\n",
              "      <td>0</td>\n",
              "      <td>30.0000</td>\n",
              "    </tr>\n",
              "    <tr>\n",
              "      <th>886</th>\n",
              "      <td>0</td>\n",
              "      <td>3</td>\n",
              "      <td>Mr. Patrick Dooley</td>\n",
              "      <td>1</td>\n",
              "      <td>32.0</td>\n",
              "      <td>0</td>\n",
              "      <td>0</td>\n",
              "      <td>7.7500</td>\n",
              "    </tr>\n",
              "  </tbody>\n",
              "</table>\n",
              "<p>887 rows × 8 columns</p>\n",
              "</div>"
            ],
            "text/plain": [
              "     Survived  Pclass  ... Parents/Children Aboard     Fare\n",
              "0           0       3  ...                       0   7.2500\n",
              "1           1       1  ...                       0  71.2833\n",
              "2           1       3  ...                       0   7.9250\n",
              "3           1       1  ...                       0  53.1000\n",
              "4           0       3  ...                       0   8.0500\n",
              "..        ...     ...  ...                     ...      ...\n",
              "882         0       2  ...                       0  13.0000\n",
              "883         1       1  ...                       0  30.0000\n",
              "884         0       3  ...                       2  23.4500\n",
              "885         1       1  ...                       0  30.0000\n",
              "886         0       3  ...                       0   7.7500\n",
              "\n",
              "[887 rows x 8 columns]"
            ]
          },
          "metadata": {
            "tags": []
          },
          "execution_count": 52
        }
      ]
    },
    {
      "cell_type": "code",
      "metadata": {
        "id": "nb6UsgyoDuTp",
        "colab_type": "code",
        "colab": {
          "base_uri": "https://localhost:8080/",
          "height": 136
        },
        "outputId": "6c99be70-56c2-49e4-fe27-7cede0ae96e7"
      },
      "source": [
        "print(titanic[['Survived','Pclass','Siblings/Spouses Aboard','Age','Parents/Children Aboard', 'Sex']].dtypes)"
      ],
      "execution_count": 53,
      "outputs": [
        {
          "output_type": "stream",
          "text": [
            "Survived                     int64\n",
            "Pclass                       int64\n",
            "Siblings/Spouses Aboard      int64\n",
            "Age                        float64\n",
            "Parents/Children Aboard      int64\n",
            "Sex                          int64\n",
            "dtype: object\n"
          ],
          "name": "stdout"
        }
      ]
    },
    {
      "cell_type": "code",
      "metadata": {
        "id": "dSeNUetHAkRA",
        "colab_type": "code",
        "colab": {
          "base_uri": "https://localhost:8080/",
          "height": 136
        },
        "outputId": "cfc5176c-e310-4fa8-a74c-c5e2e710b13e"
      },
      "source": [
        "titanic_numcat = titanic[['Survived','Pclass','Siblings/Spouses Aboard','Age','Parents/Children Aboard', 'Sex']].astype('category')\n",
        "print(titanic_numcat.dtypes)"
      ],
      "execution_count": 54,
      "outputs": [
        {
          "output_type": "stream",
          "text": [
            "Survived                   category\n",
            "Pclass                     category\n",
            "Siblings/Spouses Aboard    category\n",
            "Age                        category\n",
            "Parents/Children Aboard    category\n",
            "Sex                        category\n",
            "dtype: object\n"
          ],
          "name": "stdout"
        }
      ]
    },
    {
      "cell_type": "code",
      "metadata": {
        "id": "Ca0s5bJJMjlW",
        "colab_type": "code",
        "colab": {
          "base_uri": "https://localhost:8080/",
          "height": 187
        },
        "outputId": "861afdf9-40af-4ed9-ab3e-f6acaff51ccd"
      },
      "source": [
        "import numpy as np\n",
        "\n",
        "observation_pclass_surv = pd.crosstab(titanic_numcat['Pclass'], titanic_numcat['Survived'])\n",
        "print(observation_pclass_surv)\n",
        "print('---')\n",
        "observation_surv_pclass = pd.crosstab(titanic_numcat['Pclass'], titanic_numcat['Survived'])\n",
        "print(observation_pclass_surv.sum())"
      ],
      "execution_count": 56,
      "outputs": [
        {
          "output_type": "stream",
          "text": [
            "Survived    0    1\n",
            "Pclass            \n",
            "1          80  136\n",
            "2          97   87\n",
            "3         368  119\n",
            "---\n",
            "Survived\n",
            "0    545\n",
            "1    342\n",
            "dtype: int64\n"
          ],
          "name": "stdout"
        }
      ]
    },
    {
      "cell_type": "markdown",
      "metadata": {
        "colab_type": "text",
        "id": "RXPZZuAi3ccI"
      },
      "source": [
        "### 2) `stats.chi2_contingency()` 를 사용하여 $\\chi^2$ test를 시행하세요:\n",
        " - 연관이 있는 변수 쌍에 대해서.\n",
        " - 연관이 없는 변수 쌍에 대해서.\n",
        " \n",
        "상관관계가 있을 것 같은 변수 간의 검정 결과가 잘 설명 되나요?"
      ]
    },
    {
      "cell_type": "markdown",
      "metadata": {
        "id": "kcg1DUjse5sW",
        "colab_type": "text"
      },
      "source": [
        "#### 서로 연관이 있을것 같은 변수 쌍 (P class vs Survived)\n",
        "  "
      ]
    },
    {
      "cell_type": "code",
      "metadata": {
        "id": "AVzNGxjqh0bH",
        "colab_type": "code",
        "colab": {
          "base_uri": "https://localhost:8080/",
          "height": 119
        },
        "outputId": "3bfbb343-f8a8-422f-e58e-23d9eefb5115"
      },
      "source": [
        "from scipy.stats import chi2_contingency\n",
        "chi2_contingency(observation_pclass_surv, correction = False)"
      ],
      "execution_count": 57,
      "outputs": [
        {
          "output_type": "execute_result",
          "data": {
            "text/plain": [
              "(101.21674250560609,\n",
              " 1.0496962042983216e-22,\n",
              " 2,\n",
              " array([[132.71702368,  83.28297632],\n",
              "        [113.05524239,  70.94475761],\n",
              "        [299.22773393, 187.77226607]]))"
            ]
          },
          "metadata": {
            "tags": []
          },
          "execution_count": 57
        }
      ]
    },
    {
      "cell_type": "markdown",
      "metadata": {
        "id": "KABDEzBgi9il",
        "colab_type": "text"
      },
      "source": [
        "```\n",
        "우선, chi^2 test 값은 : 101.216\n",
        "```\n",
        "```\n",
        "p value 는 0.00000000000000000000001049~ 라서. 거의 0과 같다.\n",
        "chi^2의 H0 은 두 변수간 연관이 없다.\n",
        "p-val is nearly 0, which means, we need to reject null and accept HA.\n",
        "HA: 두 변수간 연관이 있다.\n",
        "```\n",
        "```\n",
        "df = 2\n",
        "(2-sample DF: (#of row -1)*(# of col -1) = 2 * 1 = 2)\n",
        "```"
      ]
    },
    {
      "cell_type": "markdown",
      "metadata": {
        "id": "XjduhF86e9UM",
        "colab_type": "text"
      },
      "source": [
        "#### 서로 연관이 없는 변수쌍 (Pclass vs Siblings and Spouses)"
      ]
    },
    {
      "cell_type": "code",
      "metadata": {
        "id": "Gf-K3ywIfrSZ",
        "colab_type": "code",
        "colab": {
          "base_uri": "https://localhost:8080/",
          "height": 187
        },
        "outputId": "950db3a9-b8f0-4290-881c-c585de529815"
      },
      "source": [
        "observation_pclass_sex = pd.crosstab(titanic_numcat['Pclass'], titanic_numcat['Sex'])\n",
        "print(observation_pclass_sex)\n",
        "print('---')\n",
        "print(observation_pclass_sex.sum()) #sum by column"
      ],
      "execution_count": 84,
      "outputs": [
        {
          "output_type": "stream",
          "text": [
            "Sex       0    1\n",
            "Pclass          \n",
            "1        94  122\n",
            "2        76  108\n",
            "3       144  343\n",
            "---\n",
            "Sex\n",
            "0    314\n",
            "1    573\n",
            "dtype: int64\n"
          ],
          "name": "stdout"
        }
      ]
    },
    {
      "cell_type": "code",
      "metadata": {
        "id": "dZFp3-Ucf1gJ",
        "colab_type": "code",
        "colab": {
          "base_uri": "https://localhost:8080/",
          "height": 119
        },
        "outputId": "c4821849-341e-431f-a850-e26421858113"
      },
      "source": [
        "chi2_contingency(observation_pclass_sex)\n",
        "\n",
        "# chi^2 : (122+108+343)*(76+108)\n",
        "# P value : 0.0002928685533212755 safe to say 0\n",
        "# Degree of Freedom : 2 = (3-1)*(2-1)\n",
        "# and shows array"
      ],
      "execution_count": 85,
      "outputs": [
        {
          "output_type": "execute_result",
          "data": {
            "text/plain": [
              "(16.271573346171404,\n",
              " 0.0002928685533212755,\n",
              " 2,\n",
              " array([[ 76.46448703, 139.53551297],\n",
              "        [ 65.13641488, 118.86358512],\n",
              "        [172.39909808, 314.60090192]]))"
            ]
          },
          "metadata": {
            "tags": []
          },
          "execution_count": 85
        }
      ]
    },
    {
      "cell_type": "markdown",
      "metadata": {
        "id": "nyjBANNzf48l",
        "colab_type": "text"
      },
      "source": [
        "```\n",
        "chi^2 test value : 16.271573346171404\n",
        "```\n",
        "```\n",
        "p-value : 0.0002928685533212755\n",
        "H0 : 두 변수간 연관이 없다. HA : 두 변수간 연관이 있다.\n",
        "P class \n",
        "```\n",
        "```\n",
        "df = 2\n",
        "2-sample of df :(#of row -1)*(# of col -1) = (2-1) * (3-1) = 1 * 2 = 2\n",
        "```\n"
      ]
    },
    {
      "cell_type": "markdown",
      "metadata": {
        "colab_type": "text",
        "id": "Tf7XPpBP6YqX"
      },
      "source": [
        "### 3) NumPy 를 사용하여 (Scipy를 사용하지 않고) $\\chi^2$ test 시행\n",
        "\n",
        "이 후 `chi2_contingency()`의 결과물과 비교해보세요"
      ]
    },
    {
      "cell_type": "markdown",
      "metadata": {
        "id": "gQVDmXm6zu2G",
        "colab_type": "text"
      },
      "source": [
        "#### Original Sub"
      ]
    },
    {
      "cell_type": "code",
      "metadata": {
        "colab_type": "code",
        "id": "Et5DtusY6maX",
        "colab": {}
      },
      "source": [
        "# scipy.stats.chi2_contingency : \"Chi-square test of independence of variables in a contingency table\"\n",
        "# scipy.stats.chisquare : \"The chi square test tests the null hypothesis that the categorical data has the given frequencies.\""
      ],
      "execution_count": null,
      "outputs": []
    },
    {
      "cell_type": "code",
      "metadata": {
        "id": "Qi8MAs9Ih5VC",
        "colab_type": "code",
        "colab": {
          "base_uri": "https://localhost:8080/",
          "height": 187
        },
        "outputId": "748eee1f-6657-4889-f488-24bb37d61cca"
      },
      "source": [
        "# 관계 있음\n",
        "import pandas as pd\n",
        "import numpy as np\n",
        "\n",
        "observation_pclass_surv = pd.crosstab(titanic_numcat['Pclass'], titanic_numcat['Survived'])\n",
        "print(observation_pclass_surv)\n",
        "print('---')\n",
        "observation_surv_pclass = pd.crosstab(titanic_numcat['Pclass'], titanic_numcat['Survived'])\n",
        "print(observation_pclass_surv.sum())"
      ],
      "execution_count": 36,
      "outputs": [
        {
          "output_type": "stream",
          "text": [
            "Survived    0    1\n",
            "Pclass            \n",
            "1          80  136\n",
            "2          97   87\n",
            "3         368  119\n",
            "---\n",
            "Survived\n",
            "0    545\n",
            "1    342\n",
            "dtype: int64\n"
          ],
          "name": "stdout"
        }
      ]
    },
    {
      "cell_type": "code",
      "metadata": {
        "colab_type": "code",
        "id": "AntnuAkFm-JQ",
        "colab": {
          "base_uri": "https://localhost:8080/",
          "height": 34
        },
        "outputId": "10196afb-2253-4e07-b912-babc55f9cb25"
      },
      "source": [
        "# 코드를 작성하세요\n",
        "obs_ps = np.array([80, 136, 97, 87, 368, 119]) #이렇게하면 안된다. Matrix 맞춰주어야 한다.\n",
        "obs_ps"
      ],
      "execution_count": 67,
      "outputs": [
        {
          "output_type": "execute_result",
          "data": {
            "text/plain": [
              "array([ 80, 136,  97,  87, 368, 119])"
            ]
          },
          "metadata": {
            "tags": []
          },
          "execution_count": 67
        }
      ]
    },
    {
      "cell_type": "code",
      "metadata": {
        "id": "MT9B-hnqgKrw",
        "colab_type": "code",
        "colab": {
          "base_uri": "https://localhost:8080/",
          "height": 34
        },
        "outputId": "f590c670-de3c-461e-e278-312f11b3317f"
      },
      "source": [
        "total_obs_ps = np.sum(obs_ps)\n",
        "print(total_obs_ps)\n",
        "\n",
        "# 컴퓨터가 봤을때는 같은 matrix라서 ㅇㅋ 하고 정상 작동했지만, 값이 달라졌다.\n",
        "expected_ps = np.array([(80+97+368)*(80+136), (80+97+368)*(97+87), (80+97+368)*(368+119), (136+87+119)*(80+136), (136+87+119)*(97+87), (136+87+119)*(368+119)])"
      ],
      "execution_count": 68,
      "outputs": [
        {
          "output_type": "stream",
          "text": [
            "887\n"
          ],
          "name": "stdout"
        }
      ]
    },
    {
      "cell_type": "code",
      "metadata": {
        "id": "c47KOcl8gMY6",
        "colab_type": "code",
        "colab": {
          "base_uri": "https://localhost:8080/",
          "height": 51
        },
        "outputId": "2cd39602-5c5e-45db-d949-2d1387fd2c8d"
      },
      "source": [
        "expected_ps = expected_ps / total_obs_ps\n",
        "expected_ps # 위에서 chi2_contingency() 사용했을때의 array 와 같다.\n",
        "\n",
        "#이것도 얼핏 보기에는, chi2_contingency와 숫자는 같아서 내가 맞는줄 알았다."
      ],
      "execution_count": 69,
      "outputs": [
        {
          "output_type": "execute_result",
          "data": {
            "text/plain": [
              "array([132.71702368, 113.05524239, 299.22773393,  83.28297632,\n",
              "        70.94475761, 187.77226607])"
            ]
          },
          "metadata": {
            "tags": []
          },
          "execution_count": 69
        }
      ]
    },
    {
      "cell_type": "code",
      "metadata": {
        "id": "EX1c6OQtgPad",
        "colab_type": "code",
        "colab": {
          "base_uri": "https://localhost:8080/",
          "height": 51
        },
        "outputId": "d04d8621-1758-4f14-f2be-f6299a44823e"
      },
      "source": [
        "sqrd = np.power(obs_ps - expected_ps, 2)\n",
        "print(sqrd)\n",
        "\n",
        "#이것도 나온 값은 같지만, matrix error."
      ],
      "execution_count": 70,
      "outputs": [
        {
          "output_type": "stream",
          "text": [
            "[2.77908459e+03 5.26461902e+02 4.08960564e+04 1.38162650e+01\n",
            " 8.82418170e+04 4.72962458e+03]\n"
          ],
          "name": "stdout"
        }
      ]
    },
    {
      "cell_type": "code",
      "metadata": {
        "id": "d30h-wEjgVR6",
        "colab_type": "code",
        "colab": {
          "base_uri": "https://localhost:8080/",
          "height": 34
        },
        "outputId": "47c33101-0313-4f63-cb63-a13fe4563513"
      },
      "source": [
        "x2 = np.sum(sqrd / expected_ps)\n",
        "print(x2)\n",
        "\n",
        "#그래서 이런 해괴한 숫자가 나왔다."
      ],
      "execution_count": 41,
      "outputs": [
        {
          "output_type": "stream",
          "text": [
            "1431.432854884952\n"
          ],
          "name": "stdout"
        }
      ]
    },
    {
      "cell_type": "code",
      "metadata": {
        "id": "9J7tCxrl1InA",
        "colab_type": "code",
        "colab": {
          "base_uri": "https://localhost:8080/",
          "height": 34
        },
        "outputId": "cf9b7caf-046b-4ac1-a62d-493defffa555"
      },
      "source": [
        "from scipy.stats import chi2\n",
        "print( 1 - chi2.cdf(x2, df = ((3-1)*(2-1))))"
      ],
      "execution_count": 45,
      "outputs": [
        {
          "output_type": "stream",
          "text": [
            "0.0\n"
          ],
          "name": "stdout"
        }
      ]
    },
    {
      "cell_type": "code",
      "metadata": {
        "id": "2WAxyE-F1_A2",
        "colab_type": "code",
        "colab": {}
      },
      "source": [
        ""
      ],
      "execution_count": null,
      "outputs": []
    },
    {
      "cell_type": "markdown",
      "metadata": {
        "id": "LsYcCGhezzPi",
        "colab_type": "text"
      },
      "source": [
        "#### re-sub requested doing it again the 2 sample Chi-sq\n",
        "와!!!~~WA 샌즈!!~~ Freakin, YES!!!!!!"
      ]
    },
    {
      "cell_type": "code",
      "metadata": {
        "id": "IZxgkcA5z8GD",
        "colab_type": "code",
        "colab": {
          "base_uri": "https://localhost:8080/",
          "height": 51
        },
        "outputId": "3e96d3e5-009d-4324-e89f-9f6d824bb378"
      },
      "source": [
        "# related\n",
        "data = np.array([[80, 136],\n",
        "                 [97, 87],\n",
        "                 [368, 119]])\n",
        "\n",
        "exp = np.array([\n",
        "                [(80+97+368)*(80+136), (136+87+119)*(80+136)],\n",
        "                [(80+97+368)*(97+87), (136+87+119)*(97+87)],\n",
        "                [(80+97+368)*(368+119), (136+87+119)*(368+119)]\n",
        "                ]) / np.sum(data)\n",
        "\n",
        "chi = np.sum( np.power(data-exp,2)/exp )\n",
        "print(chi) #와 대박사껀, 101.21674250 chi2_contingency() 와 동일한 값이 나왔다.\n",
        "print( 1 - chi2.cdf(chi, df = (2-1)*(2-1) )) # 0.0 P value가 0에 가까운건 나도 아는 사실이다."
      ],
      "execution_count": 76,
      "outputs": [
        {
          "output_type": "stream",
          "text": [
            "101.21674250560609\n",
            "0.0\n"
          ],
          "name": "stdout"
        }
      ]
    },
    {
      "cell_type": "markdown",
      "metadata": {
        "id": "XT_-Lmxx-Kw6",
        "colab_type": "text"
      },
      "source": [
        "#### 왜 그동안 제대로 된 chi^2 값을 주지 않고 이상한 1431.432~~ 가 떴었나?\n",
        "\n",
        "np.array() 에서 리스트?를 만들때, Matrix를 맞추지 않고 그냥 쭈욱 나열을 했었다. (그냥 그렇게 보여서...)\n",
        "코드도 정상 작동을했었고 (이상한 값을 주기는 했지만) [에러는 발생하는데 에러코드는 뜨지않는 버그 encounter 2번째... \n",
        "\n",
        "구글링에서 (Either make those things matrices or...) 라는것을 보고.\n",
        "\n",
        "진환님께서 올리신 Additional Contents에 있는것을 유심히 관찰하던 중,\n",
        "\n",
        "내가 작성하던, np.array들이 matrix를 따르지 않는것을 발견하였다.\n",
        "\n",
        "1. 오타 주의\n",
        "2. array는 matrix를 맞춰서 잘 작성하자 (square bracket에 유의하자.)\n",
        "\n"
      ]
    },
    {
      "cell_type": "code",
      "metadata": {
        "id": "DP5NdzoliKvK",
        "colab_type": "code",
        "colab": {
          "base_uri": "https://localhost:8080/",
          "height": 170
        },
        "outputId": "48e7f698-cbf7-4168-944f-daf0f7685339"
      },
      "source": [
        "# 관계 없음\n",
        "observation_pclass_sex = pd.crosstab(titanic_numcat['Pclass'], titanic_numcat['Sex'])\n",
        "print(observation_pclass_sex)\n",
        "print(observation_pclass_sex.sum())"
      ],
      "execution_count": null,
      "outputs": [
        {
          "output_type": "stream",
          "text": [
            "Sex       0    1\n",
            "Pclass          \n",
            "1        94  122\n",
            "2        76  108\n",
            "3       144  343\n",
            "Sex\n",
            "0    314\n",
            "1    573\n",
            "dtype: int64\n"
          ],
          "name": "stdout"
        }
      ]
    },
    {
      "cell_type": "code",
      "metadata": {
        "id": "uQXErO2-euVp",
        "colab_type": "code",
        "colab": {}
      },
      "source": [
        "obs_pg = np.array([\n",
        "                   [94, 122],\n",
        "                   [76, 108],\n",
        "                   [144, 343]\n",
        "                   ]) # 아 그동안 진환님이 왜 이렇게 작성했는지 알겠다. []이거 차이점 최대한 덜 헷갈리게 보여주려고 그러셨었나보다."
      ],
      "execution_count": 79,
      "outputs": []
    },
    {
      "cell_type": "code",
      "metadata": {
        "id": "gJvfymiTeurr",
        "colab_type": "code",
        "colab": {
          "base_uri": "https://localhost:8080/",
          "height": 34
        },
        "outputId": "65be744e-50a8-4e23-b9b5-a48521209ae3"
      },
      "source": [
        "total_obs_pg = np.sum(obs_pg)\n",
        "print(total_obs_pg)\n",
        "\n",
        "expected_pg = np.array([\n",
        "                        [(94+76+144)*(94+122), (122+108+343)*(94+122)],\n",
        "                        [(94+76+144)*(76+108), (122+108+343)*(76+108)],\n",
        "                        [(94+76+144)*(144+343), (122+108+343)*(144+343)]\n",
        "                        ])"
      ],
      "execution_count": 80,
      "outputs": [
        {
          "output_type": "stream",
          "text": [
            "887\n"
          ],
          "name": "stdout"
        }
      ]
    },
    {
      "cell_type": "code",
      "metadata": {
        "id": "vA5W67vUeuiT",
        "colab_type": "code",
        "colab": {
          "base_uri": "https://localhost:8080/",
          "height": 68
        },
        "outputId": "86060486-134a-4049-8403-141d7c7acda0"
      },
      "source": [
        "expected_pg = expected_pg / total_obs_pg\n",
        "expected_pg #ㅗㅜㅑ 이제 matrices 맞춰서 나온다. ㅎㅎ"
      ],
      "execution_count": 81,
      "outputs": [
        {
          "output_type": "execute_result",
          "data": {
            "text/plain": [
              "array([[ 76.46448703, 139.53551297],\n",
              "       [ 65.13641488, 118.86358512],\n",
              "       [172.39909808, 314.60090192]])"
            ]
          },
          "metadata": {
            "tags": []
          },
          "execution_count": 81
        }
      ]
    },
    {
      "cell_type": "code",
      "metadata": {
        "id": "JGN0J0XUeuLi",
        "colab_type": "code",
        "colab": {
          "base_uri": "https://localhost:8080/",
          "height": 68
        },
        "outputId": "ab61d329-dbd7-4b18-cf4c-740c89160b2b"
      },
      "source": [
        "sqrd_pg = np.power(obs_pg - expected_pg, 2)\n",
        "print(sqrd_pg)"
      ],
      "execution_count": 82,
      "outputs": [
        {
          "output_type": "stream",
          "text": [
            "[[307.49421495 307.49421495]\n",
            " [118.01748162 118.01748162]\n",
            " [806.50877195 806.50877195]]\n"
          ],
          "name": "stdout"
        }
      ]
    },
    {
      "cell_type": "code",
      "metadata": {
        "id": "Wwq20m9FkI4V",
        "colab_type": "code",
        "colab": {
          "base_uri": "https://localhost:8080/",
          "height": 34
        },
        "outputId": "4416b89e-b286-4a2f-9b2d-14317db5a917"
      },
      "source": [
        "x2_pg = np.sum(sqrd_pg / expected_pg)\n",
        "print(x2_pg)\n",
        "\n",
        "#아 드디어!!! 올바른 답이 나온다!!!"
      ],
      "execution_count": 83,
      "outputs": [
        {
          "output_type": "stream",
          "text": [
            "16.271573346171404\n"
          ],
          "name": "stdout"
        }
      ]
    },
    {
      "cell_type": "markdown",
      "metadata": {
        "colab_type": "text",
        "id": "a2BrKHq8m8AS"
      },
      "source": [
        "## 도전 과제:\n",
        "\n",
        "### 1. 작성된 코드들을 함수의 형태로 변경하여, 읽거나 재 사용 하기 쉽게 리팩토링 해보세요."
      ]
    },
    {
      "cell_type": "markdown",
      "metadata": {
        "colab_type": "text",
        "id": "4ohsJhQUmEuS"
      },
      "source": [
        "\n",
        "\n",
        "### 2. 다음 주제들에 대해서, 공부 후 간단한 설명글을 작성해보세요:\n",
        "\n",
        "1. 통계에서 표본 \"추정\"이란 무엇일까요?\n",
        "(What is \"estimation\" in statistics?)\n",
        ">\n",
        "\n",
        "2. 가설검정이란 무엇일까요? 그것이 어떻게 쓰이나요?  (What is a Hypothesis Test and where it's used?) **(Type I and Type II Error...)**\n",
        "> 한국에서 팔리는 자동차중, 50%는 외제차일것이다! 라는, 가설을 세웠을때\n",
        "그 가설이 맞는지, 통계학적으로 test 하는것을 Hypothesis Testing 이라고 한다.\n",
        "> 전체를 검증하기는 어렵기 때문에, 표본(sample)을 검증해야 하는데, 그 것이 맞나 확인하는 것\n",
        "\n",
        "3. \"귀무가설\"이란 무엇인가요? (What is a Null Hypothesis?) \n",
        "> 귀 : 돌아갈 귀, [1. 돌아가다, 돌아오다 2. 돌려보내다 3. 따르다, 붙좇다(존경하거나 섬겨 따르다) 4. (몸을)의탁하다]\n",
        "무: 없을 무\n",
        ">>H0 is the commonly accepted fact.\n",
        "흔히/보통 일반적으로 받아드려지는 사실.\n",
        "\n",
        "\n",
        "4. p-value와 그것이 의미하는 바는 무엇인가요? (What is a P-value and what does it mean?)\n",
        "> p value는 H0을 뒷받침 해주는/ 근거로 사용 하는 값.\n",
        ">> If the P-value is less than (or equal to) significance lvl : (alpha) or (1 - confidence lvl), reject the null hypothesis in favor of the alternative hypothesis. \n",
        "If the P-value is greater than, do not reject the null hypothesis.\n",
        "\n",
        "> p value가 크면 클수록, H0일 확률이 크다! 우리가 정한 significance lvl 이하 일때는, reject H0\n",
        "> 우리가 scipy로 볼 수 있는 P-value는\n",
        "> H0가 똑같이 발현될 확률! 이라고 생각하면 좋을듯 하다...\n",
        "> P value가 낮으면 낮을 수 록 H0가 발혈될 확률이 낮아 지기때문에 H0를 reject 한다.\n",
        "\n",
        "5. \"통계적으로 유의하다\" 에 대해서 설명해보세요 (Explain \"statistical significant\")\n",
        "> “Statistical significance helps quantify whether a result is likely due to chance or to some factor of interest,”\n",
        "> statistical significance 는 결과가 단순히 우연히 일어난것인지 아닌지 판단하는데 도움을 주는 값\n",
        "> 일반적으로 우리가 봤을땐, 우연히 들어 맞은것이 처럼 보였어도, 통계적 측면에서 보았을때, 큰 의미!\n",
        "\n",
        "\n",
        "6. 테스트 통계치 (test statistic) 가 무엇인지, 그리고 p-value와 어떻게 연관이 있나요? (What is test statistic and how is it related to p value)\n",
        "> \n",
        "\n",
        "7. 자유도 (\"degrees of freedom\")란 그리고 다음 경우에 대해서 어떻게 계산을 하나요?\n",
        "(How do you find df when) 1-sammple, 2-sample $\\chi^2$ test\n",
        ">\n"
      ]
    }
  ]
}