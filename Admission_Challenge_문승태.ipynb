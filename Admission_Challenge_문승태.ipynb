{
  "nbformat": 4,
  "nbformat_minor": 0,
  "metadata": {
    "colab": {
      "name": "Admission Challenge - 문승태.ipynb",
      "provenance": [],
      "collapsed_sections": [],
      "include_colab_link": true
    },
    "kernelspec": {
      "name": "python3",
      "display_name": "Python 3"
    }
  },
  "cells": [
    {
      "cell_type": "markdown",
      "metadata": {
        "id": "view-in-github",
        "colab_type": "text"
      },
      "source": [
        "<a href=\"https://colab.research.google.com/github/seungtaemoon/ds-admission-challenge/blob/master/Admission_Challenge_%EB%AC%B8%EC%8A%B9%ED%83%9C.ipynb\" target=\"_parent\"><img src=\"https://colab.research.google.com/assets/colab-badge.svg\" alt=\"Open In Colab\"/></a>"
      ]
    },
    {
      "cell_type": "markdown",
      "metadata": {
        "id": "-q8YiM6xsp0X",
        "colab_type": "text"
      },
      "source": [
        "# Challenge\n",
        "\n",
        "- 코드스테이츠 DS 부트캠프 어드미션을 위한 Challenge 과제 입니다. \n",
        "- 아래 challenge 를 풀기 위해 제공된 강의가 모든 것을 알려주진 않습니다. \n",
        "- 따라서 필요한 부분은 스스로 google 검색을 통해 이 challenge 를 완성해 주셔야 합니다. \n",
        "- 각 shell 에 필요한 부분을 작성하신 후 함께 링크를 제출해 주시면 됩니다.\n",
        "- 모든 결과물은 하나의 shell에서 모두 실행될 수 있도록 print문을 사용해 주세요. run all 했을 때 전체 shell 이 모두 잘 실행될 수 있도록 관리해 주세요.\n",
        "\n"
      ]
    },
    {
      "cell_type": "code",
      "metadata": {
        "id": "jG9nz_Qso70q",
        "colab_type": "code",
        "colab": {
          "base_uri": "https://localhost:8080/",
          "height": 34
        },
        "outputId": "c6c11f60-a142-4fff-9000-649f2a74310b"
      },
      "source": [
        "# 1. 다음의 list 에서 두 번째 list elemnet 를 print 해 보세요\n",
        "list_01 = ['Paul', 'John', 'Ringo', 'George']\n",
        "\n",
        "print(list_01[1]) #리스트는 인덱스가 0 부터 시작하므로, 1을 써야 2번째 요소를 볼 수 있다."
      ],
      "execution_count": 1,
      "outputs": [
        {
          "output_type": "stream",
          "text": [
            "John\n"
          ],
          "name": "stdout"
        }
      ]
    },
    {
      "cell_type": "code",
      "metadata": {
        "id": "wGqpxIi8uDKE",
        "colab_type": "code",
        "colab": {
          "base_uri": "https://localhost:8080/",
          "height": 34
        },
        "outputId": "aca819c0-104e-4940-b0bb-b1e63636fb30"
      },
      "source": [
        "# 2. 다음의 list in the list에서 두 번째 element 를 print 해 보세요\n",
        "list_02 = [['Paul', 'John', 'Ringo', 'George']]\n",
        "\n",
        "print(list_02[0][1]) #리스트 안에 리스트가 하나 더 있다고 생각하면 된다. 이 순간에는 행과 열의 개념이 있는 어레이(array)가 된다. 즉, 이 리스트는 1번째(0) 행의 2번째(1) 열의 요소이다."
      ],
      "execution_count": 2,
      "outputs": [
        {
          "output_type": "stream",
          "text": [
            "John\n"
          ],
          "name": "stdout"
        }
      ]
    },
    {
      "cell_type": "code",
      "metadata": {
        "id": "u_UvSnNI8XgF",
        "colab_type": "code",
        "colab": {
          "base_uri": "https://localhost:8080/",
          "height": 51
        },
        "outputId": "7ac862b2-1bba-4f4c-9486-b8a83b3edff0"
      },
      "source": [
        "# Initializing list  \n",
        "list_01 = [ 1, 6, 3, 5, 3, 4 ] \n",
        "list_02 = [ 1, 6, 3, 5, 3 ] \n",
        " \n",
        "# for loop을 이용하여 두 개의 리스트 안에 4가 있는지 없는지 print 하는 코드를 작성하세요\n",
        "\n",
        "result = any(i == 4 for i in list_01)\n",
        "if result == True:\n",
        "  print(\"This list has 4\")\n",
        "else:\n",
        "  print(\"This list has no 4\")\n",
        "\n",
        "result = any(i == 4 for i in list_02)\n",
        "if result == True:\n",
        "  print(\"This list has 4\")\n",
        "else:\n",
        "  print(\"This list has no 4\")  \n"
      ],
      "execution_count": 6,
      "outputs": [
        {
          "output_type": "stream",
          "text": [
            "This list has 4\n",
            "This list has no 4\n"
          ],
          "name": "stdout"
        }
      ]
    },
    {
      "cell_type": "code",
      "metadata": {
        "id": "mGSKPWaI8kA8",
        "colab_type": "code",
        "colab": {
          "base_uri": "https://localhost:8080/",
          "height": 51
        },
        "outputId": "c6c5500e-56e0-425b-d3a4-bd80bfcbcc31"
      },
      "source": [
        "# 위 코드 역할을 하는 함수를 작성해 보세요\n",
        "def checker(list):\n",
        "  for i in list:\n",
        "    if 4 in list:\n",
        "      print(\"This list has 4\")\n",
        "      break\n",
        "    else:\n",
        "      print(\"This list has no 4\")\n",
        "      break\n",
        "      \n",
        "\n",
        "checker(list_01)\n",
        "checker(list_02)"
      ],
      "execution_count": 37,
      "outputs": [
        {
          "output_type": "stream",
          "text": [
            "This list has 4\n",
            "This list has no 4\n"
          ],
          "name": "stdout"
        }
      ]
    },
    {
      "cell_type": "code",
      "metadata": {
        "id": "tmp7EoSo82Xa",
        "colab_type": "code",
        "colab": {
          "base_uri": "https://localhost:8080/",
          "height": 34
        },
        "outputId": "5508a83f-aea9-4f4b-9857-3a2e4a1bea6e"
      },
      "source": [
        "list_03 = [4, 5, 8, 9, 10] \n",
        "# 위 list element 중 8보다 큰 숫자가 몇 개가 있는지 코드로 작성해 보세요. \n",
        "\n",
        "counter = 0\n",
        "for i in list_03:\n",
        "  if i > 8:\n",
        "    counter += 1\n",
        "  else:\n",
        "    pass\n",
        "\n",
        "print(counter)\n"
      ],
      "execution_count": 41,
      "outputs": [
        {
          "output_type": "stream",
          "text": [
            "2\n"
          ],
          "name": "stdout"
        }
      ]
    },
    {
      "cell_type": "code",
      "metadata": {
        "id": "fQKIWJ4KGsqs",
        "colab_type": "code",
        "colab": {
          "base_uri": "https://localhost:8080/",
          "height": 303
        },
        "outputId": "9f06381c-46c5-4ff3-dfb8-174bdf95738f"
      },
      "source": [
        "# BMI\n",
        "height = [1.87,  1.87, 1.82, 1.91, 1.90, 1.85]\n",
        "weight = [81.65, 97.52, 95.25, 92.98, 86.18, 88.45]\n",
        "\n",
        "# bmi = weight / height ** 2 를 numpy array 활용하여 구해보세요\n",
        "\n",
        "import numpy as np\n",
        "\n",
        "height_bmi = np.array(height)\n",
        "weight_bmi = np.array(weight)\n",
        "\n",
        "bmi = weight_bmi / height_bmi ** 2\n",
        "\n",
        "bmi = sorted(bmi, reverse=True)\n",
        "\n",
        "print(bmi)\n",
        "\n",
        "# bmi 가 24 이상인 값들만 선택해 보세요\n",
        "\n",
        "idx = np.where(bmi > 24)\n",
        "\n",
        "print(bmi[idx])\n",
        "\n"
      ],
      "execution_count": 82,
      "outputs": [
        {
          "output_type": "stream",
          "text": [
            "[28.755585074266392, 27.887557550973714, 25.843681519357194, 25.48723993311587, 23.87257617728532, 23.349252194801107]\n"
          ],
          "name": "stdout"
        },
        {
          "output_type": "error",
          "ename": "TypeError",
          "evalue": "ignored",
          "traceback": [
            "\u001b[0;31m---------------------------------------------------------------------------\u001b[0m",
            "\u001b[0;31mTypeError\u001b[0m                                 Traceback (most recent call last)",
            "\u001b[0;32m<ipython-input-82-29f5288f9df7>\u001b[0m in \u001b[0;36m<module>\u001b[0;34m()\u001b[0m\n\u001b[1;32m     18\u001b[0m \u001b[0;31m# bmi 가 24 이상인 값들만 선택해 보세요\u001b[0m\u001b[0;34m\u001b[0m\u001b[0;34m\u001b[0m\u001b[0;34m\u001b[0m\u001b[0m\n\u001b[1;32m     19\u001b[0m \u001b[0;34m\u001b[0m\u001b[0m\n\u001b[0;32m---> 20\u001b[0;31m \u001b[0midx\u001b[0m \u001b[0;34m=\u001b[0m \u001b[0mnp\u001b[0m\u001b[0;34m.\u001b[0m\u001b[0mwhere\u001b[0m\u001b[0;34m(\u001b[0m\u001b[0mbmi\u001b[0m \u001b[0;34m>\u001b[0m \u001b[0;36m24\u001b[0m\u001b[0;34m)\u001b[0m\u001b[0;34m\u001b[0m\u001b[0;34m\u001b[0m\u001b[0m\n\u001b[0m\u001b[1;32m     21\u001b[0m \u001b[0;34m\u001b[0m\u001b[0m\n\u001b[1;32m     22\u001b[0m \u001b[0mprint\u001b[0m\u001b[0;34m(\u001b[0m\u001b[0mbmi\u001b[0m\u001b[0;34m[\u001b[0m\u001b[0midx\u001b[0m\u001b[0;34m]\u001b[0m\u001b[0;34m)\u001b[0m\u001b[0;34m\u001b[0m\u001b[0;34m\u001b[0m\u001b[0m\n",
            "\u001b[0;31mTypeError\u001b[0m: '>' not supported between instances of 'list' and 'int'"
          ]
        }
      ]
    },
    {
      "cell_type": "code",
      "metadata": {
        "id": "q8D8Sheb82Gp",
        "colab_type": "code",
        "colab": {
          "base_uri": "https://localhost:8080/",
          "height": 68
        },
        "outputId": "0c73ed2f-c434-4921-a8aa-a08254b494d0"
      },
      "source": [
        "# pandas 패키지 라이브러리를 불러오세요\n",
        "import pandas as pd\n",
        "\n",
        "# 아래 내용을 담는 pandas Dataframe 을 생성하세요\n",
        "# {'Bob': ['I liked it.', 'It was awful.'], 'Sue': ['Pretty good.', 'Bland.']}\n",
        "\n",
        "data = pd.DataFrame({'Bob': ['I liked it.', 'It was awful.'], 'Sue': ['Pretty good.', 'Bland.']}, index = [\"A\", \"B\"])\n",
        "print(data)"
      ],
      "execution_count": 81,
      "outputs": [
        {
          "output_type": "stream",
          "text": [
            "             Bob           Sue\n",
            "A    I liked it.  Pretty good.\n",
            "B  It was awful.        Bland.\n"
          ],
          "name": "stdout"
        }
      ]
    },
    {
      "cell_type": "code",
      "metadata": {
        "id": "kSFa1Sg--lyw",
        "colab_type": "code",
        "colab": {
          "base_uri": "https://localhost:8080/",
          "height": 221
        },
        "outputId": "f1c3e7a1-b09b-40ef-9c5d-86cfc3d34cee"
      },
      "source": [
        "# 아래와 같은 dataframe을 만들어 보세요. (참고: 연도가 index가 되게 해 주세요)\n",
        "\"\"\"\n",
        "year dept     revenue\n",
        "2015 Sales    30\n",
        "2016 Sales    35\n",
        "2017 Sales    40\n",
        "\"\"\"\n",
        "\n",
        "data = pd.DataFrame({\"year\": [2015, 2016, 2017], \"dept\": [\"Sales\", \"Sales\", \"Sales\"], \"revenue\": [30, 35, 40]})\n",
        "\n",
        "print(data)\n",
        "\n",
        "# 2017년 데이터만 선택해 보세요\n",
        "print(\"_______________________________\")\n",
        "\n",
        "data_2017 = data[data[\"year\"] == 2017]\n",
        "print(data_2017)\n",
        "\n",
        "\n",
        "# 조건(condition)을 활용하여 revenue 30 이상으로만 filter 해 보세요. reference: https://pandas.pydata.org/pandas-docs/stable/getting_started/intro_tutorials/03_subset_data.html \n",
        "\n",
        "print(\"_______________________________\")\n",
        "\n",
        "new_data = data[data[\"revenue\"] >= 30]\n",
        "print(new_data)"
      ],
      "execution_count": 90,
      "outputs": [
        {
          "output_type": "stream",
          "text": [
            "   year   dept  revenue\n",
            "0  2015  Sales       30\n",
            "1  2016  Sales       35\n",
            "2  2017  Sales       40\n",
            "_______________________________\n",
            "   year   dept  revenue\n",
            "2  2017  Sales       40\n",
            "_______________________________\n",
            "   year   dept  revenue\n",
            "0  2015  Sales       30\n",
            "1  2016  Sales       35\n",
            "2  2017  Sales       40\n"
          ],
          "name": "stdout"
        }
      ]
    },
    {
      "cell_type": "code",
      "metadata": {
        "id": "GFRfJR5O9XYd",
        "colab_type": "code",
        "colab": {
          "base_uri": "https://localhost:8080/",
          "height": 255
        },
        "outputId": "fd724dfa-2b98-49ca-a96d-7e617c8b3c1b"
      },
      "source": [
        "# 'https://web.stanford.edu/class/archive/cs/cs109/cs109.1166/stuff/titanic.csv' 자료를 불러와 dataframe으로 만들어 보세요 \n",
        "\n",
        "titanic = pd.read_csv('https://web.stanford.edu/class/archive/cs/cs109/cs109.1166/stuff/titanic.csv')\n",
        "titanic = pd.DataFrame(titanic)\n",
        "print(titanic)\n"
      ],
      "execution_count": 65,
      "outputs": [
        {
          "output_type": "stream",
          "text": [
            "     Survived  Pclass  ... Parents/Children Aboard     Fare\n",
            "0           0       3  ...                       0   7.2500\n",
            "1           1       1  ...                       0  71.2833\n",
            "2           1       3  ...                       0   7.9250\n",
            "3           1       1  ...                       0  53.1000\n",
            "4           0       3  ...                       0   8.0500\n",
            "..        ...     ...  ...                     ...      ...\n",
            "882         0       2  ...                       0  13.0000\n",
            "883         1       1  ...                       0  30.0000\n",
            "884         0       3  ...                       2  23.4500\n",
            "885         1       1  ...                       0  30.0000\n",
            "886         0       3  ...                       0   7.7500\n",
            "\n",
            "[887 rows x 8 columns]\n"
          ],
          "name": "stdout"
        }
      ]
    },
    {
      "cell_type": "code",
      "metadata": {
        "id": "08CdiZjf-b6_",
        "colab_type": "code",
        "colab": {
          "base_uri": "https://localhost:8080/",
          "height": 1000
        },
        "outputId": "04ac080e-dcab-4550-9cfd-116de371087c"
      },
      "source": [
        "# 타이타닉 데이터의 shape은 어떻게 되나요? \n",
        "print(titanic.shape)\n",
        "\n",
        "# 타이타닉 row record에서 10~20번째 줄을 출력해 보세요\n",
        "print(titanic[9:20])\n",
        "\n",
        "# 타이타닉 데이터에서 'Survived', 'Age', 'Sex' 칼럼 데이터를 선택해 보세요\n",
        "titanic_survived = titanic[[\"Survived\", \"Age\", \"Sex\"]]\n",
        "print(titanic_survived)\n",
        "\n",
        "# 타이타닉 데이터에서 생존자 데이터만 골라보세요\n",
        "print(titanic[titanic[\"Survived\"] == 1])\n",
        "print(titanic_survived[titanic_survived[\"Survived\"] == 1])\n",
        "\n",
        "# 생존자 데이터 중 여자, 남자 중 누가 더 많나요? 참고: https://pandas.pydata.org/pandas-docs/stable/reference/api/pandas.Series.value_counts.html\n",
        "male = titanic_survived[titanic_survived[\"Sex\"] == \"male\"]\n",
        "print(male)"
      ],
      "execution_count": 98,
      "outputs": [
        {
          "output_type": "stream",
          "text": [
            "(887, 8)\n",
            "    Survived  Pclass  ... Parents/Children Aboard     Fare\n",
            "9          1       2  ...                       0  30.0708\n",
            "10         1       3  ...                       1  16.7000\n",
            "11         1       1  ...                       0  26.5500\n",
            "12         0       3  ...                       0   8.0500\n",
            "13         0       3  ...                       5  31.2750\n",
            "14         0       3  ...                       0   7.8542\n",
            "15         1       2  ...                       0  16.0000\n",
            "16         0       3  ...                       1  29.1250\n",
            "17         1       2  ...                       0  13.0000\n",
            "18         0       3  ...                       0  18.0000\n",
            "19         1       3  ...                       0   7.2250\n",
            "\n",
            "[11 rows x 8 columns]\n",
            "     Survived   Age     Sex\n",
            "0           0  22.0    male\n",
            "1           1  38.0  female\n",
            "2           1  26.0  female\n",
            "3           1  35.0  female\n",
            "4           0  35.0    male\n",
            "..        ...   ...     ...\n",
            "882         0  27.0    male\n",
            "883         1  19.0  female\n",
            "884         0   7.0  female\n",
            "885         1  26.0    male\n",
            "886         0  32.0    male\n",
            "\n",
            "[887 rows x 3 columns]\n",
            "     Survived  Pclass  ... Parents/Children Aboard     Fare\n",
            "1           1       1  ...                       0  71.2833\n",
            "2           1       3  ...                       0   7.9250\n",
            "3           1       1  ...                       0  53.1000\n",
            "8           1       3  ...                       2  11.1333\n",
            "9           1       2  ...                       0  30.0708\n",
            "..        ...     ...  ...                     ...      ...\n",
            "871         1       3  ...                       0   7.2250\n",
            "875         1       1  ...                       1  83.1583\n",
            "876         1       2  ...                       1  26.0000\n",
            "883         1       1  ...                       0  30.0000\n",
            "885         1       1  ...                       0  30.0000\n",
            "\n",
            "[342 rows x 8 columns]\n",
            "     Survived   Age     Sex\n",
            "1           1  38.0  female\n",
            "2           1  26.0  female\n",
            "3           1  35.0  female\n",
            "8           1  27.0  female\n",
            "9           1  14.0  female\n",
            "..        ...   ...     ...\n",
            "871         1  15.0  female\n",
            "875         1  56.0  female\n",
            "876         1  25.0  female\n",
            "883         1  19.0  female\n",
            "885         1  26.0    male\n",
            "\n",
            "[342 rows x 3 columns]\n",
            "     Survived   Age   Sex\n",
            "0           0  22.0  male\n",
            "4           0  35.0  male\n",
            "5           0  27.0  male\n",
            "6           0  54.0  male\n",
            "7           0   2.0  male\n",
            "..        ...   ...   ...\n",
            "879         0  28.0  male\n",
            "880         0  25.0  male\n",
            "882         0  27.0  male\n",
            "885         1  26.0  male\n",
            "886         0  32.0  male\n",
            "\n",
            "[573 rows x 3 columns]\n"
          ],
          "name": "stdout"
        }
      ]
    },
    {
      "cell_type": "code",
      "metadata": {
        "id": "gq7nmgzxeKuW",
        "colab_type": "code",
        "colab": {}
      },
      "source": [
        ""
      ],
      "execution_count": null,
      "outputs": []
    }
  ]
}