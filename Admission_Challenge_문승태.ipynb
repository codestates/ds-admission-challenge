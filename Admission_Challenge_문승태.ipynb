{
  "nbformat": 4,
  "nbformat_minor": 0,
  "metadata": {
    "colab": {
      "name": "Admission Challenge - 문승태.ipynb",
      "provenance": [],
      "collapsed_sections": [],
      "include_colab_link": true
    },
    "kernelspec": {
      "name": "python3",
      "display_name": "Python 3"
    }
  },
  "cells": [
    {
      "cell_type": "markdown",
      "metadata": {
        "id": "view-in-github",
        "colab_type": "text"
      },
      "source": [
        "<a href=\"https://colab.research.google.com/github/seungtaemoon/ds-admission-challenge/blob/master/Admission_Challenge_%EB%AC%B8%EC%8A%B9%ED%83%9C.ipynb\" target=\"_parent\"><img src=\"https://colab.research.google.com/assets/colab-badge.svg\" alt=\"Open In Colab\"/></a>"
      ]
    },
    {
      "cell_type": "markdown",
      "metadata": {
        "id": "-q8YiM6xsp0X",
        "colab_type": "text"
      },
      "source": [
        "# Challenge\n",
        "\n",
        "- 코드스테이츠 DS 부트캠프 어드미션을 위한 Challenge 과제 입니다. \n",
        "- 아래 challenge 를 풀기 위해 제공된 강의가 모든 것을 알려주진 않습니다. \n",
        "- 따라서 필요한 부분은 스스로 google 검색을 통해 이 challenge 를 완성해 주셔야 합니다. \n",
        "- 각 shell 에 필요한 부분을 작성하신 후 함께 링크를 제출해 주시면 됩니다.\n",
        "- 모든 결과물은 하나의 shell에서 모두 실행될 수 있도록 print문을 사용해 주세요. run all 했을 때 전체 shell 이 모두 잘 실행될 수 있도록 관리해 주세요.\n",
        "\n"
      ]
    },
    {
      "cell_type": "code",
      "metadata": {
        "id": "jG9nz_Qso70q",
        "colab_type": "code",
        "colab": {
          "base_uri": "https://localhost:8080/",
          "height": 34
        },
        "outputId": "7bad98d2-7612-4cfd-bf08-84a2e27c4f6d"
      },
      "source": [
        "# 1. 다음의 list 에서 두 번째 list elemnet 를 print 해 보세요\n",
        "list_01 = ['Paul', 'John', 'Ringo', 'George']\n",
        "\n",
        "print(list_01[1]) #리스트는 인덱스가 0 부터 시작하므로, 1을 써야 2번째 요소를 볼 수 있다."
      ],
      "execution_count": 152,
      "outputs": [
        {
          "output_type": "stream",
          "text": [
            "John\n"
          ],
          "name": "stdout"
        }
      ]
    },
    {
      "cell_type": "markdown",
      "metadata": {
        "id": "lXIoZ5-4b-bQ",
        "colab_type": "text"
      },
      "source": [
        "리스트 안에 리스트가 하나 더 있다고 생각하면 된다. 이 순간에는 열(row)과 행(column)의 개념이 있는 어레이(array)가 된다. 즉, 이 리스트는 1번째(0) 열의 2번째(1) 행의 요소이다."
      ]
    },
    {
      "cell_type": "code",
      "metadata": {
        "id": "wGqpxIi8uDKE",
        "colab_type": "code",
        "colab": {
          "base_uri": "https://localhost:8080/",
          "height": 34
        },
        "outputId": "8791817b-4bb0-47a8-ad9c-697911542bfc"
      },
      "source": [
        "# 2. 다음의 list in the list에서 두 번째 element 를 print 해 보세요\n",
        "list_02 = [['Paul', 'John', 'Ringo', 'George']]\n",
        "\n",
        "print(list_02[0][1])"
      ],
      "execution_count": 153,
      "outputs": [
        {
          "output_type": "stream",
          "text": [
            "John\n"
          ],
          "name": "stdout"
        }
      ]
    },
    {
      "cell_type": "markdown",
      "metadata": {
        "id": "34JHrAXYcIO6",
        "colab_type": "text"
      },
      "source": [
        "아래 질문에 대해서는 제가 진환님께 최근에 배운 list comprehension 을 사용하여 for loop문과 함께 Custom 로직을 통해 문제를 해결해보려 하였습니다. "
      ]
    },
    {
      "cell_type": "code",
      "metadata": {
        "id": "u_UvSnNI8XgF",
        "colab_type": "code",
        "colab": {
          "base_uri": "https://localhost:8080/",
          "height": 51
        },
        "outputId": "d39d1100-5156-432a-9bd6-930c64eb4f78"
      },
      "source": [
        "# Initializing list  \n",
        "list_01 = [ 1, 6, 3, 5, 3, 4 ] \n",
        "list_02 = [ 1, 6, 3, 5, 3 ] \n",
        " \n",
        "# for loop을 이용하여 두 개의 리스트 안에 4가 있는지 없는지 print 하는 코드를 작성하세요\n",
        "\n",
        "# Custom 로직을 사용하여 4가 있는지를 체크하는 법\n",
        "# 첫번째 리스트 체크\n",
        "result = any(i == 4 for i in list_01) \n",
        "if result == True: # 4가 있다고 판단되는 경우\n",
        "  print(\"This list has 4\") # \"이 리스트는 4를 포함\"\n",
        "else: # 4가 없을 경우\n",
        "  print(\"This list has no 4\") # \"이 리스트는 4를 포함하지 않음\"\n",
        "\n",
        "#두번째 리스트 체크\n",
        "result = any(i == 4 for i in list_02)\n",
        "if result == True: # 4가 있다고 판단되는 경우\n",
        "  print(\"This list has 4\") # \"이 리스트는 4를 포함\"\n",
        "else: # 4가 없을 경우\n",
        "  print(\"This list has no 4\")  # \"이 리스트는 4를 포함하지 않음\"\n"
      ],
      "execution_count": 154,
      "outputs": [
        {
          "output_type": "stream",
          "text": [
            "This list has 4\n",
            "This list has no 4\n"
          ],
          "name": "stdout"
        }
      ]
    },
    {
      "cell_type": "markdown",
      "metadata": {
        "id": "gAjDTADycbFp",
        "colab_type": "text"
      },
      "source": [
        "아래 질문에서는 for loop를 사용하기 보다, 함수안에 if 문만을 사용하여 코드를 단순화 해보는데 주력해 보았습니다. "
      ]
    },
    {
      "cell_type": "code",
      "metadata": {
        "id": "mGSKPWaI8kA8",
        "colab_type": "code",
        "colab": {
          "base_uri": "https://localhost:8080/",
          "height": 51
        },
        "outputId": "b12ea77d-d13f-4f04-c125-ef082765da4b"
      },
      "source": [
        "# 위 코드 역할을 하는 함수를 작성해 보세요\n",
        "\n",
        "\n",
        "def checker(list):\n",
        "  if 4 in list: # 4가 리스트에 있는 경우\n",
        "      print(\"This list has 4\") # \"이 리스트는 4를 포함\"\n",
        "  else: # 4가 없을 경우\n",
        "      print(\"This list has no 4\") # \"이 리스트는 4를 포함하지 않음\"     \n",
        "\n",
        "checker(list_01)\n",
        "checker(list_02)"
      ],
      "execution_count": 155,
      "outputs": [
        {
          "output_type": "stream",
          "text": [
            "This list has 4\n",
            "This list has no 4\n"
          ],
          "name": "stdout"
        }
      ]
    },
    {
      "cell_type": "code",
      "metadata": {
        "id": "tmp7EoSo82Xa",
        "colab_type": "code",
        "colab": {
          "base_uri": "https://localhost:8080/",
          "height": 34
        },
        "outputId": "4c819e6c-90be-4205-93b8-6c9b4dfa4b3a"
      },
      "source": [
        "list_03 = [4, 5, 8, 9, 10] \n",
        "# 위 list element 중 8보다 큰 숫자가 몇 개가 있는지 코드로 작성해 보세요. \n",
        "\n",
        "counter = 0 # 개수를 세기 위한 카운터를 초기화\n",
        "for i in list_03: \n",
        "  if i > 8: # 리스트의 요소가 8보다 클 경우\n",
        "    counter += 1 # 카운터를 하나 센다\n",
        "  else: # 리스트의 요소가 8보다 작을 경우\n",
        "    pass # 다음 요소로 다시 루프를 돈다. \n",
        "\n",
        "print(counter)\n"
      ],
      "execution_count": 156,
      "outputs": [
        {
          "output_type": "stream",
          "text": [
            "2\n"
          ],
          "name": "stdout"
        }
      ]
    },
    {
      "cell_type": "markdown",
      "metadata": {
        "id": "XPW9iDukctED",
        "colab_type": "text"
      },
      "source": [
        "아래 문제에서는 어떤 이유인지 모르겠으나, np.where가 실행되지 않습니다. 라이브 코딩과 똑같은 방법을 시도해 보았으나, 알 수 없는 에러메시지가 계속되어 해당 질문은 간단한 for 문을 사용하여 해결하기로 하였습니다.\n"
      ]
    },
    {
      "cell_type": "code",
      "metadata": {
        "id": "fQKIWJ4KGsqs",
        "colab_type": "code",
        "colab": {
          "base_uri": "https://localhost:8080/",
          "height": 51
        },
        "outputId": "cb8d69b0-2efb-47c3-a8c2-0d1f25d46492"
      },
      "source": [
        "# BMI\n",
        "height = [1.87,  1.87, 1.82, 1.91, 1.90, 1.85]\n",
        "weight = [81.65, 97.52, 95.25, 92.98, 86.18, 88.45]\n",
        "\n",
        "# bmi = weight / height ** 2 를 numpy array 활용하여 구해보세요\n",
        "\n",
        "import numpy as np # numpy의 사용을 위한 라이브러리를 가져온다\n",
        "\n",
        "# 키와 몸무게를 이용한 연산을 위해 numpy 상의 array로 변형시킨다\n",
        "height_bmi = np.array(height) \n",
        "weight_bmi = np.array(weight)\n",
        "\n",
        "# Body-Mass Index (BMI) 를 계산한다\n",
        "bmi = weight_bmi / height_bmi ** 2\n",
        "\n",
        "# 보기 좋게 값이 높은 순서대로 재정렬한다\n",
        "bmi = sorted(bmi, reverse=True)\n",
        "\n",
        "# 정렬된 BMI 리스트를 보여준다 \n",
        "print(bmi)\n",
        "\n",
        "# bmi 가 24 이상인 값들만 선택해 보세요\n",
        "\n",
        "bmi_24 = [] # BMI가 24 이상인 데이터들만 추리기 위한 새로운 리스트 초기화 \n",
        "for i in bmi:\n",
        "  if i >= 24: # 요소가 24 이상일 경우\n",
        "    bmi_24.append(i) # 새로운 리스트에 업데이트 한다\n",
        "\n",
        "print(bmi_24) # 새로운 리스트에 업데이트된 BMI가 24 이상인 데이터만 보여준다\n",
        "\n"
      ],
      "execution_count": 157,
      "outputs": [
        {
          "output_type": "stream",
          "text": [
            "[28.755585074266392, 27.887557550973714, 25.843681519357194, 25.48723993311587, 23.87257617728532, 23.349252194801107]\n",
            "[28.755585074266392, 27.887557550973714, 25.843681519357194, 25.48723993311587]\n"
          ],
          "name": "stdout"
        }
      ]
    },
    {
      "cell_type": "markdown",
      "metadata": {
        "id": "_yZeFkMDc6VF",
        "colab_type": "text"
      },
      "source": [
        "아래 질문에서는 진환님이 하셨던 것처럼 (0,1) 보다 (A, B)의 인덱스를 차용하는 것이 조금 더 의미있다고 판단되었습니다."
      ]
    },
    {
      "cell_type": "code",
      "metadata": {
        "id": "q8D8Sheb82Gp",
        "colab_type": "code",
        "colab": {
          "base_uri": "https://localhost:8080/",
          "height": 68
        },
        "outputId": "985f87b9-33de-43ab-f9f9-b5fb46da2762"
      },
      "source": [
        "# pandas 패키지 라이브러리를 불러오세요\n",
        "import pandas as pd\n",
        "\n",
        "# 아래 내용을 담는 pandas Dataframe 을 생성하세요\n",
        "# {'Bob': ['I liked it.', 'It was awful.'], 'Sue': ['Pretty good.', 'Bland.']}\n",
        "\n",
        "# pandas 를 사용하여 데이터 프레임을 만들기\n",
        "data = pd.DataFrame({'Bob': ['I liked it.', 'It was awful.'], 'Sue': ['Pretty good.', 'Bland.']}, index = [\"A\", \"B\"])\n",
        "print(data)"
      ],
      "execution_count": 158,
      "outputs": [
        {
          "output_type": "stream",
          "text": [
            "             Bob           Sue\n",
            "A    I liked it.  Pretty good.\n",
            "B  It was awful.        Bland.\n"
          ],
          "name": "stdout"
        }
      ]
    },
    {
      "cell_type": "markdown",
      "metadata": {
        "id": "fUbwVaMwdIK7",
        "colab_type": "text"
      },
      "source": [
        "이하 부터는 좀 더 깔끔한 프레젠테이션을 위해 선을 그어 각 부분의 답을 나누어보려 하였습니다."
      ]
    },
    {
      "cell_type": "code",
      "metadata": {
        "id": "kSFa1Sg--lyw",
        "colab_type": "code",
        "colab": {
          "base_uri": "https://localhost:8080/",
          "height": 255
        },
        "outputId": "b1ebd23b-a42c-4751-f45d-2284c985fb29"
      },
      "source": [
        "# 아래와 같은 dataframe을 만들어 보세요. (참고: 연도가 index가 되게 해 주세요)\n",
        "\"\"\"\n",
        "year dept     revenue\n",
        "2015 Sales    30\n",
        "2016 Sales    35\n",
        "2017 Sales    40\n",
        "\"\"\"\n",
        "\n",
        "# 데이터 프레임 만들기\n",
        "data = {\"year\": [2015, 2016, 2017], \"dept\": [\"Sales\", \"Sales\", \"Sales\"], \"revenue\": [30, 35, 40]}\n",
        "data = pd.DataFrame(data) \n",
        "data = data.set_index(\"year\") # 인덱스를 년도 값으로 재설정하기\n",
        "\n",
        "print(data)\n",
        "\n",
        "# 2017년 데이터만 선택해 보세요\n",
        "print(\"_______________________________\") # 좀 더 깔끔한 프레젠테이션을 위해 부분 나누기\n",
        "\n",
        "data_2017 = data.loc[2017] # 인덱스가 2017년인 데이터만 불러오기\n",
        "print(data_2017)\n",
        "\n",
        "# 조건(condition)을 활용하여 revenue 35 이상으로만 filter 해 보세요. reference: https://pandas.pydata.org/pandas-docs/stable/getting_started/intro_tutorials/03_subset_data.html \n",
        "# (revenue가 35 이상인 데이터만 불러오기)\n",
        "\n",
        "print(\"_______________________________\") # 좀 더 깔끔한 프레젠테이션을 위해 부분 나누기\n",
        "\n",
        "new_data = data[data[\"revenue\"] >= 35] # revenue가 35 이상인 데이터만 불러오기\n",
        "print(new_data)"
      ],
      "execution_count": 159,
      "outputs": [
        {
          "output_type": "stream",
          "text": [
            "       dept  revenue\n",
            "year                \n",
            "2015  Sales       30\n",
            "2016  Sales       35\n",
            "2017  Sales       40\n",
            "_______________________________\n",
            "dept       Sales\n",
            "revenue       40\n",
            "Name: 2017, dtype: object\n",
            "_______________________________\n",
            "       dept  revenue\n",
            "year                \n",
            "2016  Sales       35\n",
            "2017  Sales       40\n"
          ],
          "name": "stdout"
        }
      ]
    },
    {
      "cell_type": "code",
      "metadata": {
        "id": "GFRfJR5O9XYd",
        "colab_type": "code",
        "colab": {
          "base_uri": "https://localhost:8080/",
          "height": 255
        },
        "outputId": "8b3010ea-66d3-4ea7-d7b8-579647ab262c"
      },
      "source": [
        "# 'https://web.stanford.edu/class/archive/cs/cs109/cs109.1166/stuff/titanic.csv' 자료를 불러와 dataframe으로 만들어 보세요 \n",
        "\n",
        "titanic = pd.read_csv('https://web.stanford.edu/class/archive/cs/cs109/cs109.1166/stuff/titanic.csv') # titanic csv 파일 읽기\n",
        "titanic = pd.DataFrame(titanic) # 타이타닉 csv 데이터를 DataFrame으로 만들기\n",
        "print(titanic)\n"
      ],
      "execution_count": 160,
      "outputs": [
        {
          "output_type": "stream",
          "text": [
            "     Survived  Pclass  ... Parents/Children Aboard     Fare\n",
            "0           0       3  ...                       0   7.2500\n",
            "1           1       1  ...                       0  71.2833\n",
            "2           1       3  ...                       0   7.9250\n",
            "3           1       1  ...                       0  53.1000\n",
            "4           0       3  ...                       0   8.0500\n",
            "..        ...     ...  ...                     ...      ...\n",
            "882         0       2  ...                       0  13.0000\n",
            "883         1       1  ...                       0  30.0000\n",
            "884         0       3  ...                       2  23.4500\n",
            "885         1       1  ...                       0  30.0000\n",
            "886         0       3  ...                       0   7.7500\n",
            "\n",
            "[887 rows x 8 columns]\n"
          ],
          "name": "stdout"
        }
      ]
    },
    {
      "cell_type": "markdown",
      "metadata": {
        "id": "AReV1bbHdad4",
        "colab_type": "text"
      },
      "source": [
        "아래 문제에서는, 남녀 생존자의 수를 shape기능을 이용하여 나타내보았고, 그 수들의 차이를 표현해보려 하였습니다."
      ]
    },
    {
      "cell_type": "code",
      "metadata": {
        "id": "08CdiZjf-b6_",
        "colab_type": "code",
        "colab": {
          "base_uri": "https://localhost:8080/",
          "height": 1000
        },
        "outputId": "b0074b85-70da-4bbf-f440-990f1639526e"
      },
      "source": [
        "# 타이타닉 데이터의 shape은 어떻게 되나요? \n",
        "print(titanic.shape)\n",
        "print(\"_______________________________\") # 좀 더 깔끔한 프레젠테이션을 위해 부분 나누기\n",
        "\n",
        "# 타이타닉 row record에서 10~20번째 줄을 출력해 보세요\n",
        "print(titanic[9:20])\n",
        "print(\"_______________________________\") # 좀 더 깔끔한 프레젠테이션을 위해 부분 나누기\n",
        "\n",
        "# 타이타닉 데이터에서 'Survived', 'Age', 'Sex' 칼럼 데이터를 선택해 보세요\n",
        "titanic_new = titanic[[\"Survived\", \"Age\", \"Sex\"]]\n",
        "print(titanic_new)\n",
        "print(\"_______________________________\") # 좀 더 깔끔한 프레젠테이션을 위해 부분 나누기\n",
        "\n",
        "# 타이타닉 데이터에서 생존자 데이터만 골라보세요\n",
        "print(titanic[titanic[\"Survived\"] == 1])\n",
        "print(\"_______________________________\") # 좀 더 깔끔한 프레젠테이션을 위해 부분 나누기\n",
        "\n",
        "titanic_survived = titanic_new[titanic_new[\"Survived\"] == 1]\n",
        "print(titanic_survived)\n",
        "print(\"_______________________________\") # 좀 더 깔끔한 프레젠테이션을 위해 부분 나누기\n",
        "\n",
        "# 생존자 데이터 중 여자, 남자 중 누가 더 많나요? 참고: https://pandas.pydata.org/pandas-docs/stable/reference/api/pandas.Series.value_counts.html\n",
        "male = titanic_survived[titanic_survived[\"Sex\"] == \"male\"] # 생존자중 남성인 데이터만 부르기\n",
        "print(\"The number of male survivors:\", male.shape[0]) # 남성생존자의 수 프린트하기\n",
        "female = titanic_survived[titanic_survived[\"Sex\"] == \"female\"] # 생존자중 여성인 데이터만 부르기\n",
        "print(\"The number of female survivors:\", female.shape[0]) # 여성생존자의 수 프린트하기\n",
        "if male.shape[0] > female.shape[0]: # 남성생존자의 수가 여성생존자의 수보다 큰 경우\n",
        "  print(\"The number of male survivors are larger than that of the female\") # \"남성 생존자의 수가 여성 생존자의 수보다 많다\"\n",
        "  print(\"The number of male survivors are larger by\", abs(male.shape[0] - female.shape[0])) # 남성 생존자의 수와 여성 생존자 사이의 차를 구하여 나타내기(절대값)\n",
        "else: # 여성생존자의 수가 남성생존자의 수보다 큰 경우\n",
        "  print(\"The number of female survivors are larger than that of the male\") # \"여성 생존자의 수가 남성 생존자의 수보다 많다\"\n",
        "  print(\"The number of female survivors are larger by\", abs(female.shape[0] - male.shape[0]))  # 남성 생존자의 수와 여성 생존자 사이의 차를 구하여 나타내기(절대값)"
      ],
      "execution_count": 161,
      "outputs": [
        {
          "output_type": "stream",
          "text": [
            "(887, 8)\n",
            "_______________________________\n",
            "    Survived  Pclass  ... Parents/Children Aboard     Fare\n",
            "9          1       2  ...                       0  30.0708\n",
            "10         1       3  ...                       1  16.7000\n",
            "11         1       1  ...                       0  26.5500\n",
            "12         0       3  ...                       0   8.0500\n",
            "13         0       3  ...                       5  31.2750\n",
            "14         0       3  ...                       0   7.8542\n",
            "15         1       2  ...                       0  16.0000\n",
            "16         0       3  ...                       1  29.1250\n",
            "17         1       2  ...                       0  13.0000\n",
            "18         0       3  ...                       0  18.0000\n",
            "19         1       3  ...                       0   7.2250\n",
            "\n",
            "[11 rows x 8 columns]\n",
            "_______________________________\n",
            "     Survived   Age     Sex\n",
            "0           0  22.0    male\n",
            "1           1  38.0  female\n",
            "2           1  26.0  female\n",
            "3           1  35.0  female\n",
            "4           0  35.0    male\n",
            "..        ...   ...     ...\n",
            "882         0  27.0    male\n",
            "883         1  19.0  female\n",
            "884         0   7.0  female\n",
            "885         1  26.0    male\n",
            "886         0  32.0    male\n",
            "\n",
            "[887 rows x 3 columns]\n",
            "_______________________________\n",
            "     Survived  Pclass  ... Parents/Children Aboard     Fare\n",
            "1           1       1  ...                       0  71.2833\n",
            "2           1       3  ...                       0   7.9250\n",
            "3           1       1  ...                       0  53.1000\n",
            "8           1       3  ...                       2  11.1333\n",
            "9           1       2  ...                       0  30.0708\n",
            "..        ...     ...  ...                     ...      ...\n",
            "871         1       3  ...                       0   7.2250\n",
            "875         1       1  ...                       1  83.1583\n",
            "876         1       2  ...                       1  26.0000\n",
            "883         1       1  ...                       0  30.0000\n",
            "885         1       1  ...                       0  30.0000\n",
            "\n",
            "[342 rows x 8 columns]\n",
            "_______________________________\n",
            "     Survived   Age     Sex\n",
            "1           1  38.0  female\n",
            "2           1  26.0  female\n",
            "3           1  35.0  female\n",
            "8           1  27.0  female\n",
            "9           1  14.0  female\n",
            "..        ...   ...     ...\n",
            "871         1  15.0  female\n",
            "875         1  56.0  female\n",
            "876         1  25.0  female\n",
            "883         1  19.0  female\n",
            "885         1  26.0    male\n",
            "\n",
            "[342 rows x 3 columns]\n",
            "_______________________________\n",
            "The number of male survivors: 109\n",
            "The number of female survivors: 233\n",
            "The number of female survivors are larger than that of the male\n",
            "The number of female survivors are larger by 124\n"
          ],
          "name": "stdout"
        }
      ]
    },
    {
      "cell_type": "code",
      "metadata": {
        "id": "gq7nmgzxeKuW",
        "colab_type": "code",
        "colab": {}
      },
      "source": [
        ""
      ],
      "execution_count": 161,
      "outputs": []
    }
  ]
}