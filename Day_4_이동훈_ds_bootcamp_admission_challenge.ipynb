{
  "nbformat": 4,
  "nbformat_minor": 0,
  "metadata": {
    "colab": {
      "name": "Day 4 이동훈 - ds_bootcamp_admission_challenge.ipynb",
      "provenance": [],
      "collapsed_sections": [],
      "include_colab_link": true
    },
    "kernelspec": {
      "name": "python3",
      "display_name": "Python 3"
    }
  },
  "cells": [
    {
      "cell_type": "markdown",
      "metadata": {
        "id": "view-in-github",
        "colab_type": "text"
      },
      "source": [
        "<a href=\"https://colab.research.google.com/github/kroonstazy/ds-admission-challenge/blob/master/Day_4_%EC%9D%B4%EB%8F%99%ED%9B%88_ds_bootcamp_admission_challenge.ipynb\" target=\"_parent\"><img src=\"https://colab.research.google.com/assets/colab-badge.svg\" alt=\"Open In Colab\"/></a>"
      ]
    },
    {
      "cell_type": "markdown",
      "metadata": {
        "id": "-q8YiM6xsp0X",
        "colab_type": "text"
      },
      "source": [
        "# Challenge\n",
        "\n",
        "- 코드스테이츠 DS 부트캠프 어드미션을 위한 Challenge 과제 입니다. \n",
        "- 아래 challenge 를 풀기 위해 제공된 강의가 모든 것을 알려주진 않습니다. \n",
        "- 따라서 필요한 부분은 스스로 google 검색을 통해 이 challenge 를 완성해 주셔야 합니다. \n",
        "- 각 shell 에 필요한 부분을 작성하신 후 함께 링크를 제출해 주시면 됩니다.\n",
        "- 모든 결과물은 하나의 shell에서 모두 실행될 수 있도록 print문을 사용해 주세요. run all 했을 때 전체 shell 이 모두 잘 실행될 수 있도록 관리해 주세요.\n",
        "\n"
      ]
    },
    {
      "cell_type": "code",
      "metadata": {
        "id": "jG9nz_Qso70q",
        "colab_type": "code",
        "colab": {}
      },
      "source": [
        "# 1. 다음의 list 에서 두 번째 list elemnet 를 print 해 보세요\n",
        "list_01 = ['Paul', 'John', 'Ringo', 'George']\n",
        "\n",
        "print(list_01[1])"
      ],
      "execution_count": null,
      "outputs": []
    },
    {
      "cell_type": "code",
      "metadata": {
        "id": "wGqpxIi8uDKE",
        "colab_type": "code",
        "colab": {
          "base_uri": "https://localhost:8080/",
          "height": 34
        },
        "outputId": "1f481e07-d393-4c7a-a2ed-22f9370e5512"
      },
      "source": [
        "# 2. 다음의 list in the list에서 두 번째 element 를 print 해 보세요\n",
        "list_02 = [['Paul', 'John', 'Ringo', 'George'], ['what', 'the','freak?'],['is','any','one','out','there?']]\n",
        "\n",
        "print(list_02[1][1]) # \"the\" will print. list_02의 2번째 리스트/element의 2번째 element를 출력"
      ],
      "execution_count": null,
      "outputs": [
        {
          "output_type": "stream",
          "text": [
            "the\n"
          ],
          "name": "stdout"
        }
      ]
    },
    {
      "cell_type": "code",
      "metadata": {
        "id": "u_UvSnNI8XgF",
        "colab_type": "code",
        "colab": {
          "base_uri": "https://localhost:8080/",
          "height": 238
        },
        "outputId": "f31fa06f-b62b-4a6f-ea3b-61d34c129416"
      },
      "source": [
        "# Initializing list  \n",
        "list_01 = [ 1, 6, 3, 5, 3, 4 ] \n",
        "list_02 = [ 1, 6, 3, 5, 3 ] \n",
        "\n",
        "\n",
        "# count 함수(function) 와 for loop 을 이용하여 두 개의 리스트 안에 4가 있는지 없는지 print 하는 코드를 작성하세요\n",
        "  #is there a particular reason why do you want us to use the 'for...loop'?\n",
        "\n",
        "#Method 1 : Using 'count' and 'for loop' (진환님 Method)\n",
        "#I forget already. \n",
        "\n",
        "################################################################################\n",
        "\n",
        "#Method 2 : 'Using native python count, (Using if...else method) I much prefer this style.'\n",
        "l1 = list_01.count(4)\n",
        "if l1 > 0 :\n",
        "  print(\"list 1에는 4가 존재함\")\n",
        "else: print(\"list 1에는 4가 존재하지 않음\")\n",
        "\n",
        "l2 = list_02.count(4)\n",
        "if l2 > 0 :\n",
        "  print(\"list 2에는 4가 존재함\")\n",
        "else: print(\"list 2에는 4가 존재하지 않음\")\n",
        "\n",
        "################################################################################\n",
        "\n",
        "#Method 3 : My first try (the condition use count was not given.\n",
        "  #\"for loop 을 이용하여 두 개의 리스트 안에 4가 있는지 없는지 print 하는 코드를 작성하세요\")\n",
        "\n",
        "for i in list_01 :\n",
        "    if (i==4) :\n",
        "        print (\"Exist\")\n",
        "    else :\n",
        "        print (\"Does not Exist\")\n",
        "\n",
        "for i in list_02 :\n",
        "    if (i==4) :\n",
        "        print (\"Exist\")\n",
        "    else :\n",
        "        print (\"Does not Exist\")\n",
        "  \n",
        "#this way for loop checks every elements of in each list, Throwing out bunch of text irrelavent to information.\n",
        "\n",
        "################################################################################"
      ],
      "execution_count": 2,
      "outputs": [
        {
          "output_type": "stream",
          "text": [
            "list 1에는 4가 존재함\n",
            "list 2에는 4가 존재하지 않음\n",
            "Does not Exist\n",
            "Does not Exist\n",
            "Does not Exist\n",
            "Does not Exist\n",
            "Does not Exist\n",
            "Exist\n",
            "Does not Exist\n",
            "Does not Exist\n",
            "Does not Exist\n",
            "Does not Exist\n",
            "Does not Exist\n"
          ],
          "name": "stdout"
        }
      ]
    },
    {
      "cell_type": "code",
      "metadata": {
        "id": "mGSKPWaI8kA8",
        "colab_type": "code",
        "colab": {
          "base_uri": "https://localhost:8080/",
          "height": 51
        },
        "outputId": "f0c7ceec-82f8-4b32-9905-4f0ba0f382f7"
      },
      "source": [
        "# 위 코드 역할을 하는 함수를 작성해 보세요\n",
        "def proto():\n",
        "l1 = list_01.count(4)   #list_01에서 4를 센다\n",
        "if l1 > 0 : #l2가 0보다 크면 4를 센적이 있기 때문에 아래의 텍스트가 출력됨\n",
        "  print(\"list 1에는 4가 존재함\")\n",
        "else: print(\"list 1에는 4가 존재하지 않음\")\n",
        "\n",
        "l2 = list_02.count(4) #list_02에서 4를 센다\n",
        "if l2 > 0 : #l2가 0보다 크지 않으면, 4를 센적이 없으므로, 존재하지 않음.\n",
        "  print(\"list 2에는 4가 존재함\")\n",
        "else: print(\"list 2에는 4가 존재하지 않음\")\n",
        "\n",
        "proto() # 앞으로 'proto()' 이 한줄만 입력하면, 위의 많은 line의 코드를 다시 입력하지 않아도 됨."
      ],
      "execution_count": 3,
      "outputs": [
        {
          "output_type": "stream",
          "text": [
            "list 1에는 4가 존재함\n",
            "list 2에는 4가 존재하지 않음\n"
          ],
          "name": "stdout"
        }
      ]
    },
    {
      "cell_type": "code",
      "metadata": {
        "id": "tmp7EoSo82Xa",
        "colab_type": "code",
        "colab": {}
      },
      "source": [
        "list_03 = [4, 5, 8, 9, 10] \n",
        "\n",
        "# 위 list element 중 8보다 큰 숫자가 몇 개가 있는지 코드로 작성해 보세요.\n",
        "\n",
        "\n",
        "\n"
      ],
      "execution_count": 6,
      "outputs": []
    },
    {
      "cell_type": "code",
      "metadata": {
        "id": "fQKIWJ4KGsqs",
        "colab_type": "code",
        "colab": {
          "base_uri": "https://localhost:8080/",
          "height": 34
        },
        "outputId": "2cadb359-d41c-4187-ff84-c43c4503f1d4"
      },
      "source": [
        "# BMI\n",
        "height = [1.87,  1.87, 1.82, 1.91, 1.90, 1.85]\n",
        "weight = [81.65, 97.52, 95.25, 92.98, 86.18, 88.45]\n",
        "\n",
        "# bmi = weight / height ** 2 를 numpy array 활용하여 구해보세요\n",
        "import numpy as np\n",
        "\n",
        "h = np.array(height)\n",
        "w = np.array(weight)\n",
        "\n",
        "bmi = w/h ** 2\n",
        "\n",
        "print(bmi)\n",
        "\n",
        "# bmi 가 24 이상인 값들만 선택해 보세요\n",
        "\n"
      ],
      "execution_count": 7,
      "outputs": [
        {
          "output_type": "stream",
          "text": [
            "[23.34925219 27.88755755 28.75558507 25.48723993 23.87257618 25.84368152]\n"
          ],
          "name": "stdout"
        }
      ]
    },
    {
      "cell_type": "code",
      "metadata": {
        "id": "q8D8Sheb82Gp",
        "colab_type": "code",
        "colab": {}
      },
      "source": [
        "# pandas 패키지 라이브러리를 불러오세요\n",
        "\n",
        "# 아래 내용을 담는 pandas Dataframe 을 생성하세요\n",
        "# {'Bob': ['I liked it.', 'It was awful.'], 'Sue': ['Pretty good.', 'Bland.']}\n"
      ],
      "execution_count": null,
      "outputs": []
    },
    {
      "cell_type": "code",
      "metadata": {
        "id": "kSFa1Sg--lyw",
        "colab_type": "code",
        "colab": {
          "base_uri": "https://localhost:8080/",
          "height": 35
        },
        "outputId": "52c35e0b-4c18-4c87-b60d-c745822e222d"
      },
      "source": [
        "# 아래와 같은 dataframe을 만들어 보세요. (참고: 연도가 index가 되게 해 주세요)\n",
        "\"\"\"\n",
        "year dept     revenue\n",
        "2015 Sales    30\n",
        "2016 Sales    35\n",
        "2017 Sales    40\n",
        "\"\"\"\n",
        "\n",
        "\n",
        "# 2017년 데이터만 선택해 보세요\n",
        "\n",
        "\n",
        "# 조건(condition)을 활용하여 revenue 30 이상으로만 filter 해 보세요. reference: https://pandas.pydata.org/pandas-docs/stable/getting_started/intro_tutorials/03_subset_data.html \n",
        "\n"
      ],
      "execution_count": null,
      "outputs": [
        {
          "output_type": "execute_result",
          "data": {
            "application/vnd.google.colaboratory.intrinsic+json": {
              "type": "string"
            },
            "text/plain": [
              "'\\nyear dept     revenue\\n2015 Sales    30\\n2016 Sales    35\\n2017 Sales    40\\n'"
            ]
          },
          "metadata": {
            "tags": []
          },
          "execution_count": 8
        }
      ]
    },
    {
      "cell_type": "code",
      "metadata": {
        "id": "GFRfJR5O9XYd",
        "colab_type": "code",
        "colab": {}
      },
      "source": [
        "# 'https://web.stanford.edu/class/archive/cs/cs109/cs109.1166/stuff/titanic.csv' 자료를 불러와 dataframe으로 만들어 보세요 "
      ],
      "execution_count": null,
      "outputs": []
    },
    {
      "cell_type": "code",
      "metadata": {
        "id": "08CdiZjf-b6_",
        "colab_type": "code",
        "colab": {}
      },
      "source": [
        "# 타이타닉 데이터의 shape은 어떻게 되나요? \n",
        "\n",
        "# 타이타닉 row record에서 10~20번째 줄을 출력해 보세요\n",
        "\n",
        "# 타이타닉 데이터에서 'Survived', 'Age', 'Sex' 칼럼 데이터를 선택해 보세요\n",
        "\n",
        "# 타이타닉 데이터에서 생존자 데이터만 골라보세요\n",
        "\n",
        "# 생존자 데이터 중 여자, 남자 중 누가 더 많나요? 참고: https://pandas.pydata.org/pandas-docs/stable/reference/api/pandas.Series.value_counts.html\n"
      ],
      "execution_count": null,
      "outputs": []
    }
  ]
}