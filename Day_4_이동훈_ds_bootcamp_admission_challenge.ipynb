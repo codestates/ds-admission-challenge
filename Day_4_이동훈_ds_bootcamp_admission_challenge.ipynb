{
  "nbformat": 4,
  "nbformat_minor": 0,
  "metadata": {
    "colab": {
      "name": "Day 4 이동훈 - ds_bootcamp_admission_challenge.ipynb",
      "provenance": [],
      "collapsed_sections": [],
      "include_colab_link": true
    },
    "kernelspec": {
      "name": "python3",
      "display_name": "Python 3"
    }
  },
  "cells": [
    {
      "cell_type": "markdown",
      "metadata": {
        "id": "view-in-github",
        "colab_type": "text"
      },
      "source": [
        "<a href=\"https://colab.research.google.com/github/kroonstazy/ds-admission-challenge/blob/master/Day_4_%EC%9D%B4%EB%8F%99%ED%9B%88_ds_bootcamp_admission_challenge.ipynb\" target=\"_parent\"><img src=\"https://colab.research.google.com/assets/colab-badge.svg\" alt=\"Open In Colab\"/></a>"
      ]
    },
    {
      "cell_type": "markdown",
      "metadata": {
        "id": "-q8YiM6xsp0X",
        "colab_type": "text"
      },
      "source": [
        "# Challenge\n",
        "\n",
        "- 코드스테이츠 DS 부트캠프 어드미션을 위한 Challenge 과제 입니다. \n",
        "- 아래 challenge 를 풀기 위해 제공된 강의가 모든 것을 알려주진 않습니다. \n",
        "- 따라서 필요한 부분은 스스로 google 검색을 통해 이 challenge 를 완성해 주셔야 합니다. \n",
        "- 각 shell 에 필요한 부분을 작성하신 후 함께 링크를 제출해 주시면 됩니다.\n",
        "- 모든 결과물은 하나의 shell에서 모두 실행될 수 있도록 print문을 사용해 주세요. run all 했을 때 전체 shell 이 모두 잘 실행될 수 있도록 관리해 주세요.\n",
        "\n"
      ]
    },
    {
      "cell_type": "code",
      "metadata": {
        "id": "jG9nz_Qso70q",
        "colab_type": "code",
        "colab": {}
      },
      "source": [
        "# 1. 다음의 list 에서 두 번째 list elemnet 를 print 해 보세요\n",
        "list_01 = ['Paul', 'John', 'Ringo', 'George']\n",
        "\n",
        "print(list_01[1])"
      ],
      "execution_count": null,
      "outputs": []
    },
    {
      "cell_type": "code",
      "metadata": {
        "id": "wGqpxIi8uDKE",
        "colab_type": "code",
        "colab": {
          "base_uri": "https://localhost:8080/",
          "height": 34
        },
        "outputId": "1f481e07-d393-4c7a-a2ed-22f9370e5512"
      },
      "source": [
        "# 2. 다음의 list in the list에서 두 번째 element 를 print 해 보세요\n",
        "list_02 = [['Paul', 'John', 'Ringo', 'George'], ['what', 'the','freak?'],['is','any','one','out','there?']]\n",
        "\n",
        "print(list_02[1][1]) # \"the\" will print. list_02의 2번째 리스트/element의 2번째 element를 출력"
      ],
      "execution_count": null,
      "outputs": [
        {
          "output_type": "stream",
          "text": [
            "the\n"
          ],
          "name": "stdout"
        }
      ]
    },
    {
      "cell_type": "code",
      "metadata": {
        "id": "u_UvSnNI8XgF",
        "colab_type": "code",
        "colab": {
          "base_uri": "https://localhost:8080/",
          "height": 85
        },
        "outputId": "7ac5c2ef-821c-4584-e698-9d576bad264f"
      },
      "source": [
        "# Initializing list  \n",
        "list_01 = [ 1, 6, 3, 5, 3, 4 ] \n",
        "list_02 = [ 1, 6, 3, 5, 3 ] \n",
        "\n",
        "\n",
        "# count 함수(function) 와 for loop 을 이용하여 두 개의 리스트 안에 4가 있는지 없는지 print 하는 코드를 작성하세요\n",
        "  #is there a particular reason why do you want us to use the 'for...loop'?\n",
        "\n",
        "#Method 1 : Using 'count' and 'for loop' (진환님 Method)\n",
        "#I forget already. \n",
        "\n",
        "################################################################################\n",
        "\n",
        "#Method 2 : 'Using native python count, (Using if...else method) I much prefer this style.' \n",
        "##Sometime you do need to use For...loop method!\n",
        "l1 = list_01.count(4)\n",
        "if l1 > 0 :\n",
        "  print(\"list 1에는 4가 존재함\")\n",
        "else: print(\"list 1에는 4가 존재하지 않음\")\n",
        "\n",
        "l2 = list_02.count(4)\n",
        "if l2 > 0 :\n",
        "  print(\"list 2에는 4가 존재함\")\n",
        "else: print(\"list 2에는 4가 존재하지 않음\")\n",
        "\n",
        "################################################################################\n",
        "\n",
        "#Method 3 : My first try (the condition use count was not given.\n",
        "  #\"for loop 을 이용하여 두 개의 리스트 안에 4가 있는지 없는지 print 하는 코드를 작성하세요\")\n",
        "\n",
        "for i in list_01 :\n",
        "    if 4 in list_01:\n",
        "        print(\"Exist\")\n",
        "        break\n",
        "    else :\n",
        "        print(\"Does not Exist\")\n",
        "        break\n",
        "\n",
        "for i in list_02 :\n",
        "    if 4 in list_02:\n",
        "        print(\"Exist\")\n",
        "        break\n",
        "    else :\n",
        "        print(\"Does not Exist\")\n",
        "        break\n",
        "  \n",
        "#this way for loop checks every elements of in each list, Throwing out bunch of text irrelavent to information.\n",
        "\n",
        "################################################################################"
      ],
      "execution_count": 6,
      "outputs": [
        {
          "output_type": "stream",
          "text": [
            "list 1에는 4가 존재함\n",
            "list 2에는 4가 존재하지 않음\n",
            "Exist\n",
            "Does not Exist\n"
          ],
          "name": "stdout"
        }
      ]
    },
    {
      "cell_type": "code",
      "metadata": {
        "id": "mGSKPWaI8kA8",
        "colab_type": "code",
        "colab": {
          "base_uri": "https://localhost:8080/",
          "height": 51
        },
        "outputId": "f0c7ceec-82f8-4b32-9905-4f0ba0f382f7"
      },
      "source": [
        "# 위 코드 역할을 하는 함수를 작성해 보세요\n",
        "def proto():\n",
        "l1 = list_01.count(4)   #list_01에서 4를 센다\n",
        "if l1 > 0 : #l2가 0보다 크면 4를 센적이 있기 때문에 아래의 텍스트가 출력됨\n",
        "  print(\"list 1에는 4가 존재함\")\n",
        "else: print(\"list 1에는 4가 존재하지 않음\")\n",
        "\n",
        "l2 = list_02.count(4) #list_02에서 4를 센다\n",
        "if l2 > 0 : #l2가 0보다 크지 않으면, 4를 센적이 없으므로, 존재하지 않음.\n",
        "  print(\"list 2에는 4가 존재함\")\n",
        "else: print(\"list 2에는 4가 존재하지 않음\")\n",
        "\n",
        "proto() # 앞으로 'proto()' 이 한줄만 입력하면, 위의 많은 line의 코드를 다시 입력하지 않아도 됨."
      ],
      "execution_count": 3,
      "outputs": [
        {
          "output_type": "stream",
          "text": [
            "list 1에는 4가 존재함\n",
            "list 2에는 4가 존재하지 않음\n"
          ],
          "name": "stdout"
        }
      ]
    },
    {
      "cell_type": "code",
      "metadata": {
        "id": "tmp7EoSo82Xa",
        "colab_type": "code",
        "colab": {
          "base_uri": "https://localhost:8080/",
          "height": 51
        },
        "outputId": "0161df9f-a695-4b1f-9c28-942fd55dceb8"
      },
      "source": [
        "list_03 = [4, 5, 8, 9, 10] \n",
        "\n",
        "# 위 list element 중 8보다 큰 숫자가 몇 개가 있는지 코드로 작성해 보세요.\n",
        "# for if 문 사용 해결\n",
        "\n",
        "# Method 1 (using count/'container')\n",
        "count = 0\n",
        "for j in list_03:\n",
        "  if j > 8 :\n",
        "    count = count + 1\n",
        "print(count)\n",
        "\n",
        "# Method 2 (code I got from google search)\n",
        "\n",
        "sum(i>8 for i in list_03)\n",
        "\n",
        "# numarray.which"
      ],
      "execution_count": 12,
      "outputs": [
        {
          "output_type": "stream",
          "text": [
            "2\n"
          ],
          "name": "stdout"
        },
        {
          "output_type": "execute_result",
          "data": {
            "text/plain": [
              "2"
            ]
          },
          "metadata": {
            "tags": []
          },
          "execution_count": 12
        }
      ]
    },
    {
      "cell_type": "code",
      "metadata": {
        "id": "fQKIWJ4KGsqs",
        "colab_type": "code",
        "colab": {
          "base_uri": "https://localhost:8080/",
          "height": 51
        },
        "outputId": "20600753-b691-4e80-807f-cc322a64e362"
      },
      "source": [
        "# BMI\n",
        "height = [1.87,  1.87, 1.82, 1.91, 1.90, 1.85]\n",
        "weight = [81.65, 97.52, 95.25, 92.98, 86.18, 88.45]\n",
        "\n",
        "# bmi = weight / height ** 2 를 numpy array 활용하여 구해보세요\n",
        "import numpy as np\n",
        "\n",
        "h = np.array(height)\n",
        "w = np.array(weight)\n",
        "\n",
        "bmi = w/h ** 2\n",
        "\n",
        "print(bmi)\n",
        "\n",
        "# bmi 가 24 이상인 값들만 선택해 보세요\n",
        "\n",
        "bmi_index = np.where(bmi >= 24) # CTS : search more info for np.where\n",
        "\n",
        "print(bmi[bmi_index]) ### know this part! KNOW BMI questions and REVIEW.\n"
      ],
      "execution_count": 31,
      "outputs": [
        {
          "output_type": "stream",
          "text": [
            "[23.34925219 27.88755755 28.75558507 25.48723993 23.87257618 25.84368152]\n",
            "[27.88755755 28.75558507 25.48723993 25.84368152]\n"
          ],
          "name": "stdout"
        }
      ]
    },
    {
      "cell_type": "code",
      "metadata": {
        "id": "q8D8Sheb82Gp",
        "colab_type": "code",
        "colab": {
          "base_uri": "https://localhost:8080/",
          "height": 68
        },
        "outputId": "7a04e25d-f26a-4b6f-b0fe-951fedb31da9"
      },
      "source": [
        "# pandas 패키지 라이브러리를 불러오세요\n",
        "import pandas as pd\n",
        "\n",
        "# 아래 내용을 담는 pandas Dataframe 을 생성하세요\n",
        "# {'Bob': ['I liked it.', 'It was awful.'], 'Sue': ['Pretty good.', 'Bland.']}\n",
        "pf = {'Bob': ['I liked it.', 'It was awful.'], 'Sue': ['Pretty good.', 'Bland.']}\n",
        "pref = pd.DataFrame(pf)  ### D와 F는 대문자. 조심\n",
        "\n",
        "print(pref)"
      ],
      "execution_count": 15,
      "outputs": [
        {
          "output_type": "stream",
          "text": [
            "             Bob           Sue\n",
            "0    I liked it.  Pretty good.\n",
            "1  It was awful.        Bland.\n"
          ],
          "name": "stdout"
        }
      ]
    },
    {
      "cell_type": "code",
      "metadata": {
        "id": "kSFa1Sg--lyw",
        "colab_type": "code",
        "colab": {
          "base_uri": "https://localhost:8080/",
          "height": 374
        },
        "outputId": "dad42735-fe31-4bcb-99e7-07a81450f7c5"
      },
      "source": [
        "# 아래와 같은 dataframe을 만들어 보세요. (참고: 연도가 index가 되게 해 주세요)\n",
        "\"\"\"\n",
        "year dept     revenue\n",
        "2015 Sales    30\n",
        "2016 Sales    35\n",
        "2017 Sales    40\n",
        "\"\"\"\n",
        "\n",
        "import pandas as pd\n",
        "#################################################\n",
        "#Method 1\n",
        "ydr = {\n",
        "    'year': [2015, 2016, 2017],\n",
        "    'dept': ['Sales','Sales','Sales'],\n",
        "    'revenue' : [30, 35, 40]\n",
        "    }\n",
        "\n",
        "revfig = pd.DataFrame(ydr)\n",
        "revfig.index = [2015, 2016, 2017]\n",
        "print(revfig)\n",
        "\n",
        "del revfig['year']\n",
        "print(revfig)\n",
        "\n",
        "##################################################\n",
        "#Method 2\n",
        "ydr2 = {\n",
        "    'dept': ['Sales','Sales','Sales'],\n",
        "    'revenue' : [30, 35, 40]\n",
        "}\n",
        "revfig2 = pd.DataFrame(ydr2)\n",
        "revfig2.index = [2015, 2016, 2017]\n",
        "\n",
        "print(revfig2)\n",
        "###################################################\n",
        "\n",
        "\n",
        "# 2017년 데이터만 선택해 보세요\n",
        "print(revfig.iloc[2])\n",
        "\n",
        "# 조건(condition)을 활용하여 revenue 30 이상으로만 filter 해 보세요. reference: https://pandas.pydata.org/pandas-docs/stable/getting_started/intro_tutorials/03_subset_data.html \n",
        "print(revfig[revfig['revenue']>=30])\n",
        "\n",
        "# 조건2(condition2)을 활용하여 revenue 36 이상으로만 filter 해 보세요.\n",
        "print(revfig[revfig['revenue']>=36])"
      ],
      "execution_count": 25,
      "outputs": [
        {
          "output_type": "stream",
          "text": [
            "      year   dept  revenue\n",
            "2015  2015  Sales       30\n",
            "2016  2016  Sales       35\n",
            "2017  2017  Sales       40\n",
            "       dept  revenue\n",
            "2015  Sales       30\n",
            "2016  Sales       35\n",
            "2017  Sales       40\n",
            "       dept  revenue\n",
            "2015  Sales       30\n",
            "2016  Sales       35\n",
            "2017  Sales       40\n",
            "dept       Sales\n",
            "revenue       40\n",
            "Name: 2017, dtype: object\n",
            "       dept  revenue\n",
            "2015  Sales       30\n",
            "2016  Sales       35\n",
            "2017  Sales       40\n",
            "       dept  revenue\n",
            "2017  Sales       40\n"
          ],
          "name": "stdout"
        }
      ]
    },
    {
      "cell_type": "code",
      "metadata": {
        "id": "GFRfJR5O9XYd",
        "colab_type": "code",
        "colab": {
          "base_uri": "https://localhost:8080/",
          "height": 255
        },
        "outputId": "fe0dac84-960e-4568-decc-efe4e1a316aa"
      },
      "source": [
        "# 'https://web.stanford.edu/class/archive/cs/cs109/cs109.1166/stuff/titanic.csv' 자료를 불러와 dataframe으로 만들어 보세요 \n",
        "\n",
        "import pandas as pd\n",
        "titanic = pd.read_csv('https://web.stanford.edu/class/archive/cs/cs109/cs109.1166/stuff/titanic.csv')\n",
        "print(titanic)"
      ],
      "execution_count": 26,
      "outputs": [
        {
          "output_type": "stream",
          "text": [
            "     Survived  Pclass  ... Parents/Children Aboard     Fare\n",
            "0           0       3  ...                       0   7.2500\n",
            "1           1       1  ...                       0  71.2833\n",
            "2           1       3  ...                       0   7.9250\n",
            "3           1       1  ...                       0  53.1000\n",
            "4           0       3  ...                       0   8.0500\n",
            "..        ...     ...  ...                     ...      ...\n",
            "882         0       2  ...                       0  13.0000\n",
            "883         1       1  ...                       0  30.0000\n",
            "884         0       3  ...                       2  23.4500\n",
            "885         1       1  ...                       0  30.0000\n",
            "886         0       3  ...                       0   7.7500\n",
            "\n",
            "[887 rows x 8 columns]\n"
          ],
          "name": "stdout"
        }
      ]
    },
    {
      "cell_type": "code",
      "metadata": {
        "id": "08CdiZjf-b6_",
        "colab_type": "code",
        "colab": {
          "base_uri": "https://localhost:8080/",
          "height": 765
        },
        "outputId": "8c46dfef-3737-475f-d035-cae831a38f77"
      },
      "source": [
        "# 타이타닉 데이터의 shape은 어떻게 되나요? \n",
        "print(titanic.shape)\n",
        "\n",
        "# 타이타닉 row record에서 10~20번째 줄을 출력해 보세요\n",
        "print(titanic.iloc[9:20])\n",
        "\n",
        "# 타이타닉 데이터에서 'Survived', 'Age', 'Sex' 칼럼 데이터를 선택해 보세요\n",
        "SASR = titanic[['Survived','Age','Sex']]\n",
        "print(SASR)\n",
        "\n",
        "# 타이타닉 데이터에서 생존자 데이터만 골라보세요\n",
        "\n",
        "surv = titanic[titanic['Survived'].isin([1])]\n",
        "print(surv)\n",
        "### print(titanic[titanic['Survived'] == 1]) #진환님 코드\n",
        "\n",
        "# 생존자 데이터 중 여자, 남자 중 누가 더 많나요? 참고: https://pandas.pydata.org/pandas-docs/stable/reference/api/pandas.Series.value_counts.html\n",
        "male = surv[surv['Sex'] == 'male']\n",
        "female = surv[surv['Sex'] == 'female']\n",
        "\n",
        "##진환님 코드 (there are multiple ways of solving a problem)\n",
        "surv['Sex'].value_counts() #will display counted number by gender.\n",
        "\n",
        "#my code : will print a line which one has a larger value than the other. \n",
        "Number_Of_Male = len(male)\n",
        "Number_Of_Female = len(female)\n",
        "\n",
        "if Number_Of_Male > Number_Of_Female:\n",
        "  print(\"남자 생존자 데이터가 더 많다\")\n",
        "elif Number_Of_Female > Number_Of_Male:\n",
        "  print(\"여자 생존자 데이터가 더 많다\")\n"
      ],
      "execution_count": 36,
      "outputs": [
        {
          "output_type": "stream",
          "text": [
            "(887, 8)\n",
            "    Survived  Pclass  ... Parents/Children Aboard     Fare\n",
            "9          1       2  ...                       0  30.0708\n",
            "10         1       3  ...                       1  16.7000\n",
            "11         1       1  ...                       0  26.5500\n",
            "12         0       3  ...                       0   8.0500\n",
            "13         0       3  ...                       5  31.2750\n",
            "14         0       3  ...                       0   7.8542\n",
            "15         1       2  ...                       0  16.0000\n",
            "16         0       3  ...                       1  29.1250\n",
            "17         1       2  ...                       0  13.0000\n",
            "18         0       3  ...                       0  18.0000\n",
            "19         1       3  ...                       0   7.2250\n",
            "\n",
            "[11 rows x 8 columns]\n",
            "     Survived   Age     Sex\n",
            "0           0  22.0    male\n",
            "1           1  38.0  female\n",
            "2           1  26.0  female\n",
            "3           1  35.0  female\n",
            "4           0  35.0    male\n",
            "..        ...   ...     ...\n",
            "882         0  27.0    male\n",
            "883         1  19.0  female\n",
            "884         0   7.0  female\n",
            "885         1  26.0    male\n",
            "886         0  32.0    male\n",
            "\n",
            "[887 rows x 3 columns]\n",
            "     Survived  Pclass  ... Parents/Children Aboard     Fare\n",
            "1           1       1  ...                       0  71.2833\n",
            "2           1       3  ...                       0   7.9250\n",
            "3           1       1  ...                       0  53.1000\n",
            "8           1       3  ...                       2  11.1333\n",
            "9           1       2  ...                       0  30.0708\n",
            "..        ...     ...  ...                     ...      ...\n",
            "871         1       3  ...                       0   7.2250\n",
            "875         1       1  ...                       1  83.1583\n",
            "876         1       2  ...                       1  26.0000\n",
            "883         1       1  ...                       0  30.0000\n",
            "885         1       1  ...                       0  30.0000\n",
            "\n",
            "[342 rows x 8 columns]\n",
            "여자 생존자 데이터가 더 많다\n"
          ],
          "name": "stdout"
        }
      ]
    }
  ]
}