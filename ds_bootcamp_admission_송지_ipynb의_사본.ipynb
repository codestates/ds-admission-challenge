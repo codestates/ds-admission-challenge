{
  "nbformat": 4,
  "nbformat_minor": 0,
  "metadata": {
    "colab": {
      "name": "ds_bootcamp_admission_송지.ipynb의 사본",
      "provenance": [],
      "collapsed_sections": [],
      "include_colab_link": true
    },
    "kernelspec": {
      "name": "python3",
      "display_name": "Python 3"
    }
  },
  "cells": [
    {
      "cell_type": "markdown",
      "metadata": {
        "id": "view-in-github",
        "colab_type": "text"
      },
      "source": [
        "<a href=\"https://colab.research.google.com/github/mynameisji/ds-admission-challenge/blob/master/ds_bootcamp_admission_%EC%86%A1%EC%A7%80_ipynb%EC%9D%98_%EC%82%AC%EB%B3%B8.ipynb\" target=\"_parent\"><img src=\"https://colab.research.google.com/assets/colab-badge.svg\" alt=\"Open In Colab\"/></a>"
      ]
    },
    {
      "cell_type": "markdown",
      "metadata": {
        "id": "-q8YiM6xsp0X",
        "colab_type": "text"
      },
      "source": [
        "# Challenge\n",
        "\n",
        "- 코드스테이츠 DS 부트캠프 어드미션을 위한 Challenge 과제 입니다. \n",
        "- 아래 challenge 를 풀기 위해 제공된 강의가 모든 것을 알려주진 않습니다. \n",
        "- 따라서 필요한 부분은 스스로 google 검색을 통해 이 challenge 를 완성해 주셔야 합니다. \n",
        "- 각 shell 에 필요한 부분을 작성하신 후 함께 링크를 제출해 주시면 됩니다.\n",
        "- 모든 결과물은 하나의 shell에서 모두 실행될 수 있도록 print문을 사용해 주세요. run all 했을 때 전체 shell 이 모두 잘 실행될 수 있도록 관리해 주세요.\n",
        "\n"
      ]
    },
    {
      "cell_type": "code",
      "metadata": {
        "id": "jG9nz_Qso70q",
        "colab_type": "code",
        "colab": {
          "base_uri": "https://localhost:8080/",
          "height": 36
        },
        "outputId": "52de71f3-6574-4731-ab30-e023134a105f"
      },
      "source": [
        "# 1. 다음의 list 에서 두 번째 list elemnet 를 print 해 보세요\n",
        "list_01 = ['Paul', 'John', 'Ringo', 'George']\n",
        "\n",
        "print(list_01[1])\n",
        "\n",
        "#이렇게 [] 형태의 자료를 list 자료형이라고 한다. Array(배열)과 비슷한데, 여러 다른 종류의 변수를 저장하고 싶은 만큼 저장할 수 있다.\n",
        "#list_01[1] -> list_01의 두번째 요소값을 말한다. Python은 숫자를 0부터 센다. "
      ],
      "execution_count": 9,
      "outputs": [
        {
          "output_type": "stream",
          "text": [
            "John\n"
          ],
          "name": "stdout"
        }
      ]
    },
    {
      "cell_type": "code",
      "metadata": {
        "id": "wGqpxIi8uDKE",
        "colab_type": "code",
        "colab": {
          "base_uri": "https://localhost:8080/",
          "height": 55
        },
        "outputId": "8e249c50-4e99-4b7c-b8ee-a7715ec2040f"
      },
      "source": [
        "# 2. 다음의 list in the list에서 두 번째 element 를 print 해 보세요\n",
        "list_02 = [['Paul', 'John', 'Ringo', 'George']]\n",
        "\n",
        "#list안에 list가 들어가는 건 물론, list안에 요소와 다른 list가 동시에 들어 갈 수도 있다. ex) list_a = [1, 2, 3, [4, 5]]\n",
        "#list_02의 첫번째 요소가 ['Paul', 'John', 'Ringo', 'George']이고, 이 첫번째 요소 중 두번째 요소는 'John'이다.\n",
        "\n",
        "print(list_02[0][1])\n",
        "\n",
        "#혹은 보기 편하게 list in the list를 a라는 변수로 설정해보자.\n",
        " \n",
        "a = ['Paul', 'John', 'Ringo', 'George'] \n",
        "print(a[1])\n"
      ],
      "execution_count": 7,
      "outputs": [
        {
          "output_type": "stream",
          "text": [
            "John\n",
            "John\n"
          ],
          "name": "stdout"
        }
      ]
    },
    {
      "cell_type": "code",
      "metadata": {
        "id": "u_UvSnNI8XgF",
        "colab_type": "code",
        "colab": {
          "base_uri": "https://localhost:8080/",
          "height": 55
        },
        "outputId": "90b263ea-d2b3-4b62-85a6-6ecb0c2b8a80"
      },
      "source": [
        "# Initializing list  \n",
        "list_01 = [ 1, 6, 3, 5, 3, 4 ] \n",
        "list_02 = [ 1, 6, 3, 5, 3 ] \n",
        " \n",
        "# for loop을 이용하여 두 개의 리스트 안에 4가 있는지 없는지 print 하는 코드를 작성하세요\n",
        "\n",
        "\n",
        "for i in list_01:\n",
        "  if 4 in list_01:\n",
        "    print(\"There's 4 in list_01\")\n",
        "    break\n",
        "  else:\n",
        "    print(\"There isn't 4 in list_01\")\n",
        "    break\n",
        "\n",
        "for i in list_02:\n",
        "  if 4 in list_02:\n",
        "    print(\"There's 4 in list_02\")\n",
        "  else:\n",
        "    print(\"There isn't 4 in list_02\")\n",
        "    break\n",
        "\n",
        "\n",
        "#for문을 사용하는 반복문에서 break를 사용하면 반복문 전체를 빠져나오게 된다.\n",
        "#만약 break가 없다면 4 가 아닌 요소 각각에 출력물이 나온다. \n"
      ],
      "execution_count": 61,
      "outputs": [
        {
          "output_type": "stream",
          "text": [
            "There's 4 in list_01\n",
            "There isn't 4 in list_02\n"
          ],
          "name": "stdout"
        }
      ]
    },
    {
      "cell_type": "code",
      "metadata": {
        "id": "mGSKPWaI8kA8",
        "colab_type": "code",
        "colab": {
          "base_uri": "https://localhost:8080/",
          "height": 55
        },
        "outputId": "32a77410-6a78-4ba0-fee7-cc1da9164714"
      },
      "source": [
        "# 위 코드 역할을 하는 함수를 작성해 보세요\n",
        "\n",
        "def numbers(L):\n",
        "  count = 0\n",
        "  for i in L:\n",
        "    if i == 4 : count = 1\n",
        "  if(count == 1) : print(\"There's 4 in here\")\n",
        "  else: print(\"There isn't 4 in here\")\n",
        " \n",
        "numbers(list_01)\n",
        "numbers(list_02)\n"
      ],
      "execution_count": 70,
      "outputs": [
        {
          "output_type": "stream",
          "text": [
            "There's 4 in here\n",
            "There isn't 4 in here\n"
          ],
          "name": "stdout"
        }
      ]
    },
    {
      "cell_type": "code",
      "metadata": {
        "id": "tmp7EoSo82Xa",
        "colab_type": "code",
        "colab": {
          "base_uri": "https://localhost:8080/",
          "height": 36
        },
        "outputId": "1cdf817b-abaf-4c7e-f571-90798ab0c10d"
      },
      "source": [
        "list_03 = [4, 5, 8, 9, 10] \n",
        "# 위 list element 중 8보다 큰 숫자가 몇 개가 있는지 코드로 작성해 보세요. \n",
        "\n",
        "sum(i > 8 for i in list_03)\n",
        "\n",
        "#코드가 도저히 안 풀리면 잘 검색해서 누군가 만들어 놓은걸 찾는 것도 방법이라고 했다.."
      ],
      "execution_count": 71,
      "outputs": [
        {
          "output_type": "execute_result",
          "data": {
            "text/plain": [
              "2"
            ]
          },
          "metadata": {
            "tags": []
          },
          "execution_count": 71
        }
      ]
    },
    {
      "cell_type": "code",
      "metadata": {
        "id": "fQKIWJ4KGsqs",
        "colab_type": "code",
        "colab": {
          "base_uri": "https://localhost:8080/",
          "height": 73
        },
        "outputId": "c98f5bd4-ce31-4df2-b8da-38f1056d19c8"
      },
      "source": [
        "# BMI\n",
        "height = [1.87,  1.87, 1.82, 1.91, 1.90, 1.85]\n",
        "weight = [81.65, 97.52, 95.25, 92.98, 86.18, 88.45]\n",
        "\n",
        "# bmi = weight / height ** 2 를 numpy array 활용하여 구해보세요\n",
        "import numpy as np\n",
        "height = np.array(height)\n",
        "weight = np.array(weight)\n",
        "\n",
        "bmi = weight / height ** 2\n",
        "print(bmi)\n",
        "\n",
        "#numpy는 리스트를 배열로 변환해주는 파이썬 패키지다. 배열을 사용하면 적은 메모리로 데이터를 빠르게 처리할 수 있다.\n",
        "#numpy의 array라는 함수에 리스트(여기서는 height와 weight)를 넣어주면 배열로 변환해준다.\n",
        "#이렇게 .~ 이 함수를 사용한다는 의민줄 처음 알았다...\n",
        "\n",
        "# bmi 가 24 이상인 값들만 선택해 보세요\n",
        "cond = bmi > 24\n",
        "print(bmi[cond])\n",
        "\n",
        "#bmi>24의 조건을 cond라는 변수에 정의하고, bmi[cond]를 출력했다. 배열 형태의 자료에서는 두번째 요소를 출력하시오 같은 것 말고 조건을 넣은 변수도 출력이 되네요.\n",
        "\n",
        "idx = np.where(bmi>24)\n",
        "print(bmi[idx])\n",
        "#라이브 코딩에서 사용하신 np.where는 배열에 요소를 검색해 인덱스로 반환한다.\n",
        "#위에 바로 조건을 준 변수와 np.where 사용한 것 과의 차이는 차차 알아보겠습니다.\n"
      ],
      "execution_count": 74,
      "outputs": [
        {
          "output_type": "stream",
          "text": [
            "[23.34925219 27.88755755 28.75558507 25.48723993 23.87257618 25.84368152]\n",
            "[27.88755755 28.75558507 25.48723993 25.84368152]\n",
            "[27.88755755 28.75558507 25.48723993 25.84368152]\n"
          ],
          "name": "stdout"
        }
      ]
    },
    {
      "cell_type": "code",
      "metadata": {
        "id": "q8D8Sheb82Gp",
        "colab_type": "code",
        "colab": {
          "base_uri": "https://localhost:8080/",
          "height": 73
        },
        "outputId": "bef35648-96bf-4527-a99f-02c478e61b1c"
      },
      "source": [
        "# pandas 패키지 라이브러리를 불러오세요\n",
        "\n",
        "import pandas as pd\n",
        "\n",
        "# 아래 내용을 담는 pandas Dataframe 을 생성하세요\n",
        "# {'Bob': ['I liked it.', 'It was awful.'], 'Sue': ['Pretty good.', 'Bland.']}\n",
        "\n",
        "dict = {'Bob': ['I liked it.', 'It was awful.'], 'Sue': ['Pretty good.', 'Bland.']}\n",
        "\n",
        "friend = pd.DataFrame(dict)\n",
        "print(friend)\n",
        "\n",
        "#dictionary는 트리구조의 검색 자료 구조. {}이런거 쓰는 자료는 dict이라고 한다."
      ],
      "execution_count": 79,
      "outputs": [
        {
          "output_type": "stream",
          "text": [
            "             Bob           Sue\n",
            "0    I liked it.  Pretty good.\n",
            "1  It was awful.        Bland.\n"
          ],
          "name": "stdout"
        }
      ]
    },
    {
      "cell_type": "code",
      "metadata": {
        "id": "kSFa1Sg--lyw",
        "colab_type": "code",
        "colab": {
          "base_uri": "https://localhost:8080/",
          "height": 241
        },
        "outputId": "0485a227-a7f0-4517-f46f-fa39c14f8d45"
      },
      "source": [
        "# 아래와 같은 dataframe을 만들어 보세요. (참고: 연도가 index가 되게 해 주세요)\n",
        "\"\"\"\n",
        "year dept     revenue\n",
        "2015 Sales    30\n",
        "2016 Sales    35\n",
        "2017 Sales    40\n",
        "\"\"\"\n",
        "\n",
        "#DataFrame에서 특정 컬럼을 인덱스로 하는 경우 set_index 함수를 사용한다\n",
        "import pandas as pd\n",
        "\n",
        "data = {'year':[2015,2016,2017],\n",
        "        'dept':['Sales','Sales','Sales'],\n",
        "        'revenue': [30,35,40]}\n",
        "\n",
        "df = pd.DataFrame(data)\n",
        "df = df.set_index('year')\n",
        "print(df)\n",
        "\n",
        "# 2017년 데이터만 선택해 보세요\n",
        "print(df.iloc[2])\n",
        "\n",
        "#2017은 2번째 row에 위치해있다. 앞서 생성한 데이터프레임을 row값으로 잡으려고 iloc을 사용함. iloc[]하면 []안의 수에 해당하는 레코드 값들이 쭉 출력된다. \n",
        "\n",
        "\n",
        "# 조건(condition)을 활용하여 revenue 30 이상으로만 filter 해 보세요. reference: https://pandas.pydata.org/pandas-docs/stable/getting_started/intro_tutorials/03_subset_data.html \n",
        "print(df[df[\"revenue\"]>30])\n",
        "\n",
        "#reference를 참조하였다. df라는 이름이 titanic일뿐 똑같은 에제가 나온다.\n",
        "\n",
        "\n"
      ],
      "execution_count": 82,
      "outputs": [
        {
          "output_type": "stream",
          "text": [
            "       dept  revenue\n",
            "year                \n",
            "2015  Sales       30\n",
            "2016  Sales       35\n",
            "2017  Sales       40\n",
            "dept       Sales\n",
            "revenue       40\n",
            "Name: 2017, dtype: object\n",
            "       dept  revenue\n",
            "year                \n",
            "2016  Sales       35\n",
            "2017  Sales       40\n"
          ],
          "name": "stdout"
        }
      ]
    },
    {
      "cell_type": "code",
      "metadata": {
        "id": "GFRfJR5O9XYd",
        "colab_type": "code",
        "colab": {}
      },
      "source": [
        "# 'https://web.stanford.edu/class/archive/cs/cs109/cs109.1166/stuff/titanic.csv' 자료를 불러와 dataframe으로 만들어 보세요 \n",
        "\n",
        "import pandas as pd\n",
        "df = pd.read_csv('https://web.stanford.edu/class/archive/cs/cs109/cs109.1166/stuff/titanic.csv')"
      ],
      "execution_count": 91,
      "outputs": []
    },
    {
      "cell_type": "code",
      "metadata": {
        "id": "08CdiZjf-b6_",
        "colab_type": "code",
        "colab": {
          "base_uri": "https://localhost:8080/",
          "height": 857
        },
        "outputId": "c082dcac-7c6b-48e5-b78a-05b519cca480"
      },
      "source": [
        "# 타이타닉 데이터의 shape은 어떻게 되나요? \n",
        "df.shape\n",
        "\n",
        "# 타이타닉 row record에서 10~20번째 줄을 출력해 보세요\n",
        "print(df[9:20])\n",
        "\n",
        "# 타이타닉 데이터에서 'Survived', 'Age', 'Sex' 칼럼 데이터를 선택해 보세요\n",
        "print(df[['Survived','Age','Sex']])\n",
        "\n",
        "#데이터프레임의 라벨을 가지고 이 데이터를 column으로 찾아볼 수 있다,\n",
        "#df에 []쓰고 해당 column값을 string으로 넣어준다. \n",
        "#*참고 : []-> Series [[]]->DataFrame\n",
        "\n",
        "# 타이타닉 데이터에서 생존자 데이터만 골라보세요\n",
        "survival = df['Survived'].isin([1])\n",
        "print(df[survival])\n",
        "\n",
        "# 생존자 데이터 중 여자, 남자 중 누가 더 많나요? 참고: https://pandas.pydata.org/pandas-docs/stable/reference/api/pandas.Series.value_counts.html\n",
        "compare = df[survival]\n",
        "print(compare.Sex.value_counts())\n",
        "\n"
      ],
      "execution_count": 97,
      "outputs": [
        {
          "output_type": "stream",
          "text": [
            "    Survived  Pclass  ... Parents/Children Aboard     Fare\n",
            "9          1       2  ...                       0  30.0708\n",
            "10         1       3  ...                       1  16.7000\n",
            "11         1       1  ...                       0  26.5500\n",
            "12         0       3  ...                       0   8.0500\n",
            "13         0       3  ...                       5  31.2750\n",
            "14         0       3  ...                       0   7.8542\n",
            "15         1       2  ...                       0  16.0000\n",
            "16         0       3  ...                       1  29.1250\n",
            "17         1       2  ...                       0  13.0000\n",
            "18         0       3  ...                       0  18.0000\n",
            "19         1       3  ...                       0   7.2250\n",
            "\n",
            "[11 rows x 8 columns]\n",
            "     Survived   Age     Sex\n",
            "0           0  22.0    male\n",
            "1           1  38.0  female\n",
            "2           1  26.0  female\n",
            "3           1  35.0  female\n",
            "4           0  35.0    male\n",
            "..        ...   ...     ...\n",
            "882         0  27.0    male\n",
            "883         1  19.0  female\n",
            "884         0   7.0  female\n",
            "885         1  26.0    male\n",
            "886         0  32.0    male\n",
            "\n",
            "[887 rows x 3 columns]\n",
            "     Survived  Pclass  ... Parents/Children Aboard     Fare\n",
            "1           1       1  ...                       0  71.2833\n",
            "2           1       3  ...                       0   7.9250\n",
            "3           1       1  ...                       0  53.1000\n",
            "8           1       3  ...                       2  11.1333\n",
            "9           1       2  ...                       0  30.0708\n",
            "..        ...     ...  ...                     ...      ...\n",
            "871         1       3  ...                       0   7.2250\n",
            "875         1       1  ...                       1  83.1583\n",
            "876         1       2  ...                       1  26.0000\n",
            "883         1       1  ...                       0  30.0000\n",
            "885         1       1  ...                       0  30.0000\n",
            "\n",
            "[342 rows x 8 columns]\n",
            "female    233\n",
            "male      109\n",
            "Name: Sex, dtype: int64\n"
          ],
          "name": "stdout"
        }
      ]
    },
    {
      "cell_type": "code",
      "metadata": {
        "id": "sZDVtU1x8xbf",
        "colab_type": "code",
        "colab": {}
      },
      "source": [
        ""
      ],
      "execution_count": null,
      "outputs": []
    }
  ]
}