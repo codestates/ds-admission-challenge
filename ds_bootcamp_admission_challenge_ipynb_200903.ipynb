{
  "nbformat": 4,
  "nbformat_minor": 0,
  "metadata": {
    "colab": {
      "name": "ds_bootcamp_admission_challenge.ipynb의 사본의 사본",
      "provenance": [],
      "collapsed_sections": [],
      "include_colab_link": true
    },
    "kernelspec": {
      "name": "python3",
      "display_name": "Python 3"
    }
  },
  "cells": [
    {
      "cell_type": "markdown",
      "metadata": {
        "id": "view-in-github",
        "colab_type": "text"
      },
      "source": [
        "<a href=\"https://colab.research.google.com/github/lovelyohyeah/ds-admission-challenge/blob/master/ds_bootcamp_admission_challenge_ipynb_200903.ipynb\" target=\"_parent\"><img src=\"https://colab.research.google.com/assets/colab-badge.svg\" alt=\"Open In Colab\"/></a>"
      ]
    },
    {
      "cell_type": "markdown",
      "metadata": {
        "id": "-q8YiM6xsp0X",
        "colab_type": "text"
      },
      "source": [
        "# Challenge\n",
        "\n",
        "- 코드스테이츠 DS 부트캠프 어드미션을 위한 Challenge 과제 입니다. \n",
        "- 아래 challenge 를 풀기 위해 제공된 강의가 모든 것을 알려주진 않습니다. \n",
        "- 따라서 필요한 부분은 스스로 google 검색을 통해 이 challenge 를 완성해 주셔야 합니다. \n",
        "- 각 shell 에 필요한 부분을 작성하신 후 함께 링크를 제출해 주시면 됩니다.\n",
        "- 모든 결과물은 하나의 shell에서 모두 실행될 수 있도록 print문을 사용해 주세요. run all 했을 때 전체 shell 이 모두 잘 실행될 수 있도록 관리해 주세요.\n",
        "\n"
      ]
    },
    {
      "cell_type": "code",
      "metadata": {
        "id": "jG9nz_Qso70q",
        "colab_type": "code",
        "colab": {
          "base_uri": "https://localhost:8080/",
          "height": 34
        },
        "outputId": "93ba00ef-2ee0-48fd-f697-50760e7af6f1"
      },
      "source": [
        "# 1. 다음의 list 에서 두 번째 list elemnet 를 print 해 보세요\n",
        "list_01 = ['Paul', 'John', 'Ringo', 'George']\n",
        "\n",
        "print(list_01[1]) # list_01의 두번째 요소의 인덱스는 1, 인덱스 1인 요소의 값을 출력"
      ],
      "execution_count": 67,
      "outputs": [
        {
          "output_type": "stream",
          "text": [
            "John\n"
          ],
          "name": "stdout"
        }
      ]
    },
    {
      "cell_type": "code",
      "metadata": {
        "id": "wGqpxIi8uDKE",
        "colab_type": "code",
        "colab": {
          "base_uri": "https://localhost:8080/",
          "height": 34
        },
        "outputId": "e013a3f7-ec31-4f1d-b350-c81173d74dcc"
      },
      "source": [
        "# 2. 다음의 list in the list에서 두 번째 element 를 print 해 보세요\n",
        "list_02 = [['Paul', 'John', 'Ringo', 'George']]\n",
        "\n",
        "print(list_02[0][1]) # list의 첫번째 element로 list가 들어가있는 구조-> 1번째 element 안의 2번째 element를 찾아가도록 괄호 두개를 사용한다. "
      ],
      "execution_count": 68,
      "outputs": [
        {
          "output_type": "stream",
          "text": [
            "John\n"
          ],
          "name": "stdout"
        }
      ]
    },
    {
      "cell_type": "code",
      "metadata": {
        "id": "u_UvSnNI8XgF",
        "colab_type": "code",
        "colab": {
          "base_uri": "https://localhost:8080/",
          "height": 51
        },
        "outputId": "c80c40f9-19b9-4d55-da54-89813d89217f"
      },
      "source": [
        "# Initializing list  \n",
        "list_01 = [ 1, 6, 3, 5, 3, 4 ] \n",
        "list_02 = [ 1, 6, 3, 5, 3 ] \n",
        "\n",
        "# for loop을 이용하여 두 개의 리스트 안에 4가 있는지 없는지 print 하는 코드를 작성하세요\n",
        "chk = 0 # 4가 있는지 체크할 때 사용할 변수 선언/초기화\n",
        "#list_01 \n",
        "for list in list_01:  #list_01의 원소 갯수만큼 반복하여 아래 작업 수행\n",
        "   if list == 4:      #만약 element가 4일 때\n",
        "     chk = 1          #chk에 1을 대입\n",
        "\n",
        "if chk == 1:          #만약 chk가 1이면 \"4 is in list_01\"출력하고 아닌 경우 \"4 is NOT in list_01\" 출력\n",
        "  print(\"4 is in list_01!\")\n",
        "else:\n",
        "  print(\"4 is NOT in list_01!\")\n",
        "\n",
        "chk = 0               # chk 변수 0으로 초기화\n",
        "  \n",
        "#list_02\n",
        "for list in list_02:  \n",
        "  if list == 4:\n",
        "    chk = 1\n",
        "\n",
        "if chk == 1:\n",
        "  print(\"4 is in list_02!\")\n",
        "else:\n",
        "  print(\"4 is NOT in list_02!\")"
      ],
      "execution_count": 69,
      "outputs": [
        {
          "output_type": "stream",
          "text": [
            "4 is in list_01!\n",
            "4 is NOT in list_02!\n"
          ],
          "name": "stdout"
        }
      ]
    },
    {
      "cell_type": "code",
      "metadata": {
        "id": "mGSKPWaI8kA8",
        "colab_type": "code",
        "colab": {
          "base_uri": "https://localhost:8080/",
          "height": 51
        },
        "outputId": "0053b183-c458-4832-a47c-f1cb4ee57d4f"
      },
      "source": [
        "# 위 코드 역할을 하는 함수를 작성해 보세요.\n",
        "\n",
        "# for문 사용\n",
        "def chklist(list):    \n",
        "  chk = 0             \n",
        "  for i in list:      \n",
        "    if i == 4:\n",
        "        chk = 1\n",
        "\n",
        "  if chk == 1:\n",
        "    print(\"4 is in the list!\")\n",
        "  else:\n",
        "    print(\"4 is NOT in the list!\")  \n",
        "  \n",
        "\n",
        "chklist(list_02)\n",
        "\n",
        "\n",
        "#번외) range 함수 이용\n",
        "\n",
        "def chklist_01(list):\n",
        "  chk = 0\n",
        "  for i in range(len(list)):  #리스트의 길이(len)를 구해서 그만큼(range) for문을 반복\n",
        "    if list[i] == 4:\n",
        "        chk = 1\n",
        "\n",
        "  if chk == 1:\n",
        "    print(\"4 is in the list!\")\n",
        "  else:\n",
        "    print(\"4 is NOT in the list!\")  \n",
        "\n",
        "chklist_01(list_02)\n"
      ],
      "execution_count": 70,
      "outputs": [
        {
          "output_type": "stream",
          "text": [
            "4 is NOT in the list!\n",
            "4 is NOT in the list!\n"
          ],
          "name": "stdout"
        }
      ]
    },
    {
      "cell_type": "code",
      "metadata": {
        "id": "tmp7EoSo82Xa",
        "colab_type": "code",
        "colab": {
          "base_uri": "https://localhost:8080/",
          "height": 51
        },
        "outputId": "69788283-8b48-4589-9d98-c057ff07eb0b"
      },
      "source": [
        "list_03 = [4, 5, 8, 9, 10] \n",
        "# 위 list element 중 8보다 큰 숫자가 몇 개가 있는지 코드로 작성해 보세요. \n",
        "\n",
        "def chklist_02(listname):\n",
        "  chk = 0 \n",
        "  for list in listname:\n",
        "    if list > 8:\n",
        "        chk = chk + 1\n",
        "    else:\n",
        "        chk = chk\n",
        "  return chk\n",
        "\n",
        "print(\"8보다 큰 숫자는 %d개 입니다.\" % chklist_02(list_03))\n",
        "\n",
        "\n",
        "# for문을 사용하지 않고 출력하는 함수로 만들어보기 / numpy.where 활용\n",
        "\n",
        "import numpy as np                # numpy 불러오기\n",
        "np_list_03 = np.array(list_03)    # list_03을 numpy array로 변경하여 np_list_03에 대입\n",
        "\n",
        "print(len(np.where(np_list_03 > 8)[0]))  # np_list_03의 element 중 8보다 큰 원소의 개수를 구하여 출력"
      ],
      "execution_count": 71,
      "outputs": [
        {
          "output_type": "stream",
          "text": [
            "8보다 큰 숫자는 2개 입니다.\n",
            "2\n"
          ],
          "name": "stdout"
        }
      ]
    },
    {
      "cell_type": "markdown",
      "metadata": {
        "id": "76OA9eDlcFhG",
        "colab_type": "text"
      },
      "source": [
        "##numpy.where(condition[, x, y])\n",
        "Return elements chosen from x or y depending on condition.\n",
        "####Parameters\n",
        "#####condition: array_like, bool (Where True, yield x, otherwise yield y.)\n",
        "#####x, y: array_like(Values from which to choose. x, y and condition need to be broadcastable to some shape.)\n",
        "####Returns\n",
        "ndarray: An array with elements from x where condition is True, and elements from y elsewhere."
      ]
    },
    {
      "cell_type": "code",
      "metadata": {
        "id": "fQKIWJ4KGsqs",
        "colab_type": "code",
        "colab": {
          "base_uri": "https://localhost:8080/",
          "height": 51
        },
        "outputId": "c1267247-2c92-411a-87a0-5a834701e7bd"
      },
      "source": [
        "# BMI\n",
        "height = [1.87,  1.87, 1.82, 1.91, 1.90, 1.85]\n",
        "weight = [81.65, 97.52, 95.25, 92.98, 86.18, 88.45]\n",
        "\n",
        "# bmi = weight / height ** 2 를 numpy array 활용하여 구해보세요\n",
        "# bmi 가 24 이상인 값들만 선택해 보세요\n",
        "\n",
        "import numpy as np\n",
        "np_height = np.array(height)\n",
        "np_weight = np.array(weight)\n",
        "\n",
        "bmi = np_weight / np_height ** 2\n",
        "\n",
        "# bmi 가 24 이상인 값들만 선택해 보세요\n",
        "cond = bmi > 24   # 조건을 변수로 만들기\n",
        "\n",
        "print(bmi[cond])  # 조건에 맞는 element 출력\n",
        "\n",
        "# numy.where 이용해보기\n",
        "print(bmi[np.where(bmi > 24)])  # np.where로 조건 설정해서 바로 출력\n",
        "\n",
        "\n",
        "# np.where로 선택한 데이터 출력하기 (오답)\n",
        "#for i in range(len(np.where(bmi > 24)[0])):\n",
        "#  print(bmi[np.where(bmi > 8)[0][i]])\n"
      ],
      "execution_count": 72,
      "outputs": [
        {
          "output_type": "stream",
          "text": [
            "[27.88755755 28.75558507 25.48723993 25.84368152]\n",
            "[27.88755755 28.75558507 25.48723993 25.84368152]\n"
          ],
          "name": "stdout"
        }
      ]
    },
    {
      "cell_type": "code",
      "metadata": {
        "id": "q8D8Sheb82Gp",
        "colab_type": "code",
        "colab": {
          "base_uri": "https://localhost:8080/",
          "height": 68
        },
        "outputId": "d654e37e-48a0-4481-9f2a-dfc239abd78c"
      },
      "source": [
        "# pandas 패키지 라이브러리를 불러오세요\n",
        "import pandas as pd\n",
        "\n",
        "# 아래 내용을 담는 pandas Dataframe 을 생성하세요\n",
        "# {'Bob': ['I liked it.', 'It was awful.'], 'Sue': ['Pretty good.', 'Bland.']}\n",
        "data_01 = {'Bob': ['I liked it.', 'It was awful.'], 'Sue': ['Pretty good.', 'Bland.']}\n",
        "df_01 = pd.DataFrame(data_01)\n",
        "print(df_01)"
      ],
      "execution_count": 73,
      "outputs": [
        {
          "output_type": "stream",
          "text": [
            "             Bob           Sue\n",
            "0    I liked it.  Pretty good.\n",
            "1  It was awful.        Bland.\n"
          ],
          "name": "stdout"
        }
      ]
    },
    {
      "cell_type": "code",
      "metadata": {
        "id": "kSFa1Sg--lyw",
        "colab_type": "code",
        "colab": {
          "base_uri": "https://localhost:8080/",
          "height": 272
        },
        "outputId": "e51c0af1-dda8-4527-ed20-21c749cde634"
      },
      "source": [
        "# 아래와 같은 dataframe을 만들어 보세요. (참고: 연도가 index가 되게 해 주세요)\n",
        "\"\"\"\n",
        "year dept     revenue\n",
        "2015 Sales    30\n",
        "2016 Sales    35\n",
        "2017 Sales    40\n",
        "\"\"\"\n",
        "\n",
        "data_02 = {'dept' : ['sales', 'sales', 'sales'], \n",
        "           'revenue' : [30, 35, 40]}\n",
        "df_02 = pd.DataFrame(data_02, index = [2015, 2016, 2017])\n",
        "print('* dataframe 생성')\n",
        "print(df_02)\n",
        "\n",
        "# 2017년 데이터만 선택해 보세요 \n",
        "print('\\n * 2017년 데이터')\n",
        "print(df_02.loc[2017])\n",
        "#print(df_02.iloc[2]) #iloc으로 출력 (loc: 값(위치)기준, iloc: 인덱스(순서) 기준)\n",
        "\n",
        "# 조건(condition)을 활용하여 revenue 30 이상으로만 filter 해 보세요. reference: https://pandas.pydata.org/pandas-docs/stable/getting_started/intro_tutorials/03_subset_data.html \n",
        "print('\\n * revenue > 30')\n",
        "print(df_02.loc[df_02['revenue']>30])\n"
      ],
      "execution_count": 74,
      "outputs": [
        {
          "output_type": "stream",
          "text": [
            "* dataframe 생성\n",
            "       dept  revenue\n",
            "2015  sales       30\n",
            "2016  sales       35\n",
            "2017  sales       40\n",
            "\n",
            " * 2017년 데이터\n",
            "dept       sales\n",
            "revenue       40\n",
            "Name: 2017, dtype: object\n",
            "\n",
            " * revenue > 30\n",
            "       dept  revenue\n",
            "2016  sales       35\n",
            "2017  sales       40\n"
          ],
          "name": "stdout"
        }
      ]
    },
    {
      "cell_type": "code",
      "metadata": {
        "id": "GFRfJR5O9XYd",
        "colab_type": "code",
        "colab": {
          "base_uri": "https://localhost:8080/",
          "height": 255
        },
        "outputId": "4bc8ca19-d653-45b9-8e45-dcbbd781389b"
      },
      "source": [
        "# 'https://web.stanford.edu/class/archive/cs/cs109/cs109.1166/stuff/titanic.csv' 자료를 불러와 dataframe으로 만들어 보세요 \n",
        "\n",
        "df_03 = pd.read_csv(\"https://web.stanford.edu/class/archive/cs/cs109/cs109.1166/stuff/titanic.csv\")\n",
        "print(df_03)\n"
      ],
      "execution_count": 75,
      "outputs": [
        {
          "output_type": "stream",
          "text": [
            "     Survived  Pclass  ... Parents/Children Aboard     Fare\n",
            "0           0       3  ...                       0   7.2500\n",
            "1           1       1  ...                       0  71.2833\n",
            "2           1       3  ...                       0   7.9250\n",
            "3           1       1  ...                       0  53.1000\n",
            "4           0       3  ...                       0   8.0500\n",
            "..        ...     ...  ...                     ...      ...\n",
            "882         0       2  ...                       0  13.0000\n",
            "883         1       1  ...                       0  30.0000\n",
            "884         0       3  ...                       2  23.4500\n",
            "885         1       1  ...                       0  30.0000\n",
            "886         0       3  ...                       0   7.7500\n",
            "\n",
            "[887 rows x 8 columns]\n"
          ],
          "name": "stdout"
        }
      ]
    },
    {
      "cell_type": "code",
      "metadata": {
        "id": "08CdiZjf-b6_",
        "colab_type": "code",
        "colab": {
          "base_uri": "https://localhost:8080/",
          "height": 867
        },
        "outputId": "44dbdcb7-0e97-4322-b4b2-a7007e9b2dc3"
      },
      "source": [
        "# 타이타닉 데이터의 shape은 어떻게 되나요? \n",
        "print(\"* shape:\", df_03.shape)\n",
        "\n",
        "# 타이타닉 row record에서 10~20번째 줄을 출력해 보세요\n",
        "print(\"\\n* 10~20번째 줄 출력\")\n",
        "print(df_03.iloc[9:20])\n",
        "\n",
        "# 타이타닉 데이터에서 'Survived', 'Age', 'Sex' 칼럼 데이터를 선택해 보세요\n",
        "print(\"\\n* 'Survived', 'Age', 'Sex' 칼럼 데이터\")\n",
        "print(df_03[[\"Survived\", \"Age\", \"Sex\"]])\n",
        "\n",
        "# 타이타닉 데이터에서 생존자 데이터만 골라보세요\n",
        "print(\"\\n* 생존자 데이터\")\n",
        "print(df_03.loc[df_03[\"Survived\"] == 1,\"Sex\"])\n",
        "\n",
        "\n",
        "\n",
        "\n",
        "# 생존자 데이터 중 여자, 남자 중 누가 더 많나요? 참고: https://pandas.pydata.org/pandas-docs/stable/reference/api/pandas.Series.value_counts.html\n",
        "surv = df_03[df_03[\"Survived\"] == 1]\n",
        "\n",
        "#len 활용\n",
        "surv_m = len(surv[surv[\"Sex\"] == \"male\"])\n",
        "surv_f = len(surv[surv[\"Sex\"] == \"female\"])\n",
        "if surv_m > surv_f:\n",
        "  print(\"생존자는 남자가 더 많습니다.\")\n",
        "else:\n",
        "  if surv_m < surv_f:\n",
        "    print(\"생존자는 여자가 더 많습니다.\")\n",
        "  else:\n",
        "   print(\"생존자의 남녀 비율이 같습니다.\")\n",
        "\n",
        "\n",
        "#value.counts() 활용\n",
        "data = df_03.loc[df_03[\"Survived\"] == 1, \"Sex\"].value_counts() # \"Sex\"가 인덱스역할을 하게 됨\n",
        "gap = data[\"male\"] - data[\"female\"]\n",
        "\n",
        "if gap > 0:\n",
        "  print(\"생존자는 남자가 더 많습니다.\")\n",
        "else:\n",
        "  if gap < 0:\n",
        "    print(\"생존자는 여자가 더 많습니다.\")\n",
        "  else:\n",
        "   print(\"생존자의 남녀 비율이 같습니다.\")\n",
        "\n",
        "\n",
        "#1차 제출본\n",
        "# data = df_03.loc[df_03[\"Survived\"] == 1, \"Sex\"].value_counts()\n",
        "# print(\"\\n* 생존자 데이터 중 많은 성별\")\n",
        "# if data[0]-data[1] > 0:\n",
        "#   print(data[:1])\n",
        "# else:\n",
        "#   print(data[1:2])\n",
        "\n",
        "\n",
        "# condition = \"df_03['Survived'] == 1 & df_03['Sex'] == 'female'\"\n",
        "# df_03.loc[df_03['Survived'] == 1 & df_03['Sex'] == 'female']\n",
        "# #print(len(df_03.loc[condition, \"Sex\"]))\n",
        "\n",
        "#print(surv[surv[\"Sex\"] == \"male\"].value_counts())"
      ],
      "execution_count": 125,
      "outputs": [
        {
          "output_type": "stream",
          "text": [
            "* shape: (887, 8)\n",
            "\n",
            "* 10~20번째 줄 출력\n",
            "    Survived  Pclass  ... Parents/Children Aboard     Fare\n",
            "9          1       2  ...                       0  30.0708\n",
            "10         1       3  ...                       1  16.7000\n",
            "11         1       1  ...                       0  26.5500\n",
            "12         0       3  ...                       0   8.0500\n",
            "13         0       3  ...                       5  31.2750\n",
            "14         0       3  ...                       0   7.8542\n",
            "15         1       2  ...                       0  16.0000\n",
            "16         0       3  ...                       1  29.1250\n",
            "17         1       2  ...                       0  13.0000\n",
            "18         0       3  ...                       0  18.0000\n",
            "19         1       3  ...                       0   7.2250\n",
            "\n",
            "[11 rows x 8 columns]\n",
            "\n",
            "* 'Survived', 'Age', 'Sex' 칼럼 데이터\n",
            "     Survived   Age     Sex\n",
            "0           0  22.0    male\n",
            "1           1  38.0  female\n",
            "2           1  26.0  female\n",
            "3           1  35.0  female\n",
            "4           0  35.0    male\n",
            "..        ...   ...     ...\n",
            "882         0  27.0    male\n",
            "883         1  19.0  female\n",
            "884         0   7.0  female\n",
            "885         1  26.0    male\n",
            "886         0  32.0    male\n",
            "\n",
            "[887 rows x 3 columns]\n",
            "\n",
            "* 생존자 데이터\n",
            "1      female\n",
            "2      female\n",
            "3      female\n",
            "8      female\n",
            "9      female\n",
            "        ...  \n",
            "871    female\n",
            "875    female\n",
            "876    female\n",
            "883    female\n",
            "885      male\n",
            "Name: Sex, Length: 342, dtype: object\n",
            "생존자는 여자가 더 많습니다.\n",
            "\n",
            "생존자는 여자가 더 많습니다.\n"
          ],
          "name": "stdout"
        }
      ]
    }
  ]
}