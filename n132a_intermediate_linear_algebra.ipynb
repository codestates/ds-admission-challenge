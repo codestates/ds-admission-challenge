{
  "nbformat": 4,
  "nbformat_minor": 0,
  "metadata": {
    "colab": {
      "name": "n132a-intermediate-linear-algebra.ipynb",
      "provenance": [],
      "collapsed_sections": []
    },
    "kernelspec": {
      "display_name": "Python 3",
      "language": "python",
      "name": "python3"
    },
    "language_info": {
      "codemirror_mode": {
        "name": "ipython",
        "version": 3
      },
      "file_extension": ".py",
      "mimetype": "text/x-python",
      "name": "python",
      "nbconvert_exporter": "python",
      "pygments_lexer": "ipython3",
      "version": "3.8.5"
    }
  },
  "cells": [
    {
      "cell_type": "markdown",
      "metadata": {
        "colab_type": "text",
        "id": "GSNiYn8lr6nN"
      },
      "source": [
        "<img src='https://i.imgur.com/RDAD11M.png' width = '200' align = 'right'>\n",
        "\n",
        "## *DATA SCIENCE / SECTION 1 / SPRINT 3 / NOTE 2*\n",
        "\n",
        "# 📝 Assignment\n",
        "\n",
        "# 분산, 공분산"
      ]
    },
    {
      "cell_type": "markdown",
      "metadata": {
        "colab_type": "text",
        "id": "3d4izUhQvh2_"
      },
      "source": [
        "## 1.1 다음 데이터에 대하여 라이브러리를 사용하지 않고 평균, 분산, 표준편차를 구해보세요. [2243, 2781, 2843, 2479, 2067, 2500, 2890, 2494]. \n",
        "\n",
        "## 🔥 주어진 리스트에 대해서 평균, 분산, 표준 변차를 구하는 함수를 작성해보세요 :"
      ]
    },
    {
      "cell_type": "code",
      "metadata": {
        "colab_type": "code",
        "id": "w1iZfYvBtEA1",
        "colab": {
          "base_uri": "https://localhost:8080/",
          "height": 85
        },
        "outputId": "ca3bf650-58c9-4f7e-c55a-903417e53b61"
      },
      "source": [
        "a = [2243, 2781, 2843, 2479, 2067, 2500, 2890, 2494]\n",
        "mean_a = sum(a)/len(a)\n",
        "\n",
        "variance = ((2243-mean_a)**2 + (2781-mean_a)**2 + (2843-mean_a)**2 + (2479-mean_a)**2 + (2067-mean_a)**2 + (2500-mean_a)**2 + (2890-mean_a)**2 + (2494-mean_a)**2)/len(a)\n",
        "variance_a = sum((xi - mean_a)**2 for xi in a)/len(a) #https://stackoverflow.com/questions/35583302/how-can-i-calculate-the-variance-of-a-list-in-python/35583512\n",
        "std = variance**(1/2)\n",
        "\n",
        "print(mean_a)\n",
        "print(variance)\n",
        "print(variance_a)\n",
        "print(std)"
      ],
      "execution_count": 11,
      "outputs": [
        {
          "output_type": "stream",
          "text": [
            "2537.125\n",
            "73962.359375\n",
            "73962.359375\n",
            "271.9602165299182\n"
          ],
          "name": "stdout"
        }
      ]
    },
    {
      "cell_type": "markdown",
      "metadata": {
        "colab_type": "text",
        "id": "oh63KaOctEp_"
      },
      "source": [
        "## 1.2 1.1에서 사용된 데이터와 다음 데이터의 공분산 값을 구해보세요 [88,  89,  83, 112, 104, 111,  90, 109] \n",
        "\n",
        "\n",
        "$\\frac{\\sum(x_{i}-x_{{\\text{avg}}})(y_{i}-y_{{\\text{avg}}})}{(n-1)}$"
      ]
    },
    {
      "cell_type": "code",
      "metadata": {
        "colab_type": "code",
        "id": "G7ZB0krot564",
        "colab": {
          "base_uri": "https://localhost:8080/",
          "height": 85
        },
        "outputId": "4bb906ed-bf8f-4a6f-a2f6-c4ecb613d933"
      },
      "source": [
        "import numpy as np\n",
        "b = [88, 89, 83, 112, 104, 111, 90, 109]\n",
        "mean_b = sum(b)/len(b)\n",
        "\n",
        "# xi_mx = np.array(xi_mx) =  for xi in a: 흠...\n",
        "# yi_my = np.array(yi_my) = yi-mean_b for yi in b\n",
        "\n",
        "# v_a = (xi - mean_a)**2 for xi in a) 안되네..\n",
        "# v_b = (xi - mean_b)**2 for xi in b)\n",
        "\n",
        "print(np.cov(a))\n",
        "print(np.cov(b))\n",
        "np.cov(a,b)\n",
        "# 아 covariance 어디서 했나 봤더니, 예전에 excel로 했던게 기억이 난다. (https://www.wikihow.com/Calculate-Covariance)\n",
        "\n",
        "# covariance of a = 84528.41071429\n",
        "# covariance of b = 141.64285714\n",
        "# population covariance is = 1608.03571429\n",
        "# sample covariance is = -1407.03\n",
        "# the sample vs pop covariance difference comes from the denominator.\n",
        "# sample covariance  /(n-1)\n",
        "# population covariance /n"
      ],
      "execution_count": 13,
      "outputs": [
        {
          "output_type": "stream",
          "text": [
            "84528.41071428571\n",
            "141.64285714285714\n"
          ],
          "name": "stdout"
        },
        {
          "output_type": "execute_result",
          "data": {
            "text/plain": [
              "array([[84528.41071429, -1608.03571429],\n",
              "       [-1608.03571429,   141.64285714]])"
            ]
          },
          "metadata": {
            "tags": []
          },
          "execution_count": 13
        }
      ]
    },
    {
      "cell_type": "markdown",
      "metadata": {
        "colab_type": "text",
        "id": "J9SbUY9mt66I"
      },
      "source": [
        "## 1.3 1.1과 1.2의 데이터의 표준 편차를 구하여, 공분산 값을 나누어 상관계수의 값을 구하고, 두 데이터의 연관 관계를 설명하여보세요\n",
        "\n",
        "find std of a and b. and divide the covariance, find correlation coefficient and explain the relationship of both data sets."
      ]
    },
    {
      "cell_type": "code",
      "metadata": {
        "colab_type": "code",
        "id": "vFJms2YRrKhY",
        "colab": {
          "base_uri": "https://localhost:8080/",
          "height": 102
        },
        "outputId": "0d7fae64-2b4c-43eb-a7cc-71074421d128"
      },
      "source": [
        "# https://acadgild.com/blog/covariance-and-correlation\n",
        "print(\"standard_deviation of a =\",np.std(a))\n",
        "print(\"standard_deviation of b =\",np.std(b))\n",
        "print('covariance of a =', np.cov(a))\n",
        "print('covariance of b =', np.cov(b))\n",
        "\n",
        "# corr = sample covariance/(np.std(a)*np.std(b))\n",
        "\n",
        "np.corrcoef(a, b)\n",
        "print('correlation between a and b is', -0.46472603)"
      ],
      "execution_count": 17,
      "outputs": [
        {
          "output_type": "stream",
          "text": [
            "standard_deviation of a = 271.9602165299182\n",
            "standard_deviation of b = 11.13272203910616\n",
            "covariance of a = 84528.41071428571\n",
            "covariance of b = 141.64285714285714\n",
            "correlation between a and b is -0.46472603\n"
          ],
          "name": "stdout"
        }
      ]
    },
    {
      "cell_type": "markdown",
      "metadata": {
        "id": "zESlpJH8Uybf",
        "colab_type": "text"
      },
      "source": [
        "두 데이터는 서로 음의 선형관계를 가지고 있을 것이다."
      ]
    },
    {
      "cell_type": "markdown",
      "metadata": {
        "colab_type": "text",
        "id": "IbZVf7nmujPJ"
      },
      "source": [
        "## 1.4 pandas를 사용하여 임의의 데이터셋을 불러오세요: \n",
        "\n",
        "## 데이터셋의 numerical 항목들에 대해서 분산-공분산, 상관계수 매트릭스를 계산해보세요."
      ]
    },
    {
      "cell_type": "code",
      "metadata": {
        "colab_type": "code",
        "id": "0TWgUIiaCFzq",
        "colab": {
          "base_uri": "https://localhost:8080/",
          "height": 419
        },
        "outputId": "1cf01d51-dc7f-4df2-89de-f1c8a5360a73"
      },
      "source": [
        "import pandas as pd\n",
        "\n",
        "\n",
        "column_headers = ['sepal_l', 'sepal_w', 'petal_l', 'petal_w', 'class']\n",
        "iris_o = pd.read_csv('https://archive.ics.uci.edu/ml/machine-learning-databases/iris/iris.data', names= column_headers)\n",
        "iris_o"
      ],
      "execution_count": 18,
      "outputs": [
        {
          "output_type": "execute_result",
          "data": {
            "text/html": [
              "<div>\n",
              "<style scoped>\n",
              "    .dataframe tbody tr th:only-of-type {\n",
              "        vertical-align: middle;\n",
              "    }\n",
              "\n",
              "    .dataframe tbody tr th {\n",
              "        vertical-align: top;\n",
              "    }\n",
              "\n",
              "    .dataframe thead th {\n",
              "        text-align: right;\n",
              "    }\n",
              "</style>\n",
              "<table border=\"1\" class=\"dataframe\">\n",
              "  <thead>\n",
              "    <tr style=\"text-align: right;\">\n",
              "      <th></th>\n",
              "      <th>sepal_l</th>\n",
              "      <th>sepal_w</th>\n",
              "      <th>petal_l</th>\n",
              "      <th>petal_w</th>\n",
              "      <th>class</th>\n",
              "    </tr>\n",
              "  </thead>\n",
              "  <tbody>\n",
              "    <tr>\n",
              "      <th>0</th>\n",
              "      <td>5.1</td>\n",
              "      <td>3.5</td>\n",
              "      <td>1.4</td>\n",
              "      <td>0.2</td>\n",
              "      <td>Iris-setosa</td>\n",
              "    </tr>\n",
              "    <tr>\n",
              "      <th>1</th>\n",
              "      <td>4.9</td>\n",
              "      <td>3.0</td>\n",
              "      <td>1.4</td>\n",
              "      <td>0.2</td>\n",
              "      <td>Iris-setosa</td>\n",
              "    </tr>\n",
              "    <tr>\n",
              "      <th>2</th>\n",
              "      <td>4.7</td>\n",
              "      <td>3.2</td>\n",
              "      <td>1.3</td>\n",
              "      <td>0.2</td>\n",
              "      <td>Iris-setosa</td>\n",
              "    </tr>\n",
              "    <tr>\n",
              "      <th>3</th>\n",
              "      <td>4.6</td>\n",
              "      <td>3.1</td>\n",
              "      <td>1.5</td>\n",
              "      <td>0.2</td>\n",
              "      <td>Iris-setosa</td>\n",
              "    </tr>\n",
              "    <tr>\n",
              "      <th>4</th>\n",
              "      <td>5.0</td>\n",
              "      <td>3.6</td>\n",
              "      <td>1.4</td>\n",
              "      <td>0.2</td>\n",
              "      <td>Iris-setosa</td>\n",
              "    </tr>\n",
              "    <tr>\n",
              "      <th>...</th>\n",
              "      <td>...</td>\n",
              "      <td>...</td>\n",
              "      <td>...</td>\n",
              "      <td>...</td>\n",
              "      <td>...</td>\n",
              "    </tr>\n",
              "    <tr>\n",
              "      <th>145</th>\n",
              "      <td>6.7</td>\n",
              "      <td>3.0</td>\n",
              "      <td>5.2</td>\n",
              "      <td>2.3</td>\n",
              "      <td>Iris-virginica</td>\n",
              "    </tr>\n",
              "    <tr>\n",
              "      <th>146</th>\n",
              "      <td>6.3</td>\n",
              "      <td>2.5</td>\n",
              "      <td>5.0</td>\n",
              "      <td>1.9</td>\n",
              "      <td>Iris-virginica</td>\n",
              "    </tr>\n",
              "    <tr>\n",
              "      <th>147</th>\n",
              "      <td>6.5</td>\n",
              "      <td>3.0</td>\n",
              "      <td>5.2</td>\n",
              "      <td>2.0</td>\n",
              "      <td>Iris-virginica</td>\n",
              "    </tr>\n",
              "    <tr>\n",
              "      <th>148</th>\n",
              "      <td>6.2</td>\n",
              "      <td>3.4</td>\n",
              "      <td>5.4</td>\n",
              "      <td>2.3</td>\n",
              "      <td>Iris-virginica</td>\n",
              "    </tr>\n",
              "    <tr>\n",
              "      <th>149</th>\n",
              "      <td>5.9</td>\n",
              "      <td>3.0</td>\n",
              "      <td>5.1</td>\n",
              "      <td>1.8</td>\n",
              "      <td>Iris-virginica</td>\n",
              "    </tr>\n",
              "  </tbody>\n",
              "</table>\n",
              "<p>150 rows × 5 columns</p>\n",
              "</div>"
            ],
            "text/plain": [
              "     sepal_l  sepal_w  petal_l  petal_w           class\n",
              "0        5.1      3.5      1.4      0.2     Iris-setosa\n",
              "1        4.9      3.0      1.4      0.2     Iris-setosa\n",
              "2        4.7      3.2      1.3      0.2     Iris-setosa\n",
              "3        4.6      3.1      1.5      0.2     Iris-setosa\n",
              "4        5.0      3.6      1.4      0.2     Iris-setosa\n",
              "..       ...      ...      ...      ...             ...\n",
              "145      6.7      3.0      5.2      2.3  Iris-virginica\n",
              "146      6.3      2.5      5.0      1.9  Iris-virginica\n",
              "147      6.5      3.0      5.2      2.0  Iris-virginica\n",
              "148      6.2      3.4      5.4      2.3  Iris-virginica\n",
              "149      5.9      3.0      5.1      1.8  Iris-virginica\n",
              "\n",
              "[150 rows x 5 columns]"
            ]
          },
          "metadata": {
            "tags": []
          },
          "execution_count": 18
        }
      ]
    },
    {
      "cell_type": "markdown",
      "metadata": {
        "id": "NQLS1hwY9hS0",
        "colab_type": "text"
      },
      "source": [
        "- Find Variance-Covariance Matrix : 분산-공분산 매트릭스"
      ]
    },
    {
      "cell_type": "code",
      "metadata": {
        "id": "HvTjV05b9lVp",
        "colab_type": "code",
        "colab": {
          "base_uri": "https://localhost:8080/",
          "height": 173
        },
        "outputId": "1fa21d66-134c-4765-f721-7453b98bacb1"
      },
      "source": [
        "iris_o.cov()"
      ],
      "execution_count": 3,
      "outputs": [
        {
          "output_type": "execute_result",
          "data": {
            "text/html": [
              "<div>\n",
              "<style scoped>\n",
              "    .dataframe tbody tr th:only-of-type {\n",
              "        vertical-align: middle;\n",
              "    }\n",
              "\n",
              "    .dataframe tbody tr th {\n",
              "        vertical-align: top;\n",
              "    }\n",
              "\n",
              "    .dataframe thead th {\n",
              "        text-align: right;\n",
              "    }\n",
              "</style>\n",
              "<table border=\"1\" class=\"dataframe\">\n",
              "  <thead>\n",
              "    <tr style=\"text-align: right;\">\n",
              "      <th></th>\n",
              "      <th>sepal_l</th>\n",
              "      <th>sepal_w</th>\n",
              "      <th>petal_l</th>\n",
              "      <th>petal_w</th>\n",
              "    </tr>\n",
              "  </thead>\n",
              "  <tbody>\n",
              "    <tr>\n",
              "      <th>sepal_l</th>\n",
              "      <td>0.685694</td>\n",
              "      <td>-0.039268</td>\n",
              "      <td>1.273682</td>\n",
              "      <td>0.516904</td>\n",
              "    </tr>\n",
              "    <tr>\n",
              "      <th>sepal_w</th>\n",
              "      <td>-0.039268</td>\n",
              "      <td>0.188004</td>\n",
              "      <td>-0.321713</td>\n",
              "      <td>-0.117981</td>\n",
              "    </tr>\n",
              "    <tr>\n",
              "      <th>petal_l</th>\n",
              "      <td>1.273682</td>\n",
              "      <td>-0.321713</td>\n",
              "      <td>3.113179</td>\n",
              "      <td>1.296387</td>\n",
              "    </tr>\n",
              "    <tr>\n",
              "      <th>petal_w</th>\n",
              "      <td>0.516904</td>\n",
              "      <td>-0.117981</td>\n",
              "      <td>1.296387</td>\n",
              "      <td>0.582414</td>\n",
              "    </tr>\n",
              "  </tbody>\n",
              "</table>\n",
              "</div>"
            ],
            "text/plain": [
              "          sepal_l   sepal_w   petal_l   petal_w\n",
              "sepal_l  0.685694 -0.039268  1.273682  0.516904\n",
              "sepal_w -0.039268  0.188004 -0.321713 -0.117981\n",
              "petal_l  1.273682 -0.321713  3.113179  1.296387\n",
              "petal_w  0.516904 -0.117981  1.296387  0.582414"
            ]
          },
          "metadata": {
            "tags": []
          },
          "execution_count": 3
        }
      ]
    },
    {
      "cell_type": "markdown",
      "metadata": {
        "id": "Yb8ATzmu9ljE",
        "colab_type": "text"
      },
      "source": [
        "- Find Correlation Coefficient matrix : 상관계수 매트릭스"
      ]
    },
    {
      "cell_type": "code",
      "metadata": {
        "id": "K0NrkpBr-LDE",
        "colab_type": "code",
        "colab": {
          "base_uri": "https://localhost:8080/",
          "height": 173
        },
        "outputId": "d4364e37-9dc5-43f6-e527-565e8f120ea4"
      },
      "source": [
        "iris_o.corr()"
      ],
      "execution_count": 4,
      "outputs": [
        {
          "output_type": "execute_result",
          "data": {
            "text/html": [
              "<div>\n",
              "<style scoped>\n",
              "    .dataframe tbody tr th:only-of-type {\n",
              "        vertical-align: middle;\n",
              "    }\n",
              "\n",
              "    .dataframe tbody tr th {\n",
              "        vertical-align: top;\n",
              "    }\n",
              "\n",
              "    .dataframe thead th {\n",
              "        text-align: right;\n",
              "    }\n",
              "</style>\n",
              "<table border=\"1\" class=\"dataframe\">\n",
              "  <thead>\n",
              "    <tr style=\"text-align: right;\">\n",
              "      <th></th>\n",
              "      <th>sepal_l</th>\n",
              "      <th>sepal_w</th>\n",
              "      <th>petal_l</th>\n",
              "      <th>petal_w</th>\n",
              "    </tr>\n",
              "  </thead>\n",
              "  <tbody>\n",
              "    <tr>\n",
              "      <th>sepal_l</th>\n",
              "      <td>1.000000</td>\n",
              "      <td>-0.109369</td>\n",
              "      <td>0.871754</td>\n",
              "      <td>0.817954</td>\n",
              "    </tr>\n",
              "    <tr>\n",
              "      <th>sepal_w</th>\n",
              "      <td>-0.109369</td>\n",
              "      <td>1.000000</td>\n",
              "      <td>-0.420516</td>\n",
              "      <td>-0.356544</td>\n",
              "    </tr>\n",
              "    <tr>\n",
              "      <th>petal_l</th>\n",
              "      <td>0.871754</td>\n",
              "      <td>-0.420516</td>\n",
              "      <td>1.000000</td>\n",
              "      <td>0.962757</td>\n",
              "    </tr>\n",
              "    <tr>\n",
              "      <th>petal_w</th>\n",
              "      <td>0.817954</td>\n",
              "      <td>-0.356544</td>\n",
              "      <td>0.962757</td>\n",
              "      <td>1.000000</td>\n",
              "    </tr>\n",
              "  </tbody>\n",
              "</table>\n",
              "</div>"
            ],
            "text/plain": [
              "          sepal_l   sepal_w   petal_l   petal_w\n",
              "sepal_l  1.000000 -0.109369  0.871754  0.817954\n",
              "sepal_w -0.109369  1.000000 -0.420516 -0.356544\n",
              "petal_l  0.871754 -0.420516  1.000000  0.962757\n",
              "petal_w  0.817954 -0.356544  0.962757  1.000000"
            ]
          },
          "metadata": {
            "tags": []
          },
          "execution_count": 4
        }
      ]
    },
    {
      "cell_type": "markdown",
      "metadata": {
        "colab_type": "text",
        "id": "7K0Xfh8MvYkl"
      },
      "source": [
        "# Orthogonality"
      ]
    },
    {
      "cell_type": "markdown",
      "metadata": {
        "colab_type": "text",
        "id": "Pe3eOZ2fvdZ-"
      },
      "source": [
        "## 2.1 서로 수직인 2개의 벡터를 정의하고, 그래프에 그리세요. "
      ]
    },
    {
      "cell_type": "code",
      "metadata": {
        "colab_type": "code",
        "id": "YLSBk7hJvvCx",
        "colab": {
          "base_uri": "https://localhost:8080/",
          "height": 281
        },
        "outputId": "3e06c9d5-a969-41ad-ead9-240cd58719fd"
      },
      "source": [
        "import matplotlib.pyplot as plt\n",
        "\n",
        "v1 = [6,3]\n",
        "v2 = [-3,6]\n",
        "\n",
        "plt.arrow(0, 0, v1[0], v1[1], head_width = .1, head_length = .1, color ='#1bc421')\n",
        "plt.arrow(0, 0, v2[0], v2[1], head_width = .1, head_length = .1, color ='#e69720')\n",
        "plt.xlim(-4, 8) #12\n",
        "plt.ylim(-1, 7) #8 (12:8 = 3:2) #출력화면 비율이 3:2 정도 되는것 같아서, x축과, y축 limit로 그렇게 맞춤.\n",
        "plt.title(\"Orthogonal Vectors (perpendicular to each other)\");"
      ],
      "execution_count": 5,
      "outputs": [
        {
          "output_type": "display_data",
          "data": {
            "image/png": "[encoded data removed]",
            "text/plain": [
              "<Figure size 432x288 with 1 Axes>"
            ]
          },
          "metadata": {
            "tags": [],
            "needs_background": "light"
          }
        }
      ]
    },
    {
      "cell_type": "code",
      "metadata": {
        "id": "rFtNXwQ3-bCc",
        "colab_type": "code",
        "colab": {
          "base_uri": "https://localhost:8080/",
          "height": 34
        },
        "outputId": "e674bfba-995f-4ac3-822b-bf7b06c98df6"
      },
      "source": [
        "np.dot(v1,v2)"
      ],
      "execution_count": 19,
      "outputs": [
        {
          "output_type": "execute_result",
          "data": {
            "text/plain": [
              "0"
            ]
          },
          "metadata": {
            "tags": []
          },
          "execution_count": 19
        }
      ]
    },
    {
      "cell_type": "markdown",
      "metadata": {
        "colab_type": "text",
        "id": "7AS4V1Nhvvxz"
      },
      "source": [
        "## 2.2 다음 두 벡터는 수직관계에 있는지 확인하세요. \n",
        "아... 이건 matrix 곱하는게 아니라, 벡터를 곱하는거라서! 그런가봉가?\n",
        "\n",
        "\\begin{align}\n",
        "a = \\begin{bmatrix} 3 \\\\ -1 \\\\ 2 \\end{bmatrix}\n",
        "\\qquad\n",
        "b = \\begin{bmatrix} 5 \\\\ 7 \\\\ 4 \\end{bmatrix}\n",
        "\\end{align}"
      ]
    },
    {
      "cell_type": "code",
      "metadata": {
        "colab_type": "code",
        "id": "F_-y54YSz47k",
        "colab": {}
      },
      "source": [
        "va = np.array([[3],\n",
        "               [-1],\n",
        "               [2]])\n",
        "\n",
        "vb = np.array([[5],\n",
        "               [7],\n",
        "               [4]])"
      ],
      "execution_count": 35,
      "outputs": []
    },
    {
      "cell_type": "markdown",
      "metadata": {
        "id": "Hq82SSDLFHUq",
        "colab_type": "text"
      },
      "source": [
        "---\n",
        "\n",
        "\\begin{align}\n",
        "a = \\begin{bmatrix} 3 \\\\ -1 \\\\ 2 \\end{bmatrix}\n",
        "\\qquad\n",
        "b = \\begin{bmatrix} 5 \\\\ 7 \\\\ 4 \\end{bmatrix}\n",
        "\\qquad\n",
        "a \\cdot b = (3)(5) + (-1)(7) + (2)(4) = 0\n",
        "\\qquad 15+(-7)+8 = 16\n",
        "\\end{align}"
      ]
    },
    {
      "cell_type": "code",
      "metadata": {
        "id": "OOM8NeigFGdB",
        "colab_type": "code",
        "colab": {
          "base_uri": "https://localhost:8080/",
          "height": 34
        },
        "outputId": "6da660a2-82db-4815-f4a8-01e8029906a0"
      },
      "source": [
        "vab = (va*vb).sum()\n",
        "print(vab) # dot product로 16이 나왔다. 수직 관계 아님. "
      ],
      "execution_count": 40,
      "outputs": [
        {
          "output_type": "stream",
          "text": [
            "16\n"
          ],
          "name": "stdout"
        }
      ]
    },
    {
      "cell_type": "code",
      "metadata": {
        "id": "qAcXKEZ5Cnqs",
        "colab_type": "code",
        "colab": {
          "base_uri": "https://localhost:8080/",
          "height": 34
        },
        "outputId": "7ae0b539-6fb5-4cfd-e8a9-1c35f1152bd9"
      },
      "source": [
        "np.dot(va.T, vb)"
      ],
      "execution_count": 39,
      "outputs": [
        {
          "output_type": "execute_result",
          "data": {
            "text/plain": [
              "array([[16]])"
            ]
          },
          "metadata": {
            "tags": []
          },
          "execution_count": 39
        }
      ]
    },
    {
      "cell_type": "markdown",
      "metadata": {
        "id": "ftoHx6eyD_ON",
        "colab_type": "text"
      },
      "source": [
        "\\begin{align}\n",
        "a.T = \\begin{bmatrix} 3 & -1 & 2\\end{bmatrix}\n",
        "\\qquad * b = \\begin{bmatrix} 5 \\\\ 7 \\\\ 4 \\end{bmatrix}\n",
        "\\end{align}\n",
        "\n",
        "\n",
        "이 모양에서 dot product, 내적이 되서 그런듯."
      ]
    },
    {
      "cell_type": "code",
      "metadata": {
        "id": "uoxIUsNvDVgf",
        "colab_type": "code",
        "colab": {
          "base_uri": "https://localhost:8080/",
          "height": 68
        },
        "outputId": "5e112757-7cfe-4ef0-c04f-194f2d5510e4"
      },
      "source": [
        "np.dot(va, vb.T) #위 코드와, 이 줄에 있는 코드가. 왜!!!!! 다른 결과를 보이나... 했는데"
      ],
      "execution_count": 30,
      "outputs": [
        {
          "output_type": "execute_result",
          "data": {
            "text/plain": [
              "array([[15, 21, 12],\n",
              "       [-5, -7, -4],\n",
              "       [10, 14,  8]])"
            ]
          },
          "metadata": {
            "tags": []
          },
          "execution_count": 30
        }
      ]
    },
    {
      "cell_type": "markdown",
      "metadata": {
        "id": "GtxWM_KqERaF",
        "colab_type": "text"
      },
      "source": [
        "\\begin{align}\n",
        "a = \\begin{bmatrix} 3 \\\\ -1 \\\\ 2 \\end{bmatrix}\n",
        "\\qquad *\n",
        "b = \\begin{bmatrix} 5 & 7 & 4\\end{bmatrix}\n",
        "\\end{align}\n",
        "\n",
        "~~이렇게 곱하면... `.matmul()`을 사용한, matrix multiplication 이로구나!\n",
        "</br> 그래서 위 같은 3 X 3 matrix가 ... </br>\n",
        "이마 <b>탁</b>!~~\n",
        "\n",
        "아 뭐지 머리 아파진다... 뭐야 도대체."
      ]
    },
    {
      "cell_type": "markdown",
      "metadata": {
        "colab_type": "text",
        "id": "MiNjyqiEz5SG"
      },
      "source": [
        "## 2.3 주어진 벡터에 대해서 아래의 값을 계산하세요.\n",
        "\n",
        "## $||c||^2$ :: {n131 참조}\n",
        "\n",
        "## $c \\cdot c$  :: {c * c (내적, dot product)}\n",
        "\n",
        "## $c^{T}c$ :: {c transposed * c}\n",
        "\n",
        "\\begin{align}\n",
        "c = \\begin{bmatrix} 2 & -3 & 10 & 3 \\end{bmatrix}\n",
        "\\end{align}"
      ]
    },
    {
      "cell_type": "code",
      "metadata": {
        "colab_type": "code",
        "id": "IlV_uaYK1EQB",
        "colab": {
          "base_uri": "https://localhost:8080/",
          "height": 51
        },
        "outputId": "6efa5544-6e79-4fc8-fca0-c76ed7354e32"
      },
      "source": [
        "c = np.array([2, -3, 10, 3]) # establish vector c \n",
        "\n",
        "# norm of vector = sqrt ( sum of squared elements )\n",
        "#||c|| = sqrt\n",
        "#||c|| = (2^2 + -3^2 + 10^2 + 3^2)\n",
        "# norm_of_c = np.sqrt(4 + 9 + 100 + 9 )\n",
        "np.linalg.norm(c)\n",
        "print('||c|| =', np.linalg.norm(c)) # same as np.linalg.norm(c)\n",
        "print('||c||^2 =', np.linalg.norm(c)**2)"
      ],
      "execution_count": 56,
      "outputs": [
        {
          "output_type": "stream",
          "text": [
            "||c|| = 11.045361017187261\n",
            "||c||^2 = 122.00000000000001\n"
          ],
          "name": "stdout"
        }
      ]
    },
    {
      "cell_type": "markdown",
      "metadata": {
        "id": "24p3i2alLD-8",
        "colab_type": "text"
      },
      "source": [
        "- Find : $||c||^2$"
      ]
    },
    {
      "cell_type": "code",
      "metadata": {
        "id": "7KaW5a5hLSCP",
        "colab_type": "code",
        "colab": {
          "base_uri": "https://localhost:8080/",
          "height": 34
        },
        "outputId": "30b74c5d-ac66-48c4-9d7a-966d236dc023"
      },
      "source": [
        "# '||c||^2 = c*c\n",
        "np.linalg.norm(c)**2"
      ],
      "execution_count": 57,
      "outputs": [
        {
          "output_type": "execute_result",
          "data": {
            "text/plain": [
              "122.00000000000001"
            ]
          },
          "metadata": {
            "tags": []
          },
          "execution_count": 57
        }
      ]
    },
    {
      "cell_type": "markdown",
      "metadata": {
        "id": "_QIyjTYPLHa7",
        "colab_type": "text"
      },
      "source": [
        "- Find : $c \\cdot c$"
      ]
    },
    {
      "cell_type": "code",
      "metadata": {
        "id": "Hi26ec0SLSTV",
        "colab_type": "code",
        "colab": {
          "base_uri": "https://localhost:8080/",
          "height": 34
        },
        "outputId": "bd2306f9-f5a3-438b-9646-cd13cdeb085d"
      },
      "source": [
        "np.dot(c, c)"
      ],
      "execution_count": 58,
      "outputs": [
        {
          "output_type": "execute_result",
          "data": {
            "text/plain": [
              "122"
            ]
          },
          "metadata": {
            "tags": []
          },
          "execution_count": 58
        }
      ]
    },
    {
      "cell_type": "markdown",
      "metadata": {
        "id": "4GORv-NmLLuf",
        "colab_type": "text"
      },
      "source": [
        "- Find : $c^{T}c$"
      ]
    },
    {
      "cell_type": "code",
      "metadata": {
        "id": "vh3WhsXoykNW",
        "colab_type": "code",
        "colab": {
          "base_uri": "https://localhost:8080/",
          "height": 34
        },
        "outputId": "8963b7bc-98e5-4858-8e04-930ae3858035"
      },
      "source": [
        "np.dot(c.T,c)\n",
        "#the answer you were looking for."
      ],
      "execution_count": 156,
      "outputs": [
        {
          "output_type": "execute_result",
          "data": {
            "text/plain": [
              "122"
            ]
          },
          "metadata": {
            "tags": []
          },
          "execution_count": 156
        }
      ]
    },
    {
      "cell_type": "code",
      "metadata": {
        "id": "i_VqgPPPLSl8",
        "colab_type": "code",
        "colab": {
          "base_uri": "https://localhost:8080/",
          "height": 187
        },
        "outputId": "687ba99b-8bf2-4c12-a489-7bd00dff5081"
      },
      "source": [
        "#but I have some questions.\n",
        "#이건 matrix shape을 2차원으로 변형.\n",
        "c_ = np.array([[2, -3, 10, 3]]) \n",
        "c_T = np.array([[2],\n",
        "                [-3], \n",
        "                [10], \n",
        "                [3]])\n",
        "print('using np.matmul() shows \\n', np.matmul(c_T, c_)) # cTransposed * c \n",
        "\n",
        "print('using np.dot() shows \\n', np.dot(c_T, c_))\n",
        "\n",
        "#HUH? "
      ],
      "execution_count": 160,
      "outputs": [
        {
          "output_type": "stream",
          "text": [
            "using np.matmul() shows \n",
            " [[  4  -6  20   6]\n",
            " [ -6   9 -30  -9]\n",
            " [ 20 -30 100  30]\n",
            " [  6  -9  30   9]]\n",
            "using np.dot() shows \n",
            " [[  4  -6  20   6]\n",
            " [ -6   9 -30  -9]\n",
            " [ 20 -30 100  30]\n",
            " [  6  -9  30   9]]\n"
          ],
          "name": "stdout"
        }
      ]
    },
    {
      "cell_type": "code",
      "metadata": {
        "id": "5V67PhGsOEcj",
        "colab_type": "code",
        "colab": {
          "base_uri": "https://localhost:8080/",
          "height": 85
        },
        "outputId": "f40902ff-c403-4743-ac90-b1debc393f4c"
      },
      "source": [
        "np.matmul(c_, c_T)  # 이부분 설명이 필요합니다 or Ask on Help desk along with problem 2.2 (checking perpendicular.)\n",
        "\n",
        "# c.T 를 아무리 넣어도, 벡터가 Transpose 되지 않습니다.  (만약 그것을 의도 하신 것이라서, c.T * c 를 제출하신거라면, 이해가 가지만\n",
        "# .T = transpose() 와 같은 \n",
        "print('shape of c is', c.shape)\n",
        "print('shape of c.T is', c.T.shape)\n",
        "print('shape of c_ is', c_.shape)\n",
        "print('shape of c_T is', c_T.shape, 'I intensionally made c_T as a Transpose of C, so I can solve c^T * c')"
      ],
      "execution_count": 70,
      "outputs": [
        {
          "output_type": "stream",
          "text": [
            "shape of c is (4,)\n",
            "shape of c.T is (4,)\n",
            "shape of c_ is (1, 4)\n",
            "shape of c_T is (4, 1) I intensionally made c_T as a Transpose of C, so I can solve c^T * c\n"
          ],
          "name": "stdout"
        }
      ]
    },
    {
      "cell_type": "markdown",
      "metadata": {
        "colab_type": "text",
        "id": "MK_TpWqk1Evk"
      },
      "source": [
        "# Unit Vectors"
      ]
    },
    {
      "cell_type": "markdown",
      "metadata": {
        "colab_type": "text",
        "id": "Kpit6WWO1b8l"
      },
      "source": [
        "## 3.1 다음 벡터들을 unit vector의 조합을 통해 표기하여 보세요:\n",
        "\n",
        "\\begin{align}\n",
        "d = \\begin{bmatrix} 8 \\\\ 12 \\end{bmatrix}\n",
        "\\qquad\n",
        "e = \\begin{bmatrix} 13 \\\\ 49 \\\\ 21  \\end{bmatrix}\n",
        "\\end{align}"
      ]
    },
    {
      "cell_type": "code",
      "metadata": {
        "id": "-Z_pwSRc_gXx",
        "colab_type": "code",
        "colab": {
          "base_uri": "https://localhost:8080/",
          "height": 136
        },
        "outputId": "48257bae-3ba0-4a9b-cf6b-6be31e7d384f"
      },
      "source": [
        "#https://stackoverflow.com/questions/52781433/how-to-get-the-unit-vector-from-a-numpy-array\n",
        "d = np.array([[8],\n",
        "              [12]])\n",
        "\n",
        "d_hat = d/np.linalg.norm(d) # d/14.422205101855956\n",
        "\n",
        "\n",
        "e = np.array([[13],\n",
        "              [49],\n",
        "              [21]])\n",
        "\n",
        "e_hat = e/np.linalg.norm(e) #e/54.872579673275794\n",
        "\n",
        "print('unit vector of d_hat\\n',d_hat)\n",
        "print('unit vector of e_hat\\n',e_hat)"
      ],
      "execution_count": null,
      "outputs": [
        {
          "output_type": "stream",
          "text": [
            "unit vector of d_hat\n",
            " [[0.5547002 ]\n",
            " [0.83205029]]\n",
            "unit vector of e_hat\n",
            " [[0.2369125 ]\n",
            " [0.89297788]\n",
            " [0.38270481]]\n"
          ],
          "name": "stdout"
        }
      ]
    },
    {
      "cell_type": "markdown",
      "metadata": {
        "id": "FB7BbA3ZhJrM",
        "colab_type": "text"
      },
      "source": [
        "벡터를 단위 벡터의 조합으로 표기해보면\n",
        "\n",
        "`d = 8*i_hat + 12*j_hat`\n",
        "\n",
        "`e = 13*i_hat + 49*j_hat + 21*k_hat`"
      ]
    },
    {
      "cell_type": "markdown",
      "metadata": {
        "colab_type": "text",
        "id": "dAdUQuep1_yJ"
      },
      "source": [
        "## 3.2 아래 벡터를 unit vector로 변환하세요:\n",
        "\n",
        "\\begin{align}\n",
        "f = \\begin{bmatrix} 20 & 0 & 3 & 17 & 5 \\end{bmatrix}\n",
        "\\end{align}"
      ]
    },
    {
      "cell_type": "code",
      "metadata": {
        "colab_type": "code",
        "id": "I3W8ZiHR1_Fa",
        "colab": {
          "base_uri": "https://localhost:8080/",
          "height": 34
        },
        "outputId": "b5bd4cea-5916-48e8-8367-87a20bb0474a"
      },
      "source": [
        "f = np.array([[20,0,3,17,5]])\n",
        "\n",
        "f.T/np.linalg.norm(f)"
      ],
      "execution_count": null,
      "outputs": [
        {
          "output_type": "execute_result",
          "data": {
            "text/plain": [
              "26.888659319497503"
            ]
          },
          "metadata": {
            "tags": []
          },
          "execution_count": 172
        }
      ]
    },
    {
      "cell_type": "markdown",
      "metadata": {
        "colab_type": "text",
        "id": "o39UyP-I5lpP"
      },
      "source": [
        "# 선형 관계 "
      ]
    },
    {
      "cell_type": "markdown",
      "metadata": {
        "colab_type": "text",
        "id": "ajfBqYe45sT5"
      },
      "source": [
        "## 4.1 선형 관계에 있는 / 없는 2 벡터를 그리세요."
      ]
    },
    {
      "cell_type": "code",
      "metadata": {
        "id": "wYrwxhPWiCL4",
        "colab_type": "code",
        "colab": {
          "base_uri": "https://localhost:8080/",
          "height": 281
        },
        "outputId": "6e251ded-d670-4605-db15-f71a50f0f404"
      },
      "source": [
        "#linearly dependant 관계있는\n",
        "# 원 벡터 (초록)\n",
        "o = [6,3] \n",
        "\n",
        "# 선형관계의 벡터\n",
        "o2 = np.multiply(2, o)\n",
        "o3 = np.multiply(-0.5, o)\n",
        "\n",
        "\n",
        "\n",
        "plt.arrow(0, 0, o2[0], o2[1], linewidth = 3, head_width = .1, head_length = .05, color = '#e69720')\n",
        "plt.arrow(0, 0, o[0], o[1], linewidth = 3, head_width = .1, head_length = .05, color = '#1bc421')\n",
        "plt.arrow(0, 0, o3[0], o3[1], linewidth = 3, head_width = .1, head_length = .05, color = '#d63031')\n",
        "\n",
        "plt.xlim(-5, 13) \n",
        "plt.ylim(-5, 8)\n",
        "\n",
        "plt.title(\"Linearly Dependent Vectors\")\n",
        "plt.show()"
      ],
      "execution_count": null,
      "outputs": [
        {
          "output_type": "display_data",
          "data": {
            "image/png": "[encoded data removed]",
            "text/plain": [
              "<Figure size 432x288 with 1 Axes>"
            ]
          },
          "metadata": {
            "tags": [],
            "needs_background": "light"
          }
        }
      ]
    },
    {
      "cell_type": "code",
      "metadata": {
        "id": "JzjylFOfjRCr",
        "colab_type": "code",
        "colab": {
          "base_uri": "https://localhost:8080/",
          "height": 281
        },
        "outputId": "93331399-a79a-4135-edf5-01769c3f21a3"
      },
      "source": [
        "#linearly independant 관계없는\n",
        "\n",
        "gt = [3, 6]\n",
        "gt2 = [3, 1]\n",
        "\n",
        "plt.arrow(0, 0, gt[0], gt[1], linewidth = 3, head_width = .05, head_length = .05, color = '#1bc421')\n",
        "plt.arrow(0, 0, gt2[0], gt2[1], linewidth = 3, head_width = .05, head_length = .05, color = '#e69720')\n",
        "\n",
        "plt.xlim(-1, 4)\n",
        "plt.ylim(-1, 7)\n",
        "\n",
        "plt.title(\"Linearly Independent Vectors\")\n",
        "plt.show()"
      ],
      "execution_count": null,
      "outputs": [
        {
          "output_type": "display_data",
          "data": {
            "image/png": "[encoded data removed]",
            "text/plain": [
              "<Figure size 432x288 with 1 Axes>"
            ]
          },
          "metadata": {
            "tags": [],
            "needs_background": "light"
          }
        }
      ]
    },
    {
      "cell_type": "markdown",
      "metadata": {
        "colab_type": "text",
        "id": "TrJ0MT_n3SvO"
      },
      "source": [
        "# Span"
      ]
    },
    {
      "cell_type": "markdown",
      "metadata": {
        "colab_type": "text",
        "id": "86iXLzwM2z8l"
      },
      "source": [
        "## 5.1 다음 벡터들의 span은 무엇인가요?\n",
        "\n",
        "\\begin{align}\n",
        "g = \\begin{bmatrix} 1 & 3 \\end{bmatrix}\n",
        "\\qquad\n",
        "h = \\begin{bmatrix} 2 & 6 \\end{bmatrix}\n",
        "\\end{align}"
      ]
    },
    {
      "cell_type": "code",
      "metadata": {
        "colab_type": "code",
        "id": "G2LK2RWL39Q4",
        "colab": {}
      },
      "source": [
        "g = np.array([1,3])\n",
        "h = np.array([2,6])"
      ],
      "execution_count": null,
      "outputs": []
    },
    {
      "cell_type": "markdown",
      "metadata": {
        "id": "9ECUjM0rwUlg",
        "colab_type": "text"
      },
      "source": [
        "위의 벡터들은 linearly dependent.\n",
        "\n",
        "다음 벡터들의(g, h) span은 \n",
        "\n",
        "y = 3x로 표현 할 수 있다.\n",
        "\n",
        "span of vector g&h can be shown as y =3x\n"
      ]
    },
    {
      "cell_type": "markdown",
      "metadata": {
        "colab_type": "text",
        "id": "l1deylUj4IHH"
      },
      "source": [
        "## 5.2 다음 벡터들의 span은 무엇인가요?\n",
        "\n",
        "\\begin{align}\n",
        "l = \\begin{bmatrix} 1 & 2 & 3 \\end{bmatrix}\n",
        "\\qquad\n",
        "m = \\begin{bmatrix} -1 & 0 & 7 \\end{bmatrix}\n",
        "\\qquad\n",
        "n = \\begin{bmatrix} 4 & 8  & 2\\end{bmatrix}\n",
        "\\end{align}"
      ]
    },
    {
      "cell_type": "code",
      "metadata": {
        "colab_type": "code",
        "id": "p1i_ueD25ZcP",
        "colab": {
          "base_uri": "https://localhost:8080/",
          "height": 34
        },
        "outputId": "437d7a65-fc97-401f-cabd-fb1a75240d3c"
      },
      "source": [
        "l = np.array([1,2,3])\n",
        "m = np.array([-1,0,7])\n",
        "n = np.array([4,8,2])\n",
        "\n",
        "l_m_n = np.array([[1,2,3],\n",
        "                  [-1,0,7],\n",
        "                  [4,8,2]])\n",
        "\n",
        "np.linalg.matrix_rank(l_m_n)"
      ],
      "execution_count": null,
      "outputs": [
        {
          "output_type": "execute_result",
          "data": {
            "text/plain": [
              "3"
            ]
          },
          "metadata": {
            "tags": []
          },
          "execution_count": 171
        }
      ]
    },
    {
      "cell_type": "markdown",
      "metadata": {
        "id": "F59gaAeC1Klt",
        "colab_type": "text"
      },
      "source": [
        "- 위 벡터들의 rank 는 3 이다. which mean that span of vector l,m,n is the whole $\\mathbb{R}^3$\n",
        "\n",
        "벡터(l,m,n)의 span 은 R^3 전체이다."
      ]
    },
    {
      "cell_type": "markdown",
      "metadata": {
        "colab_type": "text",
        "id": "IBqe7X1732kX"
      },
      "source": [
        "# Basis"
      ]
    },
    {
      "cell_type": "markdown",
      "metadata": {
        "colab_type": "text",
        "id": "YeUZVHRM6PpT"
      },
      "source": [
        "## 6.1 $\\mathbb{R}^2$의 basis인 두개의 벡터를 그래프에 그려보세요.\n",
        "\n",
        "유클리드 공간 ${\\displaystyle \\mathbb {R} ^{2}}$의 벡터 \n",
        "${\\displaystyle e_{1}=(1,0)}, {\\displaystyle e_{2}=(0,1)}$은  ${\\displaystyle \\mathbb {R} ^{2}}$의 기저이다\n",
        "\n",
        "---\n",
        " A simple basis of this vector space, called the standard basis consists of the two vectors $e1 = (1,0)$ and $e2 = (0,1)$, since, any vector $v = (a, b)$ of $\\mathbb{R}^2$ may be uniquely written as\n",
        "${\\displaystyle v=ae_{1}+be_{2}.}$"
      ]
    },
    {
      "cell_type": "code",
      "metadata": {
        "colab_type": "code",
        "id": "utvF3Pkt8NP6",
        "colab": {
          "base_uri": "https://localhost:8080/",
          "height": 281
        },
        "outputId": "69e19424-a850-4dcb-a312-dbb646725e5e"
      },
      "source": [
        "# so I guess it's just simple as ABC?\n",
        "\n",
        "e_1 = np.array([1,0])\n",
        "e_2 = np.array([0,1])\n",
        "\n",
        "plt.arrow(0, 0, e_1[0], e_1[1], linewidth = 3, head_width = .1, head_length = .05, color = 'r')\n",
        "plt.arrow(0, 0, e_2[0], e_2[1], linewidth = 3, head_width = .1, head_length = .05, color = 'b')\n",
        "\n",
        "\n",
        "plt.xlim(-1, 3) \n",
        "plt.ylim(-1, 2)\n",
        "\n",
        "plt.title(\"Orthonormal Basis\")\n",
        "plt.show()"
      ],
      "execution_count": 84,
      "outputs": [
        {
          "output_type": "display_data",
          "data": {
            "image/png": "[encoded data removed]",
            "text/plain": [
              "<Figure size 432x288 with 1 Axes>"
            ]
          },
          "metadata": {
            "tags": [],
            "needs_background": "light"
          }
        }
      ]
    },
    {
      "cell_type": "markdown",
      "metadata": {
        "colab_type": "text",
        "id": "EHmUxbcY6vD3"
      },
      "source": [
        "# Rank"
      ]
    },
    {
      "cell_type": "markdown",
      "metadata": {
        "colab_type": "text",
        "id": "IpJwt9kw6v8U"
      },
      "source": [
        "## 7.1 다음 매트릭스의 rank를 구하세요\n",
        "\n",
        "\\begin{align}\n",
        "P = \\begin{bmatrix} \n",
        "0 & 2 & 5 \\\\\n",
        " 3 & 6 & 12 \\\\\n",
        "3 & 2 & 2\n",
        "\\end{bmatrix}\n",
        "\\end{align}"
      ]
    },
    {
      "cell_type": "code",
      "metadata": {
        "id": "I_M3ekbUqMjN",
        "colab_type": "code",
        "colab": {
          "base_uri": "https://localhost:8080/",
          "height": 34
        },
        "outputId": "98c38d4b-af92-403e-dde5-bfefec1348c4"
      },
      "source": [
        "P = np.array([[0,2,5],\n",
        "              [3,6,12],\n",
        "              [3,2,2]])\n",
        "\n",
        "np.linalg.matrix_rank(P) # Matrix P's Rank is 2."
      ],
      "execution_count": null,
      "outputs": [
        {
          "output_type": "execute_result",
          "data": {
            "text/plain": [
              "2"
            ]
          },
          "metadata": {
            "tags": []
          },
          "execution_count": 173
        }
      ]
    },
    {
      "cell_type": "markdown",
      "metadata": {
        "id": "lFnTPGYgCNnD",
        "colab_type": "text"
      },
      "source": [
        "P.matrix 의 rank 는 2"
      ]
    },
    {
      "cell_type": "markdown",
      "metadata": {
        "colab_type": "text",
        "id": "0Db2sc_V8QD6"
      },
      "source": [
        "# Linear Projections\n",
        "\n",
        "## 8.1 $proj_{w}(v)$를 구하세요.\n",
        "\\begin{align}\n",
        "v = \\begin{bmatrix} 2 & 4 \\end{bmatrix}\n",
        "\\end{align}\n",
        "\n",
        "\\begin{align}\n",
        "w = \\begin{bmatrix} 1 & 1 \\end{bmatrix}\n",
        "\\end{align}\n",
        "\n",
        "최종식\n",
        "\\begin{align}\n",
        "proj_{W}(v) =  \\frac{v \\cdot w}{w \\cdot w}w\n",
        "\\end{align}\n"
      ]
    },
    {
      "cell_type": "markdown",
      "metadata": {
        "id": "TiYx8ILZf2DO",
        "colab_type": "text"
      },
      "source": [
        "<img src='https://miro.medium.com/max/1920/0*jiXLlhy8LAHjjaLn.jpg' width= 600>\n",
        "\n",
        "---\n",
        "\n"
      ]
    },
    {
      "cell_type": "code",
      "metadata": {
        "colab_type": "code",
        "id": "hp5z2WTBCNKx",
        "colab": {
          "base_uri": "https://localhost:8080/",
          "height": 281
        },
        "outputId": "6a451b6a-815b-4f8d-8aff-3cdf37dd43ac"
      },
      "source": [
        "v = np.array([2,4])\n",
        "w = np.array([1,1])\n",
        "\n",
        "plt.arrow(0, 0, v[0], v[1], linewidth = 3, head_width = .1, head_length = .05, color = 'purple')#, label= 'v')\n",
        "plt.arrow(0, 0, w[0], w[1], linewidth = 3, head_width = .1, head_length = .05, color = 'y')#, label= 'W')\n",
        "\n",
        "label = ('purple is V' 'Yellow is W')\n",
        "\n",
        "plt.xlim(0, 8) \n",
        "plt.ylim(0, 6)\n",
        "\n",
        "plt.title('find Projection of V (Purple onto Yellow)', )\n",
        "#plt.legnend()\n",
        "\n",
        "plt.show()\n",
        "\n",
        "# 보라가 V\n",
        "# 노랑이 W\n",
        "\n",
        "# I need to find scalar of V and W"
      ],
      "execution_count": 107,
      "outputs": [
        {
          "output_type": "display_data",
          "data": {
            "image/png": "[encoded data removed]",
            "text/plain": [
              "<Figure size 432x288 with 1 Axes>"
            ]
          },
          "metadata": {
            "tags": [],
            "needs_background": "light"
          }
        }
      ]
    },
    {
      "cell_type": "code",
      "metadata": {
        "id": "kuv5il8inE6b",
        "colab_type": "code",
        "colab": {
          "base_uri": "https://localhost:8080/",
          "height": 51
        },
        "outputId": "1caf6019-75a0-4843-81d6-fd54f8558c6e"
      },
      "source": [
        "norm_v = np.linalg.norm(v)\n",
        "norm_w = np.linalg.norm(w)\n",
        "\n",
        "print('norm_v =', norm_v)\n",
        "print('norm_w =', norm_w)"
      ],
      "execution_count": 114,
      "outputs": [
        {
          "output_type": "stream",
          "text": [
            "norm_v = 4.47213595499958\n",
            "norm_w = 1.4142135623730951\n"
          ],
          "name": "stdout"
        }
      ]
    },
    {
      "cell_type": "markdown",
      "metadata": {
        "id": "7grgjlDZoTB8",
        "colab_type": "text"
      },
      "source": [
        "\\begin{align}\n",
        "proj_{W}(v) =  \\frac{v \\cdot w}{w \\cdot w}w\n",
        "\\end{align}\n"
      ]
    },
    {
      "cell_type": "code",
      "metadata": {
        "id": "1IJsy7vDoT1e",
        "colab_type": "code",
        "colab": {}
      },
      "source": [
        "numerator = np.dot(v, w)\n",
        "denominator = np.dot(w, w)\n",
        "\n",
        "ND= numerator/denominator\n",
        "\n",
        "proj_wV = np.dot(ND, w)"
      ],
      "execution_count": 120,
      "outputs": []
    },
    {
      "cell_type": "markdown",
      "metadata": {
        "id": "d3mNhBhRaRYW",
        "colab_type": "text"
      },
      "source": [
        "## 그래프를 통해 $v$, $w$, $proj_{w}(v)$를 그리세요. (axis 는 square / even 을 사용해야 합니다)"
      ]
    },
    {
      "cell_type": "code",
      "metadata": {
        "id": "fgWQQ2DWaUSU",
        "colab_type": "code",
        "colab": {
          "base_uri": "https://localhost:8080/",
          "height": 281
        },
        "outputId": "1f504cb0-1abc-4a91-b492-b92945c6ecbd"
      },
      "source": [
        "v = np.array([2,4])\n",
        "w = np.array([1,1])\n",
        "\n",
        "fig, ax = plt.subplots(1, 1)\n",
        "\n",
        "plt.arrow(0, 0, v[0], v[1], linewidth = 3, head_width = .1, head_length = .05, color = 'purple')#, label= 'v')\n",
        "plt.arrow(0, 0, proj_wV[0], proj_wV[1], linewidth = 3, head_width = .1, head_length = .05, color = 'red')\n",
        "plt.arrow(0, 0, w[0], w[1], linewidth = 3, head_width = .1, head_length = .05, color = 'y')#, label= 'W')\n",
        "plt.arrow(proj_wV[0], proj_wV[1], -1, 1, linewidth = 3, head_width = .1, head_length = .05, color = 'teal')\n",
        "\n",
        "\n",
        "label = ('purple is V' 'Yellow is W')\n",
        "\n",
        "plt.xlim(0, 5) \n",
        "plt.ylim(0, 5)\n",
        "\n",
        "plt.title('find Projection of V (Purple onto Yellow)', )\n",
        "#plt.legnend()\n",
        "ax.set_aspect('equal', 'box')\n",
        "plt.show()"
      ],
      "execution_count": 153,
      "outputs": [
        {
          "output_type": "display_data",
          "data": {
            "image/png": "[encoded data removed]",
            "text/plain": [
              "<Figure size 432x288 with 1 Axes>"
            ]
          },
          "metadata": {
            "tags": [],
            "needs_background": "light"
          }
        }
      ]
    },
    {
      "cell_type": "markdown",
      "metadata": {
        "colab_type": "text",
        "id": "TKkrPwRM-Oar"
      },
      "source": [
        "# 🔥 도전과제 \n",
        "\n",
        "## 임의의 데이터 포인트는, 원점을 기준으로 하는 벡터로 간주 될 수 있습니다. (예를 들어, [2,3]이라는 데이터는  0,0에서 2,3으로 가는 벡터로 간주 될 수 있습니다.)\n",
        "\n",
        "## 주어진 데이터 (x,y)에 대해서 y = x 라는 벡터에 대해 projection을 계산하는 함수를 작성하세요. 이후 입력 된 데이터 포인트를 파란색 점으로, y = x 라는 벡터를 빨간색 선으로, 마지막으로 projection 된 선을 점선(dashed)으로 그래프에 그려보세요."
      ]
    },
    {
      "cell_type": "code",
      "metadata": {
        "colab_type": "code",
        "id": "cp52kZra-ykj",
        "colab": {
          "base_uri": "https://localhost:8080/",
          "height": 269
        },
        "outputId": "fdd97809-99dd-41c6-f391-60b605815108"
      },
      "source": [
        "import pandas as pd\n",
        "import matplotlib.pyplot as plt\n",
        "\n",
        "x_values = [7, 1, 4, 6]\n",
        "y_values = [1, 8, 9, 3]\n",
        "\n",
        "\n",
        "fig, ax2 = plt.subplots(1, 1)\n",
        "\n",
        "data = {\"x\": x_values, \"y\": y_values}\n",
        "df = pd.DataFrame(data)\n",
        "\n",
        "plt.arrow(0, 0, 10, 10, linewidth = 3, color = 'red')\n",
        "\n",
        "df.head()\n",
        "plt.xlim(0, 10) \n",
        "plt.ylim(0, 10)\n",
        "ax2.set_aspect('equal', 'box')\n",
        "\n",
        "plt.scatter(df.x, df.y)\n",
        "plt.show()\n",
        "\n",
        "#아 이제 더는 모르겠어."
      ],
      "execution_count": 155,
      "outputs": [
        {
          "output_type": "display_data",
          "data": {
            "image/png": "[encoded data removed]",
            "text/plain": [
              "<Figure size 432x288 with 1 Axes>"
            ]
          },
          "metadata": {
            "tags": [],
            "needs_background": "light"
          }
        }
      ]
    }
  ]
}