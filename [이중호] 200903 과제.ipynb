{
  "nbformat": 4,
  "nbformat_minor": 0,
  "metadata": {
    "colab": {
      "name": "ds_bootcamp_admission_challenge.ipynb의 사본의 사본",
      "provenance": [],
      "collapsed_sections": [],
      "include_colab_link": true
    },
    "kernelspec": {
      "name": "python3",
      "display_name": "Python 3"
    }
  },
  "cells": [
    {
      "cell_type": "markdown",
      "metadata": {
        "id": "view-in-github",
        "colab_type": "text"
      },
      "source": [
        "<a href=\"https://colab.research.google.com/github/Joongho-Lee/ds-admission-challenge/blob/master/%5B%EC%9D%B4%EC%A4%91%ED%98%B8%5D%20200903%20%EA%B3%BC%EC%A0%9C.ipynb\" target=\"_parent\"><img src=\"https://colab.research.google.com/assets/colab-badge.svg\" alt=\"Open In Colab\"/></a>"
      ]
    },
    {
      "cell_type": "markdown",
      "metadata": {
        "id": "-q8YiM6xsp0X",
        "colab_type": "text"
      },
      "source": [
        "# Challenge\n",
        "\n",
        "- 코드스테이츠 DS 부트캠프 어드미션을 위한 Challenge 과제 입니다. \n",
        "- 아래 challenge 를 풀기 위해 제공된 강의가 모든 것을 알려주진 않습니다. \n",
        "- 따라서 필요한 부분은 스스로 google 검색을 통해 이 challenge 를 완성해 주셔야 합니다. \n",
        "- 각 shell 에 필요한 부분을 작성하신 후 함께 링크를 제출해 주시면 됩니다.\n",
        "- 모든 결과물은 하나의 shell에서 모두 실행될 수 있도록 print문을 사용해 주세요. run all 했을 때 전체 shell 이 모두 잘 실행될 수 있도록 관리해 주세요.\n",
        "\n"
      ]
    },
    {
      "cell_type": "code",
      "metadata": {
        "id": "jG9nz_Qso70q",
        "colab_type": "code",
        "colab": {
          "base_uri": "https://localhost:8080/",
          "height": 34
        },
        "outputId": "244fc0c1-2dad-4f51-fe73-c72b3de73d7a"
      },
      "source": [
        "# 1. 다음의 list 에서 두 번째 list elemnet 를 print 해 보세요\n",
        "list_01 = ['Paul', 'John', 'Ringo', 'George']\n",
        "\n",
        "#리스트의 두 번째 element를 선택. 1을 적은 이유는 파이썬은 0부터 시작하기 때문이다.\n",
        "print(list_01[1])"
      ],
      "execution_count": 1,
      "outputs": [
        {
          "output_type": "stream",
          "text": [
            "John\n"
          ],
          "name": "stdout"
        }
      ]
    },
    {
      "cell_type": "code",
      "metadata": {
        "id": "wGqpxIi8uDKE",
        "colab_type": "code",
        "colab": {
          "base_uri": "https://localhost:8080/",
          "height": 34
        },
        "outputId": "cc70541b-bc40-4011-c695-5b29f3e574d3"
      },
      "source": [
        "# 2. 다음의 list in the list에서 두 번째 element 를 print 해 보세요\n",
        "list_02 = [['Paul', 'John', 'Ringo', 'George']]\n",
        "\n",
        "#하나의 리스트 이지만 그 리스트 여러 element가 있다. 먼저 리스트를 누르고 그 이후에 두 번째 요소를 누른다.\n",
        "print(list_02[0][1])"
      ],
      "execution_count": 2,
      "outputs": [
        {
          "output_type": "stream",
          "text": [
            "John\n"
          ],
          "name": "stdout"
        }
      ]
    },
    {
      "cell_type": "code",
      "metadata": {
        "id": "u_UvSnNI8XgF",
        "colab_type": "code",
        "colab": {
          "base_uri": "https://localhost:8080/",
          "height": 87
        },
        "outputId": "9423e5ac-2800-4cfc-f9dc-d3a5fdeaf778"
      },
      "source": [
        "# Initializing list  \n",
        "list_01 = [ 1, 6, 3, 5, 3, 4 ] \n",
        "list_02 = [ 1, 6, 3, 5, 3 ] \n",
        "\n",
        "# for loop을 이용하여 두 개의 리스트 안에 4가 있는지 없는지 print 하는 코드를 작성하세요\n",
        "# 풀이1.break를 사용해서 목표하는 값이 나오면 루프를 정지하는 법\n",
        "for a in list_01 :\n",
        "  if 4 in list_01 :\n",
        "    print('여기 4가 있다.')\n",
        "    break\n",
        "  else :\n",
        "    print('여기 4가 없다.')\n",
        "    break\n",
        "\n",
        "# 풀이2. 간편한 if를 사용해서 숫자 찾기\n",
        "# 리스트에 4가 있다면 4가 있다고 출력하라. 4가 없다면 4가 없다고 출력하라는 지시\n",
        "if 4 in list_01:\n",
        "   print('4가 있다.')\n",
        "if 4 not in list_01:\n",
        "   print('4가 없다.')\n",
        "\n",
        "# 풀이3. count로 4를 세는 방식\n",
        "# 리스트에서 4를 세고 만약 4가 있다면 카운트 값이 1 이상이기에 카운트 값이 1 이상이라면 4가 있다고 지정, 1미만이라면 4가 없다고 지정\n",
        "if list_01.count(4) >= 1:\n",
        "  print('4가 있다.')\n",
        "else :\n",
        "    print('4가 없다.')\n",
        "\n",
        "#풀이4. 진환님 강의\n",
        "# for loop을 돌리면서 count라는 변수를 완하는 조건이 성립되면 +1 값을 줘서 count라는 변수의 결과가 1이상이라면 원하는 문구를 출력하게 하는 방법\n",
        "count = 0\n",
        "for i in list_01 :\n",
        "  if i == 4:\n",
        "    count += 1\n",
        "  if count > 0:\n",
        "    print('4가 있다')\n",
        "    break\n",
        "  else :\n",
        "    print('4가 없다')\n",
        "    break\n",
        "\n",
        "#For에 대한 이해도는 높아지지만 아직 함수를 만들어 내는 능력은 없다."
      ],
      "execution_count": 214,
      "outputs": [
        {
          "output_type": "stream",
          "text": [
            "여기 4가 있다.\n",
            "4가 있다.\n",
            "4가 있다.\n",
            "4가 없다\n"
          ],
          "name": "stdout"
        }
      ]
    },
    {
      "cell_type": "code",
      "metadata": {
        "id": "mGSKPWaI8kA8",
        "colab_type": "code",
        "colab": {
          "base_uri": "https://localhost:8080/",
          "height": 87
        },
        "outputId": "49c6b796-1bf2-4ab5-d556-004252ae7046"
      },
      "source": [
        "# 위 코드 역할을 하는 함수를 작성해 보세요.\n",
        "def finding_4(list_in):\n",
        "  for a in list_in:\n",
        "    if 4 in list_in:\n",
        "      print('여기 4가 있다.')\n",
        "      break\n",
        "    else:\n",
        "      print('여기 4가 없다.')\n",
        "      break\n",
        "\n",
        "print(finding_4(list_01))\n",
        "print(finding_4(list_02))\n",
        "#목표한 값이 나왔지만 None이 발생하는 이유를 모름 검색이 필요."
      ],
      "execution_count": 216,
      "outputs": [
        {
          "output_type": "stream",
          "text": [
            "여기 4가 있다.\n",
            "None\n",
            "여기 4가 없다.\n",
            "None\n"
          ],
          "name": "stdout"
        }
      ]
    },
    {
      "cell_type": "code",
      "metadata": {
        "id": "tmp7EoSo82Xa",
        "colab_type": "code",
        "colab": {
          "base_uri": "https://localhost:8080/",
          "height": 34
        },
        "outputId": "b31ff41a-a4a8-4cff-db71-ae5a0a537694"
      },
      "source": [
        "list_03 = [4, 5, 8, 9, 10] \n",
        "# 위 list element 중 8보다 큰 숫자가 몇 개가 있는지 코드로 작성해 보세요. \n",
        "#다시 한 번 for loop을 돌려서 8보다 큰 숫자가 있다면 count 변수가 1씩 +될 수 있도록 만들고 마지막에 그 카운트 값으로 갯수를 구하는법\n",
        "count = 0\n",
        "for i in list_03:\n",
        "  if i > 8:\n",
        "    count += 1\n",
        "print(count, '개')\n",
        "\n"
      ],
      "execution_count": 215,
      "outputs": [
        {
          "output_type": "stream",
          "text": [
            "2 개\n"
          ],
          "name": "stdout"
        }
      ]
    },
    {
      "cell_type": "code",
      "metadata": {
        "id": "fQKIWJ4KGsqs",
        "colab_type": "code",
        "colab": {
          "base_uri": "https://localhost:8080/",
          "height": 52
        },
        "outputId": "2f9c63a8-c463-4c21-f68e-4a269a242c7c"
      },
      "source": [
        "# BMI\n",
        "height = [1.87,  1.87, 1.82, 1.91, 1.90, 1.85]\n",
        "weight = [81.65, 97.52, 95.25, 92.98, 86.18, 88.45]\n",
        "\n",
        "# bmi = weight / height ** 2 를 numpy array 활용하여 구해보세요\n",
        "# bmi 가 24 이상인 값들만 선택해 보세요\n",
        "\n",
        "import numpy as np\n",
        "np_height = np.array(height)\n",
        "np_weight = np.array(weight)\n",
        "\n",
        "bmi = np_weight / np_height ** 2\n",
        "print(bmi)\n",
        "\n",
        "bmi > 24\n",
        "bmi[bmi > 24]\n",
        "print(bmi[bmi>=24])\n"
      ],
      "execution_count": 217,
      "outputs": [
        {
          "output_type": "stream",
          "text": [
            "[23.34925219 27.88755755 28.75558507 25.48723993 23.87257618 25.84368152]\n",
            "[27.88755755 28.75558507 25.48723993 25.84368152]\n"
          ],
          "name": "stdout"
        }
      ]
    },
    {
      "cell_type": "code",
      "metadata": {
        "id": "q8D8Sheb82Gp",
        "colab_type": "code",
        "colab": {
          "base_uri": "https://localhost:8080/",
          "height": 70
        },
        "outputId": "9774df84-55a6-41f3-d849-29d19afa39bd"
      },
      "source": [
        "# pandas 패키지 라이브러리를 불러오세요\n",
        "import pandas as pd\n",
        "\n",
        "# 아래 내용을 담는 pandas Dataframe 을 생성하세요\n",
        "# {'Bob': ['I liked it.', 'It was awful.'], 'Sue': ['Pretty good.', 'Bland.']}\n",
        "\n",
        "#기존의 풀이\n",
        "frame = {'Bob': ['I liked it.', 'It was awful.'], 'Sue': ['Pretty good.', 'Bland.']}\n",
        "brics = pd.DataFrame(frame)\n",
        "print(brics)\n"
      ],
      "execution_count": 67,
      "outputs": [
        {
          "output_type": "stream",
          "text": [
            "             Bob           Sue\n",
            "0    I liked it.  Pretty good.\n",
            "1  It was awful.        Bland.\n"
          ],
          "name": "stdout"
        }
      ]
    },
    {
      "cell_type": "code",
      "metadata": {
        "id": "vKF0cuoRMyIE",
        "colab_type": "code",
        "colab": {
          "base_uri": "https://localhost:8080/",
          "height": 154
        },
        "outputId": "c11d15ef-234f-4910-f4c9-dc969c8a37cc"
      },
      "source": [
        "\n"
      ],
      "execution_count": 219,
      "outputs": [
        {
          "output_type": "stream",
          "text": [
            "(3, 2)\n"
          ],
          "name": "stdout"
        },
        {
          "output_type": "execute_result",
          "data": {
            "text/html": [
              "<div>\n",
              "<style scoped>\n",
              "    .dataframe tbody tr th:only-of-type {\n",
              "        vertical-align: middle;\n",
              "    }\n",
              "\n",
              "    .dataframe tbody tr th {\n",
              "        vertical-align: top;\n",
              "    }\n",
              "\n",
              "    .dataframe thead th {\n",
              "        text-align: right;\n",
              "    }\n",
              "</style>\n",
              "<table border=\"1\" class=\"dataframe\">\n",
              "  <thead>\n",
              "    <tr style=\"text-align: right;\">\n",
              "      <th></th>\n",
              "      <th>dept</th>\n",
              "      <th>revenue</th>\n",
              "    </tr>\n",
              "  </thead>\n",
              "  <tbody>\n",
              "    <tr>\n",
              "      <th>2015</th>\n",
              "      <td>Sales</td>\n",
              "      <td>30</td>\n",
              "    </tr>\n",
              "    <tr>\n",
              "      <th>2016</th>\n",
              "      <td>Sales</td>\n",
              "      <td>35</td>\n",
              "    </tr>\n",
              "    <tr>\n",
              "      <th>2017</th>\n",
              "      <td>Sales</td>\n",
              "      <td>40</td>\n",
              "    </tr>\n",
              "  </tbody>\n",
              "</table>\n",
              "</div>"
            ],
            "text/plain": [
              "       dept  revenue\n",
              "2015  Sales       30\n",
              "2016  Sales       35\n",
              "2017  Sales       40"
            ]
          },
          "metadata": {
            "tags": []
          },
          "execution_count": 219
        }
      ]
    },
    {
      "cell_type": "code",
      "metadata": {
        "id": "kSFa1Sg--lyw",
        "colab_type": "code",
        "colab": {
          "base_uri": "https://localhost:8080/",
          "height": 134
        },
        "outputId": "f31079e1-739d-4f14-a260-a3ec927fbb7d"
      },
      "source": [
        "# 아래와 같은 dataframe을 만들어 보세요. (참고: 연도가 index가 되게 해 주세요)\n",
        "\"\"\"\n",
        "year dept     revenue\n",
        "2015 Sales    30\n",
        "2016 Sales    35\n",
        "2017 Sales    40\n",
        "\"\"\"\n",
        "\n",
        "\n",
        "#기존의 풀이 \n",
        "Record_01 = {'dept' : ['Sales', 'Sales', 'Sales'], \n",
        "             'revenue' : [30, 35, 40]}\n",
        "brics_01 = pd.DataFrame(Record_01)\n",
        "brics_01.index = [\"2015\", \"2016\", \"2017\"]\n",
        "print(brics_01)\n",
        "\n",
        "# 2017년 데이터만 선택해 보세요\n",
        "print(brics_01.loc['2017'])\n",
        "\n",
        "# 조건(condition)을 활용하여 revenue 30 이상으로만 filter 해 보세요. reference: https://pandas.pydata.org/pandas-docs/stable/getting_started/intro_tutorials/03_subset_data.html \n",
        "\n",
        "brics_01[brics_01.revenue > 30]"
      ],
      "execution_count": 221,
      "outputs": [
        {
          "output_type": "error",
          "ename": "SyntaxError",
          "evalue": "ignored",
          "traceback": [
            "\u001b[0;36m  File \u001b[0;32m\"<ipython-input-221-58e8b0c44495>\"\u001b[0;36m, line \u001b[0;32m13\u001b[0m\n\u001b[0;31m    Record = ({'dept' : [dept], 'revenue' : [revenue]}, 'index' = year)\u001b[0m\n\u001b[0m                                                                ^\u001b[0m\n\u001b[0;31mSyntaxError\u001b[0m\u001b[0;31m:\u001b[0m invalid syntax\n"
          ]
        }
      ]
    },
    {
      "cell_type": "code",
      "metadata": {
        "id": "GFRfJR5O9XYd",
        "colab_type": "code",
        "colab": {}
      },
      "source": [
        "# 'https://web.stanford.edu/class/archive/cs/cs109/cs109.1166/stuff/titanic.csv' 자료를 불러와 dataframe으로 만들어 보세요 \n"
      ],
      "execution_count": null,
      "outputs": []
    },
    {
      "cell_type": "code",
      "metadata": {
        "id": "08CdiZjf-b6_",
        "colab_type": "code",
        "colab": {
          "base_uri": "https://localhost:8080/",
          "height": 562
        },
        "outputId": "99012a19-ab55-42ba-b482-d50ddb91bbc8"
      },
      "source": [
        "# 타이타닉 데이터의 shape은 어떻게 되나요? \n",
        "\n",
        "taitanic = pd.read_csv('https://web.stanford.edu/class/archive/cs/cs109/cs109.1166/stuff/titanic.csv')\n",
        "taitanic.shape\n",
        "# 타이타닉 row record에서 10~20번째 줄을 출력해 보세요\n",
        "print(taitanic.iloc[9:20])\n",
        "# 타이타닉 데이터에서 'Survived', 'Age', 'Sex' 칼럼 데이터를 선택해 보세요\n",
        "taitanic[['Survived', 'Age', 'Sex']]\n",
        "# 타이타닉 데이터에서 생존자 데이터만 골라보세요\n",
        "print(taitanic[(taitanic.Survived == 1)])\n",
        "# 생존자 데이터 중 여자, 남자 중 누가 더 많나요? 참고: https://pandas.pydata.org/pandas-docs/stable/reference/api/pandas.Series.value_counts.html\n",
        "\n",
        "Survived_rate = taitanic[(taitanic.Survived == 1)]\n",
        "print(Survived_rate['Sex'].value_counts())"
      ],
      "execution_count": 123,
      "outputs": [
        {
          "output_type": "stream",
          "text": [
            "    Survived  Pclass  ... Parents/Children Aboard     Fare\n",
            "9          1       2  ...                       0  30.0708\n",
            "10         1       3  ...                       1  16.7000\n",
            "11         1       1  ...                       0  26.5500\n",
            "12         0       3  ...                       0   8.0500\n",
            "13         0       3  ...                       5  31.2750\n",
            "14         0       3  ...                       0   7.8542\n",
            "15         1       2  ...                       0  16.0000\n",
            "16         0       3  ...                       1  29.1250\n",
            "17         1       2  ...                       0  13.0000\n",
            "18         0       3  ...                       0  18.0000\n",
            "19         1       3  ...                       0   7.2250\n",
            "\n",
            "[11 rows x 8 columns]\n",
            "     Survived  Pclass  ... Parents/Children Aboard     Fare\n",
            "1           1       1  ...                       0  71.2833\n",
            "2           1       3  ...                       0   7.9250\n",
            "3           1       1  ...                       0  53.1000\n",
            "8           1       3  ...                       2  11.1333\n",
            "9           1       2  ...                       0  30.0708\n",
            "..        ...     ...  ...                     ...      ...\n",
            "871         1       3  ...                       0   7.2250\n",
            "875         1       1  ...                       1  83.1583\n",
            "876         1       2  ...                       1  26.0000\n",
            "883         1       1  ...                       0  30.0000\n",
            "885         1       1  ...                       0  30.0000\n",
            "\n",
            "[342 rows x 8 columns]\n",
            "female    233\n",
            "male      109\n",
            "Name: Sex, dtype: int64\n"
          ],
          "name": "stdout"
        }
      ]
    },
    {
      "cell_type": "code",
      "metadata": {
        "id": "kKsngJTLN-3S",
        "colab_type": "code",
        "colab": {}
      },
      "source": [
        "  "
      ],
      "execution_count": null,
      "outputs": []
    }
  ]
}