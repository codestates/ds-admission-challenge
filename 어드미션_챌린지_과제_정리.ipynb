{
  "nbformat": 4,
  "nbformat_minor": 0,
  "metadata": {
    "colab": {
      "name": "어드미션 챌린지 과제 정리.ipynb",
      "provenance": [],
      "collapsed_sections": [],
      "include_colab_link": true
    },
    "kernelspec": {
      "name": "python3",
      "display_name": "Python 3"
    }
  },
  "cells": [
    {
      "cell_type": "markdown",
      "metadata": {
        "id": "view-in-github",
        "colab_type": "text"
      },
      "source": [
        "<a href=\"https://colab.research.google.com/github/bang997/ds-admission-challenge/blob/master/%EC%96%B4%EB%93%9C%EB%AF%B8%EC%85%98_%EC%B1%8C%EB%A6%B0%EC%A7%80_%EA%B3%BC%EC%A0%9C_%EC%A0%95%EB%A6%AC.ipynb\" target=\"_parent\"><img src=\"https://colab.research.google.com/assets/colab-badge.svg\" alt=\"Open In Colab\"/></a>"
      ]
    },
    {
      "cell_type": "markdown",
      "metadata": {
        "id": "-q8YiM6xsp0X",
        "colab_type": "text"
      },
      "source": [
        "# Challenge\n",
        "\n",
        "- 코드스테이츠 DS 부트캠프 어드미션을 위한 Challenge 과제 입니다. \n",
        "- 아래 challenge 를 풀기 위해 제공된 강의가 모든 것을 알려주진 않습니다. \n",
        "- 따라서 필요한 부분은 스스로 google 검색을 통해 이 challenge 를 완성해 주셔야 합니다. \n",
        "- 각 shell 에 필요한 부분을 작성하신 후 함께 링크를 제출해 주시면 됩니다.\n",
        "- 모든 결과물은 하나의 shell에서 모두 실행될 수 있도록 print문을 사용해 주세요. run all 했을 때 전체 shell 이 모두 잘 실행될 수 있도록 관리해 주세요.\n",
        "\n"
      ]
    },
    {
      "cell_type": "code",
      "metadata": {
        "id": "jG9nz_Qso70q",
        "colab_type": "code",
        "colab": {
          "base_uri": "https://localhost:8080/",
          "height": 34
        },
        "outputId": "902c4651-508f-4d3c-bfc1-87d50ce5403c"
      },
      "source": [
        "# 1. 다음의 list 에서 두 번째 list elemnet 를 print 해 보세요\n",
        "list_01 = ['Paul', 'John', 'Ringo', 'George']\n",
        "\n",
        "print(list_01[1])"
      ],
      "execution_count": 279,
      "outputs": [
        {
          "output_type": "stream",
          "text": [
            "John\n"
          ],
          "name": "stdout"
        }
      ]
    },
    {
      "cell_type": "code",
      "metadata": {
        "id": "wGqpxIi8uDKE",
        "colab_type": "code",
        "colab": {
          "base_uri": "https://localhost:8080/",
          "height": 68
        },
        "outputId": "18cf5c94-ef3e-420f-9742-e5ea35d9daf4"
      },
      "source": [
        "# 2. 다음의 list in the list에서 두 번째 element 를 print 해 보세요\n",
        "list_02 = [['Paul', 'John', 'Ringo', 'George'], ['a', 'b', 'c', 'd'], [1,2,3,4]]\n",
        "\n",
        "print(list_02[0][1]) #john\n",
        "print(list_02[1][2]) #c\n",
        "print(list_02[2][1]) #2"
      ],
      "execution_count": 280,
      "outputs": [
        {
          "output_type": "stream",
          "text": [
            "John\n",
            "c\n",
            "2\n"
          ],
          "name": "stdout"
        }
      ]
    },
    {
      "cell_type": "code",
      "metadata": {
        "id": "u_UvSnNI8XgF",
        "colab_type": "code",
        "colab": {
          "base_uri": "https://localhost:8080/",
          "height": 51
        },
        "outputId": "8dab3a2c-5100-4f47-8b02-d789cb9fc4cd"
      },
      "source": [
        "# Initializing list  \n",
        "list_01 = [ 1, 6, 3, 5, 3, 4 ] \n",
        "list_02 = [ 1, 6, 3, 5, 3 ] \n",
        " \n",
        "# for loop을 이용하여 두 개의 리스트 안에 4가 있는지 없는지 print 하는 코드를 작성하세요\n",
        "for i in list_01:\n",
        "  if 4 in list_01:\n",
        "    print(\"exist\")\n",
        "    break\n",
        "  else:\n",
        "    print(\"not exist\")\n",
        "    break\n",
        "\n",
        "for i in list_02:\n",
        "  if 4 in list_02:\n",
        "    print(\"exist\")\n",
        "    break\n",
        "  else:\n",
        "    print(\"not exist\")\n",
        "    break"
      ],
      "execution_count": 281,
      "outputs": [
        {
          "output_type": "stream",
          "text": [
            "exist\n",
            "not exist\n"
          ],
          "name": "stdout"
        }
      ]
    },
    {
      "cell_type": "code",
      "metadata": {
        "id": "QrD6wUuwV5Bg",
        "colab_type": "code",
        "colab": {
          "base_uri": "https://localhost:8080/",
          "height": 102
        },
        "outputId": "aa5045ec-f8c5-4e60-f7e4-f7e661dd1664"
      },
      "source": [
        "# 위 코드 역할을 하는 함수를 작성해 보세요\n",
        "def check_value(element, l):\n",
        "  if l.count(element)>0:\n",
        "    print(\"exist\")\n",
        "  else:\n",
        "    print(\"not exist\")\n",
        "  return\n",
        "\n",
        "check_value(4, list_01)\n",
        "check_value(4, list_02)\n",
        "\n",
        "print(\"---\")\n",
        "\n",
        "def value_exist(l):\n",
        "  count=0\n",
        "  for i in l:\n",
        "    if i == 4: \n",
        "      count = 1\n",
        "  if count == 1: \n",
        "    print(\"exist\")\n",
        "  else: \n",
        "    print(\"not exist\")\n",
        "  return\n",
        "\n",
        "value_exist(list_01)\n",
        "value_exist(list_02)"
      ],
      "execution_count": 295,
      "outputs": [
        {
          "output_type": "stream",
          "text": [
            "exist\n",
            "not exist\n",
            "---\n",
            "exist\n",
            "not exist\n"
          ],
          "name": "stdout"
        }
      ]
    },
    {
      "cell_type": "code",
      "metadata": {
        "id": "cqEuLIC8pAbF",
        "colab_type": "code",
        "colab": {
          "base_uri": "https://localhost:8080/",
          "height": 102
        },
        "outputId": "3ba8dc36-8849-457c-c0ef-85d879c841d5"
      },
      "source": [
        "#추가문제\n",
        "## for loop를 이용하여 1부터 100까지의 숫자 중 홀수의 총합을 구하시오.\n",
        "result_1 = 0\n",
        "for i in range(1,101):\n",
        "  if i % 2 == 1:\n",
        "    result_1 += i\n",
        "print(result_1)\n",
        "\n",
        "print('--')\n",
        "\n",
        "## for loop를 이용하여 1부터 100까지의 숫자 중 짝수의 총합을 구하시오.\n",
        "result_2 = 0\n",
        "for i in range(1,101):\n",
        "  if i % 2 == 0:\n",
        "    result_2 += i\n",
        "print(result_2)\n",
        "\n",
        "print('--')\n",
        "\n",
        "## 1부터 100까지의 총합\n",
        "sum(range(1,101))"
      ],
      "execution_count": 303,
      "outputs": [
        {
          "output_type": "stream",
          "text": [
            "2500\n",
            "--\n",
            "2550\n",
            "--\n"
          ],
          "name": "stdout"
        },
        {
          "output_type": "execute_result",
          "data": {
            "text/plain": [
              "5050"
            ]
          },
          "metadata": {
            "tags": []
          },
          "execution_count": 303
        }
      ]
    },
    {
      "cell_type": "code",
      "metadata": {
        "id": "j-RXpmr8_pgl",
        "colab_type": "code",
        "colab": {
          "base_uri": "https://localhost:8080/",
          "height": 68
        },
        "outputId": "c8f1e640-0b60-4868-a0d5-643e2197faad"
      },
      "source": [
        "#변형문제\n",
        "# 각 리스트 안에 4가 몇 개 있는지 개수를 세보시오.\n",
        "list_04 = [ 1, 6, 3, 5, 3, 4, 4, 4] \n",
        "list_05 = [ 1, 6, 3, 5, 4 ] \n",
        " \n",
        "count=0\n",
        "for i in list_04:\n",
        "  if i == 4:\n",
        "    count += 1\n",
        "print(\"list_04 :\",count,\"개\")\n",
        "\n",
        "print('--')\n",
        "\n",
        "count=0\n",
        "for i in list_05:\n",
        "  if i == 4:\n",
        "    count += 1\n",
        "print(\"list_05 :\",count,'개')"
      ],
      "execution_count": 305,
      "outputs": [
        {
          "output_type": "stream",
          "text": [
            "list_04 : 3 개\n",
            "--\n",
            "list_05 : 1 개\n"
          ],
          "name": "stdout"
        }
      ]
    },
    {
      "cell_type": "code",
      "metadata": {
        "id": "mGSKPWaI8kA8",
        "colab_type": "code",
        "colab": {
          "base_uri": "https://localhost:8080/",
          "height": 68
        },
        "outputId": "46abc087-7a39-4c0c-b6ea-1c32e72992f9"
      },
      "source": [
        "#추가문제\n",
        "# 위 코드 역할을 하는 함수를 작성해 보세요\n",
        "def my_condition(x):\n",
        "  return x == 4\n",
        "\n",
        "print(sum(1 for x in list_04 if my_condition(x)),'개')\n",
        "print('--')\n",
        "print(sum(1 for x in list_05 if my_condition(x)),'개')"
      ],
      "execution_count": 284,
      "outputs": [
        {
          "output_type": "stream",
          "text": [
            "3 개\n",
            "--\n",
            "1 개\n"
          ],
          "name": "stdout"
        }
      ]
    },
    {
      "cell_type": "code",
      "metadata": {
        "id": "RtMV4xTQ5sfw",
        "colab_type": "code",
        "colab": {
          "base_uri": "https://localhost:8080/",
          "height": 68
        },
        "outputId": "a0d0ef92-b1b1-414b-a4a9-3855948f9e94"
      },
      "source": [
        "list_03 = [4, 5, 8, 9, 10] \n",
        "\n",
        "# 위 list element 중 8보다 큰 숫자가 몇 개가 있는지 코드로 작성해 보세요. \n",
        "\n",
        "##count=0\n",
        "count=0\n",
        "for i in list_03:\n",
        "  if i > 8:\n",
        "    count += 1\n",
        "print(count,\"개\")\n",
        "\n",
        "print('--')\n",
        "\n",
        "##함수 이용\n",
        "def more_than_8(y):\n",
        "  return y > 8\n",
        "\n",
        "print(sum(1 for y in list_03 if more_than_8(y)), '개')"
      ],
      "execution_count": 285,
      "outputs": [
        {
          "output_type": "stream",
          "text": [
            "2 개\n",
            "--\n",
            "2 개\n"
          ],
          "name": "stdout"
        }
      ]
    },
    {
      "cell_type": "code",
      "metadata": {
        "id": "xIM3aug72LNv",
        "colab_type": "code",
        "colab": {
          "base_uri": "https://localhost:8080/",
          "height": 51
        },
        "outputId": "4ce74703-e134-43aa-fb9d-7df73d794514"
      },
      "source": [
        "#추가문제\n",
        "# data ** 2\n",
        "data = [0,1,2,3,4,5,6,7,8,9]\n",
        "\n",
        "## for loop\n",
        "answer = []\n",
        "for i in data:\n",
        "  answer.append(i ** 2)\n",
        "print(answer)\n",
        "\n",
        "## numpy array\n",
        "import numpy as np\n",
        "ar = np.array([0, 1, 2, 3, 4, 5, 6, 7, 8, 9])\n",
        "print(ar ** 2)"
      ],
      "execution_count": 286,
      "outputs": [
        {
          "output_type": "stream",
          "text": [
            "[0, 1, 4, 9, 16, 25, 36, 49, 64, 81]\n",
            "[ 0  1  4  9 16 25 36 49 64 81]\n"
          ],
          "name": "stdout"
        }
      ]
    },
    {
      "cell_type": "code",
      "metadata": {
        "id": "jGa1Pqgo8l84",
        "colab_type": "code",
        "colab": {
          "base_uri": "https://localhost:8080/",
          "height": 51
        },
        "outputId": "910161e7-00d5-4f88-d7a1-6ec394d10e5b"
      },
      "source": [
        "#추가문제\n",
        "# NumPy로 아래와 같은 행렬 구성해보기\n",
        "'''\n",
        " 10 20 30 40\n",
        " 50 60 70 80\n",
        "'''\n",
        "\n",
        "import numpy as np\n",
        "sample_data = np.array([[10,20,30,40],\n",
        "                        [50,60,70,80]])\n",
        "print(sample_data)"
      ],
      "execution_count": 287,
      "outputs": [
        {
          "output_type": "stream",
          "text": [
            "[[10 20 30 40]\n",
            " [50 60 70 80]]\n"
          ],
          "name": "stdout"
        }
      ]
    },
    {
      "cell_type": "code",
      "metadata": {
        "id": "fQKIWJ4KGsqs",
        "colab_type": "code",
        "colab": {
          "base_uri": "https://localhost:8080/",
          "height": 51
        },
        "outputId": "e382000e-56c8-4b57-f097-6103b5974f91"
      },
      "source": [
        "# BMI\n",
        "height = [1.87,  1.87, 1.82, 1.91, 1.90, 1.85]\n",
        "weight = [81.65, 97.52, 95.25, 92.98, 86.18, 88.45]\n",
        "\n",
        "# bmi = weight / height ** 2 를 numpy array 활용하여 구해보세요\n",
        "import numpy as np\n",
        "h = np.array(height)\n",
        "w = np.array(weight)\n",
        "\n",
        "print(w/h ** 2)\n",
        "\n",
        "# bmi 가 24 이상인 값들만 선택해 보세요\n",
        "bmi = w / h ** 2\n",
        "idx = np.where(bmi>24)\n",
        "\n",
        "print(bmi[idx])"
      ],
      "execution_count": 288,
      "outputs": [
        {
          "output_type": "stream",
          "text": [
            "[23.34925219 27.88755755 28.75558507 25.48723993 23.87257618 25.84368152]\n",
            "[27.88755755 28.75558507 25.48723993 25.84368152]\n"
          ],
          "name": "stdout"
        }
      ]
    },
    {
      "cell_type": "code",
      "metadata": {
        "id": "oFHUbwuoG6x6",
        "colab_type": "code",
        "colab": {
          "base_uri": "https://localhost:8080/",
          "height": 34
        },
        "outputId": "6ca89ed4-f192-4904-8b28-1c211e3ecbba"
      },
      "source": [
        "# Numpy where 예제\n",
        "## 리스트 안에서 10보다 큰 숫자를 찾아 0으로 치환하시오.\n",
        "\n",
        "import numpy as np\n",
        "\n",
        "a = np.array([1,2,3,10,20,30,0.1,0.2])\n",
        "\n",
        "#[In]np.where(a)  ##인덱스 출력\n",
        "#[out]array([0, 1, 2, 3, 4, 5, 6, 7])\n",
        " \n",
        "\n",
        "print(np.where(a>10, 0, a))"
      ],
      "execution_count": 289,
      "outputs": [
        {
          "output_type": "stream",
          "text": [
            "[ 1.   2.   3.  10.   0.   0.   0.1  0.2]\n"
          ],
          "name": "stdout"
        }
      ]
    },
    {
      "cell_type": "code",
      "metadata": {
        "id": "q8D8Sheb82Gp",
        "colab_type": "code",
        "colab": {
          "base_uri": "https://localhost:8080/",
          "height": 111
        },
        "outputId": "e274df71-9f0f-4609-a3f6-e10e6b2afcb1"
      },
      "source": [
        "# pandas 패키지 라이브러리를 불러오세요\n",
        "import pandas as pd\n",
        "\n",
        "# 아래 내용을 담는 pandas Dataframe 을 생성하세요\n",
        "# {'Bob': ['I liked it.', 'It was awful.'], 'Sue': ['Pretty good.', 'Bland.']}\n",
        "data = {\n",
        "        'Bob': ['I liked it.', 'It was awful.'],\n",
        "        'Sue': ['Pretty good.', 'Bland.']\n",
        "        }\n",
        "\n",
        "pd.DataFrame(data, index = ['A', 'B'])"
      ],
      "execution_count": 290,
      "outputs": [
        {
          "output_type": "execute_result",
          "data": {
            "text/html": [
              "<div>\n",
              "<style scoped>\n",
              "    .dataframe tbody tr th:only-of-type {\n",
              "        vertical-align: middle;\n",
              "    }\n",
              "\n",
              "    .dataframe tbody tr th {\n",
              "        vertical-align: top;\n",
              "    }\n",
              "\n",
              "    .dataframe thead th {\n",
              "        text-align: right;\n",
              "    }\n",
              "</style>\n",
              "<table border=\"1\" class=\"dataframe\">\n",
              "  <thead>\n",
              "    <tr style=\"text-align: right;\">\n",
              "      <th></th>\n",
              "      <th>Bob</th>\n",
              "      <th>Sue</th>\n",
              "    </tr>\n",
              "  </thead>\n",
              "  <tbody>\n",
              "    <tr>\n",
              "      <th>A</th>\n",
              "      <td>I liked it.</td>\n",
              "      <td>Pretty good.</td>\n",
              "    </tr>\n",
              "    <tr>\n",
              "      <th>B</th>\n",
              "      <td>It was awful.</td>\n",
              "      <td>Bland.</td>\n",
              "    </tr>\n",
              "  </tbody>\n",
              "</table>\n",
              "</div>"
            ],
            "text/plain": [
              "             Bob           Sue\n",
              "A    I liked it.  Pretty good.\n",
              "B  It was awful.        Bland."
            ]
          },
          "metadata": {
            "tags": []
          },
          "execution_count": 290
        }
      ]
    },
    {
      "cell_type": "code",
      "metadata": {
        "id": "kSFa1Sg--lyw",
        "colab_type": "code",
        "colab": {
          "base_uri": "https://localhost:8080/",
          "height": 295
        },
        "outputId": "9ad3299c-6b03-4762-b4ac-ebcdc798f005"
      },
      "source": [
        "# 아래와 같은 dataframe을 만들어 보세요. (참고: 연도가 index가 되게 해 주세요)\n",
        "\"\"\"\n",
        "year dept     revenue   cost    profit    ranking\n",
        "2015 Sales      30       15       15         2\n",
        "2016 Sales      35       25       10         3\n",
        "2017 Sales      40       10       30         1\n",
        "\"\"\"\n",
        "\n",
        "data = {'dept' : 'sales', 'revenue' : [30, 35, 40]}\n",
        "\n",
        "year = [2015, 2016, 2017]\n",
        "DF =pd.DataFrame(data, index=year)\n",
        "print(DF)\n",
        "print(\"--\")\n",
        "# 2017년 데이터만 선택해 보세요\n",
        "print(DF.iloc[2])\n",
        "print(\"--\")\n",
        "# 조건(condition)을 활용하여 revenue 30 이상으로만 filter 해 보세요. reference: https://pandas.pydata.org/pandas-docs/stable/getting_started/intro_tutorials/03_subset_data.html \n",
        "DF[DF['revenue'] >= 30]"
      ],
      "execution_count": 291,
      "outputs": [
        {
          "output_type": "stream",
          "text": [
            "       dept  revenue\n",
            "2015  sales       30\n",
            "2016  sales       35\n",
            "2017  sales       40\n",
            "--\n",
            "dept       sales\n",
            "revenue       40\n",
            "Name: 2017, dtype: object\n",
            "--\n"
          ],
          "name": "stdout"
        },
        {
          "output_type": "execute_result",
          "data": {
            "text/html": [
              "<div>\n",
              "<style scoped>\n",
              "    .dataframe tbody tr th:only-of-type {\n",
              "        vertical-align: middle;\n",
              "    }\n",
              "\n",
              "    .dataframe tbody tr th {\n",
              "        vertical-align: top;\n",
              "    }\n",
              "\n",
              "    .dataframe thead th {\n",
              "        text-align: right;\n",
              "    }\n",
              "</style>\n",
              "<table border=\"1\" class=\"dataframe\">\n",
              "  <thead>\n",
              "    <tr style=\"text-align: right;\">\n",
              "      <th></th>\n",
              "      <th>dept</th>\n",
              "      <th>revenue</th>\n",
              "    </tr>\n",
              "  </thead>\n",
              "  <tbody>\n",
              "    <tr>\n",
              "      <th>2015</th>\n",
              "      <td>sales</td>\n",
              "      <td>30</td>\n",
              "    </tr>\n",
              "    <tr>\n",
              "      <th>2016</th>\n",
              "      <td>sales</td>\n",
              "      <td>35</td>\n",
              "    </tr>\n",
              "    <tr>\n",
              "      <th>2017</th>\n",
              "      <td>sales</td>\n",
              "      <td>40</td>\n",
              "    </tr>\n",
              "  </tbody>\n",
              "</table>\n",
              "</div>"
            ],
            "text/plain": [
              "       dept  revenue\n",
              "2015  sales       30\n",
              "2016  sales       35\n",
              "2017  sales       40"
            ]
          },
          "metadata": {
            "tags": []
          },
          "execution_count": 291
        }
      ]
    },
    {
      "cell_type": "code",
      "metadata": {
        "id": "ocpO_2OnOtaQ",
        "colab_type": "code",
        "colab": {
          "base_uri": "https://localhost:8080/",
          "height": 519
        },
        "outputId": "a09107f3-5be0-4f7c-e705-e16da82d1902"
      },
      "source": [
        "# 변형문제\n",
        "# 아래와 같은 dataframe을 만들어 보세요. (참고: 연도가 index가 되게 해 주세요)\n",
        "\"\"\"\n",
        "year dept     revenue   cost    profit    ranking\n",
        "2015 Sales      30       15       15         2\n",
        "2016 Sales      35       25       10         3\n",
        "2017 Sales      40       10       30         1\n",
        "\"\"\"\n",
        "## index = year\n",
        "data = {\n",
        "    'dept' : 'Sales', \n",
        "    'revenue' : [30,35,40], \n",
        "    'cost' : [15,25,10], \n",
        "    'profit' : [15,10,30], \n",
        "    'ranking' : [2,3,1]\n",
        "      }\n",
        "\n",
        "year = [2015,2016,2017]\n",
        "df_sample = pd.DataFrame(data, index = year)\n",
        "print(df_sample)\n",
        "print(\"--\")\n",
        "\n",
        "## set_index\n",
        "df_sample1=pd.DataFrame(\n",
        "    {'year' : [2015,2016,2017],\n",
        "     'dept' : 'Sales', \n",
        "     'revenue' : [30,35,40], \n",
        "     'cost' : [15,25,10], \n",
        "     'profit' : [15,10,30], \n",
        "     'ranking' : [2,3,1]}\n",
        "    )\n",
        "df_sample1=df_sample1.set_index('year')\n",
        "print(df_sample1)\n",
        "print(\"--\")\n",
        "\n",
        "# 2016,2017년 데이터만 선택해 보세요\n",
        "print(df_sample.loc[2016])\n",
        "print(df_sample.iloc[2])\n",
        "print(\"--\")\n",
        "\n",
        "# 조건(condition)을 활용하여 revenue 30 이상 & profit 15 이상으로 filter 해 보세요. reference: https://pandas.pydata.org/pandas-docs/stable/getting_started/intro_tutorials/03_subset_data.html \n",
        "df_rev = df_sample['revenue'] >= 30\n",
        "df_pro = df_sample['profit'] >= 15\n",
        "subset_df = df_sample[df_rev & df_pro]\n",
        "subset_df"
      ],
      "execution_count": 292,
      "outputs": [
        {
          "output_type": "stream",
          "text": [
            "       dept  revenue  cost  profit  ranking\n",
            "2015  Sales       30    15      15        2\n",
            "2016  Sales       35    25      10        3\n",
            "2017  Sales       40    10      30        1\n",
            "--\n",
            "       dept  revenue  cost  profit  ranking\n",
            "year                                       \n",
            "2015  Sales       30    15      15        2\n",
            "2016  Sales       35    25      10        3\n",
            "2017  Sales       40    10      30        1\n",
            "--\n",
            "dept       Sales\n",
            "revenue       35\n",
            "cost          25\n",
            "profit        10\n",
            "ranking        3\n",
            "Name: 2016, dtype: object\n",
            "dept       Sales\n",
            "revenue       40\n",
            "cost          10\n",
            "profit        30\n",
            "ranking        1\n",
            "Name: 2017, dtype: object\n",
            "--\n"
          ],
          "name": "stdout"
        },
        {
          "output_type": "execute_result",
          "data": {
            "text/html": [
              "<div>\n",
              "<style scoped>\n",
              "    .dataframe tbody tr th:only-of-type {\n",
              "        vertical-align: middle;\n",
              "    }\n",
              "\n",
              "    .dataframe tbody tr th {\n",
              "        vertical-align: top;\n",
              "    }\n",
              "\n",
              "    .dataframe thead th {\n",
              "        text-align: right;\n",
              "    }\n",
              "</style>\n",
              "<table border=\"1\" class=\"dataframe\">\n",
              "  <thead>\n",
              "    <tr style=\"text-align: right;\">\n",
              "      <th></th>\n",
              "      <th>dept</th>\n",
              "      <th>revenue</th>\n",
              "      <th>cost</th>\n",
              "      <th>profit</th>\n",
              "      <th>ranking</th>\n",
              "    </tr>\n",
              "  </thead>\n",
              "  <tbody>\n",
              "    <tr>\n",
              "      <th>2015</th>\n",
              "      <td>Sales</td>\n",
              "      <td>30</td>\n",
              "      <td>15</td>\n",
              "      <td>15</td>\n",
              "      <td>2</td>\n",
              "    </tr>\n",
              "    <tr>\n",
              "      <th>2017</th>\n",
              "      <td>Sales</td>\n",
              "      <td>40</td>\n",
              "      <td>10</td>\n",
              "      <td>30</td>\n",
              "      <td>1</td>\n",
              "    </tr>\n",
              "  </tbody>\n",
              "</table>\n",
              "</div>"
            ],
            "text/plain": [
              "       dept  revenue  cost  profit  ranking\n",
              "2015  Sales       30    15      15        2\n",
              "2017  Sales       40    10      30        1"
            ]
          },
          "metadata": {
            "tags": []
          },
          "execution_count": 292
        }
      ]
    },
    {
      "cell_type": "code",
      "metadata": {
        "id": "GFRfJR5O9XYd",
        "colab_type": "code",
        "colab": {
          "base_uri": "https://localhost:8080/",
          "height": 289
        },
        "outputId": "3ac380ab-9869-4b70-978e-284877fec639"
      },
      "source": [
        "# 'https://web.stanford.edu/class/archive/cs/cs109/cs109.1166/stuff/titanic.csv' 자료를 불러와 dataframe으로 만들어 보세요 \n",
        "df=pd.read_csv('https://web.stanford.edu/class/archive/cs/cs109/cs109.1166/stuff/titanic.csv')\n",
        "print(df.head())\n",
        "print(df.tail())"
      ],
      "execution_count": 293,
      "outputs": [
        {
          "output_type": "stream",
          "text": [
            "   Survived  Pclass  ... Parents/Children Aboard     Fare\n",
            "0         0       3  ...                       0   7.2500\n",
            "1         1       1  ...                       0  71.2833\n",
            "2         1       3  ...                       0   7.9250\n",
            "3         1       1  ...                       0  53.1000\n",
            "4         0       3  ...                       0   8.0500\n",
            "\n",
            "[5 rows x 8 columns]\n",
            "     Survived  Pclass  ... Parents/Children Aboard   Fare\n",
            "882         0       2  ...                       0  13.00\n",
            "883         1       1  ...                       0  30.00\n",
            "884         0       3  ...                       2  23.45\n",
            "885         1       1  ...                       0  30.00\n",
            "886         0       3  ...                       0   7.75\n",
            "\n",
            "[5 rows x 8 columns]\n"
          ],
          "name": "stdout"
        }
      ]
    },
    {
      "cell_type": "code",
      "metadata": {
        "id": "08CdiZjf-b6_",
        "colab_type": "code",
        "colab": {
          "base_uri": "https://localhost:8080/",
          "height": 612
        },
        "outputId": "a3514545-26e5-4c15-f7dd-e48a57626b49"
      },
      "source": [
        "# 타이타닉 데이터의 shape은 어떻게 되나요? \n",
        "print(df.shape)\n",
        "print(\"--\")\n",
        "# 타이타닉 row record에서 10~20번째 줄을 출력해 보세요\n",
        "print(df.iloc[9:20])\n",
        "print('--')\n",
        "# 타이타닉 데이터에서 'Survived', 'Age', 'Sex' 칼럼 데이터를 선택해 보세요\n",
        "print(df[['Survived', 'Age', 'Sex']])\n",
        "print('--')\n",
        "# 타이타닉 데이터에서 생존자 데이터만 골라보세요\n",
        "print(df[df[\"Survived\"] == 1])\n",
        "print('--')\n",
        "# 생존자 데이터 중 여자, 남자 중 누가 더 많나요? 참고: https://pandas.pydata.org/pandas-docs/stable/reference/api/pandas.Series.value_counts.html\n",
        "alive_01 = df['Survived'] == 1\n",
        "alive_02 = df['Sex'] == 'male'\n",
        "alive_03 = df['Sex'] == 'female'\n",
        "\n",
        "alive_M = df[alive_01 & alive_02].shape[0]\n",
        "alive_F = df[alive_01 & alive_03].shape[0]\n",
        "\n",
        "if alive_M > alive_F:\n",
        "  print('생존자 중엔 남자가 많습니다.')\n",
        "elif alive_M == alive_F:\n",
        "  print('남자와 여자의 생존자 수가 일치합니다.')\n",
        "else:\n",
        "  print('생존자 중엔 여자가 많습니다.')"
      ],
      "execution_count": 294,
      "outputs": [
        {
          "output_type": "stream",
          "text": [
            "(887, 8)\n",
            "--\n",
            "Series([], Name: revenue, dtype: bool)\n",
            "--\n",
            "     Survived   Age     Sex\n",
            "0           0  22.0    male\n",
            "1           1  38.0  female\n",
            "2           1  26.0  female\n",
            "3           1  35.0  female\n",
            "4           0  35.0    male\n",
            "..        ...   ...     ...\n",
            "882         0  27.0    male\n",
            "883         1  19.0  female\n",
            "884         0   7.0  female\n",
            "885         1  26.0    male\n",
            "886         0  32.0    male\n",
            "\n",
            "[887 rows x 3 columns]\n",
            "--\n",
            "     Survived  Pclass  ... Parents/Children Aboard     Fare\n",
            "1           1       1  ...                       0  71.2833\n",
            "2           1       3  ...                       0   7.9250\n",
            "3           1       1  ...                       0  53.1000\n",
            "8           1       3  ...                       2  11.1333\n",
            "9           1       2  ...                       0  30.0708\n",
            "..        ...     ...  ...                     ...      ...\n",
            "871         1       3  ...                       0   7.2250\n",
            "875         1       1  ...                       1  83.1583\n",
            "876         1       2  ...                       1  26.0000\n",
            "883         1       1  ...                       0  30.0000\n",
            "885         1       1  ...                       0  30.0000\n",
            "\n",
            "[342 rows x 8 columns]\n",
            "--\n",
            "생존자 중엔 여자가 많습니다.\n"
          ],
          "name": "stdout"
        }
      ]
    }
  ]
}
